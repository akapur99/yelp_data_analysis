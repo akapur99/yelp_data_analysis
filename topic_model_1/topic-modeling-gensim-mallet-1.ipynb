{
 "cells": [
  {
   "cell_type": "code",
   "execution_count": 20,
   "metadata": {},
   "outputs": [
    {
     "name": "stderr",
     "output_type": "stream",
     "text": [
      "[nltk_data] Downloading package stopwords to\n",
      "[nltk_data]     /Users/nitashakochar/nltk_data...\n",
      "[nltk_data]   Package stopwords is already up-to-date!\n"
     ]
    },
    {
     "data": {
      "text/plain": [
       "True"
      ]
     },
     "execution_count": 20,
     "metadata": {},
     "output_type": "execute_result"
    }
   ],
   "source": [
    "import nltk\n",
    "nltk.download('stopwords')\n"
   ]
  },
  {
   "cell_type": "code",
   "execution_count": 21,
   "metadata": {},
   "outputs": [],
   "source": [
    "import nltk\n",
    "from nltk import FreqDist\n",
    "import re\n",
    "import numpy as np\n",
    "import pandas as pd\n",
    "from pprint import pprint\n",
    "\n",
    "# Gensim\n",
    "import gensim\n",
    "import gensim.corpora as corpora\n",
    "from gensim.utils import simple_preprocess\n",
    "from gensim.models import CoherenceModel\n",
    "\n",
    "# spacy used for lemmatization\n",
    "import spacy\n",
    "\n",
    "# Tools for plotting topic model\n",
    "import pyLDAvis\n",
    "import pyLDAvis.gensim \n",
    "import matplotlib.pyplot as plt\n",
    "%matplotlib inline\n",
    "\n",
    "# FreqDist visualization\n",
    "import seaborn as sns"
   ]
  },
  {
   "cell_type": "code",
   "execution_count": 22,
   "metadata": {},
   "outputs": [
    {
     "data": {
      "text/html": [
       "<div>\n",
       "<style scoped>\n",
       "    .dataframe tbody tr th:only-of-type {\n",
       "        vertical-align: middle;\n",
       "    }\n",
       "\n",
       "    .dataframe tbody tr th {\n",
       "        vertical-align: top;\n",
       "    }\n",
       "\n",
       "    .dataframe thead th {\n",
       "        text-align: right;\n",
       "    }\n",
       "</style>\n",
       "<table border=\"1\" class=\"dataframe\">\n",
       "  <thead>\n",
       "    <tr style=\"text-align: right;\">\n",
       "      <th></th>\n",
       "      <th>index</th>\n",
       "      <th>business_id</th>\n",
       "      <th>cool</th>\n",
       "      <th>date</th>\n",
       "      <th>funny</th>\n",
       "      <th>review_id</th>\n",
       "      <th>stars</th>\n",
       "      <th>text</th>\n",
       "      <th>useful</th>\n",
       "      <th>user_id</th>\n",
       "    </tr>\n",
       "  </thead>\n",
       "  <tbody>\n",
       "    <tr>\n",
       "      <th>0</th>\n",
       "      <td>112311</td>\n",
       "      <td>faPVqws-x-5k2CQKDNtHxw</td>\n",
       "      <td>0</td>\n",
       "      <td>2015-10-25 16:15:23</td>\n",
       "      <td>0</td>\n",
       "      <td>N3sAgIFXLrEAIt2i7LSP-A</td>\n",
       "      <td>4</td>\n",
       "      <td>My wife and I happened on this place while exp...</td>\n",
       "      <td>0</td>\n",
       "      <td>xQyQmldNrLxTj56sA8Wyhg</td>\n",
       "    </tr>\n",
       "    <tr>\n",
       "      <th>1</th>\n",
       "      <td>4810863</td>\n",
       "      <td>ZkGDCVKSdf8m76cnnalL-A</td>\n",
       "      <td>0</td>\n",
       "      <td>2009-10-21 03:03:08</td>\n",
       "      <td>0</td>\n",
       "      <td>Hxs8bjX2u27wJT18Sz8JLQ</td>\n",
       "      <td>4</td>\n",
       "      <td>We came here for breakfast the last morning in...</td>\n",
       "      <td>0</td>\n",
       "      <td>k_GZxl63dzxcwgTMRxl9hA</td>\n",
       "    </tr>\n",
       "    <tr>\n",
       "      <th>10</th>\n",
       "      <td>4385258</td>\n",
       "      <td>OETh78qcgDltvHULowwhJg</td>\n",
       "      <td>2</td>\n",
       "      <td>2015-06-17 00:52:10</td>\n",
       "      <td>1</td>\n",
       "      <td>AlotavdKtECP-_5iZUdR9g</td>\n",
       "      <td>5</td>\n",
       "      <td>Ate here in 2014, had the ribcap, wife had the...</td>\n",
       "      <td>2</td>\n",
       "      <td>XNzQn7mBTQgvCQeJstZP_g</td>\n",
       "    </tr>\n",
       "    <tr>\n",
       "      <th>100</th>\n",
       "      <td>5253196</td>\n",
       "      <td>cYwJA2A6I12KNkm2rtXd5g</td>\n",
       "      <td>0</td>\n",
       "      <td>2016-09-18 14:23:55</td>\n",
       "      <td>0</td>\n",
       "      <td>zKcAtJ01NBi7QsvN8NYUeQ</td>\n",
       "      <td>5</td>\n",
       "      <td>The Uber Burger is the best burger by far on t...</td>\n",
       "      <td>0</td>\n",
       "      <td>3tZPC9cdaJ2HKzTNO31fDw</td>\n",
       "    </tr>\n",
       "    <tr>\n",
       "      <th>1000</th>\n",
       "      <td>2815890</td>\n",
       "      <td>RESDUcs7fIiihp38-d6_6g</td>\n",
       "      <td>2</td>\n",
       "      <td>2014-01-20 21:07:44</td>\n",
       "      <td>2</td>\n",
       "      <td>Q7ucCng_gvscz52unZ5XbA</td>\n",
       "      <td>4</td>\n",
       "      <td>If you're looking for a Vegas buffet, look no ...</td>\n",
       "      <td>4</td>\n",
       "      <td>VhKq24P8UcZ5eEGbum9hLA</td>\n",
       "    </tr>\n",
       "  </tbody>\n",
       "</table>\n",
       "</div>"
      ],
      "text/plain": [
       "        index             business_id  cool                date  funny  \\\n",
       "0      112311  faPVqws-x-5k2CQKDNtHxw     0 2015-10-25 16:15:23      0   \n",
       "1     4810863  ZkGDCVKSdf8m76cnnalL-A     0 2009-10-21 03:03:08      0   \n",
       "10    4385258  OETh78qcgDltvHULowwhJg     2 2015-06-17 00:52:10      1   \n",
       "100   5253196  cYwJA2A6I12KNkm2rtXd5g     0 2016-09-18 14:23:55      0   \n",
       "1000  2815890  RESDUcs7fIiihp38-d6_6g     2 2014-01-20 21:07:44      2   \n",
       "\n",
       "                   review_id  stars  \\\n",
       "0     N3sAgIFXLrEAIt2i7LSP-A      4   \n",
       "1     Hxs8bjX2u27wJT18Sz8JLQ      4   \n",
       "10    AlotavdKtECP-_5iZUdR9g      5   \n",
       "100   zKcAtJ01NBi7QsvN8NYUeQ      5   \n",
       "1000  Q7ucCng_gvscz52unZ5XbA      4   \n",
       "\n",
       "                                                   text  useful  \\\n",
       "0     My wife and I happened on this place while exp...       0   \n",
       "1     We came here for breakfast the last morning in...       0   \n",
       "10    Ate here in 2014, had the ribcap, wife had the...       2   \n",
       "100   The Uber Burger is the best burger by far on t...       0   \n",
       "1000  If you're looking for a Vegas buffet, look no ...       4   \n",
       "\n",
       "                     user_id  \n",
       "0     xQyQmldNrLxTj56sA8Wyhg  \n",
       "1     k_GZxl63dzxcwgTMRxl9hA  \n",
       "10    XNzQn7mBTQgvCQeJstZP_g  \n",
       "100   3tZPC9cdaJ2HKzTNO31fDw  \n",
       "1000  VhKq24P8UcZ5eEGbum9hLA  "
      ]
     },
     "execution_count": 22,
     "metadata": {},
     "output_type": "execute_result"
    }
   ],
   "source": [
    "import pandas as pd\n",
    "with open('2sample_50000_1.json', 'r') as json_file: \n",
    "        df = pd.read_json(json_file, lines = False)\n",
    "df.head()\n"
   ]
  },
  {
   "cell_type": "code",
   "execution_count": 23,
   "metadata": {},
   "outputs": [
    {
     "data": {
      "image/png": "[encoded data removed]",
      "text/plain": [
       "<Figure size 1440x360 with 1 Axes>"
      ]
     },
     "metadata": {
      "needs_background": "light"
     },
     "output_type": "display_data"
    }
   ],
   "source": [
    "# function to plot most frequent terms\n",
    "# freq function adapted and modified from https://www.analyticsvidhya.com/blog/2018/10/mining-online-reviews-topic-modeling-lda/\n",
    "def freq_words(x, terms = 30):\n",
    "    all_the_words = ' '.join([text for text in x])\n",
    "    all_the_words = all_the_words.split()\n",
    "    fdist = FreqDist(all_the_words)\n",
    "    words_df = pd.DataFrame({'term':list(fdist.keys()), 'count':list(fdist.values())})\n",
    "    # selecting top 20 most frequent words\n",
    "    dt = words_df.nlargest(columns=\"count\", n = terms) \n",
    "    plt.figure(figsize=(20,5))\n",
    "    ax = sns.barplot(data=dt, x= \"term\", y = \"count\")\n",
    "    ax.set(ylabel = 'Count')\n",
    "    plt.show() \n",
    "\n",
    "freq_words(df['text'])"
   ]
  },
  {
   "cell_type": "code",
   "execution_count": 24,
   "metadata": {},
   "outputs": [
    {
     "name": "stderr",
     "output_type": "stream",
     "text": [
      "<>:5: DeprecationWarning: invalid escape sequence \\s\n",
      "<>:5: DeprecationWarning: invalid escape sequence \\s\n",
      "<>:5: DeprecationWarning: invalid escape sequence \\s\n",
      "<ipython-input-24-80e8fb5c0fad>:5: DeprecationWarning: invalid escape sequence \\s\n",
      "  data = [re.sub('\\s+', ' ', sent) for sent in data]\n"
     ]
    },
    {
     "name": "stdout",
     "output_type": "stream",
     "text": [
      "[\"We came here for breakfast the last morning in vegas. The service was fast and very nice. There was a huge selection of food, about everything you could ever think of wanting for breakfast and more. Unfortunately they switched out the food while we were eating to the lunch menu. I was hungover and tired didn't want lunch, just breakfast! So we left, probably better anyways i didn't need to eat anything more. If ever staying at the paris hotel again i would come here again.\"]\n"
     ]
    }
   ],
   "source": [
    "# Convert to list\n",
    "data = df.text.values.tolist()\n",
    "\n",
    "# Remove new line characters\n",
    "data = [re.sub('\\s+', ' ', sent) for sent in data]\n",
    "\n",
    "print(data[1:2])"
   ]
  },
  {
   "cell_type": "code",
   "execution_count": 25,
   "metadata": {},
   "outputs": [
    {
     "name": "stdout",
     "output_type": "stream",
     "text": [
      "[['we', 'came', 'here', 'for', 'breakfast', 'the', 'last', 'morning', 'in', 'vegas', 'the', 'service', 'was', 'fast', 'and', 'very', 'nice', 'there', 'was', 'huge', 'selection', 'of', 'food', 'about', 'everything', 'you', 'could', 'ever', 'think', 'of', 'wanting', 'for', 'breakfast', 'and', 'more', 'unfortunately', 'they', 'switched', 'out', 'the', 'food', 'while', 'we', 'were', 'eating', 'to', 'the', 'lunch', 'menu', 'was', 'hungover', 'and', 'tired', 'didn', 'want', 'lunch', 'just', 'breakfast', 'so', 'we', 'left', 'probably', 'better', 'anyways', 'didn', 'need', 'to', 'eat', 'anything', 'more', 'if', 'ever', 'staying', 'at', 'the', 'paris', 'hotel', 'again', 'would', 'come', 'here', 'again']]\n"
     ]
    }
   ],
   "source": [
    "# Tokenize words and clean-up text\n",
    "# deacc=True removes punctuations\n",
    "\n",
    "def tokenize_reviews(reviews):\n",
    "    for review in reviews:\n",
    "        yield(gensim.utils.simple_preprocess(str(review), deacc=True))\n",
    "\n",
    "data_words = list(tokenize_reviews(data))\n",
    "\n",
    "print(data_words[1:2])\n"
   ]
  },
  {
   "cell_type": "code",
   "execution_count": 26,
   "metadata": {},
   "outputs": [],
   "source": [
    "# Creating bigram and trigram models\n",
    "bigram = gensim.models.Phrases(data_words, min_count=5, threshold=100)\n",
    "bigram_mod = gensim.models.phrases.Phraser(bigram)\n",
    "\n",
    "trigram = gensim.models.Phrases(bigram[data_words], threshold=100)  \n",
    "trigram_mod = gensim.models.phrases.Phraser(trigram)\n",
    "\n"
   ]
  },
  {
   "cell_type": "code",
   "execution_count": 27,
   "metadata": {},
   "outputs": [],
   "source": [
    "# NLTK Stop words\n",
    "from nltk.corpus import stopwords\n",
    "stop_words = stopwords.words('english')\n",
    "BuckleySaltonSWL = open(\"stopwords copy.txt\").read().splitlines()\n",
    "stop_words.extend([w.lower() for w in BuckleySaltonSWL])"
   ]
  },
  {
   "cell_type": "code",
   "execution_count": 28,
   "metadata": {},
   "outputs": [],
   "source": [
    "# Simple preprocess comes from Gensim library found here: \n",
    "# https://tedboy.github.io/nlps/generated/generated/gensim.utils.simple_preprocess.html\n",
    "    \n",
    "nlp = spacy.load('en', disable=['parser', 'ner'])\n",
    "\n",
    "# Define functions for stopwords, bigrams, trigrams and lemmatization\n",
    "def remove_stopwords(texts):\n",
    "    return [[word for word in simple_preprocess(str(doc)) if word not in stop_words] for doc in texts]\n",
    "\n",
    "def create_bigrams(texts):\n",
    "    return [bigram_mod[doc] for doc in texts]\n",
    "\n",
    "def create_trigrams(texts):\n",
    "    return [trigram_mod[bigram_mod[doc]] for doc in texts]\n",
    "\n",
    "def lemmatization(texts, allowed_postags=['NOUN', 'ADJ', 'VERB', 'ADV']):\n",
    "    \"\"\"https://spacy.io/api/annotation\"\"\"\n",
    "    texts_out = []\n",
    "    for sentence in texts:\n",
    "        doc = nlp(\" \".join(sentence)) \n",
    "        texts_out.append([token.lemma_ for token in doc if token.pos_ in allowed_postags and len(token) > 3])\n",
    "    return texts_out"
   ]
  },
  {
   "cell_type": "code",
   "execution_count": 29,
   "metadata": {},
   "outputs": [
    {
     "name": "stdout",
     "output_type": "stream",
     "text": [
      "[['strip', 'native', 'oklahoma', 'vegas', 'joint', 'chicken', 'waffle', 'chicken', 'waffle', 'doubt', 'chicken', 'waffle', 'syrup', 'hoisin', 'sauce', 'entree', 'biscuit', 'gill', 'pushy', 'lunchgoer', 'turn', 'atmosphere', 'country', 'loud', 'casino', 'mall', 'drink', 'chicken', 'note', 'beer', 'abita', 'purple', 'chicken', 'bottle', 'mark', 'judgment']]\n"
     ]
    }
   ],
   "source": [
    "# Remove Stop Words\n",
    "data_words_nostops = remove_stopwords(data_words)\n",
    "\n",
    "# Create bigrams\n",
    "data_bigrams = create_bigrams(data_words_nostops)\n",
    "\n",
    "# Create trigrams\n",
    "data_trigrams = create_trigrams(data_bigrams)\n",
    "\n",
    "data_lemmatized = lemmatization(data_trigrams, allowed_postags=['NOUN'])\n",
    "\n",
    "print(data_lemmatized[:1])"
   ]
  },
  {
   "cell_type": "code",
   "execution_count": 30,
   "metadata": {},
   "outputs": [],
   "source": [
    "# make each array into a string\n",
    "list_of_strings=[]\n",
    "for row in data_lemmatized:\n",
    "    string = \" \".join(row)\n",
    "    list_of_strings.append(string)\n",
    "\n",
    "list_of_strings\n",
    "\n",
    "# make all words into 1 large string\n",
    "big_string=''\n",
    "for row in data_lemmatized:\n",
    "    string = \" \".join(row)\n",
    "    big_string = big_string + string\n"
   ]
  },
  {
   "cell_type": "code",
   "execution_count": 31,
   "metadata": {},
   "outputs": [],
   "source": [
    "import nltk\n",
    "tokens = nltk.word_tokenize(big_string)\n",
    "\n",
    "fdist = FreqDist(tokens)"
   ]
  },
  {
   "cell_type": "code",
   "execution_count": 32,
   "metadata": {},
   "outputs": [
    {
     "data": {
      "text/plain": [
       "[('room', 28654),\n",
       " ('food', 23687),\n",
       " ('hotel', 15910),\n",
       " ('vegas', 10406),\n",
       " ('restaurant', 9885),\n",
       " ('night', 9206),\n",
       " ('buffet', 9091),\n",
       " ('burger', 8781),\n",
       " ('line', 7964),\n",
       " ('strip', 7845),\n",
       " ('price', 6794),\n",
       " ('casino', 6744),\n",
       " ('pool', 6081),\n",
       " ('chicken', 5883),\n",
       " ('check', 5639),\n",
       " ('drink', 5089),\n",
       " ('dinner', 4857),\n",
       " ('meat', 4784),\n",
       " ('server', 4671),\n",
       " ('menu', 4621)]"
      ]
     },
     "execution_count": 32,
     "metadata": {},
     "output_type": "execute_result"
    }
   ],
   "source": [
    "fdist.most_common(20)"
   ]
  },
  {
   "cell_type": "code",
   "execution_count": 33,
   "metadata": {},
   "outputs": [
    {
     "name": "stdout",
     "output_type": "stream",
     "text": [
      "[[(0, 1), (1, 1), (2, 1), (3, 1), (4, 1), (5, 1), (6, 5), (7, 1), (8, 1), (9, 1), (10, 1), (11, 1), (12, 1), (13, 1), (14, 1), (15, 1), (16, 1), (17, 1), (18, 1), (19, 1), (20, 1), (21, 1), (22, 1), (23, 1), (24, 1), (25, 1), (26, 1), (27, 1), (28, 1), (29, 3)]]\n"
     ]
    }
   ],
   "source": [
    "# create dictionary and corpus needed for topic modeling\n",
    "dictionary = corpora.Dictionary(data_lemmatized)\n",
    "\n",
    "# Create Corpus\n",
    "text_corpus = data_lemmatized\n",
    "\n",
    "# Term Document Frequency\n",
    "corpus = [dictionary.doc2bow(text) for text in text_corpus]\n",
    "\n",
    "# View\n",
    "print(corpus[:1])"
   ]
  },
  {
   "cell_type": "code",
   "execution_count": 34,
   "metadata": {},
   "outputs": [
    {
     "data": {
      "text/plain": [
       "[[('abita', 1),\n",
       "  ('atmosphere', 1),\n",
       "  ('beer', 1),\n",
       "  ('biscuit', 1),\n",
       "  ('bottle', 1),\n",
       "  ('casino', 1),\n",
       "  ('chicken', 5),\n",
       "  ('country', 1),\n",
       "  ('doubt', 1),\n",
       "  ('drink', 1),\n",
       "  ('entree', 1),\n",
       "  ('gill', 1),\n",
       "  ('hoisin', 1),\n",
       "  ('joint', 1),\n",
       "  ('judgment', 1),\n",
       "  ('loud', 1),\n",
       "  ('lunchgoer', 1),\n",
       "  ('mall', 1),\n",
       "  ('mark', 1),\n",
       "  ('native', 1),\n",
       "  ('note', 1),\n",
       "  ('oklahoma', 1),\n",
       "  ('purple', 1),\n",
       "  ('pushy', 1),\n",
       "  ('sauce', 1),\n",
       "  ('strip', 1),\n",
       "  ('syrup', 1),\n",
       "  ('turn', 1),\n",
       "  ('vegas', 1),\n",
       "  ('waffle', 3)]]"
      ]
     },
     "execution_count": 34,
     "metadata": {},
     "output_type": "execute_result"
    }
   ],
   "source": [
    "# Human readable format of corpus (term-frequency)\n",
    "[[(dictionary[id], freq) for id, freq in cp] for cp in corpus[:1]]"
   ]
  },
  {
   "cell_type": "code",
   "execution_count": 35,
   "metadata": {},
   "outputs": [],
   "source": [
    "# Building a topic model!\n",
    "lda_model = gensim.models.ldamodel.LdaModel(corpus=corpus,\n",
    "                                           id2word=dictionary,\n",
    "                                           num_topics=22, \n",
    "                                           random_state=100,\n",
    "                                           update_every=1,\n",
    "                                           chunksize=100,\n",
    "                                           passes=30,\n",
    "                                           alpha='auto',\n",
    "                                           per_word_topics=True)"
   ]
  },
  {
   "cell_type": "markdown",
   "metadata": {},
   "source": [
    "# INFER TOPICS FROM KEYWORDS HERE:"
   ]
  },
  {
   "cell_type": "code",
   "execution_count": 36,
   "metadata": {},
   "outputs": [
    {
     "name": "stdout",
     "output_type": "stream",
     "text": [
      "[(1,\n",
      "  '0.000*\"chotchsky\" + 0.000*\"punnie\" + 0.000*\"oiliness\" + 0.000*\"boca\" + '\n",
      "  '0.000*\"raton\" + 0.000*\"ackward\" + 0.000*\"differnt\" + 0.000*\"aapex\" + '\n",
      "  '0.000*\"aver\" + 0.000*\"postre\"'),\n",
      " (12,\n",
      "  '0.240*\"charge\" + 0.170*\"care\" + 0.152*\"resort_fee\" + 0.079*\"vacation\" + '\n",
      "  '0.065*\"comp\" + 0.036*\"checking\" + 0.033*\"apology\" + 0.033*\"tram\" + '\n",
      "  '0.022*\"soap\" + 0.012*\"reward\"'),\n",
      " (19,\n",
      "  '0.411*\"customer\" + 0.144*\"sign\" + 0.057*\"bunch\" + 0.048*\"omelette\" + '\n",
      "  '0.047*\"smile\" + 0.047*\"pillow\" + 0.036*\"second\" + 0.032*\"direction\" + '\n",
      "  '0.011*\"comforter\" + 0.000*\"coupon\"'),\n",
      " (4,\n",
      "  '0.264*\"taco\" + 0.148*\"pork\" + 0.096*\"attentive\" + 0.068*\"perfection\" + '\n",
      "  '0.049*\"construction\" + 0.038*\"lemon\" + 0.037*\"ambience\" + 0.031*\"mission\" + '\n",
      "  '0.031*\"studio\" + 0.023*\"fare\"'),\n",
      " (0,\n",
      "  '0.194*\"show\" + 0.153*\"work\" + 0.098*\"seat\" + 0.071*\"bartender\" + '\n",
      "  '0.070*\"change\" + 0.051*\"card\" + 0.040*\"request\" + 0.033*\"stage\" + '\n",
      "  '0.031*\"picture\" + 0.026*\"hold\"'),\n",
      " (17,\n",
      "  '0.233*\"dessert\" + 0.125*\"coffee\" + 0.118*\"seafood\" + 0.089*\"brunch\" + '\n",
      "  '0.078*\"glass\" + 0.070*\"chocolate\" + 0.062*\"oyster\" + 0.039*\"gelato\" + '\n",
      "  '0.038*\"buck\" + 0.038*\"crepe\"'),\n",
      " (21,\n",
      "  '0.393*\"burger\" + 0.179*\"fry\" + 0.085*\"bacon\" + 0.051*\"egg\" + 0.036*\"rock\" + '\n",
      "  '0.028*\"cheese\" + 0.021*\"farm\" + 0.020*\"brother\" + 0.018*\"experience\" + '\n",
      "  '0.018*\"school\"'),\n",
      " (10,\n",
      "  '0.418*\"buffet\" + 0.212*\"pizza\" + 0.069*\"station\" + 0.046*\"crab\" + '\n",
      "  '0.045*\"crab_leg\" + 0.036*\"desert\" + 0.034*\"cake\" + 0.030*\"corn\" + '\n",
      "  '0.024*\"hash\" + 0.014*\"beverage\"'),\n",
      " (3,\n",
      "  '0.094*\"roll\" + 0.092*\"fish\" + 0.070*\"bite\" + 0.059*\"tower\" + 0.057*\"rest\" + '\n",
      "  '0.051*\"mouth\" + 0.047*\"ambiance\" + 0.032*\"management\" + 0.031*\"idea\" + '\n",
      "  '0.026*\"planet_hollywood\"'),\n",
      " (9,\n",
      "  '0.122*\"parking\" + 0.111*\"weekend\" + 0.106*\"beer\" + 0.091*\"deal\" + '\n",
      "  '0.085*\"decor\" + 0.060*\"employee\" + 0.050*\"game\" + 0.049*\"list\" + '\n",
      "  '0.048*\"hostess\" + 0.034*\"miss\"'),\n",
      " (7,\n",
      "  '0.158*\"sandwich\" + 0.104*\"atmosphere\" + 0.088*\"table\" + 0.085*\"choice\" + '\n",
      "  '0.050*\"aria\" + 0.038*\"share\" + 0.028*\"case\" + 0.025*\"margarita\" + '\n",
      "  '0.023*\"host\" + 0.022*\"nachos\"'),\n",
      " (11,\n",
      "  '0.195*\"chicken\" + 0.069*\"town\" + 0.068*\"waffle\" + 0.066*\"wynn\" + '\n",
      "  '0.047*\"life\" + 0.044*\"cost\" + 0.034*\"entree\" + 0.022*\"detail\" + '\n",
      "  '0.021*\"slot\" + 0.021*\"note\"'),\n",
      " (13,\n",
      "  '0.299*\"night\" + 0.096*\"friend\" + 0.080*\"club\" + 0.075*\"group\" + '\n",
      "  '0.049*\"music\" + 0.048*\"lot\" + 0.037*\"space\" + 0.030*\"girl\" + 0.025*\"crowd\" '\n",
      "  '+ 0.023*\"evening\"'),\n",
      " (6,\n",
      "  '0.406*\"vegas\" + 0.101*\"money\" + 0.100*\"trip\" + 0.059*\"day\" + 0.033*\"level\" '\n",
      "  '+ 0.033*\"property\" + 0.026*\"chair\" + 0.025*\"find\" + 0.020*\"caesar\" + '\n",
      "  '0.020*\"vibe\"'),\n",
      " (2,\n",
      "  '0.221*\"price\" + 0.155*\"breakfast\" + 0.139*\"menu\" + 0.123*\"lunch\" + '\n",
      "  '0.093*\"portion\" + 0.076*\"waiter\" + 0.075*\"visit\" + 0.026*\"paris\" + '\n",
      "  '0.021*\"dollar\" + 0.020*\"morning\"'),\n",
      " (15,\n",
      "  '0.101*\"flavor\" + 0.099*\"dish\" + 0.087*\"sauce\" + 0.074*\"taste\" + '\n",
      "  '0.072*\"cheese\" + 0.052*\"item\" + 0.047*\"beef\" + 0.040*\"shrimp\" + '\n",
      "  '0.035*\"rice\" + 0.033*\"style\"'),\n",
      " (16,\n",
      "  '0.189*\"line\" + 0.067*\"party\" + 0.042*\"hand\" + 0.042*\"airport\" + '\n",
      "  '0.035*\"slice\" + 0.031*\"guy\" + 0.030*\"security\" + 0.025*\"head\" + '\n",
      "  '0.024*\"sausage\" + 0.021*\"woman\"'),\n",
      " (5,\n",
      "  '0.132*\"dinner\" + 0.119*\"server\" + 0.087*\"steak\" + 0.064*\"reservation\" + '\n",
      "  '0.062*\"plate\" + 0.061*\"salad\" + 0.058*\"bread\" + 0.039*\"wine\" + '\n",
      "  '0.039*\"dining\" + 0.038*\"appetizer\"'),\n",
      " (18,\n",
      "  '0.661*\"food\" + 0.259*\"restaurant\" + 0.024*\"raman\" + 0.014*\"talk\" + '\n",
      "  '0.008*\"seating\" + 0.004*\"appetite\" + 0.001*\"struggle\" + 0.000*\"potato\" + '\n",
      "  '0.000*\"soup\" + 0.000*\"butter\"'),\n",
      " (14,\n",
      "  '0.233*\"room\" + 0.138*\"hotel\" + 0.064*\"strip\" + 0.049*\"casino\" + '\n",
      "  '0.048*\"pool\" + 0.043*\"check\" + 0.032*\"view\" + 0.029*\"floor\" + 0.022*\"stay\" '\n",
      "  '+ 0.019*\"front_desk\"')]\n"
     ]
    }
   ],
   "source": [
    "# Print the Keywords in each topic\n",
    "# Inferring the topic from key words\n",
    "pprint(lda_model.print_topics())\n",
    "doc_lda = lda_model[corpus]"
   ]
  },
  {
   "cell_type": "code",
   "execution_count": 37,
   "metadata": {},
   "outputs": [
    {
     "name": "stdout",
     "output_type": "stream",
     "text": [
      "\n",
      "Coherence Score:  0.47295877405936815\n"
     ]
    }
   ],
   "source": [
    "# Compute Coherence Score\n",
    "coherence_model_lda = CoherenceModel(model=lda_model, texts=data_lemmatized, dictionary=dictionary, coherence='c_v')\n",
    "coherence_lda = coherence_model_lda.get_coherence()\n",
    "print('\\nCoherence Score: ', coherence_lda)\n"
   ]
  },
  {
   "cell_type": "code",
   "execution_count": 38,
   "metadata": {},
   "outputs": [
    {
     "name": "stderr",
     "output_type": "stream",
     "text": [
      "/anaconda3/envs/cs89_env/lib/python3.6/site-packages/pyLDAvis/_prepare.py:257: FutureWarning: Sorting because non-concatenation axis is not aligned. A future version\n",
      "of pandas will change to not sort by default.\n",
      "\n",
      "To accept the future behavior, pass 'sort=False'.\n",
      "\n",
      "To retain the current behavior and silence the warning, pass 'sort=True'.\n",
      "\n",
      "  return pd.concat([default_term_info] + list(topic_dfs))\n"
     ]
    },
    {
     "data": {
      "text/html": [
       "\n",
       "<link rel=\"stylesheet\" type=\"text/css\" href=\"https://cdn.rawgit.com/bmabey/pyLDAvis/files/ldavis.v1.0.0.css\">\n",
       "\n",
       "\n",
       "<div id=\"ldavis_el442453270225045973897370\"></div>\n",
       "<script type=\"text/javascript\">\n",
       "\n",
       "var ldavis_el442453270225045973897370_data = {\"mdsDat\": {\"x\": [-0.26615699845015117, -0.10709411066516843, -0.12000992889683028, -0.10747087531827783, -0.10104455453411734, -0.07456396018206106, -0.05865773787821774, -0.0900547694572461, -0.04261381434367924, -0.004197327730817531, -0.00505021452964665, -0.0004296416668866211, -0.01526215299053738, 0.031483879718409505, 0.03189760326761164, -0.005001373992167213, 0.048299607017664455, 0.07976916003362387, 0.17106869154081128, 0.18874402742976523, 0.19822696544536816, 0.24811752618255034], \"y\": [0.05478456310391871, 0.07015298670497457, 0.05632826522907238, 0.05406011823140987, -0.36584613383519604, 0.04301887986611068, 0.037796482453275465, 0.06599625043431928, 0.03526225647604532, 0.027597828007036532, 0.02747594010144863, 0.02641143546885148, 0.028129687941748492, 0.022364591929757604, 0.02189432304704944, -0.274550395409287, 0.019887904758840943, 0.017040100362039335, 0.010523330735912466, 0.009487056426783828, 0.008944665421802103, 0.0032398625440854473], \"topics\": [1, 2, 3, 4, 5, 6, 7, 8, 9, 10, 11, 12, 13, 14, 15, 16, 17, 18, 19, 20, 21, 22], \"cluster\": [1, 1, 1, 1, 1, 1, 1, 1, 1, 1, 1, 1, 1, 1, 1, 1, 1, 1, 1, 1, 1, 1], \"Freq\": [19.047029495239258, 6.78923225402832, 6.779165744781494, 6.75828218460083, 6.110013484954834, 5.682283401489258, 5.248961448669434, 5.146971225738525, 4.661937713623047, 4.130343914031982, 3.9055135250091553, 3.7580173015594482, 3.3971152305603027, 3.2998030185699463, 3.2720320224761963, 3.1266696453094482, 2.840637683868408, 2.4947352409362793, 1.2122749090194702, 1.1794437170028687, 1.152735710144043, 0.006808951031416655]}, \"tinfo\": {\"Category\": [\"Default\", \"Default\", \"Default\", \"Default\", \"Default\", \"Default\", \"Default\", \"Default\", \"Default\", \"Default\", \"Default\", \"Default\", \"Default\", \"Default\", \"Default\", \"Default\", \"Default\", \"Default\", \"Default\", \"Default\", \"Default\", \"Default\", \"Default\", \"Default\", \"Default\", \"Default\", \"Default\", \"Default\", \"Default\", \"Default\", \"Topic1\", \"Topic1\", \"Topic1\", \"Topic1\", \"Topic1\", \"Topic1\", \"Topic1\", \"Topic1\", \"Topic1\", \"Topic1\", \"Topic1\", \"Topic1\", \"Topic1\", \"Topic1\", \"Topic1\", \"Topic1\", \"Topic1\", \"Topic1\", \"Topic1\", \"Topic1\", \"Topic1\", \"Topic1\", \"Topic1\", \"Topic1\", \"Topic1\", \"Topic1\", \"Topic1\", \"Topic1\", \"Topic1\", \"Topic1\", \"Topic1\", \"Topic2\", \"Topic2\", \"Topic2\", \"Topic2\", \"Topic2\", \"Topic2\", \"Topic2\", \"Topic2\", \"Topic2\", \"Topic2\", \"Topic2\", \"Topic2\", \"Topic2\", \"Topic2\", \"Topic2\", \"Topic2\", \"Topic2\", \"Topic2\", \"Topic2\", \"Topic2\", \"Topic2\", \"Topic2\", \"Topic2\", \"Topic2\", \"Topic2\", \"Topic2\", \"Topic2\", \"Topic2\", \"Topic2\", \"Topic2\", \"Topic3\", \"Topic3\", \"Topic3\", \"Topic3\", \"Topic3\", \"Topic3\", \"Topic3\", \"Topic3\", \"Topic3\", \"Topic3\", \"Topic3\", \"Topic3\", \"Topic3\", \"Topic3\", \"Topic3\", \"Topic3\", \"Topic3\", \"Topic3\", \"Topic3\", \"Topic3\", \"Topic3\", \"Topic3\", \"Topic3\", \"Topic3\", \"Topic3\", \"Topic3\", \"Topic3\", \"Topic3\", \"Topic3\", \"Topic3\", \"Topic3\", \"Topic3\", \"Topic3\", \"Topic3\", \"Topic3\", \"Topic3\", \"Topic3\", \"Topic3\", \"Topic3\", \"Topic3\", \"Topic4\", \"Topic4\", \"Topic4\", \"Topic4\", \"Topic4\", \"Topic4\", \"Topic4\", \"Topic4\", \"Topic4\", \"Topic4\", \"Topic4\", \"Topic4\", \"Topic4\", \"Topic4\", \"Topic4\", \"Topic4\", \"Topic4\", \"Topic4\", \"Topic4\", \"Topic4\", \"Topic4\", \"Topic4\", \"Topic4\", \"Topic4\", \"Topic4\", \"Topic4\", \"Topic4\", \"Topic4\", \"Topic4\", \"Topic4\", \"Topic5\", \"Topic5\", \"Topic5\", \"Topic5\", \"Topic5\", \"Topic5\", \"Topic5\", \"Topic5\", \"Topic5\", \"Topic5\", \"Topic5\", \"Topic5\", \"Topic5\", \"Topic5\", \"Topic5\", \"Topic5\", \"Topic5\", \"Topic5\", \"Topic5\", \"Topic5\", \"Topic5\", \"Topic5\", \"Topic5\", \"Topic5\", \"Topic5\", \"Topic5\", \"Topic5\", \"Topic5\", \"Topic5\", \"Topic5\", \"Topic5\", \"Topic5\", \"Topic6\", \"Topic6\", \"Topic6\", \"Topic6\", \"Topic6\", \"Topic6\", \"Topic6\", \"Topic6\", \"Topic6\", \"Topic6\", \"Topic6\", \"Topic6\", \"Topic6\", \"Topic6\", \"Topic6\", \"Topic6\", \"Topic6\", \"Topic6\", \"Topic6\", \"Topic6\", \"Topic6\", \"Topic6\", \"Topic6\", \"Topic6\", \"Topic6\", \"Topic6\", \"Topic6\", \"Topic6\", \"Topic6\", \"Topic6\", \"Topic7\", \"Topic7\", \"Topic7\", \"Topic7\", \"Topic7\", \"Topic7\", \"Topic7\", \"Topic7\", \"Topic7\", \"Topic7\", \"Topic7\", \"Topic7\", \"Topic7\", \"Topic7\", \"Topic7\", \"Topic7\", \"Topic7\", \"Topic7\", \"Topic7\", \"Topic7\", \"Topic7\", \"Topic7\", \"Topic7\", \"Topic7\", \"Topic7\", \"Topic7\", \"Topic7\", \"Topic7\", \"Topic7\", \"Topic7\", \"Topic8\", \"Topic8\", \"Topic8\", \"Topic8\", \"Topic8\", \"Topic8\", \"Topic8\", \"Topic8\", \"Topic8\", \"Topic8\", \"Topic8\", \"Topic8\", \"Topic8\", \"Topic8\", \"Topic8\", \"Topic8\", \"Topic8\", \"Topic8\", \"Topic8\", \"Topic8\", \"Topic8\", \"Topic8\", \"Topic8\", \"Topic8\", \"Topic8\", \"Topic8\", \"Topic8\", \"Topic8\", \"Topic8\", \"Topic8\", \"Topic8\", \"Topic8\", \"Topic8\", \"Topic8\", \"Topic8\", \"Topic8\", \"Topic8\", \"Topic8\", \"Topic9\", \"Topic9\", \"Topic9\", \"Topic9\", \"Topic9\", \"Topic9\", \"Topic9\", \"Topic9\", \"Topic9\", \"Topic9\", \"Topic9\", \"Topic9\", \"Topic9\", \"Topic9\", \"Topic9\", \"Topic9\", \"Topic9\", \"Topic9\", \"Topic9\", \"Topic9\", \"Topic9\", \"Topic9\", \"Topic9\", \"Topic9\", \"Topic9\", \"Topic9\", \"Topic9\", \"Topic9\", \"Topic9\", \"Topic9\", \"Topic10\", \"Topic10\", \"Topic10\", \"Topic10\", \"Topic10\", \"Topic10\", \"Topic10\", \"Topic10\", \"Topic10\", \"Topic10\", \"Topic10\", \"Topic10\", \"Topic10\", \"Topic10\", \"Topic10\", \"Topic10\", \"Topic10\", \"Topic10\", \"Topic10\", \"Topic10\", \"Topic10\", \"Topic10\", \"Topic10\", \"Topic10\", \"Topic10\", \"Topic10\", \"Topic10\", \"Topic10\", \"Topic10\", \"Topic10\", \"Topic11\", \"Topic11\", \"Topic11\", \"Topic11\", \"Topic11\", \"Topic11\", \"Topic11\", \"Topic11\", \"Topic11\", \"Topic11\", \"Topic11\", \"Topic11\", \"Topic11\", \"Topic11\", \"Topic11\", \"Topic11\", \"Topic11\", \"Topic11\", \"Topic11\", \"Topic11\", \"Topic11\", \"Topic11\", \"Topic11\", \"Topic11\", \"Topic11\", \"Topic11\", \"Topic11\", \"Topic11\", \"Topic11\", \"Topic11\", \"Topic12\", \"Topic12\", \"Topic12\", \"Topic12\", \"Topic12\", \"Topic12\", \"Topic12\", \"Topic12\", \"Topic12\", \"Topic12\", \"Topic12\", \"Topic12\", \"Topic12\", \"Topic12\", \"Topic12\", \"Topic12\", \"Topic12\", \"Topic12\", \"Topic12\", \"Topic12\", \"Topic12\", \"Topic12\", \"Topic12\", \"Topic12\", \"Topic12\", \"Topic12\", \"Topic12\", \"Topic12\", \"Topic12\", \"Topic12\", \"Topic13\", \"Topic13\", \"Topic13\", \"Topic13\", \"Topic13\", \"Topic13\", \"Topic13\", \"Topic13\", \"Topic13\", \"Topic13\", \"Topic13\", \"Topic13\", \"Topic13\", \"Topic13\", \"Topic13\", \"Topic13\", \"Topic13\", \"Topic13\", \"Topic13\", \"Topic13\", \"Topic13\", \"Topic13\", \"Topic13\", \"Topic13\", \"Topic13\", \"Topic13\", \"Topic13\", \"Topic13\", \"Topic13\", \"Topic13\", \"Topic13\", \"Topic13\", \"Topic13\", \"Topic13\", \"Topic13\", \"Topic13\", \"Topic13\", \"Topic13\", \"Topic13\", \"Topic13\", \"Topic13\", \"Topic14\", \"Topic14\", \"Topic14\", \"Topic14\", \"Topic14\", \"Topic14\", \"Topic14\", \"Topic14\", \"Topic14\", \"Topic14\", \"Topic14\", \"Topic14\", \"Topic14\", \"Topic14\", \"Topic14\", \"Topic14\", \"Topic14\", \"Topic14\", \"Topic14\", \"Topic14\", \"Topic14\", \"Topic14\", \"Topic14\", \"Topic14\", \"Topic14\", \"Topic14\", \"Topic14\", \"Topic14\", \"Topic14\", \"Topic14\", \"Topic15\", \"Topic15\", \"Topic15\", \"Topic15\", \"Topic15\", \"Topic15\", \"Topic15\", \"Topic15\", \"Topic15\", \"Topic15\", \"Topic15\", \"Topic15\", \"Topic15\", \"Topic15\", \"Topic15\", \"Topic15\", \"Topic15\", \"Topic15\", \"Topic15\", \"Topic15\", \"Topic15\", \"Topic15\", \"Topic15\", \"Topic15\", \"Topic15\", \"Topic15\", \"Topic15\", \"Topic15\", \"Topic15\", \"Topic15\", \"Topic15\", \"Topic15\", \"Topic15\", \"Topic15\", \"Topic15\", \"Topic15\", \"Topic15\", \"Topic15\", \"Topic16\", \"Topic16\", \"Topic16\", \"Topic16\", \"Topic16\", \"Topic16\", \"Topic16\", \"Topic16\", \"Topic16\", \"Topic16\", \"Topic16\", \"Topic16\", \"Topic16\", \"Topic16\", \"Topic16\", \"Topic16\", \"Topic16\", \"Topic16\", \"Topic16\", \"Topic16\", \"Topic16\", \"Topic16\", \"Topic16\", \"Topic16\", \"Topic16\", \"Topic16\", \"Topic16\", \"Topic16\", \"Topic16\", \"Topic16\", \"Topic16\", \"Topic16\", \"Topic17\", \"Topic17\", \"Topic17\", \"Topic17\", \"Topic17\", \"Topic17\", \"Topic17\", \"Topic17\", \"Topic17\", \"Topic17\", \"Topic17\", \"Topic17\", \"Topic17\", \"Topic17\", \"Topic17\", \"Topic17\", \"Topic17\", \"Topic17\", \"Topic17\", \"Topic17\", \"Topic17\", \"Topic17\", \"Topic17\", \"Topic17\", \"Topic17\", \"Topic17\", \"Topic17\", \"Topic17\", \"Topic17\", \"Topic17\", \"Topic17\", \"Topic17\", \"Topic17\", \"Topic17\", \"Topic17\", \"Topic17\", \"Topic17\", \"Topic17\", \"Topic18\", \"Topic18\", \"Topic18\", \"Topic18\", \"Topic18\", \"Topic18\", \"Topic18\", \"Topic18\", \"Topic18\", \"Topic18\", \"Topic18\", \"Topic18\", \"Topic18\", \"Topic18\", \"Topic18\", \"Topic18\", \"Topic18\", \"Topic18\", \"Topic18\", \"Topic18\", \"Topic18\", \"Topic18\", \"Topic18\", \"Topic18\", \"Topic18\", \"Topic18\", \"Topic18\", \"Topic18\", \"Topic18\", \"Topic18\", \"Topic19\", \"Topic19\", \"Topic19\", \"Topic19\", \"Topic19\", \"Topic19\", \"Topic19\", \"Topic19\", \"Topic19\", \"Topic19\", \"Topic19\", \"Topic19\", \"Topic19\", \"Topic19\", \"Topic19\", \"Topic19\", \"Topic19\", \"Topic19\", \"Topic19\", \"Topic19\", \"Topic19\", \"Topic19\", \"Topic19\", \"Topic19\", \"Topic19\", \"Topic19\", \"Topic19\", \"Topic19\", \"Topic19\", \"Topic19\", \"Topic19\", \"Topic19\", \"Topic19\", \"Topic19\", \"Topic20\", \"Topic20\", \"Topic20\", \"Topic20\", \"Topic20\", \"Topic20\", \"Topic20\", \"Topic20\", \"Topic20\", \"Topic20\", \"Topic20\", \"Topic20\", \"Topic20\", \"Topic20\", \"Topic20\", \"Topic20\", \"Topic20\", \"Topic20\", \"Topic20\", \"Topic20\", \"Topic20\", \"Topic20\", \"Topic20\", \"Topic20\", \"Topic20\", \"Topic20\", \"Topic20\", \"Topic20\", \"Topic20\", \"Topic20\", \"Topic20\", \"Topic20\", \"Topic20\", \"Topic20\", \"Topic20\", \"Topic20\", \"Topic21\", \"Topic21\", \"Topic21\", \"Topic21\", \"Topic21\", \"Topic21\", \"Topic21\", \"Topic21\", \"Topic21\", \"Topic21\", \"Topic21\", \"Topic21\", \"Topic21\", \"Topic21\", \"Topic21\", \"Topic21\", \"Topic21\", \"Topic21\", \"Topic21\", \"Topic21\", \"Topic21\", \"Topic21\", \"Topic21\", \"Topic21\", \"Topic21\", \"Topic21\", \"Topic21\", \"Topic21\", \"Topic21\", \"Topic21\", \"Topic21\", \"Topic21\", \"Topic21\", \"Topic21\", \"Topic21\", \"Topic21\", \"Topic21\", \"Topic21\", \"Topic21\", \"Topic21\", \"Topic21\", \"Topic21\", \"Topic21\", \"Topic21\", \"Topic21\", \"Topic21\", \"Topic21\", \"Topic21\", \"Topic21\", \"Topic21\", \"Topic21\", \"Topic22\", \"Topic22\", \"Topic22\", \"Topic22\", \"Topic22\", \"Topic22\", \"Topic22\", \"Topic22\", \"Topic22\", \"Topic22\", \"Topic22\", \"Topic22\", \"Topic22\", \"Topic22\", \"Topic22\", \"Topic22\", \"Topic22\", \"Topic22\", \"Topic22\", \"Topic22\", \"Topic22\", \"Topic22\", \"Topic22\", \"Topic22\", \"Topic22\", \"Topic22\", \"Topic22\", \"Topic22\", \"Topic22\", \"Topic22\", \"Topic22\", \"Topic22\", \"Topic22\", \"Topic22\", \"Topic22\", \"Topic22\", \"Topic22\", \"Topic22\", \"Topic22\", \"Topic22\", \"Topic22\", \"Topic22\", \"Topic22\", \"Topic22\", \"Topic22\", \"Topic22\", \"Topic22\", \"Topic22\", \"Topic22\", \"Topic22\", \"Topic22\", \"Topic22\", \"Topic22\", \"Topic22\", \"Topic22\", \"Topic22\", \"Topic22\", \"Topic22\", \"Topic22\", \"Topic22\", \"Topic22\", \"Topic22\", \"Topic22\", \"Topic22\", \"Topic22\", \"Topic22\", \"Topic22\", \"Topic22\", \"Topic22\", \"Topic22\", \"Topic22\", \"Topic22\", \"Topic22\", \"Topic22\", \"Topic22\", \"Topic22\", \"Topic22\", \"Topic22\", \"Topic22\", \"Topic22\", \"Topic22\", \"Topic22\", \"Topic22\", \"Topic22\", \"Topic22\", \"Topic22\", \"Topic22\", \"Topic22\", \"Topic22\", \"Topic22\", \"Topic22\", \"Topic22\", \"Topic22\", \"Topic22\", \"Topic22\", \"Topic22\", \"Topic22\", \"Topic22\", \"Topic22\", \"Topic22\", \"Topic22\", \"Topic22\", \"Topic22\", \"Topic22\", \"Topic22\", \"Topic22\", \"Topic22\", \"Topic22\", \"Topic22\", \"Topic22\", \"Topic22\", \"Topic22\", \"Topic22\", \"Topic22\", \"Topic22\", \"Topic22\", \"Topic22\", \"Topic22\", \"Topic22\", \"Topic22\", \"Topic22\", \"Topic22\", \"Topic22\", \"Topic22\", \"Topic22\", \"Topic22\", \"Topic22\", \"Topic22\", \"Topic22\", \"Topic22\", \"Topic22\", \"Topic22\", \"Topic22\", \"Topic22\", \"Topic22\", \"Topic22\", \"Topic22\", \"Topic22\", \"Topic22\", \"Topic22\", \"Topic22\", \"Topic22\", \"Topic22\", \"Topic22\", \"Topic22\", \"Topic22\", \"Topic22\", \"Topic22\", \"Topic22\", \"Topic22\", \"Topic22\", \"Topic22\", \"Topic22\", \"Topic22\", \"Topic22\", \"Topic22\", \"Topic22\", \"Topic22\", \"Topic22\", \"Topic22\", \"Topic22\", \"Topic22\", \"Topic22\", \"Topic22\", \"Topic22\", \"Topic22\", \"Topic22\", \"Topic22\", \"Topic22\", \"Topic22\", \"Topic22\", \"Topic22\", \"Topic22\", \"Topic22\", \"Topic22\", \"Topic22\", \"Topic22\", \"Topic22\", \"Topic22\", \"Topic22\", \"Topic22\", \"Topic22\", \"Topic22\", \"Topic22\", \"Topic22\", \"Topic22\", \"Topic22\", \"Topic22\", \"Topic22\", \"Topic22\", \"Topic22\", \"Topic22\", \"Topic22\", \"Topic22\", \"Topic22\", \"Topic22\", \"Topic22\", \"Topic22\", \"Topic22\", \"Topic22\", \"Topic22\", \"Topic22\", \"Topic22\", \"Topic22\", \"Topic22\", \"Topic22\", \"Topic22\", \"Topic22\", \"Topic22\", \"Topic22\", \"Topic22\", \"Topic22\", \"Topic22\", \"Topic22\", \"Topic22\", \"Topic22\", \"Topic22\", \"Topic22\", \"Topic22\", \"Topic22\", \"Topic22\", \"Topic22\", \"Topic22\", \"Topic22\", \"Topic22\", \"Topic22\", \"Topic22\", \"Topic22\", \"Topic22\", \"Topic22\", \"Topic22\", \"Topic22\", \"Topic22\", \"Topic22\", \"Topic22\", \"Topic22\", \"Topic22\", \"Topic22\", \"Topic22\", \"Topic22\", \"Topic22\", \"Topic22\", \"Topic22\", \"Topic22\", \"Topic22\", \"Topic22\", \"Topic22\", \"Topic22\", \"Topic22\", \"Topic22\", \"Topic22\", \"Topic22\", \"Topic22\", \"Topic22\", \"Topic22\", \"Topic22\", \"Topic22\", \"Topic22\", \"Topic22\", \"Topic22\", \"Topic22\", \"Topic22\", \"Topic22\", \"Topic22\", \"Topic22\", \"Topic22\", \"Topic22\", \"Topic22\", \"Topic22\", \"Topic22\", \"Topic22\", \"Topic22\", \"Topic22\", \"Topic22\", \"Topic22\", \"Topic22\", \"Topic22\", \"Topic22\", \"Topic22\", \"Topic22\", \"Topic22\", \"Topic22\", \"Topic22\", \"Topic22\", \"Topic22\", \"Topic22\", \"Topic22\", \"Topic22\", \"Topic22\", \"Topic22\", \"Topic22\", \"Topic22\", \"Topic22\", \"Topic22\", \"Topic22\", \"Topic22\", \"Topic22\", \"Topic22\", \"Topic22\", \"Topic22\", \"Topic22\", \"Topic22\", \"Topic22\", \"Topic22\", \"Topic22\", \"Topic22\", \"Topic22\", \"Topic22\", \"Topic22\", \"Topic22\", \"Topic22\", \"Topic22\", \"Topic22\", \"Topic22\", \"Topic22\", \"Topic22\", \"Topic22\", \"Topic22\", \"Topic22\", \"Topic22\", \"Topic22\", \"Topic22\", \"Topic22\", \"Topic22\", \"Topic22\", \"Topic22\", \"Topic22\", \"Topic22\", \"Topic22\", \"Topic22\", \"Topic22\", \"Topic22\", \"Topic22\", \"Topic22\", \"Topic22\", \"Topic22\", \"Topic22\", \"Topic22\", \"Topic22\", \"Topic22\", \"Topic22\", \"Topic22\", \"Topic22\", \"Topic22\", \"Topic22\", \"Topic22\", \"Topic22\", \"Topic22\", \"Topic22\", \"Topic22\", \"Topic22\", \"Topic22\", \"Topic22\", \"Topic22\", \"Topic22\", \"Topic22\", \"Topic22\", \"Topic22\", \"Topic22\", \"Topic22\", \"Topic22\", \"Topic22\", \"Topic22\", \"Topic22\", \"Topic22\", \"Topic22\", \"Topic22\", \"Topic22\", \"Topic22\", \"Topic22\", \"Topic22\", \"Topic22\", \"Topic22\", \"Topic22\", \"Topic22\", \"Topic22\", \"Topic22\", \"Topic22\", \"Topic22\", \"Topic22\", \"Topic22\", \"Topic22\", \"Topic22\", \"Topic22\", \"Topic22\", \"Topic22\", \"Topic22\", \"Topic22\", \"Topic22\", \"Topic22\", \"Topic22\", \"Topic22\", \"Topic22\", \"Topic22\", \"Topic22\", \"Topic22\", \"Topic22\", \"Topic22\", \"Topic22\", \"Topic22\", \"Topic22\", \"Topic22\", \"Topic22\", \"Topic22\", \"Topic22\", \"Topic22\", \"Topic22\", \"Topic22\", \"Topic22\", \"Topic22\", \"Topic22\", \"Topic22\", \"Topic22\", \"Topic22\", \"Topic22\", \"Topic22\", \"Topic22\", \"Topic22\", \"Topic22\", \"Topic22\", \"Topic22\", \"Topic22\", \"Topic22\", \"Topic22\", \"Topic22\", \"Topic22\", \"Topic22\", \"Topic22\", \"Topic22\", \"Topic22\", \"Topic22\", \"Topic22\", \"Topic22\", \"Topic22\", \"Topic22\", \"Topic22\", \"Topic22\", \"Topic22\", \"Topic22\", \"Topic22\", \"Topic22\", \"Topic22\", \"Topic22\", \"Topic22\", \"Topic22\", \"Topic22\", \"Topic22\", \"Topic22\", \"Topic22\", \"Topic22\", \"Topic22\", \"Topic22\", \"Topic22\", \"Topic22\", \"Topic22\", \"Topic22\", \"Topic22\", \"Topic22\", \"Topic22\", \"Topic22\", \"Topic22\", \"Topic22\", \"Topic22\", \"Topic22\", \"Topic22\", \"Topic22\", \"Topic22\", \"Topic22\", \"Topic22\", \"Topic22\", \"Topic22\", \"Topic22\", \"Topic22\", \"Topic22\", \"Topic22\", \"Topic22\", \"Topic22\", \"Topic22\", \"Topic22\", \"Topic22\", \"Topic22\", \"Topic22\", \"Topic22\", \"Topic22\", \"Topic22\", \"Topic22\", \"Topic22\", \"Topic22\", \"Topic22\", \"Topic22\", \"Topic22\", \"Topic22\", \"Topic22\", \"Topic22\", \"Topic22\", \"Topic22\", \"Topic22\", \"Topic22\", \"Topic22\", \"Topic22\", \"Topic22\", \"Topic22\", \"Topic22\", \"Topic22\", \"Topic22\", \"Topic22\", \"Topic22\", \"Topic22\", \"Topic22\", \"Topic22\", \"Topic22\", \"Topic22\", \"Topic22\", \"Topic22\", \"Topic22\", \"Topic22\", \"Topic22\", \"Topic22\", \"Topic22\", \"Topic22\", \"Topic22\", \"Topic22\", \"Topic22\", \"Topic22\", \"Topic22\", \"Topic22\", \"Topic22\", \"Topic22\", \"Topic22\", \"Topic22\", \"Topic22\", \"Topic22\", \"Topic22\", \"Topic22\", \"Topic22\", \"Topic22\", \"Topic22\", \"Topic22\", \"Topic22\", \"Topic22\", \"Topic22\", \"Topic22\", \"Topic22\", \"Topic22\", \"Topic22\", \"Topic22\", \"Topic22\", \"Topic22\", \"Topic22\", \"Topic22\", \"Topic22\", \"Topic22\", \"Topic22\", \"Topic22\", \"Topic22\", \"Topic22\", \"Topic22\", \"Topic22\", \"Topic22\", \"Topic22\"], \"Freq\": [44739.0, 44254.0, 21277.0, 16969.0, 14159.0, 17538.0, 26317.0, 12267.0, 12799.0, 11362.0, 9075.0, 8112.0, 7755.0, 7198.0, 8933.0, 6621.0, 7945.0, 8034.0, 7153.0, 4733.0, 6505.0, 12217.0, 5584.0, 6328.0, 5591.0, 4831.0, 6190.0, 6066.0, 5903.0, 5435.0, 44253.08984375, 26316.400390625, 12216.1435546875, 9278.5537109375, 9134.9833984375, 8148.50732421875, 6093.67333984375, 5600.1962890625, 4249.0283203125, 3586.163330078125, 2867.44775390625, 2837.35595703125, 2736.19873046875, 2198.94287109375, 2006.1517333984375, 1883.476806640625, 1853.5965576171875, 1679.491943359375, 1650.566650390625, 1634.031005859375, 1477.503662109375, 1405.7706298828125, 1404.9432373046875, 1398.9642333984375, 1376.9195556640625, 1261.958740234375, 1254.2745361328125, 1253.589111328125, 1249.9261474609375, 1128.5377197265625, 2215.8154296875, 12798.3740234375, 4570.02392578125, 2869.28369140625, 2850.88818359375, 2341.56298828125, 2068.89794921875, 2001.5972900390625, 1671.0675048828125, 1610.6402587890625, 1422.299072265625, 1277.514404296875, 1236.12060546875, 1210.4306640625, 1144.972412109375, 1118.19091796875, 1111.8365478515625, 1099.0107421875, 959.54638671875, 832.6943969726562, 802.5853881835938, 778.8472290039062, 768.80126953125, 730.0281982421875, 703.8215942382812, 701.2615966796875, 698.572998046875, 683.2828979492188, 654.8477783203125, 653.1663818359375, 632.6236572265625, 44738.3125, 17536.8359375, 1654.154052734375, 932.0204467773438, 514.1622924804688, 304.14178466796875, 44.111175537109375, 0.06873109936714172, 0.06873247772455215, 0.06873130053281784, 0.06873229146003723, 0.06873272359371185, 0.06873118132352829, 0.06873144209384918, 0.06873097270727158, 0.0687309205532074, 0.06873223185539246, 0.06873082369565964, 0.06873057037591934, 0.06873162090778351, 0.06873015314340591, 0.06873029470443726, 0.0687306746840477, 0.06872962415218353, 0.06873058527708054, 0.0687301978468895, 0.06873036921024323, 0.06873006373643875, 0.06872961670160294, 0.0687304437160492, 0.0687318965792656, 0.06873051077127457, 0.0687318816781044, 0.06873056292533875, 0.06873082369565964, 0.06873136758804321, 0.06873078644275665, 0.06873057037591934, 0.06873047351837158, 0.06873050332069397, 8932.3583984375, 8033.099609375, 5902.0517578125, 4343.900390625, 4198.2802734375, 4115.92138671875, 3921.72119140625, 2601.753173828125, 2597.984130859375, 2591.64990234375, 2513.951171875, 1451.98583984375, 1328.583740234375, 1234.723876953125, 1196.1650390625, 1132.554931640625, 1112.8782958984375, 1068.8380126953125, 1024.35107421875, 973.1314697265625, 869.7762451171875, 859.1260375976562, 609.0507202148438, 597.2589111328125, 531.8058471679688, 409.5851745605469, 334.7904052734375, 295.323486328125, 228.9633026123047, 175.37167358398438, 6188.6865234375, 6065.5810546875, 5292.33740234375, 4533.63330078125, 3177.771728515625, 2887.42138671875, 2463.702392578125, 2141.662109375, 2042.478515625, 1833.8251953125, 1599.146728515625, 1276.9747314453125, 1185.0335693359375, 975.1131591796875, 949.2304077148438, 905.5653076171875, 773.7783203125, 669.29248046875, 662.8197021484375, 630.4192504882812, 608.2970581054688, 574.8199462890625, 468.21295166015625, 394.8775939941406, 371.9794921875, 370.7725830078125, 351.3689270019531, 316.02655029296875, 286.3004455566406, 281.9128112792969, 4364.0146484375, 1068.317626953125, 16968.431640625, 5434.3017578125, 4565.8857421875, 4271.27490234375, 2794.5546875, 2741.46240234375, 2089.05615234375, 1678.8739013671875, 1427.9822998046875, 1328.5428466796875, 1323.2340087890625, 706.19873046875, 668.2530517578125, 628.243408203125, 522.4797973632812, 484.500244140625, 461.6862487792969, 428.8553771972656, 427.8969421386719, 417.2420654296875, 402.7853698730469, 375.4058837890625, 357.9826965332031, 326.70745849609375, 306.0997314453125, 297.45245361328125, 289.5143127441406, 289.4322509765625, 270.1860656738281, 249.65231323242188, 21275.685546875, 5282.41064453125, 5256.1787109375, 3067.5908203125, 1755.13427734375, 1708.1063232421875, 1350.0108642578125, 1324.80419921875, 1065.638916015625, 1065.5050048828125, 629.8292846679688, 608.0465698242188, 582.2291870117188, 544.4738159179688, 539.1804809570312, 433.7012939453125, 398.0100402832031, 371.62554931640625, 360.0406494140625, 324.36328125, 307.8514404296875, 293.2176818847656, 288.2634582519531, 268.5118713378906, 243.42221069335938, 214.202880859375, 186.05967712402344, 168.2165985107422, 155.8172607421875, 127.49940490722656, 11361.439453125, 7943.72265625, 7151.85498046875, 6327.07470703125, 4782.39892578125, 3879.513671875, 3847.345703125, 1321.9698486328125, 1094.6322021484375, 271.1631164550781, 244.8596954345703, 117.91029357910156, 73.8956527709961, 1035.923583984375, 0.06794261187314987, 0.06794309616088867, 0.06794198602437973, 0.06794057041406631, 0.06793997436761856, 0.06793926656246185, 0.06793984770774841, 0.0679413303732872, 0.06793937087059021, 0.06793966144323349, 0.06793944537639618, 0.06793956458568573, 0.0679391473531723, 0.06793992966413498, 0.0679394081234932, 0.0679389163851738, 0.06794100999832153, 0.06794097274541855, 0.06794075667858124, 0.0679401233792305, 0.06794004887342453, 0.06794020533561707, 0.06794057041406631, 0.06793978810310364, 9074.353515625, 3196.528564453125, 3141.598388671875, 3079.308837890625, 2199.96337890625, 2027.610107421875, 1586.35546875, 1010.0663452148438, 982.7781982421875, 982.0332641601562, 965.8312377929688, 872.8026123046875, 845.7064819335938, 824.0697631835938, 807.3444213867188, 776.0648803710938, 766.4771728515625, 753.5025634765625, 729.3648071289062, 711.5977172851562, 602.4080810546875, 595.8947143554688, 529.8803100585938, 485.3509521484375, 483.08892822265625, 470.65576171875, 414.63372802734375, 379.4056396484375, 371.3828430175781, 348.34234619140625, 6504.31103515625, 4302.1337890625, 3646.551025390625, 3486.474609375, 2074.876220703125, 1547.5118408203125, 1145.41943359375, 1028.51171875, 940.1661987304688, 927.0554809570312, 917.962890625, 754.1889038085938, 681.306396484375, 626.8455200195312, 609.0987548828125, 599.116943359375, 586.302978515625, 583.2024536132812, 563.0043334960938, 544.6991577148438, 503.8659362792969, 502.2477111816406, 491.88128662109375, 488.8639831542969, 465.0472717285156, 445.4423828125, 394.4169006347656, 388.95599365234375, 373.98626708984375, 251.23330688476562, 7754.4931640625, 3910.14013671875, 3333.065673828125, 1583.202880859375, 1499.695556640625, 1417.8133544921875, 1289.23193359375, 1185.1060791015625, 1174.1341552734375, 1007.5879516601562, 921.7935180664062, 887.17333984375, 858.837158203125, 799.2691040039062, 696.1502075195312, 673.7488403320312, 669.092041015625, 624.7353515625, 604.5014038085938, 574.3388671875, 479.26824951171875, 456.87652587890625, 433.7218322753906, 396.04425048828125, 392.0416259765625, 382.18267822265625, 378.3949279785156, 356.06964111328125, 342.986328125, 279.853515625, 8111.04931640625, 5590.46337890625, 3553.540283203125, 1930.3892822265625, 1604.069580078125, 1167.9974365234375, 1158.7188720703125, 1045.1495361328125, 970.188720703125, 937.8924560546875, 936.0699462890625, 930.4456176757812, 925.3719482421875, 796.408447265625, 768.7783813476562, 758.9192504882812, 757.1598510742188, 677.57080078125, 472.96466064453125, 470.90911865234375, 364.4440612792969, 330.02191162109375, 277.0477600097656, 272.6221618652344, 137.7703857421875, 135.078125, 134.39613342285156, 126.10476684570312, 103.48902130126953, 55.41304016113281, 14158.5009765625, 7196.91845703125, 2329.737060546875, 1549.40673828125, 1526.132080078125, 1204.9947509765625, 1136.108642578125, 1015.7353515625, 825.20947265625, 484.28558349609375, 353.00299072265625, 292.1340637207031, 159.12554931640625, 0.05928950756788254, 0.05928828567266464, 0.05928727239370346, 0.05928739905357361, 0.05928803235292435, 0.05928764119744301, 0.05928913131356239, 0.05928769335150719, 0.05928689241409302, 0.05928778275847435, 0.05928703024983406, 0.05928702652454376, 0.05928691104054451, 0.059286728501319885, 0.05928674712777138, 0.059286877512931824, 0.05928749218583107, 0.05928725376725197, 0.05928683280944824, 0.05928720906376839, 0.05928758531808853, 0.059287022799253464, 0.05928812921047211, 0.05928749218583107, 0.05928726866841316, 0.05928758904337883, 0.05928740277886391, 0.05928734689950943, 3105.647705078125, 3030.47412109375, 2312.512451171875, 1956.7646484375, 1863.0762939453125, 1666.7508544921875, 1561.5330810546875, 1043.2550048828125, 1020.8953247070312, 867.95849609375, 828.6337280273438, 827.795166015625, 818.0995483398438, 766.0735473632812, 744.930908203125, 669.8534545898438, 669.7753295898438, 607.5265502929688, 570.564208984375, 488.9546813964844, 485.23394775390625, 476.0358581542969, 435.6760559082031, 412.9984130859375, 392.24066162109375, 345.896728515625, 340.1446228027344, 332.3741149902344, 293.0506286621094, 254.54360961914062, 3988.406982421875, 3634.6806640625, 3452.702392578125, 2981.332763671875, 2766.313232421875, 1946.5870361328125, 1625.1058349609375, 1585.9898681640625, 1576.36328125, 1100.866455078125, 819.450927734375, 709.5740966796875, 670.7091064453125, 593.9982299804688, 547.107177734375, 544.135986328125, 514.8677978515625, 298.50457763671875, 296.5081481933594, 286.5555725097656, 250.52345275878906, 217.7462158203125, 156.63070678710938, 77.0283203125, 0.07135389745235443, 0.0713527724146843, 0.0713522732257843, 0.07135257869958878, 0.07135185599327087, 0.07135161012411118, 0.07135289907455444, 0.07135269045829773, 0.07135380059480667, 0.07135290652513504, 0.0713535025715828, 0.07135320454835892, 0.07135322690010071, 0.07135304808616638, 12266.6298828125, 5583.0810546875, 2653.385498046875, 1601.3680419921875, 1114.62060546875, 655.8709106445312, 639.2383422851562, 574.503662109375, 572.2747802734375, 462.9273681640625, 322.6434020996094, 311.9149475097656, 283.1733093261719, 236.12591552734375, 221.64910888671875, 200.87083435058594, 186.72703552246094, 167.59703063964844, 144.62008666992188, 126.56057739257812, 118.51922607421875, 109.2397232055664, 884.0950927734375, 0.06263209879398346, 0.06263135373592377, 0.06263114511966705, 0.06263083964586258, 0.06262990087270737, 0.06262942403554916, 0.06262857466936111, 0.06262943148612976, 0.06263041496276855, 6619.81689453125, 3541.265625, 3348.616943359375, 2533.607177734375, 2215.54443359375, 1973.83154296875, 1745.8565673828125, 1104.350341796875, 1083.080810546875, 1075.85302734375, 263.2197265625, 242.62216186523438, 237.53965759277344, 170.77540588378906, 101.65784454345703, 93.98310852050781, 83.70893096923828, 0.06781023740768433, 0.06781086325645447, 0.06780894100666046, 0.0678088515996933, 0.06780777126550674, 0.06780786067247391, 0.06780832260847092, 0.06780821084976196, 0.06780989468097687, 0.0678076446056366, 0.06780727952718735, 0.06780858337879181, 0.06780752539634705, 0.0678093358874321, 0.06780793517827988, 0.06780797243118286, 0.06780832260847092, 0.06780900061130524, 0.06780876219272614, 0.06780804693698883, 0.06780799478292465, 4829.89111328125, 3800.47265625, 2442.8857421875, 1764.91064453125, 1752.60791015625, 1281.079345703125, 986.8991088867188, 828.8236694335938, 768.3588256835938, 653.015625, 541.5255737304688, 525.5399169921875, 515.7459106445312, 436.9482727050781, 381.5917053222656, 245.14480590820312, 221.91781616210938, 158.3802032470703, 143.71751403808594, 123.77769470214844, 116.79654693603516, 93.54139709472656, 89.42903137207031, 81.88873291015625, 66.89077758789062, 43.124568939208984, 33.176658630371094, 12.678226470947266, 0.06930975615978241, 0.0693088248372078, 3194.49462890625, 1793.4388427734375, 1159.5201416015625, 825.4992065429688, 587.9241943359375, 464.69989013671875, 452.5395812988281, 380.4593811035156, 371.8049621582031, 279.056884765625, 262.319580078125, 246.29957580566406, 208.83692932128906, 131.90760803222656, 67.97764587402344, 36.16412353515625, 0.057841140776872635, 0.05784110352396965, 0.057839542627334595, 0.05783935263752937, 0.057840943336486816, 0.057839710265398026, 0.05783948674798012, 0.05783927068114281, 0.057839278131723404, 0.057839106768369675, 0.057839248329401016, 0.05783886834979057, 0.05783887952566147, 0.057838793843984604, 0.0578402616083622, 0.057839129120111465, 0.05783914029598236, 0.05783919245004654, 2826.55712890625, 2004.85595703125, 1786.140380859375, 929.4395141601562, 766.3988647460938, 427.3951721191406, 388.59539794921875, 388.28533935546875, 261.3918151855469, 143.58009338378906, 30.11147689819336, 0.06427010148763657, 0.06427203863859177, 0.06427011638879776, 0.06426962465047836, 0.06426951289176941, 0.06426975131034851, 0.06426946818828583, 0.06427066773176193, 0.06427053362131119, 0.0642695277929306, 0.06426935642957687, 0.06426956504583359, 0.06426961719989777, 0.06426908820867538, 0.06426884233951569, 0.06426922976970673, 0.06426934897899628, 0.0642697736620903, 0.06426902860403061, 0.06426966190338135, 0.06426940858364105, 0.06426985561847687, 0.06426948308944702, 0.06426952034235, 0.06426937133073807, 4732.11083984375, 1658.017578125, 651.8466796875, 555.1693115234375, 540.3171997070312, 539.4462890625, 410.6781921386719, 364.2772216796875, 130.60902404785156, 0.06792531162500381, 0.0679248571395874, 0.06792406737804413, 0.06792354583740234, 0.06792381405830383, 0.06792370229959488, 0.0679246038198471, 0.06792338937520981, 0.06792344152927399, 0.06792327761650085, 0.06792327016592026, 0.06792328506708145, 0.06792333722114563, 0.06792356073856354, 0.06792330741882324, 0.0679236501455307, 0.0679231509566307, 0.06792379170656204, 0.06792425364255905, 0.06792305409908295, 0.06792305409908295, 0.06792384386062622, 0.06792336702346802, 0.06792324036359787, 0.06792338192462921, 0.06792336702346802, 0.06792370975017548, 0.067923404276371, 0.06792399287223816, 0.06792346388101578, 0.06792417168617249, 0.0679241269826889, 0.06792474538087845, 0.06792456656694412, 0.06792441010475159, 0.0679236650466919, 0.06792372465133667, 0.0679236352443695, 0.06792384386062622, 0.06792400032281876, 0.06792373955249786, 0.0679238960146904, 0.0023982361890375614, 0.0023982361890375614, 0.0023982361890375614, 0.0023982361890375614, 0.0023982361890375614, 0.0023982361890375614, 0.0023982361890375614, 0.0023982361890375614, 0.0023982361890375614, 0.0023982361890375614, 0.0023982361890375614, 0.0023982361890375614, 0.0023982361890375614, 0.0023982361890375614, 0.0023982361890375614, 0.0023982361890375614, 0.0023982361890375614, 0.0023982361890375614, 0.0023982361890375614, 0.0023982361890375614, 0.0023982361890375614, 0.0023982361890375614, 0.0023982361890375614, 0.0023982361890375614, 0.0023982361890375614, 0.0023982361890375614, 0.0023982361890375614, 0.0023982361890375614, 0.0023982361890375614, 0.0023982361890375614, 0.0023982361890375614, 0.0023982361890375614, 0.0023982361890375614, 0.0023982361890375614, 0.0023982361890375614, 0.0023982361890375614, 0.0023982361890375614, 0.0023982361890375614, 0.0023982361890375614, 0.0023982361890375614, 0.0023982361890375614, 0.0023982361890375614, 0.0023982361890375614, 0.0023982361890375614, 0.0023982361890375614, 0.0023982361890375614, 0.0023982361890375614, 0.0023982361890375614, 0.0023982361890375614, 0.0023982361890375614, 0.0023982361890375614, 0.0023982361890375614, 0.0023982361890375614, 0.0023982361890375614, 0.0023982361890375614, 0.0023982361890375614, 0.0023982361890375614, 0.0023982361890375614, 0.0023982361890375614, 0.0023982361890375614, 0.0023982361890375614, 0.0023982361890375614, 0.0023982361890375614, 0.0023982361890375614, 0.0023982361890375614, 0.0023982361890375614, 0.0023982361890375614, 0.0023982361890375614, 0.0023982361890375614, 0.0023982361890375614, 0.0023982361890375614, 0.0023982361890375614, 0.0023982361890375614, 0.0023982361890375614, 0.0023982361890375614, 0.0023982361890375614, 0.0023982361890375614, 0.0023982361890375614, 0.0023982361890375614, 0.0023982361890375614, 0.0023982361890375614, 0.0023982361890375614, 0.0023982361890375614, 0.0023982361890375614, 0.0023982361890375614, 0.0023982361890375614, 0.0023982361890375614, 0.0023982361890375614, 0.0023982361890375614, 0.0023982361890375614, 0.0023982361890375614, 0.0023982361890375614, 0.0023982361890375614, 0.0023982361890375614, 0.0023982361890375614, 0.0023982361890375614, 0.0023982361890375614, 0.0023982361890375614, 0.0023982361890375614, 0.0023982361890375614, 0.0023982361890375614, 0.0023982361890375614, 0.0023982361890375614, 0.0023982361890375614, 0.0023982361890375614, 0.0023982361890375614, 0.0023982361890375614, 0.0023982361890375614, 0.0023982361890375614, 0.0023982361890375614, 0.0023982361890375614, 0.0023982361890375614, 0.0023982361890375614, 0.0023982361890375614, 0.0023982361890375614, 0.0023982361890375614, 0.0023982361890375614, 0.0023982361890375614, 0.0023982361890375614, 0.0023982361890375614, 0.0023982361890375614, 0.0023982361890375614, 0.0023982361890375614, 0.0023982361890375614, 0.0023982361890375614, 0.0023982361890375614, 0.0023982361890375614, 0.0023982361890375614, 0.0023982361890375614, 0.0023982361890375614, 0.0023982361890375614, 0.0023982361890375614, 0.0023982361890375614, 0.0023982361890375614, 0.0023982361890375614, 0.0023982361890375614, 0.0023982361890375614, 0.0023982361890375614, 0.0023982361890375614, 0.0023982361890375614, 0.0023982361890375614, 0.0023982361890375614, 0.0023982361890375614, 0.0023982361890375614, 0.0023982361890375614, 0.0023982361890375614, 0.0023982361890375614, 0.0023982361890375614, 0.0023982361890375614, 0.0023982361890375614, 0.0023982361890375614, 0.0023982361890375614, 0.0023982361890375614, 0.0023982361890375614, 0.0023982361890375614, 0.0023982361890375614, 0.0023982361890375614, 0.0023982361890375614, 0.0023982361890375614, 0.0023982361890375614, 0.0023982361890375614, 0.0023982361890375614, 0.0023982361890375614, 0.0023982361890375614, 0.0023982361890375614, 0.0023982361890375614, 0.0023982361890375614, 0.0023982361890375614, 0.0023982361890375614, 0.0023982361890375614, 0.0023982361890375614, 0.0023982361890375614, 0.0023982361890375614, 0.0023982361890375614, 0.0023982361890375614, 0.0023982361890375614, 0.0023982361890375614, 0.0023982361890375614, 0.0023982361890375614, 0.0023982361890375614, 0.0023982361890375614, 0.0023982361890375614, 0.0023982361890375614, 0.0023982361890375614, 0.0023982361890375614, 0.0023982361890375614, 0.0023982361890375614, 0.0023982361890375614, 0.0023982361890375614, 0.0023982361890375614, 0.0023982361890375614, 0.0023982361890375614, 0.0023982361890375614, 0.0023982361890375614, 0.0023982361890375614, 0.0023982361890375614, 0.0023982361890375614, 0.0023982361890375614, 0.0023982361890375614, 0.0023982361890375614, 0.0023982361890375614, 0.0023982361890375614, 0.0023982361890375614, 0.0023982361890375614, 0.0023982361890375614, 0.0023982361890375614, 0.0023982361890375614, 0.0023982361890375614, 0.0023982361890375614, 0.0023982361890375614, 0.0023982361890375614, 0.0023982361890375614, 0.0023982361890375614, 0.0023982361890375614, 0.0023982361890375614, 0.0023982361890375614, 0.0023982361890375614, 0.0023982361890375614, 0.0023982361890375614, 0.0023982361890375614, 0.0023982361890375614, 0.0023982361890375614, 0.0023982361890375614, 0.0023982361890375614, 0.0023982361890375614, 0.0023982361890375614, 0.0023982361890375614, 0.0023982361890375614, 0.0023982361890375614, 0.0023982361890375614, 0.0023982361890375614, 0.0023982361890375614, 0.0023982361890375614, 0.0023982361890375614, 0.0023982361890375614, 0.0023982361890375614, 0.0023982361890375614, 0.0023982361890375614, 0.0023982361890375614, 0.0023982361890375614, 0.0023982361890375614, 0.0023982361890375614, 0.0023982361890375614, 0.0023982361890375614, 0.0023982361890375614, 0.0023982361890375614, 0.0023982361890375614, 0.0023982361890375614, 0.0023982361890375614, 0.0023982361890375614, 0.0023982361890375614, 0.0023982361890375614, 0.0023982361890375614, 0.0023982361890375614, 0.0023982361890375614, 0.0023982361890375614, 0.0023982361890375614, 0.0023982361890375614, 0.0023982361890375614, 0.0023982361890375614, 0.0023982361890375614, 0.0023982361890375614, 0.0023982361890375614, 0.0023982361890375614, 0.0023982361890375614, 0.0023982361890375614, 0.0023982361890375614, 0.0023982361890375614, 0.0023982361890375614, 0.0023982361890375614, 0.0023982361890375614, 0.0023982361890375614, 0.0023982361890375614, 0.0023982361890375614, 0.0023982361890375614, 0.0023982361890375614, 0.0023982361890375614, 0.0023982361890375614, 0.0023982361890375614, 0.0023982361890375614, 0.0023982361890375614, 0.0023982361890375614, 0.0023982361890375614, 0.0023982361890375614, 0.0023982361890375614, 0.0023982361890375614, 0.0023982361890375614, 0.0023982361890375614, 0.0023982361890375614, 0.0023982361890375614, 0.0023982361890375614, 0.0023982361890375614, 0.0023982361890375614, 0.0023982361890375614, 0.0023982361890375614, 0.0023982361890375614, 0.0023982361890375614, 0.0023982361890375614, 0.0023982361890375614, 0.0023982361890375614, 0.0023982361890375614, 0.0023982361890375614, 0.0023982361890375614, 0.0023982361890375614, 0.0023982361890375614, 0.0023982361890375614, 0.0023982361890375614, 0.0023982361890375614, 0.0023982361890375614, 0.0023982361890375614, 0.0023982361890375614, 0.0023982361890375614, 0.0023982361890375614, 0.0023982361890375614, 0.0023982361890375614, 0.0023982361890375614, 0.0023982361890375614, 0.0023982361890375614, 0.0023982361890375614, 0.0023982361890375614, 0.0023982361890375614, 0.0023982361890375614, 0.0023982361890375614, 0.0023982361890375614, 0.0023982361890375614, 0.0023982361890375614, 0.0023982361890375614, 0.0023982361890375614, 0.0023982361890375614, 0.0023982361890375614, 0.0023982361890375614, 0.0023982361890375614, 0.0023982361890375614, 0.0023982361890375614, 0.0023982361890375614, 0.0023982361890375614, 0.0023982361890375614, 0.0023982361890375614, 0.0023982361890375614, 0.0023982361890375614, 0.0023982361890375614, 0.0023982361890375614, 0.0023982361890375614, 0.0023982361890375614, 0.0023982361890375614, 0.0023982361890375614, 0.0023982361890375614, 0.0023982361890375614, 0.0023982361890375614, 0.0023982361890375614, 0.0023982361890375614, 0.0023982361890375614, 0.0023982361890375614, 0.0023982361890375614, 0.0023982361890375614, 0.0023982361890375614, 0.0023982361890375614, 0.0023982361890375614, 0.0023982361890375614, 0.0023982361890375614, 0.0023982361890375614, 0.0023982361890375614, 0.0023982361890375614, 0.0023982361890375614, 0.0023982361890375614, 0.0023982361890375614, 0.0023982361890375614, 0.0023982361890375614, 0.0023982361890375614, 0.0023982361890375614, 0.0023982361890375614, 0.0023982361890375614, 0.0023982361890375614, 0.0023982361890375614, 0.0023982361890375614, 0.0023982361890375614, 0.0023982361890375614, 0.0023982361890375614, 0.0023982361890375614, 0.0023982361890375614, 0.0023982361890375614, 0.0023982361890375614, 0.0023982361890375614, 0.0023982361890375614, 0.0023982361890375614, 0.0023982361890375614, 0.0023982361890375614, 0.0023982361890375614, 0.0023982361890375614, 0.0023982361890375614, 0.0023982361890375614, 0.0023982361890375614, 0.0023982361890375614, 0.0023982361890375614, 0.0023982361890375614, 0.0023982361890375614, 0.0023982361890375614, 0.0023982361890375614, 0.0023982361890375614, 0.0023982361890375614, 0.0023982361890375614, 0.0023982361890375614, 0.0023982361890375614, 0.0023982361890375614, 0.0023982361890375614, 0.0023982361890375614, 0.0023982361890375614, 0.0023982361890375614, 0.0023982361890375614, 0.0023982361890375614, 0.0023982361890375614, 0.0023982361890375614, 0.0023982361890375614, 0.0023982361890375614, 0.0023982361890375614, 0.0023982361890375614, 0.0023982361890375614, 0.0023982361890375614, 0.0023982361890375614, 0.0023982361890375614, 0.0023982361890375614, 0.0023982361890375614, 0.0023982361890375614, 0.0023982361890375614, 0.0023982361890375614, 0.0023982361890375614, 0.0023982361890375614, 0.0023982361890375614, 0.0023982361890375614, 0.0023982361890375614, 0.0023982361890375614, 0.0023982361890375614, 0.0023982361890375614, 0.0023982361890375614, 0.0023982361890375614, 0.0023982361890375614, 0.0023982361890375614, 0.0023982361890375614, 0.0023982361890375614, 0.0023982361890375614, 0.0023982361890375614, 0.0023982361890375614, 0.0023982361890375614, 0.0023982361890375614, 0.0023982361890375614, 0.0023982361890375614, 0.0023982361890375614, 0.0023982361890375614, 0.0023982361890375614, 0.0023982361890375614, 0.0023982361890375614, 0.0023982361890375614, 0.0023982361890375614, 0.0023982361890375614, 0.0023982361890375614, 0.0023982361890375614, 0.0023982361890375614, 0.0023982361890375614, 0.0023982361890375614, 0.0023982361890375614, 0.0023982361890375614, 0.0023982361890375614, 0.0023982361890375614, 0.0023982361890375614, 0.0023982361890375614, 0.0023982361890375614, 0.0023982361890375614, 0.0023982361890375614, 0.0023982361890375614, 0.0023982361890375614, 0.0023982361890375614, 0.0023982361890375614, 0.0023982361890375614, 0.0023982361890375614, 0.0023982361890375614, 0.0023982361890375614, 0.0023982361890375614, 0.0023982361890375614, 0.0023982361890375614, 0.0023982361890375614, 0.0023982361890375614, 0.0023982361890375614, 0.0023982361890375614, 0.0023982361890375614, 0.0023982361890375614, 0.0023982361890375614, 0.0023982361890375614, 0.0023982361890375614, 0.0023982361890375614, 0.0023982361890375614, 0.0023982361890375614, 0.0023982361890375614, 0.0023982361890375614, 0.0023982361890375614, 0.0023982361890375614, 0.0023982361890375614, 0.0023982361890375614, 0.0023982361890375614, 0.0023982361890375614, 0.0023982361890375614, 0.0023982361890375614, 0.0023982361890375614, 0.0023982361890375614, 0.0023982361890375614, 0.0023982361890375614, 0.0023982361890375614, 0.0023982361890375614, 0.0023982361890375614, 0.0023982361890375614, 0.0023982361890375614, 0.0023982361890375614, 0.0023982361890375614, 0.0023982361890375614, 0.0023982361890375614, 0.0023982361890375614, 0.0023982361890375614, 0.0023982361890375614, 0.0023982361890375614, 0.0023982361890375614, 0.0023982361890375614, 0.0023982361890375614, 0.0023982361890375614, 0.0023982361890375614, 0.0023982361890375614, 0.0023982361890375614, 0.0023982361890375614, 0.0023982361890375614, 0.0023982361890375614, 0.0023982361890375614, 0.0023982361890375614, 0.0023982361890375614, 0.0023982361890375614, 0.0023982361890375614, 0.0023982361890375614, 0.0023982361890375614, 0.0023982361890375614, 0.0023982361890375614, 0.0023982361890375614, 0.0023982361890375614, 0.0023982361890375614, 0.0023982361890375614, 0.0023982361890375614, 0.0023982361890375614, 0.0023982361890375614, 0.0023982361890375614, 0.0023982361890375614, 0.0023982361890375614, 0.0023982361890375614, 0.0023982361890375614, 0.0023982361890375614, 0.0023982361890375614, 0.0023982361890375614, 0.0023982361890375614, 0.0023982361890375614, 0.0023982361890375614, 0.0023982361890375614, 0.0023982361890375614, 0.0023982361890375614, 0.0023982361890375614, 0.0023982361890375614], \"Term\": [\"food\", \"room\", \"vegas\", \"night\", \"buffet\", \"restaurant\", \"hotel\", \"burger\", \"line\", \"price\", \"chicken\", \"drink\", \"meat\", \"pizza\", \"dinner\", \"dessert\", \"breakfast\", \"server\", \"menu\", \"customer\", \"sandwich\", \"strip\", \"fry\", \"lunch\", \"water\", \"show\", \"flavor\", \"dish\", \"steak\", \"friend\", \"room\", \"hotel\", \"strip\", \"casino\", \"pool\", \"check\", \"view\", \"floor\", \"stay\", \"front_desk\", \"elevator\", \"guest\", \"suite\", \"walk\", \"king\", \"light\", \"wall\", \"phone\", \"shop\", \"complaint\", \"window\", \"sleep\", \"upgrade\", \"bed\", \"towel\", \"ticket\", \"offer\", \"city\", \"move\", \"york\", \"morning\", \"line\", \"party\", \"hand\", \"airport\", \"slice\", \"guy\", \"security\", \"head\", \"sausage\", \"woman\", \"number\", \"story\", \"hallway\", \"watch\", \"piece\", \"order\", \"crust\", \"crispy\", \"good\", \"con\", \"hate\", \"bar\", \"cover\", \"eye\", \"pro\", \"marquee\", \"member\", \"process\", \"truffle_frie\", \"truffle\", \"food\", \"restaurant\", \"raman\", \"talk\", \"seating\", \"appetite\", \"struggle\", \"giada\", \"soup\", \"lobster\", \"butter\", \"potato\", \"mushroom\", \"pancake\", \"presentation\", \"gravy\", \"birthday\", \"spice\", \"disappoint\", \"spicy\", \"anniversary\", \"curry\", \"salt\", \"anime\", \"split\", \"local\", \"owner\", \"forgot\", \"recipe\", \"cook\", \"salmon\", \"type\", \"tender\", \"ingredient\", \"rib\", \"resort\", \"brisket\", \"plan\", \"turkey\", \"valet\", \"dinner\", \"server\", \"steak\", \"reservation\", \"plate\", \"salad\", \"bread\", \"wine\", \"dining\", \"appetizer\", \"kind\", \"cocktail\", \"kitchen\", \"enjoy\", \"downtown\", \"finish\", \"meal\", \"bowl\", \"date\", \"bone\", \"waste\", \"refill\", \"dine\", \"recommendation\", \"favorite\", \"mussel\", \"donut\", \"choose\", \"tray\", \"purpose\", \"flavor\", \"dish\", \"sauce\", \"taste\", \"item\", \"beef\", \"shrimp\", \"rice\", \"style\", \"chip\", \"noodle\", \"chance\", \"hype\", \"opinion\", \"texture\", \"give\", \"broth\", \"goodness\", \"duck\", \"beef_wellington\", \"tasty\", \"shell\", \"word\", \"suck\", \"state\", \"imagine\", \"paper\", \"buttery\", \"peanut\", \"effort\", \"cheese\", \"mind\", \"night\", \"friend\", \"club\", \"group\", \"music\", \"lot\", \"space\", \"girl\", \"crowd\", \"evening\", \"smoking\", \"dance\", \"avoid\", \"haha\", \"furniture\", \"slider\", \"child\", \"decision\", \"impression\", \"block\", \"understand\", \"excuse\", \"cabana\", \"bother\", \"slide\", \"hip_hop\", \"tooth\", \"dude\", \"winter\", \"march\", \"vegas\", \"money\", \"trip\", \"day\", \"level\", \"property\", \"chair\", \"find\", \"caesar\", \"vibe\", \"environment\", \"luxury\", \"prime_rib\", \"problem\", \"hard_rock\", \"clam\", \"hole\", \"diner\", \"inconvenience\", \"range\", \"outlet\", \"fall\", \"monte_carlo\", \"monorail\", \"reputation\", \"fiance\", \"imperial_palace\", \"death\", \"refund\", \"caesar_palace\", \"price\", \"breakfast\", \"menu\", \"lunch\", \"portion\", \"waiter\", \"visit\", \"paris\", \"dollar\", \"ketchup\", \"computer\", \"manager\", \"moment\", \"morning\", \"pancake\", \"potato\", \"butter\", \"gravy\", \"mashed_potatoe\", \"omelet\", \"giada\", \"salmon\", \"combo\", \"vegan\", \"waitress\", \"owner\", \"eggs_benedict\", \"presentation\", \"signature\", \"muffin\", \"soup\", \"birthday\", \"tender\", \"rib\", \"brisket\", \"spicy\", \"resort\", \"mushroom\", \"chicken\", \"town\", \"waffle\", \"wynn\", \"life\", \"cost\", \"entree\", \"detail\", \"slot\", \"note\", \"turn\", \"biscuit\", \"mall\", \"cafe\", \"heart\", \"mine\", \"heat\", \"country\", \"benedict\", \"budget\", \"wedding\", \"encore\", \"joint\", \"doubt\", \"gentleman\", \"scene\", \"meet\", \"complain\", \"bank\", \"circus_circus\", \"sandwich\", \"atmosphere\", \"table\", \"choice\", \"aria\", \"share\", \"case\", \"margarita\", \"host\", \"nachos\", \"min\", \"pepper\", \"update\", \"theme\", \"bring\", \"bomb\", \"buddy\", \"suggestion\", \"pickle\", \"steakhouse\", \"parent\", \"refrigerator\", \"sample\", \"action\", \"conference\", \"travel\", \"coffee_maker\", \"traffic\", \"cigarette_smoke\", \"lamp\", \"meat\", \"bellagio\", \"family\", \"chef\", \"patio\", \"pasta\", \"smoke\", \"expectation\", \"wing\", \"rating\", \"fruit\", \"ton\", \"surprise\", \"photo\", \"salsa\", \"pastry\", \"rate\", \"class\", \"dress\", \"rush\", \"monta\", \"decoration\", \"salty\", \"spending\", \"forget\", \"noon\", \"hang\", \"pineapple\", \"drain\", \"carne_asada\", \"drink\", \"water\", \"shower\", \"lady\", \"bottle\", \"amenity\", \"entrance\", \"counter\", \"attention\", \"issue\", \"carpet\", \"wifi\", \"center\", \"hair\", \"housekeeping\", \"moist\", \"establishment\", \"entertainment\", \"closet\", \"maintenance\", \"maid\", \"nightmare\", \"microwave\", \"marble\", \"ride\", \"cell_phone\", \"makeup\", \"souvenir\", \"yell\", \"vent\", \"buffet\", \"pizza\", \"station\", \"crab\", \"crab_leg\", \"desert\", \"cake\", \"corn\", \"hash\", \"beverage\", \"ribeye\", \"worth\", \"finger\", \"soup\", \"lamb\", \"margherita\", \"wicked_spoon\", \"ingredient\", \"creme_brulee\", \"salmon\", \"champagne\", \"bianco\", \"topping\", \"bone_marrow\", \"macaron\", \"caviar\", \"pizzeria\", \"carving_station\", \"shrimp_cocktail\", \"salt\", \"stomach\", \"offering\", \"strawberry\", \"rib\", \"highlight\", \"potato\", \"pancake\", \"presentation\", \"tender\", \"resort\", \"butter\", \"roll\", \"fish\", \"bite\", \"tower\", \"rest\", \"mouth\", \"ambiance\", \"management\", \"idea\", \"planet_hollywood\", \"folk\", \"juice\", \"event\", \"alcohol\", \"pass\", \"cash\", \"starbuck\", \"back\", \"joke\", \"walking\", \"wallet\", \"fill\", \"mess\", \"bun\", \"shirt\", \"balcony\", \"majority\", \"rude\", \"name\", \"distance\", \"parking\", \"weekend\", \"beer\", \"deal\", \"decor\", \"employee\", \"game\", \"list\", \"hostess\", \"miss\", \"treat\", \"worker\", \"stick\", \"comment\", \"team\", \"mimosa\", \"season\", \"peak\", \"sport\", \"working\", \"cashier\", \"respect\", \"circus\", \"sirloin\", \"valet\", \"dealer\", \"groupon\", \"luggage\", \"roulette\", \"mitch\", \"flight\", \"play\", \"resort\", \"lobby\", \"birthday\", \"soup\", \"potato\", \"butter\", \"burger\", \"fry\", \"bacon\", \"egg\", \"rock\", \"farm\", \"brother\", \"experience\", \"school\", \"meatball\", \"special\", \"cheddar\", \"mozzarella\", \"cheesecake\", \"tree\", \"gold_standard\", \"prop\", \"orange_juice\", \"prosciutto\", \"risk\", \"sour_cream\", \"accident\", \"cheese\", \"shake\", \"onion_ring\", \"patty\", \"shake_shack\", \"bachi\", \"onion\", \"jalapeno\", \"mushroom\", \"potato\", \"dessert\", \"coffee\", \"seafood\", \"brunch\", \"glass\", \"chocolate\", \"oyster\", \"gelato\", \"buck\", \"crepe\", \"pricy\", \"account\", \"sweet\", \"protein\", \"cromwell\", \"vinegar\", \"subpar\", \"strawberry\", \"salmon\", \"creme_brulee\", \"lamb\", \"macaroon\", \"macaron\", \"champagne\", \"cream\", \"soup\", \"berry\", \"bouillabaisse\", \"lobster\", \"sashimi\", \"butter\", \"scallop\", \"bouchon\", \"rib\", \"potato\", \"birthday\", \"veggie\", \"spicy\", \"show\", \"work\", \"seat\", \"bartender\", \"change\", \"card\", \"request\", \"stage\", \"picture\", \"hold\", \"degree\", \"conversation\", \"stand\", \"answer\", \"concert\", \"energy\", \"valley\", \"message\", \"stranger\", \"weight\", \"lock\", \"disgust\", \"recall\", \"amount\", \"carnival\", \"knee\", \"nonsense\", \"arm\", \"beatle\", \"cirque_show\", \"taco\", \"pork\", \"attentive\", \"perfection\", \"construction\", \"lemon\", \"ambience\", \"mission\", \"studio\", \"fare\", \"tortilla\", \"blanket\", \"letter\", \"promise\", \"shout\", \"mmmm\", \"lengua\", \"guacamole\", \"pozole\", \"carnita\", \"spicy\", \"bean\", \"lime\", \"horchata\", \"brain\", \"tripe\", \"ordering\", \"suadero\", \"cabeza\", \"pastor\", \"tender\", \"cuisine\", \"lobster\", \"soup\", \"charge\", \"care\", \"resort_fee\", \"vacation\", \"comp\", \"checking\", \"apology\", \"tram\", \"soap\", \"reward\", \"people\", \"deposit\", \"resort\", \"bag\", \"checkout\", \"dime\", \"shuttle\", \"service\", \"valet\", \"machine\", \"credit\", \"linq\", \"luck\", \"noise\", \"kiosk\", \"resolve\", \"queen\", \"vdara\", \"notice\", \"device\", \"situation\", \"sheet\", \"smell\", \"month\", \"flight\", \"play\", \"customer\", \"sign\", \"bunch\", \"omelette\", \"smile\", \"pillow\", \"second\", \"direction\", \"comforter\", \"coupon\", \"owner\", \"response\", \"badge\", \"ceasar\", \"contact\", \"sink\", \"assistant\", \"contract\", \"guest_relation\", \"sean\", \"safety\", \"agreement\", \"dime\", \"honor\", \"service\", \"atrium\", \"discount\", \"face\", \"slimy\", \"lori\", \"cosmopolitan\", \"bill\", \"personality\", \"rule\", \"greet\", \"tip\", \"playing\", \"lobby\", \"bath\", \"valet\", \"pancake\", \"potato\", \"resort\", \"butter\", \"booth\", \"lounge\", \"question\", \"machine\", \"birthday\", \"smell\", \"soup\", \"hideout\", \"ribs\", \"grapevine\", \"heah\", \"looong\", \"prowl\", \"uptight\", \"woonam\", \"fluffly\", \"accosting\", \"professionaly\", \"hawker\", \"geee\", \"diggin\", \"distinguishe\", \"itune\", \"puppetry\", \"crouche\", \"ermahgerd\", \"bippity\", \"chillin\", \"bellow\", \"riva\", \"blane\", \"cocoa_espresso\", \"elyx\", \"ennui\", \"evolution\", \"grassroot\", \"harwell\", \"jake\", \"cluckery\", \"czzzech\", \"outttt\", \"sammiche\", \"arrivederci\", \"biacno\", \"cocktail_waitresses\", \"middling\", \"rideshare\", \"trams\", \"arugila\", \"afficionado\", \"dismissive\", \"yellow\", \"garlic_prawn\", \"pad_kee\", \"praising\", \"cramping\", \"dinguse\", \"see\", \"altercation\", \"spitting\", \"floral\", \"samedi\", \"sert\", \"surprenant\", \"thaa\", \"chambre\", \"divulge\", \"hahha\", \"bcuz\", \"vien\", \"homelessness\", \"rathole\", \"teleport\", \"bourbon_ancho\", \"smokestack\", \"mel\", \"explative\", \"flour_tortilla\", \"bff\", \"rialto\", \"grammar\", \"gtmvia\", \"zxmow\", \"randomness\", \"sacrosanct\", \"halter\", \"belliago\", \"personel\", \"flower_arrangement\", \"trespassing\", \"beyonca\", \"mlall\", \"philistine\", \"hitachino\", \"portofino\", \"eight\", \"obligation\", \"expediter\", \"thoughi\", \"life_guard\", \"newyork\", \"mmmmmmmmm\", \"betcha\", \"laxative\", \"refried_bean\", \"absorption\", \"behavoir\", \"trout_almondine\", \"crest\", \"defeat\", \"equation\", \"everyone\", \"federale\", \"floss\", \"icestorm\", \"snowstorm\", \"tarmac\", \"corned_beef_hash\", \"glow\", \"drumming\", \"crusty\", \"saunter\", \"skank\", \"mocktail\", \"onus\", \"conclution\", \"jovanna\", \"brussell\", \"effing\", \"insomnia\", \"midget\", \"backseat\", \"dentist\", \"gyukaku\", \"reminding\", \"cuon\", \"gonna_lie\", \"shore\", \"bulking\", \"ensuring\", \"remover\", \"letdown\", \"buncha\", \"goodie\", \"nightie\", \"fettucine\", \"curfew\", \"deff\", \"false_advertisement\", \"christine\", \"sammy\", \"constancy\", \"sierra\", \"bandit\", \"rockin\", \"stash\", \"troope\", \"rapport\", \"shorter\", \"blonde\", \"clicha\", \"gawk\", \"handshake\", \"prick\", \"colddddd\", \"desktop\", \"illuminate\", \"bling\", \"saint\", \"cannoli\", \"celine\", \"herb_aioli\", \"excalber\", \"murphy\", \"oaktown\", \"scantily_clad_woman\", \"pageant\", \"advert\", \"mongo\", \"buku\", \"climbing\", \"creative\", \"convenient\", \"twig\", \"brein\", \"hammered_pork\", \"jumper\", \"kerie\", \"shocker\", \"vouche\", \"fort\", \"rhone\", \"chevy\", \"survival\", \"stipulation\", \"canon\", \"orginal\", \"marvi\", \"charging_port\", \"goodfella\", \"eugene\", \"recycling\", \"surplus\", \"bouile\", \"victoria\", \"throwing\", \"incompetence\", \"hinder\", \"adjoin\", \"chillis\", \"planing\", \"crawler\", \"savvy\", \"cleanup\", \"noice\", \"elliot\", \"fattier\", \"anderson\", \"baaaaaaaa\", \"carnage\", \"chapman\", \"comrade\", \"fisherman\", \"anahiem\", \"grunt\", \"hittin\", \"plopping\", \"prosperity\", \"scarf\", \"scholarship\", \"shriek\", \"azteca\", \"roku\", \"playboy\", \"drivers_license\", \"webtv\", \"statham\", \"pullover\", \"westminster\", \"mediocare\", \"orphanage\", \"dimming\", \"terrace_suite\", \"californian\", \"public\", \"random\", \"crsipy\", \"fussing\", \"winfrey\", \"chateaubriand\", \"creme_bra_la\", \"stumptown\", \"crispiness\", \"gosh\", \"daresay\", \"cabby\", \"cache\", \"hitch\", \"logging\", \"reduce\", \"tldr\", \"albertson\", \"eyebrow\", \"hamachi_kama\", \"ratty\", \"slater\", \"pommes_frite\", \"previously_frozen\", \"clubbin\", \"loungy\", \"lotsa\", \"midnite\", \"overcharge\", \"redhead\", \"monty\", \"chicharone\", \"prao\", \"bothersome\", \"cinnabon\", \"spokane\", \"lightsare\", \"smithereen\", \"mailing\", \"dasani\", \"gucci\", \"potroast\", \"prada\", \"retailer\", \"borderline\", \"red_wine_reduction\", \"skid\", \"wicket_spoon\", \"whatttttttt\", \"montuleno\", \"marissa\", \"huevos\", \"boomin\", \"plutocrat\", \"suflet\", \"thick_wavy_noodle\", \"gabby\", \"afterware\", \"baklava\", \"ceveiche\", \"crossant\", \"debate\", \"fushion\", \"maccaron\", \"pipet\", \"continent\", \"minority\", \"flinstone\", \"exceitement\", \"marry\", \"obsession\", \"suprise\", \"musk\", \"potpourri\", \"rear\", \"faire\", \"medieval_theme\", \"chijire\", \"cavier\", \"messiness\", \"hugeeee\", \"servicer\", \"medicine\", \"sesame_bun\", \"hong_kong\", \"manufacture\", \"staurday\", \"souffle\", \"chicest\", \"tableau\", \"winston\", \"captain\", \"rarity\", \"twenty\", \"yasss\", \"honey_mustard\", \"quic\", \"vary\", \"herby\", \"kiaw\", \"reccommend\", \"yvonne\", \"handler\", \"strop\", \"mainstreet\", \"manufacturer\", \"warranty\", \"thickness\", \"burgasm\", \"unreal\", \"terine\", \"indisiciveness\", \"tubby\", \"excaliber\", \"cav\", \"final\", \"minty\", \"naan\", \"prevalent\", \"adam\", \"trace\", \"tribble\", \"liliana\", \"carbibe\", \"onda\", \"cannon\", \"worship\", \"angelo\", \"frescos\", \"comon\", \"manwhore\", \"misunderstood\", \"password\", \"tawt\", \"bonaventure\", \"wannabee\", \"tesla\", \"portlandia\", \"tenant\", \"wherewithal\", \"bathtime\", \"vist\", \"blinding\", \"bacchanal\", \"bungalow\", \"generosity\", \"palin\", \"coversation\", \"pal\", \"catastrophe\", \"jamming\", \"shennanigan\", \"yrs_ago\", \"paring\", \"expiration\", \"hipe\", \"confront\", \"srirachi\", \"aand\", \"bibim\", \"ivehad\", \"oinion\", \"topchef\", \"hypnotism\", \"genova\", \"blackbird\", \"warner\", \"stracciatella\", \"condom\", \"geeky\", \"chauffeur\", \"lawrence\", \"lean\", \"bruxie\", \"demise\", \"hardwood\", \"palladian\", \"bene\", \"estiatorio\", \"milos\", \"reap\", \"rewards_program\", \"panne\", \"flourescent\", \"sleeveless_shirt\", \"slave\", \"assessment\", \"barchetto\", \"buyhnnkjmjbnvwi\", \"cyrus\", \"evlg\", \"kpha\", \"marsala_meatball\", \"miley\", \"vdxx\", \"burratta\", \"paardebloem\", \"samuel\", \"palline\", \"decker\", \"cucumelon\", \"happening\", \"adamant\", \"august\", \"mortadella\", \"pizzete\", \"alaskan_king_crab\", \"turd\", \"tshirt\", \"candied_apple\", \"manny\", \"boulder\", \"modelo\", \"scamming\", \"ahhh\", \"eucalyptus\", \"final_thought\", \"fleur\", \"flickr\", \"plunge\", \"redwood\", \"sheesh\", \"insanity\", \"otherside\", \"artichocke\", \"bule\", \"enhancement\", \"smorgasboard\", \"mojitas\", \"snoozer\", \"bananas_foster_crepe\", \"obv\", \"intestine\", \"japchae\", \"mystique\", \"roni\", \"dood\", \"mikey\", \"cajon\", \"affinity\", \"black\", \"greenery\", \"griswald\", \"jury\", \"miser\", \"kansa\", \"coffin\", \"ratha\", \"fois_gra\", \"worm\", \"flimsy\", \"placs\", \"shank\", \"elevating\", \"lessen\", \"stomachache\", \"griddled_mozzarella\", \"critique\", \"taking\", \"smoke_shack\", \"oysters_rockefeller\", \"cinammon\", \"potatote\", \"cigarette_smell\", \"red_pepper_flakes\", \"potty\", \"starvation\", \"inspect\", \"concourse\", \"glute\", \"restaurateur\", \"negra\", \"freak\", \"rented_cabana\", \"breky\", \"eggsult\", \"secreat\", \"instrument\", \"brioche_toast\", \"yawn\", \"bottomless_champagne\", \"varitie\", \"bronze\", \"godesse\", \"berkshire\", \"justifie\", \"disclosure\", \"cooker\", \"jalapeno_grit\", \"montigue\", \"fried_leek\", \"quirky\", \"kate\", \"burps\", \"shaped_couch\", \"jesus\", \"steep\", \"dope\", \"elope\", \"employment\", \"horton\", \"barcode\", \"pole_dancer\", \"slit\", \"cable_channels\", \"ping_pong\", \"standpoint\", \"wagyu_gyoza\", \"starz\", \"accordion\", \"capital\", \"positivity\", \"kiwi_lemonade\", \"huachinango\", \"abode\", \"cellphone\", \"legacy\", \"ongoing\", \"shibuya\", \"wasabi_mayo\", \"kabocha\", \"abados\", \"flesh\"], \"Total\": [44739.0, 44254.0, 21277.0, 16969.0, 14159.0, 17538.0, 26317.0, 12267.0, 12799.0, 11362.0, 9075.0, 8112.0, 7755.0, 7198.0, 8933.0, 6621.0, 7945.0, 8034.0, 7153.0, 4733.0, 6505.0, 12217.0, 5584.0, 6328.0, 5591.0, 4831.0, 6190.0, 6066.0, 5903.0, 5435.0, 44254.44921875, 26317.759765625, 12217.50390625, 9279.9140625, 9136.34375, 8149.86767578125, 6095.03369140625, 5601.556640625, 4250.388671875, 3587.5244140625, 2868.808837890625, 2838.717041015625, 2737.559814453125, 2200.303955078125, 2007.5126953125, 1884.8377685546875, 1854.95751953125, 1680.8529052734375, 1651.9276123046875, 1635.3919677734375, 1478.8646240234375, 1407.131591796875, 1406.30419921875, 1400.3251953125, 1378.280517578125, 1263.3197021484375, 1255.635498046875, 1254.9500732421875, 1251.287109375, 1129.898681640625, 3253.0322265625, 12799.724609375, 4571.37451171875, 2870.63525390625, 2852.23974609375, 2342.91455078125, 2070.24951171875, 2002.9486083984375, 1672.4188232421875, 1611.9915771484375, 1423.650390625, 1278.86572265625, 1237.471923828125, 1211.781982421875, 1146.32373046875, 1119.542236328125, 1113.1878662109375, 1100.362060546875, 960.8975219726562, 834.0455322265625, 803.9365234375, 780.1983642578125, 770.1524047851562, 731.3793334960938, 705.1727294921875, 702.6127319335938, 699.9241333007812, 684.634033203125, 656.1989135742188, 654.5175170898438, 633.9747924804688, 44739.6640625, 17538.1875, 1655.5069580078125, 933.373291015625, 515.51513671875, 305.49462890625, 45.464012145996094, 1.421590805053711, 1.4216253757476807, 1.4216015338897705, 1.4216240644454956, 1.4216340780258179, 1.4216028451919556, 1.4216084480285645, 1.4215987920761108, 1.421597957611084, 1.4216251373291016, 1.4215962886810303, 1.4215928316116333, 1.4216148853302002, 1.4215846061706543, 1.421587586402893, 1.4215956926345825, 1.4215742349624634, 1.4215943813323975, 1.4215866327285767, 1.4215905666351318, 1.4215853214263916, 1.4215761423110962, 1.4215937852859497, 1.421624779701233, 1.4215952157974243, 1.4216254949569702, 1.421596646308899, 1.4216079711914062, 1.4216290712356567, 1.4216090440750122, 1.421600580215454, 1.4215962886810303, 1.4216095209121704, 8933.7099609375, 8034.4501953125, 5903.40234375, 4345.2509765625, 4199.630859375, 4117.27197265625, 3923.07275390625, 2603.104736328125, 2599.335693359375, 2593.00146484375, 2515.302734375, 1453.3370361328125, 1329.9349365234375, 1236.0750732421875, 1197.5162353515625, 1133.9061279296875, 1114.2294921875, 1070.189208984375, 1025.7022705078125, 974.4826049804688, 871.1273803710938, 860.4771728515625, 610.40185546875, 598.6100463867188, 533.156982421875, 410.9363098144531, 336.14154052734375, 296.67462158203125, 230.31443786621094, 176.72280883789062, 6190.0390625, 6066.93359375, 5293.68994140625, 4534.98583984375, 3179.124755859375, 2888.7744140625, 2465.055419921875, 2143.01513671875, 2043.831298828125, 1835.177978515625, 1600.49951171875, 1278.3275146484375, 1186.3863525390625, 976.4659423828125, 950.5831909179688, 906.9180908203125, 775.131103515625, 670.645263671875, 664.1724853515625, 631.7720336914062, 609.6498413085938, 576.1727294921875, 469.5657043457031, 396.2303466796875, 373.3322448730469, 372.1253356933594, 352.7216796875, 317.3793029785156, 287.6531982421875, 283.26556396484375, 5249.39990234375, 1869.394287109375, 16969.783203125, 5435.65283203125, 4567.23681640625, 4272.6259765625, 2795.906494140625, 2742.814208984375, 2090.407958984375, 1680.225341796875, 1429.333740234375, 1329.894287109375, 1324.58544921875, 707.5501098632812, 669.6044311523438, 629.5947875976562, 523.8311767578125, 485.85162353515625, 463.0376281738281, 430.2067565917969, 429.2483215332031, 418.59344482421875, 404.1367492675781, 376.75726318359375, 359.3340759277344, 328.058837890625, 307.45111083984375, 298.8038330078125, 290.8656921386719, 290.78363037109375, 271.5374450683594, 251.00372314453125, 21277.03515625, 5283.759765625, 5257.52783203125, 3068.94091796875, 1756.484130859375, 1709.4561767578125, 1351.3607177734375, 1326.154052734375, 1066.98876953125, 1066.8548583984375, 631.1790771484375, 609.3963623046875, 583.5789794921875, 545.8236083984375, 540.5302734375, 435.0510559082031, 399.35980224609375, 372.9753112792969, 361.3904113769531, 325.7130432128906, 309.2012023925781, 294.56744384765625, 289.61322021484375, 269.86163330078125, 244.77200317382812, 215.55267333984375, 187.4094696044922, 169.56639099121094, 157.16705322265625, 128.8491973876953, 11362.79296875, 7945.07568359375, 7153.2080078125, 6328.427734375, 4783.751953125, 3880.86767578125, 3848.69970703125, 1323.323486328125, 1095.98583984375, 272.5167541503906, 246.2133331298828, 119.26392364501953, 75.24928283691406, 3253.0322265625, 1.4216084480285645, 1.4216340780258179, 1.4216240644454956, 1.421597957611084, 1.421590805053711, 1.421578049659729, 1.421590805053711, 1.421624779701233, 1.4215847253799438, 1.4215916395187378, 1.421587586402893, 1.4215905666351318, 1.4215824604034424, 1.4215987920761108, 1.4215880632400513, 1.42157781124115, 1.4216253757476807, 1.4216251373291016, 1.4216254949569702, 1.4216079711914062, 1.4216090440750122, 1.4216148853302002, 1.4216290712356567, 1.4216028451919556, 9075.70703125, 3197.88330078125, 3142.953125, 3080.66357421875, 2201.318115234375, 2028.96435546875, 1587.709716796875, 1011.4205932617188, 984.1324462890625, 983.3875122070312, 967.1854858398438, 874.1568603515625, 847.0607299804688, 825.4240112304688, 808.6986694335938, 777.4191284179688, 767.8314208984375, 754.8568115234375, 730.7190551757812, 712.9519653320312, 603.7623291015625, 597.2489624023438, 531.2345581054688, 486.7052001953125, 484.44317626953125, 472.010009765625, 415.98797607421875, 380.7598876953125, 372.7370910644531, 349.69659423828125, 6505.65869140625, 4303.4814453125, 3647.899658203125, 3487.8232421875, 2076.224853515625, 1548.8602294921875, 1146.767822265625, 1029.860107421875, 941.5145874023438, 928.4038696289062, 919.311279296875, 755.5372924804688, 682.65478515625, 628.1939086914062, 610.4471435546875, 600.46533203125, 587.6513671875, 584.5508422851562, 564.3527221679688, 546.0475463867188, 505.21429443359375, 503.5960693359375, 493.2296447753906, 490.21234130859375, 466.3956298828125, 446.7907409667969, 395.7652587890625, 390.3043518066406, 375.3346252441406, 252.58168029785156, 7755.8447265625, 3911.492431640625, 3334.41796875, 1584.554931640625, 1501.047607421875, 1419.1654052734375, 1290.583984375, 1186.4581298828125, 1175.4862060546875, 1008.9400024414062, 923.1455688476562, 888.525390625, 860.189208984375, 800.6211547851562, 697.5022583007812, 675.1008911132812, 670.444091796875, 626.08740234375, 605.8534545898438, 575.69091796875, 480.6203308105469, 458.2286071777344, 435.07391357421875, 397.3963317871094, 393.3937072753906, 383.5347595214844, 379.74700927734375, 357.4217224121094, 344.3384094238281, 281.2055969238281, 8112.40087890625, 5591.81494140625, 3554.892822265625, 1931.74169921875, 1605.4219970703125, 1169.349853515625, 1160.0712890625, 1046.501953125, 971.5410766601562, 939.2448120117188, 937.4223022460938, 931.7979736328125, 926.7243041992188, 797.7608032226562, 770.1307373046875, 760.2716064453125, 758.51220703125, 678.9231567382812, 474.3170166015625, 472.261474609375, 365.7964172363281, 331.374267578125, 278.4001159667969, 273.9745178222656, 139.12271118164062, 136.43045043945312, 135.7484588623047, 127.45711517333984, 104.84136962890625, 56.765384674072266, 14159.8623046875, 7198.2802734375, 2331.099365234375, 1550.76904296875, 1527.494384765625, 1206.3570556640625, 1137.470947265625, 1017.09765625, 826.57177734375, 485.6478576660156, 354.3652648925781, 293.496337890625, 160.48782348632812, 1.4216253757476807, 1.421598196029663, 1.4215772151947021, 1.4215812683105469, 1.421596646308899, 1.4215880632400513, 1.421624779701233, 1.421591877937317, 1.421574592590332, 1.4215961694717407, 1.4215798377990723, 1.4215818643569946, 1.4215800762176514, 1.4215764999389648, 1.4215770959854126, 1.4215809106826782, 1.4215956926345825, 1.4215906858444214, 1.421580195426941, 1.421593427658081, 1.4216079711914062, 1.421586275100708, 1.4216340780258179, 1.4216084480285645, 1.4215987920761108, 1.4216254949569702, 1.4216290712356567, 1.4216240644454956, 3106.998779296875, 3031.8251953125, 2313.863525390625, 1958.11572265625, 1864.4273681640625, 1668.1019287109375, 1562.8841552734375, 1044.6060791015625, 1022.246337890625, 869.3095092773438, 829.9847412109375, 829.1461791992188, 819.4505615234375, 767.424560546875, 746.2819213867188, 671.2044677734375, 671.1263427734375, 608.8775634765625, 571.9152221679688, 490.30572509765625, 486.5849914550781, 477.38690185546875, 437.027099609375, 414.3494567871094, 393.5917053222656, 347.2477722167969, 341.49566650390625, 333.72515869140625, 294.40167236328125, 255.89462280273438, 3989.75732421875, 3636.031005859375, 3454.052734375, 2982.68310546875, 2767.66357421875, 1947.9371337890625, 1626.4559326171875, 1587.3399658203125, 1577.71337890625, 1102.216552734375, 820.8011474609375, 710.92431640625, 672.059326171875, 595.3484497070312, 548.4573974609375, 545.4862060546875, 516.218017578125, 299.8548278808594, 297.8583984375, 287.90582275390625, 251.8736572265625, 219.09642028808594, 157.9809112548828, 78.3785400390625, 1.4216095209121704, 1.421589732170105, 1.4215812683105469, 1.421587586402893, 1.4215741157531738, 1.4215701818466187, 1.4215995073318481, 1.421596646308899, 1.4216290712356567, 1.4216030836105347, 1.4216251373291016, 1.4216253757476807, 1.4216340780258179, 1.4216240644454956, 12267.98828125, 5584.43994140625, 2654.744384765625, 1602.7269287109375, 1115.9794921875, 657.2298583984375, 640.5972900390625, 575.8626098632812, 573.6337280273438, 464.2863464355469, 324.00238037109375, 313.27392578125, 284.53228759765625, 237.48484802246094, 223.00804138183594, 202.22976684570312, 188.08596801757812, 168.95596313476562, 145.97901916503906, 127.91951751708984, 119.87816619873047, 110.59866333007812, 5249.39990234375, 1.4215929508209229, 1.4215924739837646, 1.4215878248214722, 1.4215846061706543, 1.4215811491012573, 1.421595811843872, 1.4215799570083618, 1.4216028451919556, 1.4216340780258179, 6621.17041015625, 3542.619384765625, 3349.970703125, 2534.9609375, 2216.898193359375, 1975.185302734375, 1747.2103271484375, 1105.7041015625, 1084.4345703125, 1077.206787109375, 264.5735168457031, 243.9759063720703, 238.89340209960938, 172.129150390625, 103.01161193847656, 95.33687591552734, 85.06269836425781, 1.421593427658081, 1.421624779701233, 1.4215880632400513, 1.421598196029663, 1.4215797185897827, 1.4215818643569946, 1.421591877937317, 1.4215896129608154, 1.4216253757476807, 1.4215800762176514, 1.4215738773345947, 1.4216015338897705, 1.4215795993804932, 1.4216240644454956, 1.42159104347229, 1.421593427658081, 1.4216079711914062, 1.4216340780258179, 1.4216251373291016, 1.4215960502624512, 1.4216148853302002, 4831.2431640625, 3801.824951171875, 2444.238037109375, 1766.2628173828125, 1753.9600830078125, 1282.4315185546875, 988.2514038085938, 830.1759643554688, 769.7111206054688, 654.367919921875, 542.8778686523438, 526.8922119140625, 517.0982055664062, 438.3005676269531, 382.9440002441406, 246.49705505371094, 223.2700653076172, 159.73245239257812, 145.06976318359375, 125.12995910644531, 118.14881134033203, 94.89366149902344, 90.78129577636719, 83.24099731445312, 68.2430419921875, 44.47683334350586, 34.52892303466797, 14.03049087524414, 1.4215835332870483, 1.421579122543335, 3195.8583984375, 1794.802490234375, 1160.8837890625, 826.8629150390625, 589.2879028320312, 466.06365966796875, 453.9033508300781, 381.8231506347656, 373.1687316894531, 280.420654296875, 263.683349609375, 247.66329956054688, 210.20065307617188, 133.27133178710938, 69.34137725830078, 37.527854919433594, 1.4215786457061768, 1.4215803146362305, 1.4215750694274902, 1.4215754270553589, 1.4216148853302002, 1.421585202217102, 1.4215805530548096, 1.4215754270553589, 1.4215760231018066, 1.4215725660324097, 1.4215794801712036, 1.421571969985962, 1.4215725660324097, 1.4215714931488037, 1.4216254949569702, 1.4215856790542603, 1.4216015338897705, 1.4216253757476807, 2827.914306640625, 2006.2132568359375, 1787.4976806640625, 930.7968139648438, 767.7561645507812, 428.75250244140625, 389.9527282714844, 389.6426696777344, 262.7491455078125, 144.93739318847656, 31.46877670288086, 1.421583890914917, 1.4216290712356567, 1.4215887784957886, 1.4215786457061768, 1.4215794801712036, 1.421586275100708, 1.4215821027755737, 1.4216095209121704, 1.4216065406799316, 1.4215850830078125, 1.4215823411941528, 1.4215881824493408, 1.4215900897979736, 1.4215788841247559, 1.4215737581253052, 1.4215823411941528, 1.421585202217102, 1.4215947389602661, 1.421578288078308, 1.4215933084487915, 1.4215896129608154, 1.4216030836105347, 1.4215977191925049, 1.4215995073318481, 1.421596646308899, 4733.46435546875, 1659.3712158203125, 653.2003173828125, 556.52294921875, 541.6708374023438, 540.7999267578125, 412.0318603515625, 365.6308898925781, 131.96266174316406, 1.4215855598449707, 1.4215905666351318, 1.4215779304504395, 1.4215705394744873, 1.4215775728225708, 1.4215788841247559, 1.421598196029663, 1.4215731620788574, 1.421574592590332, 1.4215714931488037, 1.4215716123580933, 1.4215726852416992, 1.4215742349624634, 1.4215794801712036, 1.4215744733810425, 1.4215821027755737, 1.4215714931488037, 1.421584963798523, 1.4215947389602661, 1.4215699434280396, 1.42156982421875, 1.4215867519378662, 1.421576738357544, 1.4215738773345947, 1.4215773344039917, 1.421576976776123, 1.421586513519287, 1.4215790033340454, 1.4216030836105347, 1.4215803146362305, 1.4216095209121704, 1.4216084480285645, 1.4216340780258179, 1.4216290712356567, 1.4216240644454956, 1.4215905666351318, 1.4215960502624512, 1.4215924739837646, 1.4216065406799316, 1.4216251373291016, 1.4216030836105347, 1.4216253757476807, 1.421568512916565, 1.421568512916565, 1.421568512916565, 1.421568512916565, 1.421568512916565, 1.421568512916565, 1.421568512916565, 1.421568512916565, 1.421568512916565, 1.421568512916565, 1.421568512916565, 1.421568512916565, 1.421568512916565, 1.421568512916565, 1.421568512916565, 1.421568512916565, 1.421568512916565, 1.421568512916565, 1.421568512916565, 1.421568512916565, 1.421568512916565, 1.421568512916565, 1.421568512916565, 1.421568512916565, 1.421568512916565, 1.421568512916565, 1.421568512916565, 1.421568512916565, 1.421568512916565, 1.421568512916565, 1.4215689897537231, 1.421568512916565, 1.421568512916565, 1.421568512916565, 1.421568512916565, 1.421568512916565, 1.421568512916565, 1.421568512916565, 1.421568512916565, 1.421568512916565, 1.421568512916565, 1.421568512916565, 1.421568512916565, 1.4215688705444336, 1.421568512916565, 1.4215688705444336, 1.421568512916565, 1.421568512916565, 1.421568512916565, 1.421568512916565, 1.421568512916565, 1.421568512916565, 1.4215686321258545, 1.421568512916565, 1.421568512916565, 1.4215686321258545, 1.421568512916565, 1.421568512916565, 1.4215686321258545, 1.421568512916565, 1.421568751335144, 1.4215686321258545, 1.421568512916565, 1.421568512916565, 1.421568512916565, 1.421568512916565, 1.421568512916565, 1.421568512916565, 1.421568512916565, 1.421568512916565, 1.421568512916565, 1.421568512916565, 1.421568512916565, 1.421568512916565, 1.421568512916565, 1.421568512916565, 1.421568751335144, 1.421568512916565, 1.421568512916565, 1.421568512916565, 1.421568512916565, 1.421568512916565, 1.421568512916565, 1.421568512916565, 1.421568512916565, 1.421568512916565, 1.421568512916565, 1.421568512916565, 1.421569585800171, 1.4215688705444336, 1.421569585800171, 1.421568512916565, 1.421568512916565, 1.421568512916565, 1.421568512916565, 1.4215693473815918, 1.421568512916565, 1.4215688705444336, 1.421568512916565, 1.421568512916565, 1.4215692281723022, 1.421568512916565, 1.4215688705444336, 1.421568512916565, 1.4215688705444336, 1.421568512916565, 1.421568512916565, 1.421568512916565, 1.421568512916565, 1.4215686321258545, 1.421568512916565, 1.4215686321258545, 1.421568512916565, 1.421568512916565, 1.421568751335144, 1.4215693473815918, 1.421568512916565, 1.421568512916565, 1.421568512916565, 1.421568512916565, 1.4215693473815918, 1.421568512916565, 1.421568512916565, 1.421568512916565, 1.421568512916565, 1.4215686321258545, 1.421568512916565, 1.4215688705444336, 1.421568512916565, 1.421568512916565, 1.421568512916565, 1.421568512916565, 1.421568512916565, 1.421568512916565, 1.4215691089630127, 1.421568512916565, 1.4215688705444336, 1.421568512916565, 1.421568512916565, 1.421568512916565, 1.4215691089630127, 1.4215686321258545, 1.421568512916565, 1.421568512916565, 1.421568512916565, 1.421568512916565, 1.4215691089630127, 1.421568751335144, 1.421568512916565, 1.421568512916565, 1.421568512916565, 1.421568512916565, 1.4215686321258545, 1.4215692281723022, 1.4215694665908813, 1.421568512916565, 1.4215691089630127, 1.421568512916565, 1.421568512916565, 1.421568512916565, 1.421568751335144, 1.4215686321258545, 1.421568751335144, 1.4215686321258545, 1.421568512916565, 1.421568512916565, 1.421568751335144, 1.421568512916565, 1.421568512916565, 1.421568512916565, 1.421568512916565, 1.421568512916565, 1.421568512916565, 1.4215694665908813, 1.4215694665908813, 1.4215693473815918, 1.421568512916565, 1.421568512916565, 1.421568512916565, 1.4215688705444336, 1.421568512916565, 1.421568512916565, 1.4215686321258545, 1.4215688705444336, 1.421568512916565, 1.421568512916565, 1.421568512916565, 1.421568512916565, 1.421568512916565, 1.421568512916565, 1.421568512916565, 1.4215692281723022, 1.421568512916565, 1.421568512916565, 1.4215686321258545, 1.421568512916565, 1.421568512916565, 1.4215691089630127, 1.421570062637329, 1.421568512916565, 1.421568512916565, 1.421568751335144, 1.421568512916565, 1.4215686321258545, 1.421568512916565, 1.421568512916565, 1.4215689897537231, 1.421568512916565, 1.421568512916565, 1.421568512916565, 1.4215692281723022, 1.421568512916565, 1.4215697050094604, 1.421568512916565, 1.421568512916565, 1.4215686321258545, 1.421568512916565, 1.4215686321258545, 1.4215688705444336, 1.421568512916565, 1.421568512916565, 1.421569585800171, 1.421568512916565, 1.421568512916565, 1.421568751335144, 1.421568512916565, 1.421568512916565, 1.4215693473815918, 1.421568512916565, 1.421568512916565, 1.421568512916565, 1.421568512916565, 1.421568512916565, 1.421568512916565, 1.421568512916565, 1.421568512916565, 1.4215704202651978, 1.421568512916565, 1.421568512916565, 1.421568512916565, 1.421568512916565, 1.421568512916565, 1.421568512916565, 1.421569585800171, 1.4215691089630127, 1.4215701818466187, 1.4215689897537231, 1.421568512916565, 1.4215692281723022, 1.421568512916565, 1.421569585800171, 1.421568512916565, 1.4215703010559082, 1.4215699434280396, 1.421568512916565, 1.421568512916565, 1.421568751335144, 1.421568512916565, 1.421568512916565, 1.4215691089630127, 1.421568512916565, 1.4215686321258545, 1.421568512916565, 1.4215689897537231, 1.421568512916565, 1.4215691089630127, 1.421568512916565, 1.421568512916565, 1.421568512916565, 1.421568512916565, 1.4215692281723022, 1.4215697050094604, 1.421568512916565, 1.421568512916565, 1.421568512916565, 1.421568512916565, 1.421568512916565, 1.4215692281723022, 1.421568512916565, 1.421569585800171, 1.421568512916565, 1.4215697050094604, 1.4215697050094604, 1.4215686321258545, 1.4215686321258545, 1.421568512916565, 1.421568512916565, 1.421568512916565, 1.421568512916565, 1.421568512916565, 1.421568512916565, 1.421568512916565, 1.421568512916565, 1.421568512916565, 1.421568512916565, 1.421568512916565, 1.421568512916565, 1.421568512916565, 1.4215707778930664, 1.421568512916565, 1.421568512916565, 1.421568512916565, 1.4215699434280396, 1.4215686321258545, 1.421568512916565, 1.421568512916565, 1.421568512916565, 1.42156982421875, 1.4215691089630127, 1.421568512916565, 1.421568512916565, 1.421568512916565, 1.421568751335144, 1.421568512916565, 1.421568512916565, 1.421568512916565, 1.421568512916565, 1.4215686321258545, 1.421568512916565, 1.4215686321258545, 1.421568512916565, 1.421568512916565, 1.421568512916565, 1.421568512916565, 1.4215692281723022, 1.421568512916565, 1.421568512916565, 1.421568512916565, 1.4215692281723022, 1.4215707778930664, 1.4215689897537231, 1.421568512916565, 1.42156982421875, 1.421568512916565, 1.4215686321258545, 1.421568512916565, 1.421568512916565, 1.421568512916565, 1.421568512916565, 1.4215693473815918, 1.421568512916565, 1.421568512916565, 1.421568512916565, 1.421568512916565, 1.4215705394744873, 1.421568512916565, 1.421569585800171, 1.421568512916565, 1.421568512916565, 1.421568512916565, 1.4215692281723022, 1.421568512916565, 1.4215693473815918, 1.421568512916565, 1.4215689897537231, 1.421568512916565, 1.421570062637329, 1.421568512916565, 1.4215686321258545, 1.421568751335144, 1.421568512916565, 1.421568512916565, 1.421568512916565, 1.421568512916565, 1.421568512916565, 1.4215694665908813, 1.4215691089630127, 1.421568512916565, 1.421568512916565, 1.421568751335144, 1.4215707778930664, 1.421568512916565, 1.421568512916565, 1.421568512916565, 1.421568512916565, 1.421568512916565, 1.421568512916565, 1.421568512916565, 1.4215689897537231, 1.421568512916565, 1.421569585800171, 1.4215692281723022, 1.4215689897537231, 1.421568512916565, 1.421568512916565, 1.4215689897537231, 1.421568512916565, 1.421568512916565, 1.421568512916565, 1.421568512916565, 1.421568512916565, 1.421568751335144, 1.421568512916565, 1.421568512916565, 1.421568512916565, 1.421568512916565, 1.421568512916565, 1.421568512916565, 1.421568512916565, 1.421568512916565, 1.421568512916565, 1.4215694665908813, 1.4215689897537231, 1.4215686321258545, 1.421568512916565, 1.4215686321258545, 1.4215691089630127, 1.421568512916565, 1.421568512916565, 1.4215693473815918, 1.421568512916565, 1.421568512916565, 1.4215689897537231, 1.421568512916565, 1.4215703010559082, 1.4215686321258545, 1.4215699434280396, 1.4215692281723022, 1.4215705394744873, 1.421568512916565, 1.421568512916565, 1.421568512916565, 1.421568512916565, 1.4215701818466187, 1.421568512916565, 1.421568512916565, 1.421568512916565, 1.421568512916565, 1.421568512916565, 1.4215692281723022, 1.421568512916565, 1.421568512916565, 1.4215686321258545, 1.421568512916565, 1.421568512916565, 1.421568512916565, 1.4215686321258545, 1.421568512916565, 1.421568512916565, 1.4215686321258545, 1.421568512916565, 1.421568512916565, 1.421568512916565, 1.421568512916565, 1.4215692281723022, 1.4215686321258545, 1.421568512916565, 1.4215686321258545, 1.4215686321258545, 1.421568512916565, 1.421568512916565, 1.42156982421875, 1.421568512916565, 1.4215689897537231, 1.4215686321258545, 1.421568512916565, 1.421568512916565, 1.421568512916565, 1.4215686321258545, 1.4215694665908813, 1.421568512916565, 1.421568512916565, 1.421568512916565, 1.421568512916565, 1.421568512916565, 1.421568512916565, 1.421568512916565, 1.4215686321258545, 1.421568512916565, 1.4215691089630127, 1.421568512916565, 1.421568512916565, 1.421568512916565, 1.421568751335144, 1.4215688705444336, 1.421568751335144, 1.4215694665908813, 1.4215686321258545, 1.4215705394744873, 1.421568512916565, 1.4215689897537231, 1.421568512916565, 1.421568512916565, 1.421568512916565, 1.421568512916565, 1.421568512916565, 1.4215693473815918, 1.421568512916565, 1.421568512916565, 1.421568512916565, 1.4215688705444336, 1.421568512916565, 1.421568512916565, 1.421568512916565, 1.4215699434280396, 1.421568512916565, 1.421568751335144, 1.421568512916565, 1.421568512916565, 1.421568512916565, 1.4215694665908813, 1.421568512916565, 1.4215692281723022, 1.4215686321258545, 1.4215688705444336, 1.4215699434280396, 1.421568512916565, 1.421568751335144, 1.421568512916565, 1.4215686321258545, 1.4215694665908813, 1.421568512916565, 1.421568512916565, 1.421568512916565, 1.421568512916565, 1.421568512916565, 1.421568512916565, 1.4215694665908813, 1.421568512916565, 1.4215694665908813, 1.421568512916565, 1.421568512916565, 1.421568751335144, 1.421568512916565, 1.4215686321258545, 1.421568751335144, 1.421568512916565, 1.421568512916565, 1.4215691089630127, 1.4215688705444336, 1.421568512916565, 1.421568512916565, 1.4215689897537231, 1.4215689897537231, 1.4215704202651978, 1.421568512916565, 1.421568512916565, 1.421568512916565, 1.421568512916565, 1.4215689897537231, 1.421568512916565, 1.421568512916565, 1.421568512916565, 1.4215688705444336, 1.421568512916565, 1.421568512916565, 1.421568512916565, 1.4215688705444336, 1.421568512916565, 1.421568512916565, 1.421568512916565, 1.421568512916565, 1.421568512916565, 1.4215689897537231, 1.421568512916565, 1.4215692281723022, 1.4215699434280396, 1.421568512916565, 1.421568512916565, 1.4215694665908813], \"loglift\": [30.0, 29.0, 28.0, 27.0, 26.0, 25.0, 24.0, 23.0, 22.0, 21.0, 20.0, 19.0, 18.0, 17.0, 16.0, 15.0, 14.0, 13.0, 12.0, 11.0, 10.0, 9.0, 8.0, 7.0, 6.0, 5.0, 4.0, 3.0, 2.0, 1.0, 1.6582000255584717, 1.6582000255584717, 1.6581000089645386, 1.6581000089645386, 1.6581000089645386, 1.6581000089645386, 1.6579999923706055, 1.6579999923706055, 1.6578999757766724, 1.6578999757766724, 1.6577999591827393, 1.6577999591827393, 1.6577999591827393, 1.6576000452041626, 1.6576000452041626, 1.6575000286102295, 1.6575000286102295, 1.6574000120162964, 1.6574000120162964, 1.6574000120162964, 1.6572999954223633, 1.6572999954223633, 1.6572999954223633, 1.6572999954223633, 1.6572999954223633, 1.6571999788284302, 1.6571999788284302, 1.6571999788284302, 1.6571999788284302, 1.657099962234497, 1.2742999792099, 2.68969988822937, 2.689500093460083, 2.6893999576568604, 2.6893999576568604, 2.689300060272217, 2.689199924468994, 2.689199924468994, 2.688999891281128, 2.688999891281128, 2.6888999938964844, 2.688800096511841, 2.688699960708618, 2.688699960708618, 2.688699960708618, 2.6886000633239746, 2.6886000633239746, 2.6886000633239746, 2.6884000301361084, 2.688199996948242, 2.688199996948242, 2.6881000995635986, 2.6881000995635986, 2.687999963760376, 2.6879000663757324, 2.6879000663757324, 2.6879000663757324, 2.6879000663757324, 2.6877999305725098, 2.6877999305725098, 2.687700033187866, 2.6912999153137207, 2.691200017929077, 2.690500020980835, 2.6898999214172363, 2.688699960708618, 2.6868999004364014, 2.661099910736084, -0.33799999952316284, -0.33799999952316284, -0.33799999952316284, -0.33799999952316284, -0.33799999952316284, -0.33799999952316284, -0.33799999952316284, -0.33799999952316284, -0.33799999952316284, -0.33799999952316284, -0.33799999952316284, -0.33799999952316284, -0.33799999952316284, -0.33799999952316284, -0.33799999952316284, -0.33799999952316284, -0.33799999952316284, -0.33799999952316284, -0.33799999952316284, -0.33799999952316284, -0.33799999952316284, -0.33799999952316284, -0.33799999952316284, -0.33799999952316284, -0.33799999952316284, -0.33799999952316284, -0.33799999952316284, -0.33799999952316284, -0.33799999952316284, -0.33799999952316284, -0.33799999952316284, -0.33799999952316284, -0.33799999952316284, 2.6942999362945557, 2.694200038909912, 2.694200038909912, 2.6940999031066895, 2.6940999031066895, 2.6940999031066895, 2.6940999031066895, 2.6939001083374023, 2.6939001083374023, 2.6939001083374023, 2.6939001083374023, 2.69350004196167, 2.6933999061584473, 2.6933000087738037, 2.6933000087738037, 2.69320011138916, 2.69320011138916, 2.6930999755859375, 2.6930999755859375, 2.693000078201294, 2.6928000450134277, 2.6928000450134277, 2.692199945449829, 2.6921000480651855, 2.6919000148773193, 2.6910998821258545, 2.6903998851776123, 2.6898000240325928, 2.688499927520752, 2.6867001056671143, 2.7950000762939453, 2.7950000762939453, 2.7950000762939453, 2.7948999404907227, 2.794800043106079, 2.794800043106079, 2.7946999073028564, 2.794600009918213, 2.794600009918213, 2.7945001125335693, 2.7943999767303467, 2.7941999435424805, 2.794100046157837, 2.7939000129699707, 2.793800115585327, 2.7936999797821045, 2.7934999465942383, 2.7932000160217285, 2.7932000160217285, 2.793100118637085, 2.7929999828338623, 2.7929000854492188, 2.7923998832702637, 2.791800022125244, 2.791599988937378, 2.791599988937378, 2.7913999557495117, 2.7909998893737793, 2.7904999256134033, 2.7904999256134033, 2.6105000972747803, 2.2356998920440674, 2.8677000999450684, 2.8675999641418457, 2.867500066757202, 2.867500066757202, 2.867300033569336, 2.867300033569336, 2.8671998977661133, 2.867000102996826, 2.8668999671936035, 2.86680006980896, 2.86680006980896, 2.8659000396728516, 2.865799903869629, 2.8657000064849854, 2.8652000427246094, 2.865000009536743, 2.8649001121520996, 2.8647000789642334, 2.8647000789642334, 2.8645999431610107, 2.864500045776367, 2.8642001152038574, 2.864000082015991, 2.8636999130249023, 2.8633999824523926, 2.863300085067749, 2.8631999492645264, 2.8631999492645264, 2.862799882888794, 2.8624000549316406, 2.9470999240875244, 2.946899890899658, 2.946899890899658, 2.946700096130371, 2.9463999271392822, 2.9463999271392822, 2.9460999965667725, 2.9460999965667725, 2.9458999633789062, 2.9458999633789062, 2.944999933242798, 2.9449000358581543, 2.9447999000549316, 2.944700002670288, 2.9446001052856445, 2.944000005722046, 2.9437999725341797, 2.94350004196167, 2.9433999061584473, 2.943000078201294, 2.9428000450134277, 2.942500114440918, 2.942500114440918, 2.9421000480651855, 2.9416000843048096, 2.9409000873565674, 2.9398999214172363, 2.9391000270843506, 2.938499927520752, 2.9365999698638916, 2.966599941253662, 2.966599941253662, 2.966599941253662, 2.9665000438690186, 2.9665000438690186, 2.966399908065796, 2.966399908065796, 2.9656999111175537, 2.9655001163482666, 2.9618000984191895, 2.961199998855591, 2.9553000926971436, 2.9486000537872314, 1.8224999904632568, -0.07410000264644623, -0.07410000264644623, -0.07410000264644623, -0.07410000264644623, -0.07410000264644623, -0.07410000264644623, -0.07410000264644623, -0.07410000264644623, -0.07410000264644623, -0.07419999688863754, -0.07419999688863754, -0.07419999688863754, -0.07419999688863754, -0.07419999688863754, -0.07419999688863754, -0.07419999688863754, -0.07419999688863754, -0.07419999688863754, -0.07419999688863754, -0.07419999688863754, -0.07419999688863754, -0.07419999688863754, -0.07419999688863754, -0.07419999688863754, 3.0655999183654785, 3.0652999877929688, 3.0652999877929688, 3.0652999877929688, 3.0650999546051025, 3.0650999546051025, 3.0648999214172363, 3.0643999576568604, 3.0643999576568604, 3.0643999576568604, 3.064300060272217, 3.064199924468994, 3.0641000270843506, 3.0641000270843506, 3.0641000270843506, 3.063999891281128, 3.063999891281128, 3.0638999938964844, 3.0638999938964844, 3.063800096511841, 3.063499927520752, 3.063499927520752, 3.063199996948242, 3.062999963760376, 3.0629000663757324, 3.0629000663757324, 3.0625, 3.0622000694274902, 3.0620999336242676, 3.0618999004364014, 3.1865999698638916, 3.186500072479248, 3.1863999366760254, 3.1863999366760254, 3.186199903488159, 3.1858999729156494, 3.1856000423431396, 3.185499906539917, 3.1854000091552734, 3.1854000091552734, 3.18530011177063, 3.184999942779541, 3.184799909591675, 3.1847000122070312, 3.1846001148223877, 3.1846001148223877, 3.184499979019165, 3.184499979019165, 3.1844000816345215, 3.184299945831299, 3.1840999126434326, 3.1840999126434326, 3.1840999126434326, 3.1840999126434326, 3.1839001178741455, 3.183799982070923, 3.1833999156951904, 3.183300018310547, 3.183199882507324, 3.18149995803833, 3.2425999641418457, 3.2423999309539795, 3.2423999309539795, 3.2418999671936035, 3.2418999671936035, 3.24180006980896, 3.2416999340057373, 3.2416000366210938, 3.2416000366210938, 3.2414000034332275, 3.241300106048584, 3.241300106048584, 3.2411999702453613, 3.2411000728607178, 3.240799903869629, 3.240799903869629, 3.240799903869629, 3.240600109100342, 3.240499973297119, 3.2404000759124756, 3.240000009536743, 3.239799976348877, 3.2397000789642334, 3.2393999099731445, 3.239300012588501, 3.2392001152038574, 3.2392001152038574, 3.239000082015991, 3.238800048828125, 3.23799991607666, 3.281100034713745, 3.2809998989105225, 3.280900001525879, 3.280600070953369, 3.280400037765503, 3.280100107192993, 3.280100107192993, 3.2799999713897705, 3.279900074005127, 3.2797999382019043, 3.2797999382019043, 3.2797999382019043, 3.2797999382019043, 3.279599905014038, 3.2795000076293945, 3.2795000076293945, 3.2795000076293945, 3.2792999744415283, 3.27839994430542, 3.27839994430542, 3.277600049972534, 3.2771999835968018, 3.276400089263916, 3.2762999534606934, 3.2715001106262207, 3.2713000774383545, 3.2713000774383545, 3.2706000804901123, 3.2683000564575195, 3.257200002670288, 3.3821001052856445, 3.3821001052856445, 3.381700038909912, 3.3814001083374023, 3.3814001083374023, 3.3810999393463135, 3.38100004196167, 3.3808999061584473, 3.3805999755859375, 3.3794000148773193, 3.3784000873565674, 3.3775999546051025, 3.373699903488159, 0.20509999990463257, 0.20509999990463257, 0.20509999990463257, 0.20509999990463257, 0.20509999990463257, 0.20509999990463257, 0.20509999990463257, 0.20509999990463257, 0.20509999990463257, 0.20509999990463257, 0.20509999990463257, 0.20509999990463257, 0.20509999990463257, 0.20509999990463257, 0.20509999990463257, 0.20509999990463257, 0.20509999990463257, 0.20509999990463257, 0.20509999990463257, 0.20509999990463257, 0.20509999990463257, 0.20509999990463257, 0.20509999990463257, 0.20509999990463257, 0.20509999990463257, 0.20509999990463257, 0.20509999990463257, 0.20509999990463257, 3.410900115966797, 3.410900115966797, 3.4107000827789307, 3.410599946975708, 3.410599946975708, 3.4105000495910645, 3.410399913787842, 3.4100000858306885, 3.4100000858306885, 3.4098000526428223, 3.4096999168395996, 3.4096999168395996, 3.4096999168395996, 3.4094998836517334, 3.4094998836517334, 3.4093000888824463, 3.4093000888824463, 3.40910005569458, 3.408900022506714, 3.4084999561309814, 3.4084999561309814, 3.4084999561309814, 3.4082000255584717, 3.4079999923706055, 3.407900094985962, 3.407399892807007, 3.4072999954223633, 3.4072999954223633, 3.4066998958587646, 3.4059998989105225, 3.4193999767303467, 3.4193999767303467, 3.4193999767303467, 3.419300079345703, 3.419300079345703, 3.419100046157837, 3.4189000129699707, 3.4189000129699707, 3.4189000129699707, 3.4184999465942383, 3.418100118637085, 3.4179000854492188, 3.4177000522613525, 3.4175000190734863, 3.41729998588562, 3.41729998588562, 3.417099952697754, 3.4151999950408936, 3.4151999950408936, 3.41510009765625, 3.414400100708008, 3.413599967956543, 3.4112000465393066, 3.402400016784668, 0.4278999865055084, 0.4278999865055084, 0.4278999865055084, 0.4278999865055084, 0.4278999865055084, 0.4278999865055084, 0.4278999865055084, 0.4278999865055084, 0.4278999865055084, 0.4278999865055084, 0.4277999997138977, 0.4277999997138977, 0.4277999997138977, 0.4277999997138977, 3.465100049972534, 3.4649999141693115, 3.4646999835968018, 3.464400053024292, 3.4639999866485596, 3.463099956512451, 3.463099956512451, 3.4628000259399414, 3.4628000259399414, 3.4623000621795654, 3.4609999656677246, 3.460900068283081, 3.460400104522705, 3.4595000743865967, 3.4591000080108643, 3.4584999084472656, 3.4579999446868896, 3.4570999145507812, 3.4558000564575195, 3.4544999599456787, 3.4537999629974365, 3.4528000354766846, 1.683899998664856, 0.34290000796318054, 0.34290000796318054, 0.34290000796318054, 0.34290000796318054, 0.34290000796318054, 0.34290000796318054, 0.34290000796318054, 0.34290000796318054, 0.34290000796318054, 3.5608999729156494, 3.560800075531006, 3.560699939727783, 3.5606000423431396, 3.560499906539917, 3.560499906539917, 3.5604000091552734, 3.5599000453948975, 3.5599000453948975, 3.5599000453948975, 3.555999994277954, 3.5555999279022217, 3.555500030517578, 3.5532000064849854, 3.5478999614715576, 3.546799898147583, 3.545099973678589, 0.5182999968528748, 0.5182999968528748, 0.5182999968528748, 0.5182999968528748, 0.5182999968528748, 0.5182999968528748, 0.5182999968528748, 0.5182999968528748, 0.5182999968528748, 0.5182999968528748, 0.5182999968528748, 0.5182999968528748, 0.5182999968528748, 0.5182999968528748, 0.5182999968528748, 0.5182999968528748, 0.5182999968528748, 0.5182999968528748, 0.5182999968528748, 0.5182999968528748, 0.5182999968528748, 3.690700054168701, 3.6905999183654785, 3.6903998851776123, 3.690200090408325, 3.690200090408325, 3.6898999214172363, 3.6895999908447266, 3.6893999576568604, 3.689199924468994, 3.6888999938964844, 3.688499927520752, 3.6884000301361084, 3.6884000301361084, 3.6879000663757324, 3.6874001026153564, 3.685499906539917, 3.6849000453948975, 3.682499885559082, 3.6816000938415527, 3.6800999641418457, 3.679500102996826, 3.6765999794006348, 3.6760001182556152, 3.6745998859405518, 3.6710000038146973, 3.660099983215332, 3.6510000228881836, 3.589600086212158, 0.6700000166893005, 0.6700000166893005, 4.412199974060059, 4.411900043487549, 4.411499977111816, 4.410999774932861, 4.410399913787842, 4.4096999168396, 4.4096999168396, 4.40910005569458, 4.408999919891357, 4.407800197601318, 4.40749979019165, 4.407199859619141, 4.406199932098389, 4.402400016784668, 4.3927998542785645, 4.375699996948242, 1.210800051689148, 1.210800051689148, 1.210800051689148, 1.210800051689148, 1.210800051689148, 1.210800051689148, 1.210800051689148, 1.210800051689148, 1.210800051689148, 1.210800051689148, 1.210800051689148, 1.210800051689148, 1.210800051689148, 1.210800051689148, 1.210800051689148, 1.210800051689148, 1.210800051689148, 1.210800051689148, 4.439599990844727, 4.439499855041504, 4.4394001960754395, 4.438700199127197, 4.438399791717529, 4.436999797821045, 4.436600208282471, 4.436600208282471, 4.434899806976318, 4.430699825286865, 4.395999908447266, 1.3437000513076782, 1.3437000513076782, 1.3437000513076782, 1.3437000513076782, 1.3437000513076782, 1.3437000513076782, 1.3437000513076782, 1.3437000513076782, 1.3437000513076782, 1.3437000513076782, 1.3437000513076782, 1.3437000513076782, 1.3437000513076782, 1.3437000513076782, 1.3437000513076782, 1.3437000513076782, 1.3437000513076782, 1.3437000513076782, 1.3437000513076782, 1.3437000513076782, 1.3437000513076782, 1.3437000513076782, 1.3437000513076782, 1.3437000513076782, 1.3437000513076782, 4.462699890136719, 4.462200164794922, 4.460999965667725, 4.460599899291992, 4.4604997634887695, 4.4604997634887695, 4.459700107574463, 4.4593000411987305, 4.452700138092041, 1.4219000339508057, 1.4219000339508057, 1.4219000339508057, 1.4219000339508057, 1.4219000339508057, 1.4219000339508057, 1.4219000339508057, 1.4219000339508057, 1.4219000339508057, 1.4219000339508057, 1.4219000339508057, 1.4219000339508057, 1.4219000339508057, 1.4219000339508057, 1.4219000339508057, 1.4219000339508057, 1.4219000339508057, 1.4219000339508057, 1.4219000339508057, 1.4219000339508057, 1.4219000339508057, 1.4219000339508057, 1.4219000339508057, 1.4219000339508057, 1.4219000339508057, 1.4219000339508057, 1.4219000339508057, 1.4219000339508057, 1.4219000339508057, 1.4219000339508057, 1.4219000339508057, 1.4219000339508057, 1.4219000339508057, 1.4219000339508057, 1.4219000339508057, 1.4219000339508057, 1.4219000339508057, 1.4219000339508057, 1.4219000339508057, 1.4219000339508057, 1.4219000339508057, 1.4219000339508057, 3.20989990234375, 3.20989990234375, 3.20989990234375, 3.20989990234375, 3.20989990234375, 3.20989990234375, 3.20989990234375, 3.20989990234375, 3.20989990234375, 3.20989990234375, 3.20989990234375, 3.20989990234375, 3.20989990234375, 3.20989990234375, 3.20989990234375, 3.20989990234375, 3.20989990234375, 3.20989990234375, 3.20989990234375, 3.20989990234375, 3.20989990234375, 3.20989990234375, 3.20989990234375, 3.20989990234375, 3.20989990234375, 3.20989990234375, 3.20989990234375, 3.20989990234375, 3.20989990234375, 3.20989990234375, 3.20989990234375, 3.20989990234375, 3.20989990234375, 3.20989990234375, 3.20989990234375, 3.20989990234375, 3.20989990234375, 3.20989990234375, 3.20989990234375, 3.20989990234375, 3.20989990234375, 3.20989990234375, 3.20989990234375, 3.20989990234375, 3.20989990234375, 3.20989990234375, 3.20989990234375, 3.20989990234375, 3.20989990234375, 3.20989990234375, 3.20989990234375, 3.20989990234375, 3.20989990234375, 3.20989990234375, 3.20989990234375, 3.20989990234375, 3.20989990234375, 3.20989990234375, 3.20989990234375, 3.20989990234375, 3.20989990234375, 3.20989990234375, 3.20989990234375, 3.20989990234375, 3.20989990234375, 3.20989990234375, 3.20989990234375, 3.20989990234375, 3.20989990234375, 3.20989990234375, 3.20989990234375, 3.20989990234375, 3.20989990234375, 3.20989990234375, 3.20989990234375, 3.20989990234375, 3.20989990234375, 3.20989990234375, 3.20989990234375, 3.20989990234375, 3.20989990234375, 3.20989990234375, 3.20989990234375, 3.20989990234375, 3.20989990234375, 3.20989990234375, 3.20989990234375, 3.20989990234375, 3.20989990234375, 3.20989990234375, 3.20989990234375, 3.20989990234375, 3.20989990234375, 3.20989990234375, 3.20989990234375, 3.20989990234375, 3.20989990234375, 3.20989990234375, 3.20989990234375, 3.20989990234375, 3.20989990234375, 3.20989990234375, 3.20989990234375, 3.20989990234375, 3.20989990234375, 3.20989990234375, 3.20989990234375, 3.20989990234375, 3.20989990234375, 3.20989990234375, 3.20989990234375, 3.20989990234375, 3.20989990234375, 3.20989990234375, 3.20989990234375, 3.20989990234375, 3.20989990234375, 3.20989990234375, 3.20989990234375, 3.20989990234375, 3.20989990234375, 3.20989990234375, 3.20989990234375, 3.20989990234375, 3.20989990234375, 3.20989990234375, 3.20989990234375, 3.20989990234375, 3.20989990234375, 3.20989990234375, 3.20989990234375, 3.20989990234375, 3.20989990234375, 3.20989990234375, 3.20989990234375, 3.20989990234375, 3.20989990234375, 3.20989990234375, 3.20989990234375, 3.20989990234375, 3.20989990234375, 3.20989990234375, 3.20989990234375, 3.20989990234375, 3.20989990234375, 3.20989990234375, 3.20989990234375, 3.20989990234375, 3.20989990234375, 3.20989990234375, 3.20989990234375, 3.20989990234375, 3.20989990234375, 3.20989990234375, 3.20989990234375, 3.20989990234375, 3.20989990234375, 3.20989990234375, 3.20989990234375, 3.20989990234375, 3.20989990234375, 3.20989990234375, 3.20989990234375, 3.20989990234375, 3.20989990234375, 3.20989990234375, 3.20989990234375, 3.20989990234375, 3.20989990234375, 3.20989990234375, 3.20989990234375, 3.20989990234375, 3.20989990234375, 3.20989990234375, 3.20989990234375, 3.20989990234375, 3.20989990234375, 3.20989990234375, 3.20989990234375, 3.20989990234375, 3.20989990234375, 3.20989990234375, 3.20989990234375, 3.20989990234375, 3.20989990234375, 3.20989990234375, 3.20989990234375, 3.20989990234375, 3.20989990234375, 3.20989990234375, 3.20989990234375, 3.20989990234375, 3.20989990234375, 3.20989990234375, 3.20989990234375, 3.20989990234375, 3.20989990234375, 3.20989990234375, 3.20989990234375, 3.20989990234375, 3.20989990234375, 3.20989990234375, 3.20989990234375, 3.20989990234375, 3.20989990234375, 3.20989990234375, 3.20989990234375, 3.20989990234375, 3.20989990234375, 3.20989990234375, 3.20989990234375, 3.20989990234375, 3.20989990234375, 3.20989990234375, 3.20989990234375, 3.20989990234375, 3.20989990234375, 3.20989990234375, 3.20989990234375, 3.20989990234375, 3.20989990234375, 3.20989990234375, 3.20989990234375, 3.20989990234375, 3.20989990234375, 3.20989990234375, 3.20989990234375, 3.20989990234375, 3.20989990234375, 3.20989990234375, 3.20989990234375, 3.20989990234375, 3.20989990234375, 3.20989990234375, 3.20989990234375, 3.20989990234375, 3.20989990234375, 3.20989990234375, 3.20989990234375, 3.20989990234375, 3.20989990234375, 3.20989990234375, 3.20989990234375, 3.20989990234375, 3.20989990234375, 3.20989990234375, 3.20989990234375, 3.20989990234375, 3.20989990234375, 3.20989990234375, 3.20989990234375, 3.20989990234375, 3.20989990234375, 3.20989990234375, 3.20989990234375, 3.20989990234375, 3.20989990234375, 3.20989990234375, 3.20989990234375, 3.20989990234375, 3.20989990234375, 3.20989990234375, 3.20989990234375, 3.20989990234375, 3.20989990234375, 3.20989990234375, 3.20989990234375, 3.20989990234375, 3.20989990234375, 3.20989990234375, 3.20989990234375, 3.20989990234375, 3.20989990234375, 3.20989990234375, 3.20989990234375, 3.20989990234375, 3.20989990234375, 3.20989990234375, 3.20989990234375, 3.20989990234375, 3.20989990234375, 3.20989990234375, 3.20989990234375, 3.20989990234375, 3.20989990234375, 3.20989990234375, 3.20989990234375, 3.20989990234375, 3.20989990234375, 3.20989990234375, 3.20989990234375, 3.20989990234375, 3.20989990234375, 3.20989990234375, 3.20989990234375, 3.20989990234375, 3.20989990234375, 3.20989990234375, 3.20989990234375, 3.20989990234375, 3.20989990234375, 3.20989990234375, 3.20989990234375, 3.20989990234375, 3.20989990234375, 3.20989990234375, 3.20989990234375, 3.20989990234375, 3.20989990234375, 3.20989990234375, 3.20989990234375, 3.20989990234375, 3.20989990234375, 3.20989990234375, 3.20989990234375, 3.20989990234375, 3.20989990234375, 3.20989990234375, 3.20989990234375, 3.20989990234375, 3.20989990234375, 3.20989990234375, 3.20989990234375, 3.20989990234375, 3.20989990234375, 3.20989990234375, 3.20989990234375, 3.20989990234375, 3.20989990234375, 3.20989990234375, 3.20989990234375, 3.20989990234375, 3.20989990234375, 3.20989990234375, 3.20989990234375, 3.20989990234375, 3.20989990234375, 3.20989990234375, 3.20989990234375, 3.20989990234375, 3.20989990234375, 3.20989990234375, 3.20989990234375, 3.20989990234375, 3.20989990234375, 3.20989990234375, 3.20989990234375, 3.20989990234375, 3.20989990234375, 3.20989990234375, 3.20989990234375, 3.20989990234375, 3.20989990234375, 3.20989990234375, 3.20989990234375, 3.20989990234375, 3.20989990234375, 3.20989990234375, 3.20989990234375, 3.20989990234375, 3.20989990234375, 3.20989990234375, 3.20989990234375, 3.20989990234375, 3.20989990234375, 3.20989990234375, 3.20989990234375, 3.20989990234375, 3.20989990234375, 3.20989990234375, 3.20989990234375, 3.20989990234375, 3.20989990234375, 3.20989990234375, 3.20989990234375, 3.20989990234375, 3.20989990234375, 3.20989990234375, 3.20989990234375, 3.20989990234375, 3.20989990234375, 3.20989990234375, 3.20989990234375, 3.20989990234375, 3.20989990234375, 3.20989990234375, 3.20989990234375, 3.20989990234375, 3.20989990234375, 3.20989990234375, 3.20989990234375, 3.20989990234375, 3.20989990234375, 3.20989990234375, 3.20989990234375, 3.20989990234375, 3.20989990234375, 3.20989990234375, 3.20989990234375, 3.20989990234375, 3.20989990234375, 3.20989990234375, 3.20989990234375, 3.20989990234375, 3.20989990234375, 3.20989990234375, 3.20989990234375, 3.20989990234375, 3.20989990234375, 3.20989990234375, 3.20989990234375, 3.20989990234375, 3.20989990234375, 3.20989990234375, 3.20989990234375, 3.20989990234375, 3.20989990234375, 3.20989990234375, 3.20989990234375, 3.20989990234375, 3.20989990234375, 3.20989990234375, 3.20989990234375, 3.20989990234375, 3.20989990234375, 3.20989990234375, 3.20989990234375, 3.20989990234375, 3.20989990234375, 3.20989990234375, 3.20989990234375, 3.20989990234375, 3.20989990234375, 3.20989990234375, 3.20989990234375, 3.20989990234375, 3.20989990234375, 3.20989990234375, 3.20989990234375, 3.20989990234375, 3.20989990234375, 3.20989990234375, 3.20989990234375, 3.20989990234375, 3.20989990234375, 3.20989990234375, 3.20989990234375, 3.20989990234375, 3.20989990234375, 3.20989990234375, 3.20989990234375, 3.20989990234375, 3.20989990234375, 3.20989990234375, 3.20989990234375, 3.20989990234375, 3.20989990234375, 3.20989990234375, 3.20989990234375, 3.20989990234375, 3.20989990234375, 3.20989990234375, 3.20989990234375, 3.20989990234375, 3.20989990234375, 3.20989990234375, 3.20989990234375, 3.20989990234375, 3.20989990234375, 3.20989990234375, 3.20989990234375, 3.20989990234375, 3.20989990234375, 3.20989990234375, 3.20989990234375, 3.20989990234375, 3.20989990234375, 3.20989990234375, 3.20989990234375, 3.20989990234375, 3.20989990234375, 3.20989990234375, 3.20989990234375, 3.20989990234375, 3.20989990234375, 3.20989990234375, 3.20989990234375, 3.20989990234375, 3.20989990234375, 3.20989990234375, 3.20989990234375, 3.20989990234375, 3.20989990234375, 3.20989990234375, 3.20989990234375, 3.20989990234375, 3.20989990234375, 3.20989990234375, 3.20989990234375, 3.20989990234375, 3.20989990234375, 3.20989990234375, 3.20989990234375, 3.20989990234375, 3.20989990234375, 3.20989990234375, 3.20989990234375, 3.20989990234375, 3.20989990234375, 3.20989990234375, 3.20989990234375, 3.20989990234375, 3.20989990234375, 3.20989990234375, 3.20989990234375, 3.20989990234375, 3.20989990234375, 3.20989990234375, 3.20989990234375, 3.20989990234375, 3.20989990234375, 3.20989990234375, 3.20989990234375, 3.20989990234375, 3.20989990234375, 3.20989990234375, 3.20989990234375, 3.20989990234375, 3.20989990234375, 3.20989990234375, 3.20989990234375, 3.20989990234375, 3.20989990234375, 3.20989990234375, 3.20989990234375, 3.20989990234375, 3.20989990234375, 3.20989990234375, 3.20989990234375, 3.20989990234375, 3.20989990234375, 3.20989990234375, 3.20989990234375, 3.20989990234375, 3.20989990234375, 3.20989990234375, 3.20989990234375, 3.20989990234375, 3.20989990234375, 3.20989990234375, 3.20989990234375, 3.20989990234375, 3.20989990234375, 3.20989990234375, 3.20989990234375, 3.20989990234375, 3.20989990234375, 3.20989990234375, 3.20989990234375, 3.20989990234375], \"logprob\": [30.0, 29.0, 28.0, 27.0, 26.0, 25.0, 24.0, 23.0, 22.0, 21.0, 20.0, 19.0, 18.0, 17.0, 16.0, 15.0, 14.0, 13.0, 12.0, 11.0, 10.0, 9.0, 8.0, 7.0, 6.0, 5.0, 4.0, 3.0, 2.0, 1.0, -1.457800030708313, -1.9774999618530273, -2.744999885559082, -3.0199999809265137, -3.035599946975708, -3.149899959564209, -3.440500020980835, -3.524899959564209, -3.8010001182556152, -3.970599889755249, -4.194300174713135, -4.204800128936768, -4.241099834442139, -4.459700107574463, -4.551499843597412, -4.61460018157959, -4.6305999755859375, -4.7291998863220215, -4.746600151062012, -4.756700038909912, -4.857399940490723, -4.907100200653076, -4.907700061798096, -4.9120001792907715, -4.9278998374938965, -5.015100002288818, -5.021200180053711, -5.021699905395508, -5.024600028991699, -5.126800060272217, -4.452099800109863, -1.6668000221252441, -2.6965999603271484, -3.162100076675415, -3.1684999465942383, -3.365299940109253, -3.4890999794006348, -3.522200107574463, -3.702699899673462, -3.739500045776367, -3.8638999462127686, -3.9711999893188477, -4.004199981689453, -4.025199890136719, -4.0808000564575195, -4.104400157928467, -4.110099792480469, -4.121699810028076, -4.257400035858154, -4.399199962615967, -4.436100006103516, -4.466100215911865, -4.479100227355957, -4.530799865722656, -4.567399978637695, -4.571000099182129, -4.574900150299072, -4.5970001220703125, -4.639500141143799, -4.642099857330322, -4.673999786376953, -0.4138000011444092, -1.3503999710083008, -3.711400032043457, -4.285099983215332, -4.879899978637695, -5.404900074005127, -7.335700035095215, -13.800000190734863, -13.79990005493164, -13.800000190734863, -13.800000190734863, -13.79990005493164, -13.800000190734863, -13.800000190734863, -13.800000190734863, -13.800000190734863, -13.800000190734863, -13.800000190734863, -13.800000190734863, -13.800000190734863, -13.800000190734863, -13.800000190734863, -13.800000190734863, -13.800000190734863, -13.800000190734863, -13.800000190734863, -13.800000190734863, -13.800000190734863, -13.800000190734863, -13.800000190734863, -13.800000190734863, -13.800000190734863, -13.800000190734863, -13.800000190734863, -13.800000190734863, -13.800000190734863, -13.800000190734863, -13.800000190734863, -13.800000190734863, -13.800000190734863, -2.021899938583374, -2.128000020980835, -2.436300039291382, -2.742799997329712, -2.776900053024292, -2.7967000007629395, -2.8450000286102295, -3.2553999423980713, -3.2567999362945557, -3.2592999935150146, -3.2897000312805176, -3.838599920272827, -3.927500009536743, -4.000699996948242, -4.03249979019165, -4.087100028991699, -4.104599952697754, -4.144999980926514, -4.1875, -4.238800048828125, -4.351099967956543, -4.363399982452393, -4.707399845123291, -4.7270002365112305, -4.843100070953369, -5.1041998863220215, -5.305799961090088, -5.431300163269043, -5.685800075531006, -5.952400207519531, -2.2880001068115234, -2.3080999851226807, -2.444499969482422, -2.5992000102996826, -2.9546000957489014, -3.0504000186920166, -3.2091000080108643, -3.3492000102996826, -3.3966000080108643, -3.504300117492676, -3.6412999629974365, -3.8661999702453613, -3.940999984741211, -4.135900020599365, -4.162799835205078, -4.20989990234375, -4.367199897766113, -4.51230001449585, -4.521999835968018, -4.5721001625061035, -4.607800006866455, -4.664400100708008, -4.86959981918335, -5.039899826049805, -5.099699974060059, -5.10290002822876, -5.156700134277344, -5.262700080871582, -5.361400127410889, -5.3769001960754395, -2.6373000144958496, -4.044600009918213, -1.2067999839782715, -2.345400094985962, -2.5195000171661377, -2.586199998855591, -3.010499954223633, -3.0297000408172607, -3.3013999462127686, -3.5199999809265137, -3.6819000244140625, -3.7541000843048096, -3.7581000328063965, -4.386000156402588, -4.441199779510498, -4.502999782562256, -4.687300205230713, -4.762800216674805, -4.810999870300293, -4.884799957275391, -4.88700008392334, -4.912199974060059, -4.947500228881836, -5.017899990081787, -5.065400123596191, -5.156799793243408, -5.2220001220703125, -5.250699996948242, -5.277699947357178, -5.2779998779296875, -5.346799850463867, -5.42579984664917, -0.9013000130653381, -2.2945001125335693, -2.2994000911712646, -2.837899923324585, -3.3963000774383545, -3.4233999252319336, -3.6586999893188477, -3.6775999069213867, -3.8952999114990234, -3.895400047302246, -4.42110013961792, -4.456299781799316, -4.49970006942749, -4.566800117492676, -4.576499938964844, -4.7941999435424805, -4.880099773406982, -4.948699951171875, -4.980400085449219, -5.084700107574463, -5.13700008392334, -5.185699939727783, -5.202700138092041, -5.27370023727417, -5.371799945831299, -5.49970006942749, -5.640500068664551, -5.741300106048584, -5.81790018081665, -6.018499851226807, -1.5089999437332153, -1.8667999505996704, -1.9717999696731567, -2.094399929046631, -2.374300003051758, -2.5834999084472656, -2.5917999744415283, -3.660099983215332, -3.84879994392395, -5.244200229644775, -5.34630012512207, -6.077000141143799, -6.544300079345703, -3.903899908065796, -13.536100387573242, -13.536100387573242, -13.536100387573242, -13.536100387573242, -13.536100387573242, -13.536100387573242, -13.536100387573242, -13.536100387573242, -13.536100387573242, -13.536100387573242, -13.536100387573242, -13.536100387573242, -13.536100387573242, -13.536100387573242, -13.536100387573242, -13.536100387573242, -13.536100387573242, -13.536100387573242, -13.536100387573242, -13.536100387573242, -13.536100387573242, -13.536100387573242, -13.536100387573242, -13.536100387573242, -1.6347999572753906, -2.6782000064849854, -2.695499897003174, -2.7155001163482666, -3.051800012588501, -3.1333999633789062, -3.3787999153137207, -3.830199956893921, -3.857599973678589, -3.8584001064300537, -3.875, -3.976300001144409, -4.007800102233887, -4.033699989318848, -4.054200172424316, -4.093800067901611, -4.106200218200684, -4.123300075531006, -4.155799865722656, -4.180500030517578, -4.347099781036377, -4.357900142669678, -4.475299835205078, -4.5630998611450195, -4.567800045013428, -4.593900203704834, -4.720600128173828, -4.8094000816345215, -4.8308000564575195, -4.894800186157227, -1.8466999530792236, -2.2600998878479004, -2.4254000186920166, -2.4702999591827393, -2.989300012588501, -3.2825000286102295, -3.583400011062622, -3.6910998821258545, -3.780900001525879, -3.7948999404907227, -3.804800033569336, -4.001299858093262, -4.10290002822876, -4.186200141906738, -4.214900016784668, -4.231500148773193, -4.2530999183654785, -4.258399963378906, -4.293600082397461, -4.326700210571289, -4.404600143432617, -4.407800197601318, -4.428699970245361, -4.434800148010254, -4.484799861907959, -4.527900218963623, -4.649499893188477, -4.66349983215332, -4.702700138092041, -5.100500106811523, -1.61489999294281, -2.2995998859405518, -2.4593000411987305, -3.203700065612793, -3.2578999996185303, -3.3141000270843506, -3.40910005569458, -3.4934000968933105, -3.502700090408325, -3.655600070953369, -3.7446000576019287, -3.782900094985962, -3.8153998851776123, -3.8873000144958496, -4.025400161743164, -4.05810022354126, -4.065000057220459, -4.133600234985352, -4.166500091552734, -4.217700004577637, -4.39870023727417, -4.446499824523926, -4.498499870300293, -4.589399814605713, -4.599599838256836, -4.625100135803223, -4.635000228881836, -4.695799827575684, -4.73330020904541, -4.936699867248535, -1.531499981880188, -1.9035999774932861, -2.356800079345703, -2.9670000076293945, -3.1521999835968018, -3.469399929046631, -3.477400064468384, -3.5804998874664307, -3.6549999713897705, -3.688800096511841, -3.6907999515533447, -3.6967999935150146, -3.7023000717163086, -3.852299928665161, -3.8875999450683594, -3.900599956512451, -3.902899980545044, -4.013899803161621, -4.3734002113342285, -4.377799987792969, -4.634099960327148, -4.73330020904541, -4.908299922943115, -4.9243998527526855, -5.606900215148926, -5.6265997886657715, -5.631700038909912, -5.695300102233887, -5.89300012588501, -6.517600059509277, -0.8733999729156494, -1.5500999689102173, -2.677999973297119, -3.085900068283081, -3.1010000705718994, -3.3373000621795654, -3.3961000442504883, -3.5081000328063965, -3.7158000469207764, -4.248799800872803, -4.565000057220459, -4.754300117492676, -5.361800193786621, -13.256799697875977, -13.256799697875977, -13.256799697875977, -13.256799697875977, -13.256799697875977, -13.256799697875977, -13.256799697875977, -13.256799697875977, -13.2568998336792, -13.256799697875977, -13.2568998336792, -13.2568998336792, -13.2568998336792, -13.2568998336792, -13.2568998336792, -13.2568998336792, -13.256799697875977, -13.256799697875977, -13.2568998336792, -13.256799697875977, -13.256799697875977, -13.2568998336792, -13.256799697875977, -13.256799697875977, -13.256799697875977, -13.256799697875977, -13.256799697875977, -13.256799697875977, -2.3613998889923096, -2.3859000205993652, -2.6563000679016113, -2.8234000205993652, -2.8724000453948975, -2.983799934387207, -3.0490000247955322, -3.4523000717163086, -3.4739999771118164, -3.6363000869750977, -3.6826000213623047, -3.6837000846862793, -3.6953999996185303, -3.7611000537872314, -3.789099931716919, -3.895400047302246, -3.8954999446868896, -3.993000030517578, -4.055799961090088, -4.21019983291626, -4.217800140380859, -4.2368998527526855, -4.325500011444092, -4.379000186920166, -4.430500030517578, -4.556300163269043, -4.5731000900268555, -4.596199989318848, -4.722099781036377, -4.86299991607666, -2.102799892425537, -2.19569993019104, -2.2471001148223877, -2.3938000202178955, -2.4686999320983887, -2.8201000690460205, -3.0006000995635986, -3.0250000953674316, -3.031100034713745, -3.3901000022888184, -3.68530011177063, -3.8292999267578125, -3.8856000900268555, -4.0071001052856445, -4.089300155639648, -4.094799995422363, -4.150100231170654, -4.695199966430664, -4.701900005340576, -4.736000061035156, -4.8703999519348145, -5.0106000900268555, -5.340099811553955, -6.049799919128418, -13.034099578857422, -13.034099578857422, -13.034099578857422, -13.034099578857422, -13.034099578857422, -13.034099578857422, -13.034099578857422, -13.034099578857422, -13.034099578857422, -13.034099578857422, -13.034099578857422, -13.034099578857422, -13.034099578857422, -13.034099578857422, -0.933899998664856, -1.7209999561309814, -2.464900016784668, -2.969899892807007, -3.3322999477386475, -3.862600088119507, -3.8882999420166016, -3.994999885559082, -3.9988999366760254, -4.210999965667725, -4.572000026702881, -4.605800151824951, -4.702499866485596, -4.884200096130371, -4.947400093078613, -5.045899868011475, -5.118899822235107, -5.2270002365112305, -5.3744001388549805, -5.507800102233887, -5.573500156402588, -5.65500020980835, -3.563999891281128, -13.119000434875488, -13.119000434875488, -13.119000434875488, -13.119000434875488, -13.119000434875488, -13.119000434875488, -13.119099617004395, -13.119000434875488, -13.119000434875488, -1.454800009727478, -2.0803000926971436, -2.1363000869750977, -2.4151999950408936, -2.549299955368042, -2.664900064468384, -2.787600040435791, -3.2455999851226807, -3.265000104904175, -3.271699905395508, -4.679599761962891, -4.761099815368652, -4.782299995422363, -5.112199783325195, -5.63100004196167, -5.709499835968018, -5.825200080871582, -12.943599700927734, -12.943599700927734, -12.943599700927734, -12.943699836730957, -12.943699836730957, -12.943699836730957, -12.943699836730957, -12.943699836730957, -12.943599700927734, -12.943699836730957, -12.943699836730957, -12.943699836730957, -12.943699836730957, -12.943599700927734, -12.943699836730957, -12.943699836730957, -12.943699836730957, -12.943599700927734, -12.943699836730957, -12.943699836730957, -12.943699836730957, -1.6402000188827515, -1.8798999786376953, -2.3217999935150146, -2.646899938583374, -2.653899908065796, -2.9672999382019043, -3.2281999588012695, -3.4026999473571777, -3.4784998893737793, -3.6410999298095703, -3.828399896621704, -3.858299970626831, -3.8770999908447266, -4.042900085449219, -4.178400039672852, -4.6209001541137695, -4.720399856567383, -5.057700157165527, -5.154900074005127, -5.304299831390381, -5.362299919128418, -5.5843000411987305, -5.629300117492676, -5.717400074005127, -5.9197001457214355, -6.358699798583984, -6.6209001541137695, -7.582900047302246, -12.791899681091309, -12.791899681091309, -1.3319000005722046, -1.9091999530792236, -2.3452999591827393, -2.6851000785827637, -3.0244998931884766, -3.259700059890747, -3.2862000465393066, -3.459700107574463, -3.4827001094818115, -3.7695999145507812, -3.8315000534057617, -3.8945000171661377, -4.059500217437744, -4.519000053405762, -5.1819000244140625, -5.813000202178955, -12.251099586486816, -12.251099586486816, -12.251099586486816, -12.251099586486816, -12.251099586486816, -12.251099586486816, -12.251099586486816, -12.251099586486816, -12.251099586486816, -12.251099586486816, -12.251099586486816, -12.251199722290039, -12.251199722290039, -12.251199722290039, -12.251099586486816, -12.251099586486816, -12.251099586486816, -12.251099586486816, -1.426800012588501, -1.770300030708313, -1.8858000040054321, -2.5390000343322754, -2.7318999767303467, -3.3159000873565674, -3.411099910736084, -3.411900043487549, -3.8076000213623047, -4.406700134277344, -5.968699932098389, -12.118300437927246, -12.118200302124023, -12.118300437927246, -12.118300437927246, -12.118300437927246, -12.118300437927246, -12.118300437927246, -12.118300437927246, -12.118300437927246, -12.118300437927246, -12.118300437927246, -12.118300437927246, -12.118300437927246, -12.118300437927246, -12.118300437927246, -12.118300437927246, -12.118300437927246, -12.118300437927246, -12.118300437927246, -12.118300437927246, -12.118300437927246, -12.118300437927246, -12.118300437927246, -12.118300437927246, -12.118300437927246, -0.8885999917984009, -1.9372999668121338, -2.8708999156951904, -3.031399965286255, -3.058500051498413, -3.0601999759674072, -3.332900047302246, -3.4528000354766846, -4.478499889373779, -12.039999961853027, -12.04010009765625, -12.04010009765625, -12.04010009765625, -12.04010009765625, -12.04010009765625, -12.04010009765625, -12.04010009765625, -12.04010009765625, -12.04010009765625, -12.04010009765625, -12.04010009765625, -12.04010009765625, -12.04010009765625, -12.04010009765625, -12.04010009765625, -12.04010009765625, -12.04010009765625, -12.04010009765625, -12.04010009765625, -12.04010009765625, -12.04010009765625, -12.04010009765625, -12.04010009765625, -12.04010009765625, -12.04010009765625, -12.04010009765625, -12.04010009765625, -12.04010009765625, -12.04010009765625, -12.04010009765625, -12.04010009765625, -12.04010009765625, -12.04010009765625, -12.04010009765625, -12.04010009765625, -12.04010009765625, -12.04010009765625, -12.04010009765625, -12.04010009765625, -12.04010009765625, -12.04010009765625, -10.252099990844727, -10.252099990844727, -10.252099990844727, -10.252099990844727, -10.252099990844727, -10.252099990844727, -10.252099990844727, -10.252099990844727, -10.252099990844727, -10.252099990844727, -10.252099990844727, -10.252099990844727, -10.252099990844727, -10.252099990844727, -10.252099990844727, -10.252099990844727, -10.252099990844727, -10.252099990844727, -10.252099990844727, -10.252099990844727, -10.252099990844727, -10.252099990844727, -10.252099990844727, -10.252099990844727, -10.252099990844727, -10.252099990844727, -10.252099990844727, -10.252099990844727, -10.252099990844727, -10.252099990844727, -10.252099990844727, -10.252099990844727, -10.252099990844727, -10.252099990844727, -10.252099990844727, -10.252099990844727, -10.252099990844727, -10.252099990844727, -10.252099990844727, -10.252099990844727, -10.252099990844727, -10.252099990844727, -10.252099990844727, -10.252099990844727, -10.252099990844727, -10.252099990844727, -10.252099990844727, -10.252099990844727, -10.252099990844727, -10.252099990844727, -10.252099990844727, -10.252099990844727, -10.252099990844727, -10.252099990844727, -10.252099990844727, -10.252099990844727, -10.252099990844727, -10.252099990844727, -10.252099990844727, -10.252099990844727, -10.252099990844727, -10.252099990844727, -10.252099990844727, -10.252099990844727, -10.252099990844727, -10.252099990844727, -10.252099990844727, -10.252099990844727, -10.252099990844727, -10.252099990844727, -10.252099990844727, -10.252099990844727, -10.252099990844727, -10.252099990844727, -10.252099990844727, -10.252099990844727, -10.252099990844727, -10.252099990844727, -10.252099990844727, -10.252099990844727, -10.252099990844727, -10.252099990844727, -10.252099990844727, -10.252099990844727, -10.252099990844727, -10.252099990844727, -10.252099990844727, -10.252099990844727, -10.252099990844727, -10.252099990844727, -10.252099990844727, -10.252099990844727, -10.252099990844727, -10.252099990844727, -10.252099990844727, -10.252099990844727, -10.252099990844727, -10.252099990844727, -10.252099990844727, -10.252099990844727, -10.252099990844727, -10.252099990844727, -10.252099990844727, -10.252099990844727, -10.252099990844727, -10.252099990844727, -10.252099990844727, -10.252099990844727, -10.252099990844727, -10.252099990844727, -10.252099990844727, -10.252099990844727, -10.252099990844727, -10.252099990844727, -10.252099990844727, -10.252099990844727, -10.252099990844727, -10.252099990844727, -10.252099990844727, -10.252099990844727, -10.252099990844727, -10.252099990844727, -10.252099990844727, -10.252099990844727, -10.252099990844727, -10.252099990844727, -10.252099990844727, -10.252099990844727, -10.252099990844727, -10.252099990844727, -10.252099990844727, -10.252099990844727, -10.252099990844727, -10.252099990844727, -10.252099990844727, -10.252099990844727, -10.252099990844727, -10.252099990844727, -10.252099990844727, -10.252099990844727, -10.252099990844727, -10.252099990844727, -10.252099990844727, -10.252099990844727, -10.252099990844727, -10.252099990844727, -10.252099990844727, -10.252099990844727, -10.252099990844727, -10.252099990844727, -10.252099990844727, -10.252099990844727, -10.252099990844727, -10.252099990844727, -10.252099990844727, -10.252099990844727, -10.252099990844727, -10.252099990844727, -10.252099990844727, -10.252099990844727, -10.252099990844727, -10.252099990844727, -10.252099990844727, -10.252099990844727, -10.252099990844727, -10.252099990844727, -10.252099990844727, -10.252099990844727, -10.252099990844727, -10.252099990844727, -10.252099990844727, -10.252099990844727, -10.252099990844727, -10.252099990844727, -10.252099990844727, -10.252099990844727, -10.252099990844727, -10.252099990844727, -10.252099990844727, -10.252099990844727, -10.252099990844727, -10.252099990844727, -10.252099990844727, -10.252099990844727, -10.252099990844727, -10.252099990844727, -10.252099990844727, -10.252099990844727, -10.252099990844727, -10.252099990844727, -10.252099990844727, -10.252099990844727, -10.252099990844727, -10.252099990844727, -10.252099990844727, -10.252099990844727, -10.252099990844727, -10.252099990844727, -10.252099990844727, -10.252099990844727, -10.252099990844727, -10.252099990844727, -10.252099990844727, -10.252099990844727, -10.252099990844727, -10.252099990844727, -10.252099990844727, -10.252099990844727, -10.252099990844727, -10.252099990844727, -10.252099990844727, -10.252099990844727, -10.252099990844727, -10.252099990844727, -10.252099990844727, -10.252099990844727, -10.252099990844727, -10.252099990844727, -10.252099990844727, -10.252099990844727, -10.252099990844727, -10.252099990844727, -10.252099990844727, -10.252099990844727, -10.252099990844727, -10.252099990844727, -10.252099990844727, -10.252099990844727, -10.252099990844727, -10.252099990844727, -10.252099990844727, -10.252099990844727, -10.252099990844727, -10.252099990844727, -10.252099990844727, -10.252099990844727, -10.252099990844727, -10.252099990844727, -10.252099990844727, -10.252099990844727, -10.252099990844727, -10.252099990844727, -10.252099990844727, -10.252099990844727, -10.252099990844727, -10.252099990844727, -10.252099990844727, -10.252099990844727, -10.252099990844727, -10.252099990844727, -10.252099990844727, -10.252099990844727, -10.252099990844727, -10.252099990844727, -10.252099990844727, -10.252099990844727, -10.252099990844727, -10.252099990844727, -10.252099990844727, -10.252099990844727, -10.252099990844727, -10.252099990844727, -10.252099990844727, -10.252099990844727, -10.252099990844727, -10.252099990844727, -10.252099990844727, -10.252099990844727, -10.252099990844727, -10.252099990844727, -10.252099990844727, -10.252099990844727, -10.252099990844727, -10.252099990844727, -10.252099990844727, -10.252099990844727, -10.252099990844727, -10.252099990844727, -10.252099990844727, -10.252099990844727, -10.252099990844727, -10.252099990844727, -10.252099990844727, -10.252099990844727, -10.252099990844727, -10.252099990844727, -10.252099990844727, -10.252099990844727, -10.252099990844727, -10.252099990844727, -10.252099990844727, -10.252099990844727, -10.252099990844727, -10.252099990844727, -10.252099990844727, -10.252099990844727, -10.252099990844727, -10.252099990844727, -10.252099990844727, -10.252099990844727, -10.252099990844727, -10.252099990844727, -10.252099990844727, -10.252099990844727, -10.252099990844727, -10.252099990844727, -10.252099990844727, -10.252099990844727, -10.252099990844727, -10.252099990844727, -10.252099990844727, -10.252099990844727, -10.252099990844727, -10.252099990844727, -10.252099990844727, -10.252099990844727, -10.252099990844727, -10.252099990844727, -10.252099990844727, -10.252099990844727, -10.252099990844727, -10.252099990844727, -10.252099990844727, -10.252099990844727, -10.252099990844727, -10.252099990844727, -10.252099990844727, -10.252099990844727, -10.252099990844727, -10.252099990844727, -10.252099990844727, -10.252099990844727, -10.252099990844727, -10.252099990844727, -10.252099990844727, -10.252099990844727, -10.252099990844727, -10.252099990844727, -10.252099990844727, -10.252099990844727, -10.252099990844727, -10.252099990844727, -10.252099990844727, -10.252099990844727, -10.252099990844727, -10.252099990844727, -10.252099990844727, -10.252099990844727, -10.252099990844727, -10.252099990844727, -10.252099990844727, -10.252099990844727, -10.252099990844727, -10.252099990844727, -10.252099990844727, -10.252099990844727, -10.252099990844727, -10.252099990844727, -10.252099990844727, -10.252099990844727, -10.252099990844727, -10.252099990844727, -10.252099990844727, -10.252099990844727, -10.252099990844727, -10.252099990844727, -10.252099990844727, -10.252099990844727, -10.252099990844727, -10.252099990844727, -10.252099990844727, -10.252099990844727, -10.252099990844727, -10.252099990844727, -10.252099990844727, -10.252099990844727, -10.252099990844727, -10.252099990844727, -10.252099990844727, -10.252099990844727, -10.252099990844727, -10.252099990844727, -10.252099990844727, -10.252099990844727, -10.252099990844727, -10.252099990844727, -10.252099990844727, -10.252099990844727, -10.252099990844727, -10.252099990844727, -10.252099990844727, -10.252099990844727, -10.252099990844727, -10.252099990844727, -10.252099990844727, -10.252099990844727, -10.252099990844727, -10.252099990844727, -10.252099990844727, -10.252099990844727, -10.252099990844727, -10.252099990844727, -10.252099990844727, -10.252099990844727, -10.252099990844727, -10.252099990844727, -10.252099990844727, -10.252099990844727, -10.252099990844727, -10.252099990844727, -10.252099990844727, -10.252099990844727, -10.252099990844727, -10.252099990844727, -10.252099990844727, -10.252099990844727, -10.252099990844727, -10.252099990844727, -10.252099990844727, -10.252099990844727, -10.252099990844727, -10.252099990844727, -10.252099990844727, -10.252099990844727, -10.252099990844727, -10.252099990844727, -10.252099990844727, -10.252099990844727, -10.252099990844727, -10.252099990844727, -10.252099990844727, -10.252099990844727, -10.252099990844727, -10.252099990844727, -10.252099990844727, -10.252099990844727, -10.252099990844727, -10.252099990844727, -10.252099990844727, -10.252099990844727, -10.252099990844727, -10.252099990844727, -10.252099990844727, -10.252099990844727, -10.252099990844727, -10.252099990844727, -10.252099990844727, -10.252099990844727, -10.252099990844727, -10.252099990844727, -10.252099990844727, -10.252099990844727, -10.252099990844727, -10.252099990844727, -10.252099990844727, -10.252099990844727, -10.252099990844727, -10.252099990844727, -10.252099990844727, -10.252099990844727, -10.252099990844727, -10.252099990844727, -10.252099990844727, -10.252099990844727, -10.252099990844727, -10.252099990844727, -10.252099990844727, -10.252099990844727, -10.252099990844727, -10.252099990844727, -10.252099990844727, -10.252099990844727, -10.252099990844727, -10.252099990844727, -10.252099990844727, -10.252099990844727, -10.252099990844727, -10.252099990844727, -10.252099990844727, -10.252099990844727, -10.252099990844727, -10.252099990844727, -10.252099990844727, -10.252099990844727, -10.252099990844727, -10.252099990844727, -10.252099990844727, -10.252099990844727, -10.252099990844727, -10.252099990844727, -10.252099990844727, -10.252099990844727, -10.252099990844727, -10.252099990844727, -10.252099990844727, -10.252099990844727, -10.252099990844727, -10.252099990844727, -10.252099990844727, -10.252099990844727, -10.252099990844727, -10.252099990844727, -10.252099990844727, -10.252099990844727, -10.252099990844727, -10.252099990844727, -10.252099990844727, -10.252099990844727, -10.252099990844727, -10.252099990844727, -10.252099990844727, -10.252099990844727, -10.252099990844727, -10.252099990844727, -10.252099990844727, -10.252099990844727, -10.252099990844727, -10.252099990844727, -10.252099990844727, -10.252099990844727, -10.252099990844727, -10.252099990844727, -10.252099990844727, -10.252099990844727, -10.252099990844727, -10.252099990844727, -10.252099990844727, -10.252099990844727, -10.252099990844727, -10.252099990844727, -10.252099990844727, -10.252099990844727, -10.252099990844727, -10.252099990844727, -10.252099990844727, -10.252099990844727, -10.252099990844727, -10.252099990844727, -10.252099990844727, -10.252099990844727, -10.252099990844727, -10.252099990844727, -10.252099990844727, -10.252099990844727, -10.252099990844727, -10.252099990844727, -10.252099990844727, -10.252099990844727, -10.252099990844727, -10.252099990844727, -10.252099990844727, -10.252099990844727, -10.252099990844727, -10.252099990844727, -10.252099990844727, -10.252099990844727, -10.252099990844727, -10.252099990844727, -10.252099990844727, -10.252099990844727]}, \"token.table\": {\"Topic\": [16, 17, 10, 2, 14, 14, 19, 12, 18, 18, 20, 3, 4, 10, 18, 10, 12, 19, 6, 14, 16, 14, 9, 2, 18, 1, 5, 5, 15, 11, 9, 13, 9, 14, 19, 6, 10, 4, 6, 12, 4, 4, 8, 10, 5, 16, 17, 17, 10, 9, 13, 14, 21, 16, 5, 6, 7, 7, 9, 13, 18, 20, 11, 18, 12, 10, 14, 15, 1, 12, 12, 7, 5, 18, 20, 1, 20, 16, 5, 16, 16, 11, 9, 6, 5, 17, 10, 4, 10, 15, 9, 1, 7, 11, 12, 6, 4, 17, 10, 21, 15, 20, 9, 1, 8, 2, 18, 10, 19, 18, 13, 9, 12, 9, 2, 13, 13, 17, 2, 17, 6, 2, 21, 6, 4, 7, 15, 7, 6, 15, 11, 18, 13, 17, 9, 4, 7, 4, 4, 21, 18, 5, 14, 8, 4, 9, 4, 11, 11, 12, 5, 6, 5, 16, 1, 15, 9, 18, 4, 12, 12, 9, 7, 12, 6, 14, 6, 11, 16, 2, 7, 11, 19, 16, 4, 7, 14, 7, 13, 4, 14, 5, 1, 14, 3, 11, 6, 1, 11, 16, 6, 15, 17, 9, 6, 5, 17, 16, 2, 5, 6, 1, 2, 6, 12, 2, 2, 11, 7, 13, 2, 2, 9, 9, 6, 18, 7, 10, 15, 1, 12, 5, 14, 5, 7, 6, 7, 12, 5, 9, 14, 14, 8, 4, 1, 4, 18, 12, 10, 19, 19, 7, 9, 1, 2, 15, 18, 6, 8, 7, 12, 12, 14, 12, 9, 14, 8, 12, 6, 10, 2, 4, 11, 16, 9, 2, 8, 14, 18, 12, 15, 10, 1, 5, 9, 15, 19, 19, 12, 8, 7, 7, 11, 7, 1, 8, 14, 1, 16, 6, 4, 10, 14, 6, 12, 18, 5, 11, 9, 2, 1, 21, 5, 16, 2, 7, 17, 5, 10, 8, 15, 2, 14, 11, 11, 11, 15, 5, 20, 10, 19, 1, 11, 10, 18, 2, 21, 11, 13, 14, 4, 1, 19, 8, 8, 17, 7, 2, 7, 2, 19, 16, 7, 16, 17, 4, 3, 7, 11, 11, 18, 4, 4, 10, 7, 7, 18, 4, 20, 15, 14, 3, 20, 13, 5, 12, 16, 16, 14, 1, 14, 11, 4, 11, 11, 10, 10, 5, 2, 9, 16, 17, 15, 18, 3, 21, 2, 4, 10, 5, 14, 1, 19, 18, 12, 5, 21, 15, 1, 2, 6, 6, 9, 21, 11, 6, 20, 16, 12, 6, 16, 11, 15, 18, 18, 14, 5, 13, 1, 4, 10, 15, 2, 18, 1, 3, 19, 5, 17, 5, 10, 1, 11, 17, 10, 19, 3, 5, 5, 15, 5, 10, 1, 11, 6, 19, 1, 14, 9, 10, 20, 10, 4, 15, 16, 7, 2, 2, 9, 6, 10, 1, 20, 18, 7, 12, 7, 1, 17, 8, 9, 8, 1, 14, 1, 14, 4, 2, 12, 9, 15, 18, 12, 1, 4, 11, 6, 2, 5, 18, 15, 15, 13, 9, 12, 1], \"Freq\": [0.9855453372001648, 0.9959999918937683, 0.9975268840789795, 0.9995653629302979, 0.99814373254776, 0.9994342923164368, 0.9980098009109497, 0.998845636844635, 0.985091507434845, 0.9970327019691467, 0.9975568056106567, 0.9951075315475464, 0.9996137619018555, 0.9994100332260132, 0.92655348777771, 0.9996557831764221, 0.9984138011932373, 0.9992386698722839, 0.9976038932800293, 0.9985587000846863, 0.9993429183959961, 0.9964066743850708, 0.9953396320343018, 0.9985036849975586, 0.9992850422859192, 0.9990536570549011, 0.9993857741355896, 0.9971951246261597, 0.9996952414512634, 0.9996184706687927, 0.9976474642753601, 0.9966068863868713, 0.998676598072052, 0.9996268153190613, 0.9932840466499329, 0.9961933493614197, 0.997559666633606, 0.9984785914421082, 0.9967724084854126, 0.9991142749786377, 0.9988887906074524, 0.9997265338897705, 0.9998646378517151, 0.9976293444633484, 0.9985407590866089, 0.9975065588951111, 0.9996209144592285, 0.998677134513855, 0.9971898794174194, 0.9986647367477417, 0.9999390840530396, 0.9967432022094727, 0.9981623888015747, 0.9999194145202637, 0.9956541061401367, 0.9962873458862305, 0.999073326587677, 0.9856483340263367, 0.9982748031616211, 0.9987068176269531, 0.9988837242126465, 0.9993952512741089, 0.9957127571105957, 0.9817850589752197, 0.9984827637672424, 0.9984584450721741, 0.9982055425643921, 0.9965313673019409, 0.9999014735221863, 0.9895151853561401, 0.9981393814086914, 0.9989930987358093, 0.9989615082740784, 0.9994525909423828, 0.9996767044067383, 0.9998935461044312, 0.9959125518798828, 0.9959335327148438, 0.8313331007957458, 0.16840019822120667, 0.9937475919723511, 0.999018669128418, 0.9998118877410889, 0.9977591037750244, 0.9993581175804138, 0.9993999004364014, 0.9994772672653198, 0.9943553805351257, 0.9964441657066345, 0.9937909245491028, 0.9951483607292175, 0.9992429614067078, 0.9975840449333191, 0.9982631802558899, 0.9972233176231384, 0.9997292160987854, 0.9990800023078918, 0.9995428919792175, 0.9955396056175232, 0.9927050471305847, 0.9977350234985352, 0.9977126121520996, 0.9953779578208923, 0.9991488456726074, 0.9950720071792603, 0.9988350868225098, 0.9975348711013794, 0.9970076084136963, 0.9978144764900208, 0.9983066320419312, 0.9989207983016968, 0.999524712562561, 0.9985647797584534, 0.9988649487495422, 0.9981140494346619, 0.9988592267036438, 0.9990216493606567, 0.9988797307014465, 0.9990659356117249, 0.9901796579360962, 0.9990668892860413, 0.9987621903419495, 0.9996906518936157, 0.9978091716766357, 0.998340368270874, 0.9996933937072754, 0.9994357228279114, 0.9907623529434204, 0.9971949458122253, 0.999398946762085, 0.9973188042640686, 0.9983829259872437, 0.998875081539154, 0.9998232126235962, 0.9985954761505127, 0.9977033734321594, 0.9973850250244141, 0.9994861483573914, 0.9998086094856262, 0.9955395460128784, 0.9905824661254883, 0.9998461008071899, 0.9965039491653442, 0.9991005063056946, 0.9966039657592773, 0.9964964389801025, 0.9987338781356812, 0.996113121509552, 0.9985913038253784, 0.9998273253440857, 0.9982346892356873, 0.9938661456108093, 0.995532214641571, 0.9989225268363953, 0.9993695020675659, 0.9995189309120178, 0.9979088306427002, 0.9939267039299011, 0.9991302490234375, 0.998640239238739, 0.9990765452384949, 0.9989231824874878, 0.9981319308280945, 0.9980063438415527, 0.999327540397644, 0.9982298612594604, 0.9953358173370361, 0.9987710118293762, 0.9985020756721497, 0.9983369708061218, 0.9946788549423218, 0.9995747208595276, 0.9949338436126709, 0.9981287121772766, 0.9978299140930176, 0.992796778678894, 0.9970948100090027, 0.9991297721862793, 0.9907293915748596, 0.9992008805274963, 0.9993979930877686, 0.9998321533203125, 0.9997221231460571, 0.9988135695457458, 0.9999628067016602, 0.9964572191238403, 0.9996959567070007, 0.9995750784873962, 0.9987590312957764, 0.9997421503067017, 0.9965042471885681, 0.9991048574447632, 0.9984588027000427, 0.997020959854126, 0.9992707371711731, 0.9989876747131348, 0.9995948672294617, 0.9939189553260803, 0.9987464547157288, 0.9975467324256897, 0.9996194243431091, 0.9993951320648193, 0.9993964433670044, 0.9974669814109802, 0.9977928400039673, 0.9985294342041016, 0.9994303584098816, 0.995399534702301, 0.9971689581871033, 0.9980984330177307, 0.998464047908783, 0.9991516470909119, 0.9978995323181152, 0.9976148009300232, 0.9939631819725037, 0.9979095458984375, 0.996595025062561, 0.998391330242157, 0.9989140033721924, 0.999933123588562, 0.9985317587852478, 0.9988314509391785, 0.9987807869911194, 0.9969758987426758, 0.9924792051315308, 0.9970918297767639, 0.9961525797843933, 0.9986746907234192, 0.9996461868286133, 0.9976760745048523, 0.9983997344970703, 0.9986176490783691, 0.9944342970848083, 0.9994820952415466, 0.9992464780807495, 0.999297022819519, 0.9667954444885254, 0.9990983605384827, 0.9937379360198975, 0.9977177977561951, 0.9942880868911743, 0.9991550445556641, 0.9994012117385864, 0.9990249872207642, 0.9998652338981628, 0.9991558194160461, 0.990276575088501, 0.9993385672569275, 0.9997743964195251, 0.9977086186408997, 0.995089054107666, 0.9973288774490356, 0.9956202507019043, 0.9871198534965515, 0.9987477660179138, 0.9984624981880188, 0.9894022941589355, 0.9964430332183838, 0.9960011839866638, 0.9991648197174072, 0.9986796379089355, 0.9988965392112732, 0.9997621774673462, 0.9972293972969055, 0.9976249933242798, 0.997613251209259, 0.9998311400413513, 0.9976497888565063, 0.989154040813446, 0.9949708580970764, 0.9972754716873169, 0.9985736012458801, 0.4279460906982422, 0.5713080763816833, 0.9981745481491089, 0.9988962411880493, 0.9952251315116882, 0.9592874646186829, 0.9983274340629578, 0.9833980798721313, 0.9996669292449951, 0.9968071579933167, 0.9966286420822144, 0.9944297671318054, 0.6812105774879456, 0.31847208738327026, 0.9993394017219543, 0.9989713430404663, 0.9946147203445435, 0.9996757507324219, 0.9977214932441711, 0.9984878897666931, 0.9952389001846313, 0.999894917011261, 0.9958528280258179, 0.9557204842567444, 0.9990630745887756, 0.9959983825683594, 0.998589038848877, 0.9993230700492859, 0.9986974596977234, 0.9972634315490723, 0.9984987378120422, 0.9943419098854065, 0.9989328980445862, 0.9961151480674744, 0.9993072748184204, 0.9951188564300537, 0.9975965023040771, 0.9989998936653137, 0.9995595216751099, 0.9996992945671082, 0.998282253742218, 0.9991788268089294, 0.9983692765235901, 0.999302089214325, 0.9971491694450378, 0.9942528009414673, 0.9533259272575378, 0.9979652762413025, 0.997747004032135, 0.9988976120948792, 0.9979751110076904, 0.9976030588150024, 0.9977769255638123, 0.9986224174499512, 0.996671736240387, 0.9960222840309143, 0.9998221397399902, 0.9984936118125916, 0.9996116757392883, 0.9998528957366943, 0.9989957213401794, 0.9996337890625, 0.9998422265052795, 0.9940526485443115, 0.9972943067550659, 0.9977046847343445, 0.996658980846405, 0.9981729388237, 0.9904605746269226, 0.9942262172698975, 0.9991481900215149, 0.9932934045791626, 0.9934400916099548, 0.990251362323761, 0.9990897178649902, 0.9947406649589539, 0.9978460669517517, 0.9990683197975159, 0.9803781509399414, 0.9973103404045105, 0.998283326625824, 0.9968306422233582, 0.9925744533538818, 0.9927605986595154, 0.9987336993217468, 0.9997121095657349, 0.9991621375083923, 0.9949957132339478, 0.9992344379425049, 0.9999322891235352, 0.9935324192047119, 0.9961472749710083, 0.99952632188797, 0.9919300675392151, 0.9928117394447327, 0.9991223216056824, 0.9996785521507263, 0.9999672770500183, 0.9948306083679199, 0.9970628023147583, 0.9996910691261292, 0.997846245765686, 0.9975316524505615, 0.9975069761276245, 0.9997450113296509, 0.999680757522583, 0.999384880065918, 0.9978601932525635, 0.9971519708633423, 0.9997102618217468, 0.9976404905319214, 0.9994934797286987, 0.9970609545707703, 0.9974956512451172, 0.9995263814926147, 0.9998195171356201, 0.9994446039199829, 0.99796462059021, 0.9959559440612793, 0.999438464641571, 0.9806554317474365, 0.9997426867485046, 0.9997488260269165, 0.9995718598365784, 0.999173641204834, 0.9824117422103882, 0.9991958141326904, 0.999609649181366, 0.9952802062034607, 0.9982471466064453, 0.9988492727279663, 0.9969154000282288, 0.9987726807594299, 0.9988030791282654, 0.993342936038971, 0.9926745295524597, 0.9885678291320801, 0.9993264675140381, 0.9969062805175781, 0.9964863061904907, 0.9971181154251099, 0.9985834956169128, 0.9978762269020081, 0.9983217120170593, 0.9964314699172974, 0.9995284080505371, 0.9996733069419861, 0.9997624754905701, 0.9980815649032593, 0.9984237551689148, 0.9988105297088623, 0.992625892162323, 0.9998769164085388, 0.9677984118461609, 0.9968680739402771, 0.9991039633750916, 0.9875068664550781, 0.996894896030426, 0.9973469376564026, 0.999430239200592, 0.9986175298690796, 0.9962602257728577, 0.9997533559799194, 0.9994184970855713, 0.9985286593437195, 0.9997826218605042, 0.9972937703132629, 0.9973427057266235, 0.998334527015686, 0.9980994462966919, 0.9989553689956665, 0.9982832074165344, 0.9970237612724304, 0.9936160445213318, 0.999070942401886, 0.9994301795959473, 0.9997237920761108, 0.9966580867767334, 0.9957841634750366, 0.9959920048713684, 0.9942928552627563, 0.9978055953979492, 0.9954798221588135, 0.99970942735672, 0.998462438583374, 0.9976814985275269, 0.9987742900848389, 0.9971871972084045, 0.9975759387016296, 0.9990726113319397, 0.9980695843696594, 0.994311511516571, 0.9999513626098633, 0.9689003229141235, 0.9991987347602844, 0.999830424785614, 0.9859773516654968, 0.9995583891868591, 0.9996967315673828, 0.9997764229774475, 0.9994073510169983, 0.9973369240760803, 0.9994838237762451, 0.9967426061630249, 0.9987058639526367, 0.9988452196121216, 0.999675452709198, 0.9970811009407043, 0.9997164607048035, 0.990969717502594, 0.9980704188346863, 0.9994153380393982, 0.9995756149291992, 0.9987356662750244, 0.9943379759788513, 0.9988407492637634, 0.9966656565666199, 0.9995200037956238, 0.9986998438835144, 0.996853768825531, 0.9949016571044922, 0.999459981918335, 0.9824365973472595, 0.9992046356201172], \"Term\": [\"accident\", \"account\", \"action\", \"airport\", \"alcohol\", \"ambiance\", \"ambience\", \"amenity\", \"amount\", \"answer\", \"apology\", \"appetite\", \"appetizer\", \"aria\", \"arm\", \"atmosphere\", \"attention\", \"attentive\", \"avoid\", \"back\", \"bacon\", \"balcony\", \"bank\", \"bar\", \"bartender\", \"bed\", \"beef\", \"beef_wellington\", \"beer\", \"bellagio\", \"benedict\", \"beverage\", \"biscuit\", \"bite\", \"blanket\", \"block\", \"bomb\", \"bone\", \"bother\", \"bottle\", \"bowl\", \"bread\", \"breakfast\", \"bring\", \"broth\", \"brother\", \"brunch\", \"buck\", \"buddy\", \"budget\", \"buffet\", \"bun\", \"bunch\", \"burger\", \"buttery\", \"cabana\", \"caesar\", \"caesar_palace\", \"cafe\", \"cake\", \"card\", \"care\", \"carne_asada\", \"carnival\", \"carpet\", \"case\", \"cash\", \"cashier\", \"casino\", \"cell_phone\", \"center\", \"chair\", \"chance\", \"change\", \"charge\", \"check\", \"checking\", \"cheddar\", \"cheese\", \"cheese\", \"cheesecake\", \"chef\", \"chicken\", \"child\", \"chip\", \"chocolate\", \"choice\", \"choose\", \"cigarette_smoke\", \"circus\", \"circus_circus\", \"city\", \"clam\", \"class\", \"closet\", \"club\", \"cocktail\", \"coffee\", \"coffee_maker\", \"comforter\", \"comment\", \"comp\", \"complain\", \"complaint\", \"computer\", \"con\", \"concert\", \"conference\", \"construction\", \"conversation\", \"corn\", \"cost\", \"counter\", \"country\", \"cover\", \"crab\", \"crab_leg\", \"crepe\", \"crispy\", \"cromwell\", \"crowd\", \"crust\", \"customer\", \"dance\", \"date\", \"day\", \"deal\", \"death\", \"decision\", \"decor\", \"decoration\", \"degree\", \"desert\", \"dessert\", \"detail\", \"dine\", \"diner\", \"dining\", \"dinner\", \"direction\", \"disgust\", \"dish\", \"distance\", \"dollar\", \"donut\", \"doubt\", \"downtown\", \"drain\", \"dress\", \"drink\", \"duck\", \"dude\", \"effort\", \"egg\", \"elevator\", \"employee\", \"encore\", \"energy\", \"enjoy\", \"entertainment\", \"entrance\", \"entree\", \"environment\", \"establishment\", \"evening\", \"event\", \"excuse\", \"expectation\", \"experience\", \"eye\", \"fall\", \"family\", \"fare\", \"farm\", \"favorite\", \"fiance\", \"fill\", \"find\", \"finger\", \"finish\", \"fish\", \"flavor\", \"floor\", \"folk\", \"food\", \"forget\", \"friend\", \"front_desk\", \"fruit\", \"fry\", \"furniture\", \"game\", \"gelato\", \"gentleman\", \"girl\", \"give\", \"glass\", \"gold_standard\", \"good\", \"goodness\", \"group\", \"guest\", \"guy\", \"haha\", \"hair\", \"hallway\", \"hand\", \"hang\", \"hard_rock\", \"hash\", \"hate\", \"head\", \"heart\", \"heat\", \"hip_hop\", \"hold\", \"hole\", \"host\", \"hostess\", \"hotel\", \"housekeeping\", \"hype\", \"idea\", \"imagine\", \"imperial_palace\", \"impression\", \"inconvenience\", \"issue\", \"item\", \"joint\", \"joke\", \"juice\", \"ketchup\", \"kind\", \"king\", \"kitchen\", \"knee\", \"lady\", \"lamp\", \"lemon\", \"letter\", \"level\", \"life\", \"light\", \"line\", \"list\", \"lock\", \"lot\", \"lunch\", \"luxury\", \"maid\", \"maintenance\", \"majority\", \"makeup\", \"mall\", \"management\", \"manager\", \"marble\", \"march\", \"margarita\", \"marquee\", \"meal\", \"meat\", \"meatball\", \"meet\", \"member\", \"menu\", \"mess\", \"message\", \"microwave\", \"mimosa\", \"min\", \"mind\", \"mind\", \"mine\", \"miss\", \"mission\", \"mmmm\", \"moist\", \"moment\", \"money\", \"monorail\", \"monta\", \"monte_carlo\", \"morning\", \"morning\", \"mouth\", \"move\", \"mozzarella\", \"music\", \"mussel\", \"nachos\", \"name\", \"night\", \"nightmare\", \"nonsense\", \"noodle\", \"noon\", \"note\", \"number\", \"offer\", \"omelette\", \"opinion\", \"orange_juice\", \"order\", \"outlet\", \"oyster\", \"paper\", \"parent\", \"paris\", \"parking\", \"party\", \"pass\", \"pasta\", \"pastry\", \"patio\", \"peak\", \"peanut\", \"people\", \"pepper\", \"perfection\", \"phone\", \"photo\", \"pickle\", \"picture\", \"piece\", \"pillow\", \"pineapple\", \"pizza\", \"planet_hollywood\", \"plate\", \"pool\", \"pork\", \"portion\", \"price\", \"pricy\", \"prime_rib\", \"pro\", \"problem\", \"process\", \"promise\", \"prop\", \"property\", \"prosciutto\", \"protein\", \"purpose\", \"raman\", \"range\", \"rate\", \"rating\", \"recall\", \"recommendation\", \"refill\", \"refrigerator\", \"refund\", \"reputation\", \"request\", \"reservation\", \"resort_fee\", \"respect\", \"rest\", \"restaurant\", \"reward\", \"ribeye\", \"rice\", \"ride\", \"risk\", \"rock\", \"roll\", \"room\", \"rude\", \"rush\", \"salad\", \"salsa\", \"salty\", \"sample\", \"sandwich\", \"sauce\", \"sausage\", \"scene\", \"school\", \"seafood\", \"season\", \"seat\", \"seating\", \"second\", \"security\", \"server\", \"share\", \"shell\", \"shirt\", \"shop\", \"shout\", \"show\", \"shower\", \"shrimp\", \"sign\", \"sirloin\", \"sleep\", \"slice\", \"slide\", \"slider\", \"slot\", \"smile\", \"smoke\", \"smoking\", \"soap\", \"sour_cream\", \"souvenir\", \"space\", \"special\", \"spending\", \"sport\", \"stage\", \"stand\", \"starbuck\", \"state\", \"station\", \"stay\", \"steak\", \"steakhouse\", \"stick\", \"story\", \"stranger\", \"strip\", \"struggle\", \"studio\", \"style\", \"subpar\", \"suck\", \"suggestion\", \"suite\", \"surprise\", \"sweet\", \"table\", \"taco\", \"talk\", \"taste\", \"tasty\", \"team\", \"texture\", \"theme\", \"ticket\", \"ton\", \"tooth\", \"tortilla\", \"towel\", \"tower\", \"town\", \"traffic\", \"tram\", \"travel\", \"tray\", \"treat\", \"tree\", \"trip\", \"truffle\", \"truffle_frie\", \"turn\", \"understand\", \"update\", \"upgrade\", \"vacation\", \"valley\", \"vegas\", \"vent\", \"vibe\", \"view\", \"vinegar\", \"visit\", \"waffle\", \"waiter\", \"walk\", \"walking\", \"wall\", \"wallet\", \"waste\", \"watch\", \"water\", \"wedding\", \"weekend\", \"weight\", \"wifi\", \"window\", \"wine\", \"wing\", \"winter\", \"woman\", \"word\", \"work\", \"worker\", \"working\", \"worth\", \"wynn\", \"yell\", \"york\"]}, \"R\": 30, \"lambda.step\": 0.01, \"plot.opts\": {\"xlab\": \"PC1\", \"ylab\": \"PC2\"}, \"topic.order\": [15, 17, 19, 6, 16, 14, 7, 3, 12, 8, 9, 21, 11, 4, 10, 22, 18, 1, 5, 13, 20, 2]};\n",
       "\n",
       "function LDAvis_load_lib(url, callback){\n",
       "  var s = document.createElement('script');\n",
       "  s.src = url;\n",
       "  s.async = true;\n",
       "  s.onreadystatechange = s.onload = callback;\n",
       "  s.onerror = function(){console.warn(\"failed to load library \" + url);};\n",
       "  document.getElementsByTagName(\"head\")[0].appendChild(s);\n",
       "}\n",
       "\n",
       "if(typeof(LDAvis) !== \"undefined\"){\n",
       "   // already loaded: just create the visualization\n",
       "   !function(LDAvis){\n",
       "       new LDAvis(\"#\" + \"ldavis_el442453270225045973897370\", ldavis_el442453270225045973897370_data);\n",
       "   }(LDAvis);\n",
       "}else if(typeof define === \"function\" && define.amd){\n",
       "   // require.js is available: use it to load d3/LDAvis\n",
       "   require.config({paths: {d3: \"https://cdnjs.cloudflare.com/ajax/libs/d3/3.5.5/d3.min\"}});\n",
       "   require([\"d3\"], function(d3){\n",
       "      window.d3 = d3;\n",
       "      LDAvis_load_lib(\"https://cdn.rawgit.com/bmabey/pyLDAvis/files/ldavis.v1.0.0.js\", function(){\n",
       "        new LDAvis(\"#\" + \"ldavis_el442453270225045973897370\", ldavis_el442453270225045973897370_data);\n",
       "      });\n",
       "    });\n",
       "}else{\n",
       "    // require.js not available: dynamically load d3 & LDAvis\n",
       "    LDAvis_load_lib(\"https://cdnjs.cloudflare.com/ajax/libs/d3/3.5.5/d3.min.js\", function(){\n",
       "         LDAvis_load_lib(\"https://cdn.rawgit.com/bmabey/pyLDAvis/files/ldavis.v1.0.0.js\", function(){\n",
       "                 new LDAvis(\"#\" + \"ldavis_el442453270225045973897370\", ldavis_el442453270225045973897370_data);\n",
       "            })\n",
       "         });\n",
       "}\n",
       "</script>"
      ],
      "text/plain": [
       "PreparedData(topic_coordinates=              x         y  topics  cluster       Freq\n",
       "topic                                                \n",
       "14    -0.266157  0.054785       1        1  19.047029\n",
       "16    -0.107094  0.070153       2        1   6.789232\n",
       "18    -0.120010  0.056328       3        1   6.779166\n",
       "5     -0.107471  0.054060       4        1   6.758282\n",
       "15    -0.101045 -0.365846       5        1   6.110013\n",
       "13    -0.074564  0.043019       6        1   5.682283\n",
       "6     -0.058658  0.037796       7        1   5.248961\n",
       "2     -0.090055  0.065996       8        1   5.146971\n",
       "11    -0.042614  0.035262       9        1   4.661938\n",
       "7     -0.004197  0.027598      10        1   4.130344\n",
       "8     -0.005050  0.027476      11        1   3.905514\n",
       "20    -0.000430  0.026411      12        1   3.758017\n",
       "10    -0.015262  0.028130      13        1   3.397115\n",
       "3      0.031484  0.022365      14        1   3.299803\n",
       "9      0.031898  0.021894      15        1   3.272032\n",
       "21    -0.005001 -0.274550      16        1   3.126670\n",
       "17     0.048300  0.019888      17        1   2.840638\n",
       "0      0.079769  0.017040      18        1   2.494735\n",
       "4      0.171069  0.010523      19        1   1.212275\n",
       "12     0.188744  0.009487      20        1   1.179444\n",
       "19     0.198227  0.008945      21        1   1.152736\n",
       "1      0.248118  0.003240      22        1   0.006809, topic_info=     Category          Freq            Term         Total  loglift  logprob\n",
       "31    Default  44739.000000            food  44739.000000  30.0000  30.0000\n",
       "112   Default  44254.000000            room  44254.000000  29.0000  29.0000\n",
       "28    Default  21277.000000           vegas  21277.000000  28.0000  28.0000\n",
       "53    Default  16969.000000           night  16969.000000  27.0000  27.0000\n",
       "79    Default  14159.000000          buffet  14159.000000  26.0000  26.0000\n",
       "74    Default  17538.000000      restaurant  17538.000000  25.0000  25.0000\n",
       "32    Default  26317.000000           hotel  26317.000000  24.0000  24.0000\n",
       "69    Default  12267.000000          burger  12267.000000  23.0000  23.0000\n",
       "270   Default  12799.000000            line  12799.000000  22.0000  22.0000\n",
       "321   Default  11362.000000           price  11362.000000  21.0000  21.0000\n",
       "6     Default   9075.000000         chicken   9075.000000  20.0000  20.0000\n",
       "9     Default   8112.000000           drink   8112.000000  19.0000  19.0000\n",
       "166   Default   7755.000000            meat   7755.000000  18.0000  18.0000\n",
       "170   Default   7198.000000           pizza   7198.000000  17.0000  17.0000\n",
       "83    Default   8933.000000          dinner   8933.000000  16.0000  16.0000\n",
       "43    Default   6621.000000         dessert   6621.000000  15.0000  15.0000\n",
       "30    Default   7945.000000       breakfast   7945.000000  14.0000  14.0000\n",
       "97    Default   8034.000000          server   8034.000000  13.0000  13.0000\n",
       "34    Default   7153.000000            menu   7153.000000  12.0000  12.0000\n",
       "413   Default   4733.000000        customer   4733.000000  11.0000  11.0000\n",
       "156   Default   6505.000000        sandwich   6505.000000  10.0000  10.0000\n",
       "25    Default  12217.000000           strip  12217.000000   9.0000   9.0000\n",
       "85    Default   5584.000000             fry   5584.000000   8.0000   8.0000\n",
       "33    Default   6328.000000           lunch   6328.000000   7.0000   7.0000\n",
       "486   Default   5591.000000           water   5591.000000   6.0000   6.0000\n",
       "145   Default   4831.000000            show   4831.000000   5.0000   5.0000\n",
       "70    Default   6190.000000          flavor   6190.000000   4.0000   4.0000\n",
       "45    Default   6066.000000            dish   6066.000000   3.0000   3.0000\n",
       "59    Default   5903.000000           steak   5903.000000   2.0000   2.0000\n",
       "71    Default   5435.000000          friend   5435.000000   1.0000   1.0000\n",
       "...       ...           ...             ...           ...      ...      ...\n",
       "9884  Topic22      0.002398           burps      1.421569   3.2099 -10.2521\n",
       "9450  Topic22      0.002398    shaped_couch      1.421569   3.2099 -10.2521\n",
       "9439  Topic22      0.002398           jesus      1.421569   3.2099 -10.2521\n",
       "9440  Topic22      0.002398           steep      1.421569   3.2099 -10.2521\n",
       "9441  Topic22      0.002398            dope      1.421570   3.2099 -10.2521\n",
       "9442  Topic22      0.002398           elope      1.421569   3.2099 -10.2521\n",
       "9443  Topic22      0.002398      employment      1.421569   3.2099 -10.2521\n",
       "9444  Topic22      0.002398          horton      1.421569   3.2099 -10.2521\n",
       "9445  Topic22      0.002398         barcode      1.421569   3.2099 -10.2521\n",
       "9446  Topic22      0.002398     pole_dancer      1.421569   3.2099 -10.2521\n",
       "9447  Topic22      0.002398            slit      1.421569   3.2099 -10.2521\n",
       "9448  Topic22      0.002398  cable_channels      1.421569   3.2099 -10.2521\n",
       "9449  Topic22      0.002398       ping_pong      1.421569   3.2099 -10.2521\n",
       "9451  Topic22      0.002398      standpoint      1.421569   3.2099 -10.2521\n",
       "9437  Topic22      0.002398     wagyu_gyoza      1.421569   3.2099 -10.2521\n",
       "9452  Topic22      0.002398           starz      1.421569   3.2099 -10.2521\n",
       "9453  Topic22      0.002398       accordion      1.421569   3.2099 -10.2521\n",
       "9454  Topic22      0.002398         capital      1.421569   3.2099 -10.2521\n",
       "9455  Topic22      0.002398      positivity      1.421569   3.2099 -10.2521\n",
       "9456  Topic22      0.002398   kiwi_lemonade      1.421569   3.2099 -10.2521\n",
       "9457  Topic22      0.002398     huachinango      1.421569   3.2099 -10.2521\n",
       "9458  Topic22      0.002398           abode      1.421569   3.2099 -10.2521\n",
       "9459  Topic22      0.002398       cellphone      1.421569   3.2099 -10.2521\n",
       "9460  Topic22      0.002398          legacy      1.421569   3.2099 -10.2521\n",
       "9461  Topic22      0.002398         ongoing      1.421569   3.2099 -10.2521\n",
       "9462  Topic22      0.002398         shibuya      1.421569   3.2099 -10.2521\n",
       "9438  Topic22      0.002398     wasabi_mayo      1.421570   3.2099 -10.2521\n",
       "9436  Topic22      0.002398         kabocha      1.421569   3.2099 -10.2521\n",
       "9409  Topic22      0.002398          abados      1.421569   3.2099 -10.2521\n",
       "9422  Topic22      0.002398           flesh      1.421569   3.2099 -10.2521\n",
       "\n",
       "[1301 rows x 6 columns], token_table=      Topic      Freq             Term\n",
       "term                                  \n",
       "525      16  0.985545         accident\n",
       "899      17  0.996000          account\n",
       "343      10  0.997527           action\n",
       "307       2  0.999565          airport\n",
       "500      14  0.998144          alcohol\n",
       "221      14  0.999434         ambiance\n",
       "397      19  0.998010         ambience\n",
       "182      12  0.998846          amenity\n",
       "816      18  0.985092           amount\n",
       "817      18  0.997033           answer\n",
       "630      20  0.997557          apology\n",
       "648       3  0.995108         appetite\n",
       "345       4  0.999614        appetizer\n",
       "501      10  0.999410             aria\n",
       "818      18  0.926553              arm\n",
       "1        10  0.999656       atmosphere\n",
       "105      12  0.998414        attention\n",
       "398      19  0.999239        attentive\n",
       "732       6  0.997604            avoid\n",
       "730      14  0.998559             back\n",
       "526      16  0.999343            bacon\n",
       "502      14  0.996407          balcony\n",
       "798       9  0.995340             bank\n",
       "230       2  0.998504              bar\n",
       "393      18  0.999285        bartender\n",
       "232       1  0.999054              bed\n",
       "37        5  0.999386             beef\n",
       "38        5  0.997195  beef_wellington\n",
       "2        15  0.999695             beer\n",
       "331      11  0.999618         bellagio\n",
       "...     ...       ...              ...\n",
       "797       7  0.999199             vibe\n",
       "219       1  0.999830             view\n",
       "220      17  0.985977          vinegar\n",
       "294       8  0.999558            visit\n",
       "29        9  0.999697           waffle\n",
       "226       8  0.999776           waiter\n",
       "295       1  0.999407             walk\n",
       "485      14  0.997337          walking\n",
       "298       1  0.999484             wall\n",
       "890      14  0.996743           wallet\n",
       "227       4  0.998706            waste\n",
       "551       2  0.998845            watch\n",
       "486      12  0.999675            water\n",
       "721       9  0.997081          wedding\n",
       "203      15  0.999716          weekend\n",
       "856      18  0.990970           weight\n",
       "204      12  0.998070             wifi\n",
       "153       1  0.999415           window\n",
       "66        4  0.999576             wine\n",
       "391      11  0.998736             wing\n",
       "299       6  0.994338           winter\n",
       "429       2  0.998841            woman\n",
       "750       5  0.996666             word\n",
       "488      18  0.999520             work\n",
       "754      15  0.998700           worker\n",
       "205      15  0.996854          working\n",
       "431      13  0.994902            worth\n",
       "300       9  0.999460             wynn\n",
       "377      12  0.982437             yell\n",
       "744       1  0.999205             york\n",
       "\n",
       "[496 rows x 3 columns], R=30, lambda_step=0.01, plot_opts={'xlab': 'PC1', 'ylab': 'PC2'}, topic_order=[15, 17, 19, 6, 16, 14, 7, 3, 12, 8, 9, 21, 11, 4, 10, 22, 18, 1, 5, 13, 20, 2])"
      ]
     },
     "execution_count": 38,
     "metadata": {},
     "output_type": "execute_result"
    }
   ],
   "source": [
    "# Visualize the topics\n",
    "pyLDAvis.enable_notebook()\n",
    "vis = pyLDAvis.gensim.prepare(lda_model, corpus, dictionary)\n",
    "vis"
   ]
  },
  {
   "cell_type": "markdown",
   "metadata": {},
   "source": [
    "# MALLET"
   ]
  },
  {
   "cell_type": "code",
   "execution_count": 41,
   "metadata": {},
   "outputs": [],
   "source": [
    "# Download: http://mallet.cs.umass.edu/dist/mallet-2.0.8.zip\n",
    "mallet_path = 'mallet-2.0.8/bin/mallet'\n",
    "ldamallet = gensim.models.wrappers.LdaMallet(mallet_path, corpus=corpus, num_topics=22, id2word=dictionary)"
   ]
  },
  {
   "cell_type": "code",
   "execution_count": 42,
   "metadata": {},
   "outputs": [
    {
     "name": "stdout",
     "output_type": "stream",
     "text": [
      "[(19,\n",
      "  '0.147*\"pool\" + 0.146*\"night\" + 0.022*\"day\" + 0.018*\"chair\" + '\n",
      "  '0.016*\"complaint\" + 0.015*\"morning\" + 0.014*\"space\" + 0.014*\"work\" + '\n",
      "  '0.013*\"walk\" + 0.012*\"con\"'),\n",
      " (5,\n",
      "  '0.136*\"chicken\" + 0.101*\"breakfast\" + 0.045*\"coffee\" + 0.042*\"waffle\" + '\n",
      "  '0.039*\"portion\" + 0.034*\"bacon\" + 0.030*\"brunch\" + 0.027*\"potato\" + '\n",
      "  '0.026*\"egg\" + 0.023*\"plate\"'),\n",
      " (1,\n",
      "  '0.142*\"casino\" + 0.032*\"wynn\" + 0.030*\"strip\" + 0.030*\"aria\" + 0.024*\"shop\" '\n",
      "  '+ 0.023*\"resort\" + 0.022*\"game\" + 0.017*\"property\" + 0.017*\"bellagio\" + '\n",
      "  '0.016*\"machine\"'),\n",
      " (8,\n",
      "  '0.120*\"meat\" + 0.098*\"sandwich\" + 0.065*\"lunch\" + 0.047*\"salad\" + '\n",
      "  '0.030*\"bread\" + 0.029*\"sauce\" + 0.023*\"beef\" + 0.022*\"rib\" + '\n",
      "  '0.019*\"brisket\" + 0.017*\"tender\"'),\n",
      " (0,\n",
      "  '0.155*\"restaurant\" + 0.103*\"menu\" + 0.090*\"server\" + 0.063*\"waiter\" + '\n",
      "  '0.051*\"dinner\" + 0.047*\"reservation\" + 0.031*\"birthday\" + 0.024*\"dining\" + '\n",
      "  '0.022*\"kitchen\" + 0.020*\"hostess\"'),\n",
      " (6,\n",
      "  '0.291*\"room\" + 0.035*\"shower\" + 0.026*\"hotel\" + 0.024*\"floor\" + '\n",
      "  '0.023*\"suite\" + 0.020*\"king\" + 0.018*\"stay\" + 0.017*\"front_desk\" + '\n",
      "  '0.015*\"bed\" + 0.014*\"tower\"'),\n",
      " (3,\n",
      "  '0.068*\"customer\" + 0.027*\"check\" + 0.026*\"front_desk\" + 0.024*\"employee\" + '\n",
      "  '0.022*\"phone\" + 0.021*\"guest\" + 0.020*\"care\" + 0.016*\"work\" + 0.014*\"card\" '\n",
      "  '+ 0.013*\"management\"'),\n",
      " (16,\n",
      "  '0.122*\"food\" + 0.074*\"restaurant\" + 0.062*\"beer\" + 0.055*\"friend\" + '\n",
      "  '0.053*\"atmosphere\" + 0.053*\"family\" + 0.051*\"visit\" + 0.050*\"town\" + '\n",
      "  '0.019*\"list\" + 0.014*\"date\"'),\n",
      " (21,\n",
      "  '0.213*\"buffet\" + 0.074*\"dessert\" + 0.043*\"seafood\" + 0.040*\"dinner\" + '\n",
      "  '0.029*\"station\" + 0.024*\"item\" + 0.023*\"lunch\" + 0.023*\"crab_leg\" + '\n",
      "  '0.020*\"oyster\" + 0.020*\"crab\"'),\n",
      " (14,\n",
      "  '0.228*\"vegas\" + 0.083*\"trip\" + 0.046*\"weekend\" + 0.024*\"life\" + '\n",
      "  '0.016*\"mind\" + 0.016*\"rest\" + 0.015*\"level\" + 0.013*\"hand\" + 0.012*\"idea\" + '\n",
      "  '0.011*\"plan\"')]\n"
     ]
    }
   ],
   "source": [
    "# Show Topics\n",
    "pprint(ldamallet.show_topics(formatted=True))\n",
    "\n",
    "# Compute Coherence Score\n",
    "coherence_model_ldamallet = CoherenceModel(model=ldamallet, texts=data_lemmatized, dictionary=dictionary, coherence='c_v')\n",
    "coherence_ldamallet = coherence_model_ldamallet.get_coherence()\n"
   ]
  },
  {
   "cell_type": "code",
   "execution_count": 43,
   "metadata": {},
   "outputs": [
    {
     "name": "stdout",
     "output_type": "stream",
     "text": [
      "\n",
      "Coherence Score:  0.6993164018479532\n"
     ]
    }
   ],
   "source": [
    "print('\\nCoherence Score: ', coherence_ldamallet)"
   ]
  },
  {
   "cell_type": "code",
   "execution_count": 44,
   "metadata": {},
   "outputs": [],
   "source": [
    "# This function computes coherence for a different numbber of topics.\n",
    "# It takes in a gensim dictionary, gensim corpus, list of texts as input, and a max num of topics (limit).\n",
    "# It returns a list of LDA topic models and coherence values that correspond to an LDA model with a specific numbebro f topics\n",
    "def compute_coherence(dictionary, corpus, texts, limit, start=2, step=3):\n",
    "    models_list = []\n",
    "    c_values = []\n",
    "    for num_topics in range(start, limit, step):\n",
    "        model = gensim.models.wrappers.LdaMallet(mallet_path, corpus=corpus, num_topics=num_topics, id2word=dictionary)\n",
    "        models_list.append(model)\n",
    "        coherencemodel = CoherenceModel(model=model, texts=texts, dictionary=dictionary, coherence='c_v')\n",
    "        c_values.append(coherencemodel.get_coherence())\n",
    "    return models_list, c_values"
   ]
  },
  {
   "cell_type": "code",
   "execution_count": 45,
   "metadata": {},
   "outputs": [],
   "source": [
    "models_list, c_values = compute_coherence(dictionary=dictionary, corpus=corpus, texts=data_lemmatized, start=2, limit=40, step=5)"
   ]
  },
  {
   "cell_type": "code",
   "execution_count": 46,
   "metadata": {},
   "outputs": [
    {
     "data": {
      "image/png": "[encoded data removed]",
      "text/plain": [
       "<Figure size 432x288 with 1 Axes>"
      ]
     },
     "metadata": {
      "needs_background": "light"
     },
     "output_type": "display_data"
    }
   ],
   "source": [
    "# Show graph\n",
    "# try this with 22 becasue that's the largest number of categories here\n",
    "limit=40; start=2; step=5;\n",
    "x = range(start, limit, step)\n",
    "plt.plot(x, c_values)\n",
    "plt.xlabel(\"Num Topics\")\n",
    "plt.ylabel(\"Coherence score\")\n",
    "plt.legend((\"c_values\"), loc='best')\n",
    "plt.show()"
   ]
  },
  {
   "cell_type": "code",
   "execution_count": 47,
   "metadata": {},
   "outputs": [
    {
     "name": "stdout",
     "output_type": "stream",
     "text": [
      "Number of Topics = 2  has a Coherence Value of 0.6363\n",
      "Number of Topics = 7  has a Coherence Value of 0.7121\n",
      "Number of Topics = 12  has a Coherence Value of 0.6965\n",
      "Number of Topics = 17  has a Coherence Value of 0.7026\n",
      "Number of Topics = 22  has a Coherence Value of 0.6995\n",
      "Number of Topics = 27  has a Coherence Value of 0.6984\n",
      "Number of Topics = 32  has a Coherence Value of 0.6837\n",
      "Number of Topics = 37  has a Coherence Value of 0.6853\n"
     ]
    }
   ],
   "source": [
    "# Print the coherence scores\n",
    "for m, cv in zip(x, c_values):\n",
    "    print(\"Number of Topics =\", m, \" has a Coherence Value of\", round(cv, 4))"
   ]
  },
  {
   "cell_type": "code",
   "execution_count": 51,
   "metadata": {},
   "outputs": [
    {
     "name": "stdout",
     "output_type": "stream",
     "text": [
      "[(0,\n",
      "  '0.174*\"room\" + 0.096*\"hotel\" + 0.035*\"check\" + 0.034*\"pool\" + 0.023*\"floor\" '\n",
      "  '+ 0.018*\"stay\" + 0.016*\"night\" + 0.013*\"front_desk\" + 0.012*\"shower\" + '\n",
      "  '0.012*\"elevator\"'),\n",
      " (1,\n",
      "  '0.069*\"vegas\" + 0.065*\"strip\" + 0.053*\"casino\" + 0.024*\"trip\" + '\n",
      "  '0.020*\"hotel\" + 0.019*\"money\" + 0.016*\"parking\" + 0.014*\"view\" + '\n",
      "  '0.014*\"bellagio\" + 0.014*\"walk\"'),\n",
      " (2,\n",
      "  '0.112*\"food\" + 0.082*\"buffet\" + 0.043*\"dinner\" + 0.040*\"price\" + '\n",
      "  '0.038*\"pizza\" + 0.037*\"dessert\" + 0.034*\"breakfast\" + 0.025*\"lunch\" + '\n",
      "  '0.022*\"line\" + 0.017*\"plate\"'),\n",
      " (3,\n",
      "  '0.071*\"burger\" + 0.037*\"chicken\" + 0.029*\"steak\" + 0.029*\"fry\" + '\n",
      "  '0.025*\"cheese\" + 0.025*\"menu\" + 0.018*\"flavor\" + 0.018*\"bread\" + '\n",
      "  '0.016*\"bacon\" + 0.016*\"portion\"'),\n",
      " (4,\n",
      "  '0.044*\"night\" + 0.043*\"line\" + 0.025*\"club\" + 0.022*\"show\" + 0.016*\"music\" '\n",
      "  '+ 0.015*\"airport\" + 0.012*\"seat\" + 0.012*\"vegas\" + 0.011*\"security\" + '\n",
      "  '0.009*\"guy\"'),\n",
      " (5,\n",
      "  '0.049*\"restaurant\" + 0.041*\"drink\" + 0.035*\"server\" + 0.025*\"customer\" + '\n",
      "  '0.022*\"reservation\" + 0.021*\"friend\" + 0.018*\"beer\" + 0.017*\"water\" + '\n",
      "  '0.016*\"visit\" + 0.015*\"family\"'),\n",
      " (6,\n",
      "  '0.105*\"food\" + 0.039*\"meat\" + 0.038*\"restaurant\" + 0.031*\"sandwich\" + '\n",
      "  '0.026*\"dish\" + 0.016*\"taco\" + 0.014*\"beef\" + 0.013*\"sauce\" + 0.013*\"menu\" + '\n",
      "  '0.013*\"salad\"')]\n"
     ]
    }
   ],
   "source": [
    "# Select the model and print the topics\n",
    "best_model = models_list[1]\n",
    "model_topics = best_model.show_topics(formatted=False)\n",
    "pprint(best_model.print_topics(num_words=10))"
   ]
  },
  {
   "cell_type": "code",
   "execution_count": 52,
   "metadata": {},
   "outputs": [],
   "source": [
    "# Showing the most dominant topic in each review - is essentially categorizing each review into a topic created by the topic model\n",
    "# Modified function from https://www.machinelearningplus.com/nlp/topic-modeling-gensim-python/\n",
    "\n",
    "def format_dom_topics_(ldamodel=lda_model, corpus=corpus, texts=data):\n",
    "    #Create Dataframe\n",
    "    sentence_topics_df = pd.DataFrame()\n",
    "    \n",
    "    # Main topic in each review\n",
    "    for i, row in enumerate(ldamodel[corpus]):\n",
    "        row = sorted(row, key=lambda x: (x[1]), reverse=True)\n",
    "        \n",
    "        # Get the dom topic, % contribution and keywords for each document\n",
    "        for j, (topic_num, prop_topic) in enumerate(row):\n",
    "            if j == 0:  # => dominant topic\n",
    "                # Get the representation for a single topic; word_prop = word proportion\n",
    "                word_prop = ldamodel.show_topic(topic_num)\n",
    "                keywords_for_topic = \", \".join([word for word, proportion in word_prop])\n",
    "                sentence_topics_df =  sentence_topics_df.append(pd.Series([int(topic_num), round(prop_topic,4), keywords_for_topic]), ignore_index=True)\n",
    "            else:\n",
    "                break\n",
    "    sentence_topics_df.columns = ['Dominant Topic', '% Contribution', 'Topic Keywords']\n",
    "\n",
    "    contents = pd.Series(texts)\n",
    "    sentence_topics_df = pd.concat([sentence_topics_df, contents], axis=1)\n",
    "    return(sentence_topics_df)"
   ]
  },
  {
   "cell_type": "code",
   "execution_count": 53,
   "metadata": {},
   "outputs": [],
   "source": [
    "df_topic_sents_keywords = format_dom_topics_(ldamodel=best_model, corpus=corpus, texts=data)\n",
    "\n",
    "df_dominant_topic = df_topic_sents_keywords.reset_index()\n",
    "df_dominant_topic.columns = ['Review #', 'Dominant Topic', 'Topic % Contrib', 'Keywords', 'Text']"
   ]
  },
  {
   "cell_type": "code",
   "execution_count": 54,
   "metadata": {},
   "outputs": [
    {
     "data": {
      "text/plain": [
       "3.0    0.1852\n",
       "0.0    0.1790\n",
       "2.0    0.1685\n",
       "6.0    0.1664\n",
       "5.0    0.1097\n",
       "1.0    0.0968\n",
       "4.0    0.0943\n",
       "Name: Dominant Topic, dtype: float64"
      ]
     },
     "execution_count": 54,
     "metadata": {},
     "output_type": "execute_result"
    }
   ],
   "source": [
    "# topic distribition across documents\n",
    "topic_counts = df_topic_sents_keywords['Dominant Topic'].value_counts()\n",
    "\n",
    "# Percentage of Documents for Each Topic\n",
    "topic_contribution = round(topic_counts/topic_counts.sum(), 4)\n",
    "topic_contribution\n",
    "\n"
   ]
  },
  {
   "cell_type": "code",
   "execution_count": null,
   "metadata": {},
   "outputs": [],
   "source": []
  }
 ],
 "metadata": {
  "kernelspec": {
   "display_name": "Python 3",
   "language": "python",
   "name": "python3"
  },
  "language_info": {
   "codemirror_mode": {
    "name": "ipython",
    "version": 3
   },
   "file_extension": ".py",
   "mimetype": "text/x-python",
   "name": "python",
   "nbconvert_exporter": "python",
   "pygments_lexer": "ipython3",
   "version": "3.6.8"
  }
 },
 "nbformat": 4,
 "nbformat_minor": 2
}
