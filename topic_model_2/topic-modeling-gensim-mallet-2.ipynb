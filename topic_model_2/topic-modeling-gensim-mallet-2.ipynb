{
 "cells": [
  {
   "cell_type": "code",
   "execution_count": 80,
   "metadata": {},
   "outputs": [
    {
     "name": "stderr",
     "output_type": "stream",
     "text": [
      "[nltk_data] Downloading package stopwords to\n",
      "[nltk_data]     /Users/nitashakochar/nltk_data...\n",
      "[nltk_data]   Package stopwords is already up-to-date!\n"
     ]
    },
    {
     "data": {
      "text/plain": [
       "True"
      ]
     },
     "execution_count": 80,
     "metadata": {},
     "output_type": "execute_result"
    }
   ],
   "source": [
    "import nltk\n",
    "nltk.download('stopwords')\n"
   ]
  },
  {
   "cell_type": "code",
   "execution_count": 81,
   "metadata": {},
   "outputs": [],
   "source": [
    "import nltk\n",
    "from nltk import FreqDist\n",
    "import re\n",
    "import numpy as np\n",
    "import pandas as pd\n",
    "from pprint import pprint\n",
    "\n",
    "# Gensim\n",
    "import gensim\n",
    "import gensim.corpora as corpora\n",
    "from gensim.utils import simple_preprocess\n",
    "from gensim.models import CoherenceModel\n",
    "\n",
    "# spacy used for lemmatization\n",
    "import spacy\n",
    "\n",
    "# Tools for plotting topic model\n",
    "import pyLDAvis\n",
    "import pyLDAvis.gensim \n",
    "import matplotlib.pyplot as plt\n",
    "%matplotlib inline\n",
    "\n",
    "# FreqDist visualization\n",
    "import seaborn as sns"
   ]
  },
  {
   "cell_type": "code",
   "execution_count": 82,
   "metadata": {},
   "outputs": [
    {
     "data": {
      "text/html": [
       "<div>\n",
       "<style scoped>\n",
       "    .dataframe tbody tr th:only-of-type {\n",
       "        vertical-align: middle;\n",
       "    }\n",
       "\n",
       "    .dataframe tbody tr th {\n",
       "        vertical-align: top;\n",
       "    }\n",
       "\n",
       "    .dataframe thead th {\n",
       "        text-align: right;\n",
       "    }\n",
       "</style>\n",
       "<table border=\"1\" class=\"dataframe\">\n",
       "  <thead>\n",
       "    <tr style=\"text-align: right;\">\n",
       "      <th></th>\n",
       "      <th>index</th>\n",
       "      <th>business_id</th>\n",
       "      <th>cool</th>\n",
       "      <th>date</th>\n",
       "      <th>funny</th>\n",
       "      <th>review_id</th>\n",
       "      <th>stars</th>\n",
       "      <th>text</th>\n",
       "      <th>useful</th>\n",
       "      <th>user_id</th>\n",
       "    </tr>\n",
       "  </thead>\n",
       "  <tbody>\n",
       "    <tr>\n",
       "      <th>0</th>\n",
       "      <td>4333274</td>\n",
       "      <td>IWN2heYitkg-D4UdqfxcMA</td>\n",
       "      <td>0</td>\n",
       "      <td>2015-10-29 12:53:11</td>\n",
       "      <td>0</td>\n",
       "      <td>0maSioOL3q-LcZz_rqVeXw</td>\n",
       "      <td>5</td>\n",
       "      <td>Wow, we LOVED this place! We went on a Sunday ...</td>\n",
       "      <td>0</td>\n",
       "      <td>4ndo0S-dn8t_aKZxTW5KsQ</td>\n",
       "    </tr>\n",
       "    <tr>\n",
       "      <th>1</th>\n",
       "      <td>2582902</td>\n",
       "      <td>rcaPajgKOJC2vo_l3xa42A</td>\n",
       "      <td>0</td>\n",
       "      <td>2015-08-06 05:11:04</td>\n",
       "      <td>0</td>\n",
       "      <td>YNWxYHQscRZuh5BWArk4xA</td>\n",
       "      <td>5</td>\n",
       "      <td>Let's start with dessert... Four diners chose ...</td>\n",
       "      <td>0</td>\n",
       "      <td>D86zT4klAF6Em3UpljEBaA</td>\n",
       "    </tr>\n",
       "    <tr>\n",
       "      <th>10</th>\n",
       "      <td>1567053</td>\n",
       "      <td>JpgVl3d20CMRNjf1DVnzGA</td>\n",
       "      <td>1</td>\n",
       "      <td>2014-08-31 01:51:22</td>\n",
       "      <td>1</td>\n",
       "      <td>fcpzuj26HdrqUdUHv10cHg</td>\n",
       "      <td>3</td>\n",
       "      <td>If you've been to a nice churrascaria before t...</td>\n",
       "      <td>4</td>\n",
       "      <td>sEtPEkIFi5UdBx-GCWPAgA</td>\n",
       "    </tr>\n",
       "    <tr>\n",
       "      <th>100</th>\n",
       "      <td>753034</td>\n",
       "      <td>iCQpiavjjPzJ5_3gPD5Ebg</td>\n",
       "      <td>0</td>\n",
       "      <td>2014-07-15 01:40:31</td>\n",
       "      <td>0</td>\n",
       "      <td>HibiYgdElligW6XXLxxvog</td>\n",
       "      <td>5</td>\n",
       "      <td>Amazing doesn't even begin to describe this pi...</td>\n",
       "      <td>0</td>\n",
       "      <td>SqeBzCpSehkkI_UbrMmktw</td>\n",
       "    </tr>\n",
       "    <tr>\n",
       "      <th>1000</th>\n",
       "      <td>6204300</td>\n",
       "      <td>2weQS-RnoOBhb1KsHKyoSQ</td>\n",
       "      <td>0</td>\n",
       "      <td>2016-02-15 18:42:18</td>\n",
       "      <td>2</td>\n",
       "      <td>V6fWULsIRsu7hAIlbj8n1g</td>\n",
       "      <td>2</td>\n",
       "      <td>This was a ehhh buffet in my opinion. Well ove...</td>\n",
       "      <td>2</td>\n",
       "      <td>Nnki4lJhXJ2H1ew_wTrlmQ</td>\n",
       "    </tr>\n",
       "  </tbody>\n",
       "</table>\n",
       "</div>"
      ],
      "text/plain": [
       "        index             business_id  cool                date  funny  \\\n",
       "0     4333274  IWN2heYitkg-D4UdqfxcMA     0 2015-10-29 12:53:11      0   \n",
       "1     2582902  rcaPajgKOJC2vo_l3xa42A     0 2015-08-06 05:11:04      0   \n",
       "10    1567053  JpgVl3d20CMRNjf1DVnzGA     1 2014-08-31 01:51:22      1   \n",
       "100    753034  iCQpiavjjPzJ5_3gPD5Ebg     0 2014-07-15 01:40:31      0   \n",
       "1000  6204300  2weQS-RnoOBhb1KsHKyoSQ     0 2016-02-15 18:42:18      2   \n",
       "\n",
       "                   review_id  stars  \\\n",
       "0     0maSioOL3q-LcZz_rqVeXw      5   \n",
       "1     YNWxYHQscRZuh5BWArk4xA      5   \n",
       "10    fcpzuj26HdrqUdUHv10cHg      3   \n",
       "100   HibiYgdElligW6XXLxxvog      5   \n",
       "1000  V6fWULsIRsu7hAIlbj8n1g      2   \n",
       "\n",
       "                                                   text  useful  \\\n",
       "0     Wow, we LOVED this place! We went on a Sunday ...       0   \n",
       "1     Let's start with dessert... Four diners chose ...       0   \n",
       "10    If you've been to a nice churrascaria before t...       4   \n",
       "100   Amazing doesn't even begin to describe this pi...       0   \n",
       "1000  This was a ehhh buffet in my opinion. Well ove...       2   \n",
       "\n",
       "                     user_id  \n",
       "0     4ndo0S-dn8t_aKZxTW5KsQ  \n",
       "1     D86zT4klAF6Em3UpljEBaA  \n",
       "10    sEtPEkIFi5UdBx-GCWPAgA  \n",
       "100   SqeBzCpSehkkI_UbrMmktw  \n",
       "1000  Nnki4lJhXJ2H1ew_wTrlmQ  "
      ]
     },
     "execution_count": 82,
     "metadata": {},
     "output_type": "execute_result"
    }
   ],
   "source": [
    "import pandas as pd\n",
    "with open('2sample_50000_2.json', 'r') as json_file: \n",
    "        df = pd.read_json(json_file, lines = False)\n",
    "df.head()\n"
   ]
  },
  {
   "cell_type": "code",
   "execution_count": 83,
   "metadata": {},
   "outputs": [
    {
     "data": {
      "image/png": "[encoded data removed]",
      "text/plain": [
       "<Figure size 1440x360 with 1 Axes>"
      ]
     },
     "metadata": {
      "needs_background": "light"
     },
     "output_type": "display_data"
    }
   ],
   "source": [
    "# function to plot most frequent terms\n",
    "def freq_words(x, terms = 30):\n",
    "    all_the_words = ' '.join([text for text in x])\n",
    "    all_the_words = all_the_words.split()\n",
    "    fdist = FreqDist(all_the_words)\n",
    "    words_df = pd.DataFrame({'term':list(fdist.keys()), 'count':list(fdist.values())})\n",
    "    # selecting top 20 most frequent words\n",
    "    dt = words_df.nlargest(columns=\"count\", n = terms) \n",
    "    plt.figure(figsize=(20,5))\n",
    "    ax = sns.barplot(data=dt, x= \"term\", y = \"count\")\n",
    "    ax.set(ylabel = 'Count')\n",
    "    plt.show()\n",
    "    \n",
    "\n",
    "freq_words(df['text'])\n",
    "\n",
    "# freq function adopted from https://www.analyticsvidhya.com/blog/2018/10/mining-online-reviews-topic-modeling-lda/"
   ]
  },
  {
   "cell_type": "code",
   "execution_count": 84,
   "metadata": {},
   "outputs": [
    {
     "name": "stdout",
     "output_type": "stream",
     "text": [
      "[\"Let's start with dessert... Four diners chose four desserts.... Figs n Berries with Thyme ice cream , Creme BrÃ»lÃ©e , lemon tart with pinion crust, and something with chocolate sauce!!! No fault with this sweet array of perfection! Was surprised waiter made no after dinner beverage recommendations. Waiter was friendly and staff attentive! Refills were abundant, first rate attention to every detail! While the choice of swordfish was mine... It was the trout that stole the show where fish was concerned! It's so delightful to dine with foodies who live to share bites! Chicken was succulent also putting my dry swordfish to shame. It was a shame I didn't eat more of the laurel bread n butter... Sweet cream butter... Laid out directly on the tablecloth...interesting... And why Not???now let's talk Lamb! Moist, tender rich in flavor...four nice medallions made mouths water. The contents of that plate evaporated swiftly! Sooo yummy! Beer list is nice, waitstaff is knowledgeable on pairings and speak confidently as to menu items ingredients and methods of preparations. Inquires re: diners allergies raise awareness that the kitchen staff is able to help avoid even inadvertent cross allergen exposure! Bravo/ Brava!\"]\n"
     ]
    }
   ],
   "source": [
    "# Convert to list\n",
    "data = df.text.values.tolist()\n",
    "\n",
    "# Remove new line characters\n",
    "data = [re.sub('\\s+', ' ', sent) for sent in data]\n",
    "\n",
    "\n",
    "print(data[1:2])"
   ]
  },
  {
   "cell_type": "code",
   "execution_count": 85,
   "metadata": {},
   "outputs": [
    {
     "name": "stdout",
     "output_type": "stream",
     "text": [
      "[['let', 'start', 'with', 'dessert', 'four', 'diners', 'chose', 'four', 'desserts', 'figs', 'berries', 'with', 'thyme', 'ice', 'cream', 'creme', 'bra', 'la', 'lemon', 'tart', 'with', 'pinion', 'crust', 'and', 'something', 'with', 'chocolate', 'sauce', 'no', 'fault', 'with', 'this', 'sweet', 'array', 'of', 'perfection', 'was', 'surprised', 'waiter', 'made', 'no', 'after', 'dinner', 'beverage', 'recommendations', 'waiter', 'was', 'friendly', 'and', 'staff', 'attentive', 'refills', 'were', 'abundant', 'first', 'rate', 'attention', 'to', 'every', 'detail', 'while', 'the', 'choice', 'of', 'swordfish', 'was', 'mine', 'it', 'was', 'the', 'trout', 'that', 'stole', 'the', 'show', 'where', 'fish', 'was', 'concerned', 'it', 'so', 'delightful', 'to', 'dine', 'with', 'foodies', 'who', 'live', 'to', 'share', 'bites', 'chicken', 'was', 'succulent', 'also', 'putting', 'my', 'dry', 'swordfish', 'to', 'shame', 'it', 'was', 'shame', 'didn', 'eat', 'more', 'of', 'the', 'laurel', 'bread', 'butter', 'sweet', 'cream', 'butter', 'laid', 'out', 'directly', 'on', 'the', 'tablecloth', 'interesting', 'and', 'why', 'not', 'now', 'let', 'talk', 'lamb', 'moist', 'tender', 'rich', 'in', 'flavor', 'four', 'nice', 'medallions', 'made', 'mouths', 'water', 'the', 'contents', 'of', 'that', 'plate', 'evaporated', 'swiftly', 'sooo', 'yummy', 'beer', 'list', 'is', 'nice', 'waitstaff', 'is', 'knowledgeable', 'on', 'pairings', 'and', 'speak', 'confidently', 'as', 'to', 'menu', 'items', 'ingredients', 'and', 'methods', 'of', 'preparations', 'inquires', 're', 'diners', 'allergies', 'raise', 'awareness', 'that', 'the', 'kitchen', 'staff', 'is', 'able', 'to', 'help', 'avoid', 'even', 'inadvertent', 'cross', 'allergen', 'exposure', 'bravo', 'brava']]\n"
     ]
    }
   ],
   "source": [
    "# Tokenize words and clean-up text\n",
    "# deacc=True removes punctuations\n",
    "\n",
    "def tokenize_reviews(reviews):\n",
    "    for review in reviews:\n",
    "        yield(gensim.utils.simple_preprocess(str(review), deacc=True))\n",
    "\n",
    "word_data = list(tokenize_reviews(data))\n",
    "\n",
    "print(word_data[1:2])\n"
   ]
  },
  {
   "cell_type": "code",
   "execution_count": 86,
   "metadata": {},
   "outputs": [],
   "source": [
    "# Creating bigram and trigram models\n",
    "bigram = gensim.models.Phrases(word_data, min_count=5, threshold=100)\n",
    "bigram_model = gensim.models.phrases.Phraser(bigram)\n",
    "\n",
    "trigram = gensim.models.Phrases(bigram[word_data], threshold=100)  \n",
    "trigram_model = gensim.models.phrases.Phraser(trigram)\n",
    "\n"
   ]
  },
  {
   "cell_type": "code",
   "execution_count": 87,
   "metadata": {},
   "outputs": [],
   "source": [
    "# NLTK Stop words\n",
    "from nltk.corpus import stopwords\n",
    "stop_words = stopwords.words('english')\n",
    "BuckleySaltonSWL = open(\"stopwords copy.txt\").read().splitlines()\n",
    "stop_words.extend([w.lower() for w in BuckleySaltonSWL])"
   ]
  },
  {
   "cell_type": "code",
   "execution_count": 88,
   "metadata": {},
   "outputs": [],
   "source": [
    "# Simple preprocess comes from Gensim library found here: \n",
    "# https://tedboy.github.io/nlps/generated/generated/gensim.utils.simple_preprocess.html\n",
    "    \n",
    "nlp = spacy.load('en', disable=['parser', 'ner'])\n",
    "\n",
    "# Define functions for stopwords, bigrams, trigrams and lemmatization\n",
    "def remove_stopwords(texts):\n",
    "    return [[word for word in simple_preprocess(str(doc)) if word not in stop_words] for doc in texts]\n",
    "\n",
    "def create_bigrams(texts):\n",
    "    return [bigram_model[doc] for doc in texts]\n",
    "\n",
    "def create_trigrams(texts):\n",
    "    return [trigram_model[bigram_model[doc]] for doc in texts]\n",
    "\n",
    "def lemmatization(texts, allowed_postags=['NOUN', 'ADJ', 'VERB', 'ADV']):\n",
    "    \"\"\"https://spacy.io/api/annotation\"\"\"\n",
    "    texts_out = []\n",
    "    for sentence in texts:\n",
    "        doc = nlp(\" \".join(sentence)) \n",
    "        texts_out.append([token.lemma_ for token in doc if token.pos_ in allowed_postags and len(token) > 3])\n",
    "    return texts_out"
   ]
  },
  {
   "cell_type": "code",
   "execution_count": 89,
   "metadata": {},
   "outputs": [
    {
     "name": "stdout",
     "output_type": "stream",
     "text": [
      "[['brunch', 'decor', 'white', 'restaurant', 'patio', 'lot', 'sunlight', 'attentive', 'snob', 'salad', 'protein', 'omelette', 'tasty', 'sugar', 'coma', 'bowl', 'fruit', 'dish', 'snack', 'restaurant']]\n"
     ]
    }
   ],
   "source": [
    "# Remove Stop Words\n",
    "data_words_nostops = remove_stopwords(data_words)\n",
    "\n",
    "# Create bigrams\n",
    "data_bigrams = create_bigrams(data_words_nostops)\n",
    "\n",
    "# Create trigrams\n",
    "data_trigrams = create_trigrams(data_bigrams)\n",
    "\n",
    "data_lemmatized = lemmatization(data_trigrams, allowed_postags=['NOUN'])\n",
    "\n",
    "print(data_lemmatized[:1])\n"
   ]
  },
  {
   "cell_type": "code",
   "execution_count": 90,
   "metadata": {},
   "outputs": [],
   "source": [
    "# make each array into a string\n",
    "list_of_strings=[]\n",
    "for row in data_lemmatized:\n",
    "    string = \" \".join(row)\n",
    "    list_of_strings.append(string)\n",
    "\n",
    "list_of_strings\n",
    "\n",
    "# make all words into 1 large string\n",
    "big_string=''\n",
    "for row in data_lemmatized:\n",
    "    string = \" \".join(row)\n",
    "    big_string = big_string + string"
   ]
  },
  {
   "cell_type": "code",
   "execution_count": 91,
   "metadata": {},
   "outputs": [],
   "source": [
    "import nltk\n",
    "tokens = nltk.word_tokenize(big_string)\n",
    "\n",
    "fdist = FreqDist(tokens)"
   ]
  },
  {
   "cell_type": "code",
   "execution_count": 92,
   "metadata": {},
   "outputs": [
    {
     "data": {
      "text/plain": [
       "[('room', 27563),\n",
       " ('food', 23668),\n",
       " ('hotel', 15915),\n",
       " ('vegas', 10301),\n",
       " ('restaurant', 9563),\n",
       " ('night', 9151),\n",
       " ('buffet', 8841),\n",
       " ('burger', 8388),\n",
       " ('line', 8099),\n",
       " ('strip', 7640),\n",
       " ('casino', 6787),\n",
       " ('price', 6702),\n",
       " ('pool', 6077),\n",
       " ('chicken', 5904),\n",
       " ('check', 5242),\n",
       " ('drink', 5016),\n",
       " ('dinner', 4758),\n",
       " ('meat', 4751),\n",
       " ('server', 4674),\n",
       " ('menu', 4643)]"
      ]
     },
     "execution_count": 92,
     "metadata": {},
     "output_type": "execute_result"
    }
   ],
   "source": [
    "fdist.most_common(20)"
   ]
  },
  {
   "cell_type": "code",
   "execution_count": 93,
   "metadata": {},
   "outputs": [
    {
     "name": "stdout",
     "output_type": "stream",
     "text": [
      "[[(0, 1), (1, 1), (2, 1), (3, 1), (4, 1), (5, 1), (6, 1), (7, 1), (8, 1), (9, 1), (10, 1), (11, 2), (12, 1), (13, 1), (14, 1), (15, 1), (16, 1), (17, 1), (18, 1)]]\n"
     ]
    }
   ],
   "source": [
    "# Create dictionary and corpus needed for topic modeling\n",
    "\n",
    "dictionary = corpora.Dictionary(data_lemmatized)\n",
    "\n",
    "# Create Corpus\n",
    "text_corpus = data_lemmatized\n",
    "\n",
    "# Term Document Frequency\n",
    "corpus = [dictionary.doc2bow(text) for text in text_corpus]\n",
    "\n",
    "# View\n",
    "print(corpus[:1])"
   ]
  },
  {
   "cell_type": "code",
   "execution_count": 94,
   "metadata": {},
   "outputs": [
    {
     "data": {
      "text/plain": [
       "[[('attentive', 1),\n",
       "  ('bowl', 1),\n",
       "  ('brunch', 1),\n",
       "  ('coma', 1),\n",
       "  ('decor', 1),\n",
       "  ('dish', 1),\n",
       "  ('fruit', 1),\n",
       "  ('lot', 1),\n",
       "  ('omelette', 1),\n",
       "  ('patio', 1),\n",
       "  ('protein', 1),\n",
       "  ('restaurant', 2),\n",
       "  ('salad', 1),\n",
       "  ('snack', 1),\n",
       "  ('snob', 1),\n",
       "  ('sugar', 1),\n",
       "  ('sunlight', 1),\n",
       "  ('tasty', 1),\n",
       "  ('white', 1)]]"
      ]
     },
     "execution_count": 94,
     "metadata": {},
     "output_type": "execute_result"
    }
   ],
   "source": [
    "# Term-frequency\n",
    "[[(dictionary[id], freq) for id, freq in cp] for cp in corpus[:1]]"
   ]
  },
  {
   "cell_type": "code",
   "execution_count": 95,
   "metadata": {},
   "outputs": [],
   "source": [
    "# Building a topic model!\n",
    "lda_model = gensim.models.ldamodel.LdaModel(corpus=corpus,\n",
    "                                           id2word=dictionary,\n",
    "                                           num_topics=22, \n",
    "                                           random_state=100,\n",
    "                                           update_every=1,\n",
    "                                           chunksize=100,\n",
    "                                           passes=30,\n",
    "                                           alpha='auto',\n",
    "                                           per_word_topics=True)"
   ]
  },
  {
   "cell_type": "markdown",
   "metadata": {},
   "source": [
    "# INFER TOPICS FROM KEYWORDS HERE:"
   ]
  },
  {
   "cell_type": "code",
   "execution_count": 96,
   "metadata": {},
   "outputs": [
    {
     "name": "stdout",
     "output_type": "stream",
     "text": [
      "[(16,\n",
      "  '0.367*\"sandwich\" + 0.243*\"party\" + 0.119*\"shop\" + 0.092*\"list\" + '\n",
      "  '0.016*\"mission\" + 0.013*\"scottsdale\" + 0.013*\"bread\" + 0.011*\"future\" + '\n",
      "  '0.010*\"dancing\" + 0.004*\"seattle\"'),\n",
      " (1,\n",
      "  '0.572*\"burger\" + 0.251*\"fry\" + 0.036*\"slot\" + 0.014*\"milkshake\" + '\n",
      "  '0.008*\"earth\" + 0.008*\"recipe\" + 0.007*\"eating\" + 0.007*\"ranch\" + '\n",
      "  '0.006*\"knife\" + 0.005*\"nickel\"'),\n",
      " (7,\n",
      "  '0.165*\"bacon\" + 0.112*\"pork\" + 0.089*\"employee\" + 0.088*\"raman\" + '\n",
      "  '0.082*\"noodle\" + 0.064*\"meal\" + 0.060*\"worker\" + 0.049*\"order\" + '\n",
      "  '0.048*\"joke\" + 0.045*\"local\"'),\n",
      " (4,\n",
      "  '0.359*\"steak\" + 0.081*\"book\" + 0.070*\"chip\" + 0.057*\"desk\" + '\n",
      "  '0.043*\"alcohol\" + 0.031*\"mussel\" + 0.029*\"lover\" + 0.028*\"mood\" + '\n",
      "  '0.028*\"anniversary\" + 0.028*\"soda\"'),\n",
      " (15,\n",
      "  '0.148*\"wynn\" + 0.109*\"suite\" + 0.104*\"security\" + 0.083*\"bed\" + '\n",
      "  '0.081*\"sign\" + 0.038*\"shopping\" + 0.033*\"hate\" + 0.032*\"terminal\" + '\n",
      "  '0.031*\"poker\" + 0.031*\"direction\"'),\n",
      " (8,\n",
      "  '0.114*\"life\" + 0.113*\"aria\" + 0.086*\"cost\" + 0.081*\"level\" + 0.078*\"oyster\" '\n",
      "  '+ 0.072*\"change\" + 0.068*\"smoke\" + 0.042*\"haha\" + 0.036*\"avoid\" + '\n",
      "  '0.035*\"cook\"'),\n",
      " (18,\n",
      "  '0.152*\"beer\" + 0.080*\"card\" + 0.071*\"phone\" + 0.071*\"game\" + 0.068*\"number\" '\n",
      "  '+ 0.061*\"ticket\" + 0.047*\"play\" + 0.042*\"vacation\" + 0.040*\"machine\" + '\n",
      "  '0.040*\"door\"'),\n",
      " (3,\n",
      "  '0.212*\"customer\" + 0.151*\"group\" + 0.146*\"airport\" + 0.077*\"sausage\" + '\n",
      "  '0.052*\"hype\" + 0.050*\"woman\" + 0.049*\"wing\" + 0.037*\"bone\" + 0.032*\"dance\" '\n",
      "  '+ 0.028*\"highlight\"'),\n",
      " (12,\n",
      "  '0.269*\"breakfast\" + 0.162*\"coffee\" + 0.098*\"morning\" + 0.068*\"egg\" + '\n",
      "  '0.057*\"space\" + 0.054*\"opinion\" + 0.041*\"chance\" + 0.038*\"corner\" + '\n",
      "  '0.032*\"hash\" + 0.021*\"spend\"'),\n",
      " (13,\n",
      "  '0.243*\"friend\" + 0.124*\"deal\" + 0.119*\"work\" + 0.104*\"bite\" + 0.075*\"lady\" '\n",
      "  '+ 0.048*\"evening\" + 0.047*\"picture\" + 0.026*\"sheet\" + 0.024*\"curry\" + '\n",
      "  '0.021*\"alot\"'),\n",
      " (14,\n",
      "  '0.126*\"visit\" + 0.068*\"fish\" + 0.060*\"butter\" + 0.055*\"mouth\" + '\n",
      "  '0.045*\"perfection\" + 0.044*\"ingredient\" + 0.038*\"city\" + 0.038*\"face\" + '\n",
      "  '0.034*\"case\" + 0.030*\"talk\"'),\n",
      " (17,\n",
      "  '0.206*\"pizza\" + 0.120*\"show\" + 0.098*\"atmosphere\" + 0.083*\"music\" + '\n",
      "  '0.073*\"seat\" + 0.061*\"slice\" + 0.034*\"downtown\" + 0.027*\"story\" + '\n",
      "  '0.026*\"crispy\" + 0.022*\"front\"'),\n",
      " (11,\n",
      "  '0.237*\"dinner\" + 0.165*\"lunch\" + 0.078*\"brunch\" + 0.070*\"lot\" + '\n",
      "  '0.046*\"chef\" + 0.043*\"bowl\" + 0.035*\"gelato\" + 0.033*\"finish\" + '\n",
      "  '0.033*\"fruit\" + 0.024*\"margarita\"'),\n",
      " (6,\n",
      "  '0.399*\"night\" + 0.119*\"club\" + 0.065*\"charge\" + 0.053*\"mind\" + 0.046*\"guy\" '\n",
      "  '+ 0.043*\"girl\" + 0.040*\"bartender\" + 0.024*\"comp\" + 0.022*\"mistake\" + '\n",
      "  '0.021*\"fridge\"'),\n",
      " (21,\n",
      "  '0.360*\"line\" + 0.045*\"share\" + 0.044*\"rib\" + 0.040*\"tender\" + 0.040*\"patio\" '\n",
      "  '+ 0.035*\"salmon\" + 0.033*\"brisket\" + 0.033*\"mushroom\" + 0.030*\"find\" + '\n",
      "  '0.028*\"head\"'),\n",
      " (5,\n",
      "  '0.148*\"trip\" + 0.130*\"taste\" + 0.072*\"decor\" + 0.058*\"chocolate\" + '\n",
      "  '0.053*\"bottle\" + 0.051*\"resort\" + 0.046*\"entree\" + 0.046*\"window\" + '\n",
      "  '0.045*\"complaint\" + 0.034*\"piece\"'),\n",
      " (19,\n",
      "  '0.225*\"chicken\" + 0.080*\"town\" + 0.080*\"taco\" + 0.079*\"family\" + '\n",
      "  '0.073*\"hand\" + 0.069*\"waffle\" + 0.030*\"rest\" + 0.027*\"nachos\" + '\n",
      "  '0.026*\"expectation\" + 0.025*\"enjoy\"'),\n",
      " (20,\n",
      "  '0.280*\"buffet\" + 0.057*\"item\" + 0.057*\"seafood\" + 0.046*\"kind\" + '\n",
      "  '0.045*\"shrimp\" + 0.045*\"roll\" + 0.035*\"crab_leg\" + 0.029*\"crab\" + '\n",
      "  '0.025*\"pasta\" + 0.021*\"fountain\"'),\n",
      " (2,\n",
      "  '0.203*\"room\" + 0.138*\"hotel\" + 0.056*\"strip\" + 0.052*\"casino\" + '\n",
      "  '0.043*\"pool\" + 0.037*\"check\" + 0.028*\"view\" + 0.026*\"floor\" + 0.025*\"water\" '\n",
      "  '+ 0.021*\"stay\"'),\n",
      " (0,\n",
      "  '0.221*\"food\" + 0.089*\"restaurant\" + 0.076*\"vegas\" + 0.058*\"price\" + '\n",
      "  '0.040*\"meat\" + 0.038*\"menu\" + 0.037*\"dessert\" + 0.037*\"server\" + '\n",
      "  '0.033*\"drink\" + 0.029*\"portion\"')]\n"
     ]
    }
   ],
   "source": [
    "# Print the Keywords in each topic\n",
    "# Inferring the topic from key words\n",
    "pprint(lda_model.print_topics())\n",
    "doc_lda = lda_model[corpus]"
   ]
  },
  {
   "cell_type": "code",
   "execution_count": 97,
   "metadata": {},
   "outputs": [
    {
     "name": "stdout",
     "output_type": "stream",
     "text": [
      "\n",
      "Coherence Score:  0.3992415959057022\n"
     ]
    }
   ],
   "source": [
    "# Compute Coherence Score\n",
    "coherence_model_lda = CoherenceModel(model=lda_model, texts=data_lemmatized, dictionary=dictionary, coherence='c_v')\n",
    "coherence_lda = coherence_model_lda.get_coherence()\n",
    "print('\\nCoherence Score: ', coherence_lda)"
   ]
  },
  {
   "cell_type": "code",
   "execution_count": 99,
   "metadata": {},
   "outputs": [
    {
     "name": "stderr",
     "output_type": "stream",
     "text": [
      "/anaconda3/envs/cs89_env/lib/python3.6/site-packages/pyLDAvis/_prepare.py:257: FutureWarning: Sorting because non-concatenation axis is not aligned. A future version\n",
      "of pandas will change to not sort by default.\n",
      "\n",
      "To accept the future behavior, pass 'sort=False'.\n",
      "\n",
      "To retain the current behavior and silence the warning, pass 'sort=True'.\n",
      "\n",
      "  return pd.concat([default_term_info] + list(topic_dfs))\n"
     ]
    },
    {
     "data": {
      "text/html": [
       "\n",
       "<link rel=\"stylesheet\" type=\"text/css\" href=\"https://cdn.rawgit.com/bmabey/pyLDAvis/files/ldavis.v1.0.0.css\">\n",
       "\n",
       "\n",
       "<div id=\"ldavis_el87265137408009533612443\"></div>\n",
       "<script type=\"text/javascript\">\n",
       "\n",
       "var ldavis_el87265137408009533612443_data = {\"mdsDat\": {\"x\": [0.34671749122778617, 0.33960656589180926, 0.0704846639042583, 0.017070026385837316, 0.04297059490799841, -0.015505090789932523, 0.0013194838729208226, 0.011658178239853788, -0.01482931428408506, -0.03903411396171166, -0.0443675750187025, -0.04639888279727111, -0.05688778334810175, -0.059013509136348, -0.06761287358280886, -0.06334904228889131, -0.06938131242603547, -0.05109028072408439, -0.07779750299860883, -0.07776005838184118, -0.08445373594428843, -0.06234592874775073], \"y\": [-0.09767673528948399, 0.20937136949061025, -0.3432592253976049, -0.07500063151849856, 0.1770615823965712, -0.015254083446497592, -0.042867157580928905, -0.08412800957795051, -0.016153882616003208, 0.006579585868944235, 0.010370430969881456, 0.011289463790683067, 0.017023407540716514, 0.01803865682981367, 0.02190888604077117, 0.02002217218533906, 0.022567314480026978, 0.013858020472604078, 0.02556637783067246, 0.02549434737651693, 0.027449317103395793, 0.06773879305042088], \"topics\": [1, 2, 3, 4, 5, 6, 7, 8, 9, 10, 11, 12, 13, 14, 15, 16, 17, 18, 19, 20, 21, 22], \"cluster\": [1, 1, 1, 1, 1, 1, 1, 1, 1, 1, 1, 1, 1, 1, 1, 1, 1, 1, 1, 1, 1, 1], \"Freq\": [20.545095443725586, 20.519187927246094, 5.513297080993652, 4.166270732879639, 4.075698375701904, 3.8105733394622803, 3.788531541824341, 3.6615681648254395, 3.5648162364959717, 3.1872265338897705, 2.9776875972747803, 2.871150255203247, 2.5950727462768555, 2.589370012283325, 2.304086923599243, 2.299593925476074, 2.1318671703338623, 2.1145806312561035, 2.0712149143218994, 1.8092056512832642, 1.738391399383545, 1.6655223369598389]}, \"tinfo\": {\"Category\": [\"Default\", \"Default\", \"Default\", \"Default\", \"Default\", \"Default\", \"Default\", \"Default\", \"Default\", \"Default\", \"Default\", \"Default\", \"Default\", \"Default\", \"Default\", \"Default\", \"Default\", \"Default\", \"Default\", \"Default\", \"Default\", \"Default\", \"Default\", \"Default\", \"Default\", \"Default\", \"Default\", \"Default\", \"Default\", \"Default\", \"Topic1\", \"Topic1\", \"Topic1\", \"Topic1\", \"Topic1\", \"Topic1\", \"Topic1\", \"Topic1\", \"Topic1\", \"Topic1\", \"Topic1\", \"Topic1\", \"Topic1\", \"Topic1\", \"Topic1\", \"Topic1\", \"Topic1\", \"Topic1\", \"Topic1\", \"Topic1\", \"Topic1\", \"Topic1\", \"Topic1\", \"Topic1\", \"Topic1\", \"Topic1\", \"Topic1\", \"Topic1\", \"Topic1\", \"Topic1\", \"Topic1\", \"Topic1\", \"Topic1\", \"Topic2\", \"Topic2\", \"Topic2\", \"Topic2\", \"Topic2\", \"Topic2\", \"Topic2\", \"Topic2\", \"Topic2\", \"Topic2\", \"Topic2\", \"Topic2\", \"Topic2\", \"Topic2\", \"Topic2\", \"Topic2\", \"Topic2\", \"Topic2\", \"Topic2\", \"Topic2\", \"Topic2\", \"Topic2\", \"Topic2\", \"Topic2\", \"Topic2\", \"Topic2\", \"Topic2\", \"Topic2\", \"Topic2\", \"Topic2\", \"Topic2\", \"Topic2\", \"Topic2\", \"Topic2\", \"Topic2\", \"Topic3\", \"Topic3\", \"Topic3\", \"Topic3\", \"Topic3\", \"Topic3\", \"Topic3\", \"Topic3\", \"Topic3\", \"Topic3\", \"Topic3\", \"Topic3\", \"Topic3\", \"Topic3\", \"Topic3\", \"Topic3\", \"Topic3\", \"Topic3\", \"Topic3\", \"Topic3\", \"Topic3\", \"Topic3\", \"Topic3\", \"Topic3\", \"Topic3\", \"Topic3\", \"Topic3\", \"Topic3\", \"Topic3\", \"Topic3\", \"Topic3\", \"Topic4\", \"Topic4\", \"Topic4\", \"Topic4\", \"Topic4\", \"Topic4\", \"Topic4\", \"Topic4\", \"Topic4\", \"Topic4\", \"Topic4\", \"Topic4\", \"Topic4\", \"Topic4\", \"Topic4\", \"Topic4\", \"Topic4\", \"Topic4\", \"Topic4\", \"Topic4\", \"Topic4\", \"Topic4\", \"Topic4\", \"Topic4\", \"Topic4\", \"Topic4\", \"Topic4\", \"Topic4\", \"Topic4\", \"Topic4\", \"Topic4\", \"Topic5\", \"Topic5\", \"Topic5\", \"Topic5\", \"Topic5\", \"Topic5\", \"Topic5\", \"Topic5\", \"Topic5\", \"Topic5\", \"Topic5\", \"Topic5\", \"Topic5\", \"Topic5\", \"Topic5\", \"Topic5\", \"Topic5\", \"Topic5\", \"Topic5\", \"Topic5\", \"Topic5\", \"Topic5\", \"Topic5\", \"Topic5\", \"Topic5\", \"Topic5\", \"Topic5\", \"Topic5\", \"Topic5\", \"Topic5\", \"Topic5\", \"Topic5\", \"Topic5\", \"Topic5\", \"Topic5\", \"Topic5\", \"Topic5\", \"Topic6\", \"Topic6\", \"Topic6\", \"Topic6\", \"Topic6\", \"Topic6\", \"Topic6\", \"Topic6\", \"Topic6\", \"Topic6\", \"Topic6\", \"Topic6\", \"Topic6\", \"Topic6\", \"Topic6\", \"Topic6\", \"Topic6\", \"Topic6\", \"Topic6\", \"Topic6\", \"Topic6\", \"Topic6\", \"Topic6\", \"Topic6\", \"Topic6\", \"Topic6\", \"Topic6\", \"Topic6\", \"Topic6\", \"Topic6\", \"Topic7\", \"Topic7\", \"Topic7\", \"Topic7\", \"Topic7\", \"Topic7\", \"Topic7\", \"Topic7\", \"Topic7\", \"Topic7\", \"Topic7\", \"Topic7\", \"Topic7\", \"Topic7\", \"Topic7\", \"Topic7\", \"Topic7\", \"Topic7\", \"Topic7\", \"Topic7\", \"Topic7\", \"Topic7\", \"Topic7\", \"Topic7\", \"Topic7\", \"Topic7\", \"Topic7\", \"Topic7\", \"Topic7\", \"Topic7\", \"Topic8\", \"Topic8\", \"Topic8\", \"Topic8\", \"Topic8\", \"Topic8\", \"Topic8\", \"Topic8\", \"Topic8\", \"Topic8\", \"Topic8\", \"Topic8\", \"Topic8\", \"Topic8\", \"Topic8\", \"Topic8\", \"Topic8\", \"Topic8\", \"Topic8\", \"Topic8\", \"Topic8\", \"Topic8\", \"Topic8\", \"Topic8\", \"Topic8\", \"Topic8\", \"Topic8\", \"Topic8\", \"Topic8\", \"Topic8\", \"Topic8\", \"Topic9\", \"Topic9\", \"Topic9\", \"Topic9\", \"Topic9\", \"Topic9\", \"Topic9\", \"Topic9\", \"Topic9\", \"Topic9\", \"Topic9\", \"Topic9\", \"Topic9\", \"Topic9\", \"Topic9\", \"Topic9\", \"Topic9\", \"Topic9\", \"Topic9\", \"Topic9\", \"Topic9\", \"Topic9\", \"Topic9\", \"Topic9\", \"Topic9\", \"Topic9\", \"Topic9\", \"Topic9\", \"Topic9\", \"Topic9\", \"Topic9\", \"Topic9\", \"Topic10\", \"Topic10\", \"Topic10\", \"Topic10\", \"Topic10\", \"Topic10\", \"Topic10\", \"Topic10\", \"Topic10\", \"Topic10\", \"Topic10\", \"Topic10\", \"Topic10\", \"Topic10\", \"Topic10\", \"Topic10\", \"Topic10\", \"Topic10\", \"Topic10\", \"Topic10\", \"Topic10\", \"Topic10\", \"Topic10\", \"Topic10\", \"Topic10\", \"Topic10\", \"Topic10\", \"Topic10\", \"Topic10\", \"Topic10\", \"Topic11\", \"Topic11\", \"Topic11\", \"Topic11\", \"Topic11\", \"Topic11\", \"Topic11\", \"Topic11\", \"Topic11\", \"Topic11\", \"Topic11\", \"Topic11\", \"Topic11\", \"Topic11\", \"Topic11\", \"Topic11\", \"Topic11\", \"Topic11\", \"Topic11\", \"Topic11\", \"Topic11\", \"Topic11\", \"Topic11\", \"Topic11\", \"Topic11\", \"Topic11\", \"Topic11\", \"Topic11\", \"Topic11\", \"Topic11\", \"Topic12\", \"Topic12\", \"Topic12\", \"Topic12\", \"Topic12\", \"Topic12\", \"Topic12\", \"Topic12\", \"Topic12\", \"Topic12\", \"Topic12\", \"Topic12\", \"Topic12\", \"Topic12\", \"Topic12\", \"Topic12\", \"Topic12\", \"Topic12\", \"Topic12\", \"Topic12\", \"Topic12\", \"Topic12\", \"Topic12\", \"Topic12\", \"Topic12\", \"Topic12\", \"Topic12\", \"Topic12\", \"Topic12\", \"Topic12\", \"Topic12\", \"Topic12\", \"Topic13\", \"Topic13\", \"Topic13\", \"Topic13\", \"Topic13\", \"Topic13\", \"Topic13\", \"Topic13\", \"Topic13\", \"Topic13\", \"Topic13\", \"Topic13\", \"Topic13\", \"Topic13\", \"Topic13\", \"Topic13\", \"Topic13\", \"Topic13\", \"Topic13\", \"Topic13\", \"Topic13\", \"Topic13\", \"Topic13\", \"Topic13\", \"Topic13\", \"Topic13\", \"Topic13\", \"Topic13\", \"Topic13\", \"Topic13\", \"Topic13\", \"Topic13\", \"Topic13\", \"Topic13\", \"Topic13\", \"Topic13\", \"Topic13\", \"Topic13\", \"Topic13\", \"Topic13\", \"Topic13\", \"Topic13\", \"Topic13\", \"Topic13\", \"Topic14\", \"Topic14\", \"Topic14\", \"Topic14\", \"Topic14\", \"Topic14\", \"Topic14\", \"Topic14\", \"Topic14\", \"Topic14\", \"Topic14\", \"Topic14\", \"Topic14\", \"Topic14\", \"Topic14\", \"Topic14\", \"Topic14\", \"Topic14\", \"Topic14\", \"Topic14\", \"Topic14\", \"Topic14\", \"Topic14\", \"Topic14\", \"Topic14\", \"Topic14\", \"Topic14\", \"Topic14\", \"Topic14\", \"Topic14\", \"Topic14\", \"Topic14\", \"Topic14\", \"Topic14\", \"Topic14\", \"Topic14\", \"Topic14\", \"Topic15\", \"Topic15\", \"Topic15\", \"Topic15\", \"Topic15\", \"Topic15\", \"Topic15\", \"Topic15\", \"Topic15\", \"Topic15\", \"Topic15\", \"Topic15\", \"Topic15\", \"Topic15\", \"Topic15\", \"Topic15\", \"Topic15\", \"Topic15\", \"Topic15\", \"Topic15\", \"Topic15\", \"Topic15\", \"Topic15\", \"Topic15\", \"Topic15\", \"Topic15\", \"Topic15\", \"Topic15\", \"Topic15\", \"Topic15\", \"Topic16\", \"Topic16\", \"Topic16\", \"Topic16\", \"Topic16\", \"Topic16\", \"Topic16\", \"Topic16\", \"Topic16\", \"Topic16\", \"Topic16\", \"Topic16\", \"Topic16\", \"Topic16\", \"Topic16\", \"Topic16\", \"Topic16\", \"Topic16\", \"Topic16\", \"Topic16\", \"Topic16\", \"Topic16\", \"Topic16\", \"Topic16\", \"Topic16\", \"Topic16\", \"Topic16\", \"Topic16\", \"Topic16\", \"Topic16\", \"Topic16\", \"Topic16\", \"Topic16\", \"Topic16\", \"Topic16\", \"Topic16\", \"Topic17\", \"Topic17\", \"Topic17\", \"Topic17\", \"Topic17\", \"Topic17\", \"Topic17\", \"Topic17\", \"Topic17\", \"Topic17\", \"Topic17\", \"Topic17\", \"Topic17\", \"Topic17\", \"Topic17\", \"Topic17\", \"Topic17\", \"Topic17\", \"Topic17\", \"Topic17\", \"Topic17\", \"Topic17\", \"Topic17\", \"Topic17\", \"Topic17\", \"Topic17\", \"Topic17\", \"Topic17\", \"Topic17\", \"Topic17\", \"Topic18\", \"Topic18\", \"Topic18\", \"Topic18\", \"Topic18\", \"Topic18\", \"Topic18\", \"Topic18\", \"Topic18\", \"Topic18\", \"Topic18\", \"Topic18\", \"Topic18\", \"Topic18\", \"Topic18\", \"Topic18\", \"Topic18\", \"Topic18\", \"Topic18\", \"Topic18\", \"Topic18\", \"Topic18\", \"Topic18\", \"Topic18\", \"Topic18\", \"Topic18\", \"Topic18\", \"Topic18\", \"Topic18\", \"Topic18\", \"Topic18\", \"Topic18\", \"Topic18\", \"Topic18\", \"Topic19\", \"Topic19\", \"Topic19\", \"Topic19\", \"Topic19\", \"Topic19\", \"Topic19\", \"Topic19\", \"Topic19\", \"Topic19\", \"Topic19\", \"Topic19\", \"Topic19\", \"Topic19\", \"Topic19\", \"Topic19\", \"Topic19\", \"Topic19\", \"Topic19\", \"Topic19\", \"Topic19\", \"Topic19\", \"Topic19\", \"Topic19\", \"Topic19\", \"Topic19\", \"Topic19\", \"Topic19\", \"Topic19\", \"Topic19\", \"Topic20\", \"Topic20\", \"Topic20\", \"Topic20\", \"Topic20\", \"Topic20\", \"Topic20\", \"Topic20\", \"Topic20\", \"Topic20\", \"Topic20\", \"Topic20\", \"Topic20\", \"Topic20\", \"Topic20\", \"Topic20\", \"Topic20\", \"Topic20\", \"Topic20\", \"Topic20\", \"Topic20\", \"Topic20\", \"Topic20\", \"Topic20\", \"Topic20\", \"Topic20\", \"Topic20\", \"Topic20\", \"Topic20\", \"Topic20\", \"Topic20\", \"Topic20\", \"Topic20\", \"Topic20\", \"Topic20\", \"Topic21\", \"Topic21\", \"Topic21\", \"Topic21\", \"Topic21\", \"Topic21\", \"Topic21\", \"Topic21\", \"Topic21\", \"Topic21\", \"Topic21\", \"Topic21\", \"Topic21\", \"Topic21\", \"Topic21\", \"Topic21\", \"Topic21\", \"Topic21\", \"Topic21\", \"Topic21\", \"Topic21\", \"Topic21\", \"Topic21\", \"Topic21\", \"Topic21\", \"Topic21\", \"Topic21\", \"Topic21\", \"Topic21\", \"Topic21\", \"Topic21\", \"Topic21\", \"Topic21\", \"Topic21\", \"Topic21\", \"Topic21\", \"Topic21\", \"Topic21\", \"Topic21\", \"Topic21\", \"Topic21\", \"Topic21\", \"Topic22\", \"Topic22\", \"Topic22\", \"Topic22\", \"Topic22\", \"Topic22\", \"Topic22\", \"Topic22\", \"Topic22\", \"Topic22\", \"Topic22\", \"Topic22\", \"Topic22\", \"Topic22\", \"Topic22\", \"Topic22\", \"Topic22\", \"Topic22\", \"Topic22\", \"Topic22\", \"Topic22\", \"Topic22\", \"Topic22\", \"Topic22\", \"Topic22\", \"Topic22\", \"Topic22\", \"Topic22\", \"Topic22\", \"Topic22\", \"Topic22\", \"Topic22\", \"Topic22\", \"Topic22\", \"Topic22\", \"Topic22\", \"Topic22\", \"Topic22\"], \"Freq\": [44971.0, 41307.0, 16148.0, 11998.0, 28140.0, 15320.0, 13554.0, 9286.0, 18057.0, 8376.0, 6451.0, 6915.0, 6061.0, 7476.0, 6263.0, 6270.0, 5907.0, 19559.0, 5272.0, 5852.0, 11857.0, 4849.0, 5583.0, 11432.0, 10513.0, 4016.0, 4907.0, 4801.0, 4155.0, 4352.0, 41306.453125, 28138.7578125, 11430.5625, 10512.1328125, 8813.935546875, 7612.7578125, 5717.958984375, 5348.66064453125, 5035.10107421875, 4245.9482421875, 3173.274658203125, 3056.222900390625, 2908.5029296875, 2844.37060546875, 2796.081298828125, 2621.753173828125, 2504.766357421875, 1918.8985595703125, 1912.632080078125, 1620.0029296875, 1478.822998046875, 1281.3267822265625, 1270.2552490234375, 1253.3857421875, 1252.2667236328125, 1251.993896484375, 1249.7691650390625, 1247.8370361328125, 1175.9906005859375, 1077.73681640625, 2985.381591796875, 2268.458984375, 4148.6416015625, 44969.83203125, 18055.923828125, 11856.4990234375, 8217.6513671875, 7724.66162109375, 7617.732421875, 7570.482421875, 5970.82763671875, 5877.3125, 5758.13671875, 4466.9443359375, 4087.045166015625, 4072.418701171875, 3652.117919921875, 3492.29150390625, 3271.13818359375, 2579.397705078125, 2557.610107421875, 2449.226318359375, 2446.924072265625, 2151.4599609375, 1491.159912109375, 1484.1473388671875, 1255.78125, 1169.47607421875, 1038.572021484375, 990.6547241210938, 841.3961791992188, 831.8313598632812, 806.365966796875, 3929.189697265625, 6694.5205078125, 15409.681640625, 1803.7230224609375, 1350.1025390625, 15319.068359375, 3141.25830078125, 3104.453369140625, 2535.150146484375, 2476.527099609375, 2436.493408203125, 1918.329833984375, 1563.126220703125, 1353.181396484375, 1150.43115234375, 1045.736328125, 1024.4228515625, 909.6488037109375, 810.5010986328125, 784.6322021484375, 761.4096069335938, 755.237060546875, 695.1480712890625, 681.377685546875, 647.5358276367188, 621.9961547851562, 572.529541015625, 503.0742492675781, 481.6952819824219, 435.8495788574219, 392.4307861328125, 367.8935546875, 354.6061096191406, 347.187255859375, 344.17877197265625, 639.1729125976562, 9285.11328125, 3324.83740234375, 3314.392822265625, 3256.89990234375, 3002.48828125, 2844.506103515625, 1106.4793701171875, 1057.9639892578125, 1051.165771484375, 986.9805908203125, 924.6845703125, 880.13818359375, 869.9887084960938, 817.7562866210938, 747.591064453125, 679.168212890625, 608.5118408203125, 491.0179443359375, 411.5256042480469, 377.13104248046875, 312.4482421875, 297.14739990234375, 296.84130859375, 217.6276092529297, 212.9789581298828, 157.0621795654297, 147.8290252685547, 130.8648681640625, 122.85552978515625, 103.20907592773438, 1224.9896240234375, 16146.6884765625, 4800.48046875, 2636.17724609375, 2132.7373046875, 1864.1435546875, 1720.5531005859375, 1630.5113525390625, 961.8768310546875, 895.7555541992188, 858.83740234375, 628.82763671875, 615.3671875, 597.4107666015625, 591.4741821289062, 521.6160888671875, 405.42431640625, 380.0756530761719, 81.86592864990234, 796.9904174804688, 0.0764763206243515, 0.07647499442100525, 0.0764736533164978, 0.07647419720888138, 0.07647321373224258, 0.07647232711315155, 0.07647321373224258, 0.07647253572940826, 0.07647228986024857, 0.0764729231595993, 0.07647253572940826, 0.0764731913805008, 0.07647373527288437, 0.07647627592086792, 0.0764734148979187, 0.07647299021482468, 0.07647339254617691, 0.07647325098514557, 5582.3427734375, 4905.65087890625, 2726.677001953125, 2184.130859375, 1987.5462646484375, 1939.192626953125, 1750.6689453125, 1721.7257080078125, 1693.166015625, 1267.1644287109375, 1095.599609375, 1031.4559326171875, 918.6708374023438, 871.5482177734375, 795.2560424804688, 783.1544799804688, 633.9102783203125, 609.9077758789062, 491.98016357421875, 476.3006286621094, 451.7706298828125, 285.3752746582031, 272.5661926269531, 260.7561950683594, 224.5211639404297, 190.48484802246094, 155.9730224609375, 138.93218994140625, 91.87886810302734, 54.98933792114258, 13552.9912109375, 1681.4547119140625, 1647.5992431640625, 1493.4862060546875, 1486.9140625, 1318.7796630859375, 1251.2890625, 1227.7576904296875, 1113.616943359375, 975.0098876953125, 799.0889892578125, 755.11376953125, 708.4953002929688, 670.9653930664062, 656.973388671875, 612.787353515625, 544.04443359375, 536.96240234375, 521.1251220703125, 473.89874267578125, 468.61224365234375, 408.5148620605469, 379.1708068847656, 329.7418212890625, 238.3389892578125, 202.2632293701172, 177.6774139404297, 132.2864227294922, 104.48733520507812, 1039.2906494140625, 7474.73291015625, 4351.4892578125, 3569.6533203125, 3002.211181640625, 2645.05712890625, 2209.333251953125, 1222.755859375, 977.991943359375, 941.5452270507812, 785.3280029296875, 710.0631103515625, 709.6365966796875, 698.7660522460938, 664.1138305664062, 457.4272766113281, 443.6263427734375, 439.52191162109375, 411.9631652832031, 386.53277587890625, 327.16552734375, 294.34912109375, 235.72740173339844, 233.2178955078125, 221.2047119140625, 214.17962646484375, 167.6554412841797, 129.97042846679688, 121.09628295898438, 94.66065979003906, 18.134822845458984, 243.7686309814453, 8374.787109375, 5851.5009765625, 2744.72412109375, 2475.720458984375, 1631.6773681640625, 1522.9381103515625, 1232.1759033203125, 1173.802734375, 1167.805908203125, 859.9539184570312, 851.6112670898438, 670.796630859375, 645.03955078125, 616.1528930664062, 568.3475952148438, 462.6353759765625, 371.485595703125, 363.0906982421875, 347.08038330078125, 342.7525329589844, 299.062744140625, 252.6743621826172, 167.87474060058594, 146.62901306152344, 127.66339111328125, 80.35259246826172, 0.07118158042430878, 0.07117528468370438, 0.07117538154125214, 0.07117672264575958, 0.07117759436368942, 0.0711764320731163, 3973.8955078125, 2141.568359375, 1895.3782958984375, 1726.713623046875, 1429.394287109375, 1376.7635498046875, 1208.9345703125, 1194.710693359375, 1070.135009765625, 948.06982421875, 936.2158203125, 927.1246337890625, 821.5859985351562, 711.0938110351562, 705.8441162109375, 703.5340576171875, 688.2135009765625, 636.3406372070312, 598.0658569335938, 593.1390380859375, 570.9210815429688, 549.2161865234375, 537.4367065429688, 471.33441162109375, 387.0985412597656, 383.4256896972656, 346.6517333984375, 340.2431945800781, 272.3161926269531, 238.70684814453125, 3998.23583984375, 2540.11474609375, 1918.90234375, 1074.8262939453125, 989.414306640625, 926.017578125, 902.6878662109375, 850.1806030273438, 715.5662841796875, 713.2439575195312, 710.4488525390625, 638.8793334960938, 598.6002197265625, 561.9594116210938, 553.9015502929688, 547.6947631835938, 539.824462890625, 491.7851257324219, 487.2944030761719, 451.6867980957031, 441.5480651855469, 387.6442565917969, 378.16278076171875, 362.5670166015625, 331.3343200683594, 330.69970703125, 320.1789245605469, 274.7103576660156, 273.5621337890625, 245.33258056640625, 6269.224609375, 5906.4228515625, 2026.3009033203125, 1957.0731201171875, 1137.3388671875, 1078.365478515625, 995.1749877929688, 860.2232666015625, 810.3619384765625, 777.4182739257812, 712.5833129882812, 663.8324584960938, 583.1441040039062, 502.6447448730469, 422.6113586425781, 367.9102783203125, 280.86163330078125, 181.12977600097656, 168.11538696289062, 136.6484832763672, 127.85034942626953, 126.44136810302734, 107.1235122680664, 54.44224166870117, 32.89382553100586, 32.6672248840332, 26.077512741088867, 20.329713821411133, 0.07465461641550064, 0.07465294748544693, 0.07465484738349915, 0.07465539127588272, 6262.08447265625, 3193.6181640625, 3061.579345703125, 2685.5126953125, 1920.90966796875, 1232.55810546875, 1211.8514404296875, 662.54638671875, 630.6949462890625, 535.9979248046875, 483.25958251953125, 412.2846984863281, 269.27069091796875, 177.7606201171875, 172.5113525390625, 170.59754943847656, 160.92276000976562, 150.87962341308594, 122.26016998291016, 112.19954681396484, 0.07449503988027573, 0.0744926929473877, 0.07449252158403397, 0.07449227571487427, 0.07449236512184143, 0.0744929164648056, 0.07449271529912949, 0.07449227571487427, 0.07449238747358322, 0.07449232041835785, 0.0744926854968071, 0.0744934231042862, 0.07449289411306381, 0.07449278980493546, 0.07449367642402649, 0.0744948759675026, 0.07449634373188019, 0.07449363172054291, 0.07449372857809067, 0.0744931772351265, 0.0744931548833847, 0.07449328154325485, 0.07449378073215485, 0.07449327409267426, 6914.38818359375, 4153.70947265625, 2518.641845703125, 1738.696533203125, 1471.3280029296875, 1395.205078125, 1050.216796875, 985.4385986328125, 833.360107421875, 549.555419921875, 510.24542236328125, 415.4931640625, 321.9422912597656, 313.6678771972656, 115.06817626953125, 98.78111267089844, 92.8041763305664, 53.63100051879883, 0.07591698318719864, 0.07591385394334793, 0.07590989023447037, 0.07590898126363754, 0.07590911537408829, 0.07590939849615097, 0.07590894401073456, 0.07590923458337784, 0.07590890675783157, 0.07590892910957336, 0.07590895146131516, 0.07590852677822113, 0.07590926438570023, 0.0759098082780838, 0.07591160386800766, 0.07590948790311813, 0.07590939104557037, 0.07590930163860321, 0.07590924948453903, 3467.370361328125, 1832.7694091796875, 1631.3681640625, 1613.023681640625, 1544.1046142578125, 1391.521240234375, 1076.72119140625, 954.7694702148438, 919.7134399414062, 911.810546875, 894.114501953125, 893.8939819335938, 442.1103515625, 433.94635009765625, 312.0657958984375, 267.9832763671875, 257.47076416015625, 245.74266052246094, 219.5836944580078, 178.46022033691406, 176.21800231933594, 173.35877990722656, 157.54067993164062, 151.96832275390625, 146.35499572753906, 128.21917724609375, 121.94078826904297, 88.1884994506836, 77.01447296142578, 72.21483612060547, 4847.80517578125, 3450.547119140625, 3326.774169921875, 1750.0076904296875, 1186.260986328125, 1149.016845703125, 1116.3861083984375, 841.403076171875, 727.6434326171875, 646.2310791015625, 414.2809143066406, 365.252685546875, 283.08575439453125, 267.8038330078125, 135.66848754882812, 128.7171173095703, 112.96464538574219, 66.70197296142578, 0.07029633224010468, 0.07029517740011215, 0.07029400020837784, 0.0702938511967659, 0.07029329240322113, 0.07029292732477188, 0.07029340416193008, 0.07029365748167038, 0.07029344886541367, 0.07029268145561218, 0.07029324024915695, 0.07029327005147934, 0.07029354572296143, 0.0702941045165062, 0.0702960416674614, 0.07029440999031067, 0.07029372453689575, 0.07029340416193008, 3132.9501953125, 2302.685546875, 2200.0849609375, 1762.5079345703125, 1705.193359375, 799.2305908203125, 703.7424926757812, 667.2880859375, 649.294921875, 647.6912231445312, 645.276123046875, 562.8262329101562, 514.7235717773438, 380.77886962890625, 376.74493408203125, 360.7716064453125, 305.36846923828125, 300.08740234375, 228.87290954589844, 200.3504180908203, 195.2818603515625, 191.19915771484375, 169.0122833251953, 117.64769744873047, 69.43197631835938, 0.06901443004608154, 0.06901346892118454, 0.06901249289512634, 0.06901723146438599, 0.06901343166828156, 11996.814453125, 5270.6064453125, 755.6964721679688, 297.34991455078125, 166.46835327148438, 164.92422485351562, 156.61093139648438, 137.0286865234375, 119.07909393310547, 108.41764831542969, 88.06523132324219, 50.358680725097656, 26.24380111694336, 0.05776720494031906, 0.05776279792189598, 0.057762324810028076, 0.05776210129261017, 0.05776220187544823, 0.057761404663324356, 0.05776101350784302, 0.05776121839880943, 0.0577608160674572, 0.05776071175932884, 0.05776045843958855, 0.05776112154126167, 0.0577608160674572, 0.05776023864746094, 0.05775992572307587, 0.05776006728410721, 0.05776039883494377, 0.05776023864746094, 0.057760171592235565, 0.05776035413146019, 0.05776028335094452, 2336.0302734375, 2322.048828125, 1757.7626953125, 1654.888671875, 1601.6025390625, 1479.5894775390625, 1401.2353515625, 862.257568359375, 730.6962280273438, 724.2521362304688, 620.6563110351562, 295.41180419921875, 272.7315368652344, 237.88185119628906, 219.33697509765625, 217.0286407470703, 191.16114807128906, 165.85440063476562, 151.44602966308594, 141.74142456054688, 138.4959716796875, 130.97979736328125, 106.99641418457031, 106.39533996582031, 92.10418701171875, 91.10986328125, 75.5500717163086, 73.61014556884766, 69.9462661743164, 69.72057342529297, 6449.8154296875, 1454.40234375, 1262.2230224609375, 1018.7357177734375, 763.321044921875, 563.813720703125, 519.7540893554688, 506.36346435546875, 503.13726806640625, 502.7983703613281, 436.6661376953125, 400.079345703125, 372.1130065917969, 262.47735595703125, 213.91488647460938, 200.4196319580078, 165.75022888183594, 146.4572296142578, 119.58448791503906, 89.2156982421875, 85.76060485839844, 47.972110748291016, 41.76682662963867, 0.06411053985357285, 0.06411305069923401, 0.06411012262105942, 0.0641099214553833, 0.06410929560661316, 0.06411094218492508, 0.06410939991474152, 0.06410957127809525, 0.06410982459783554, 0.0641099363565445, 0.06411048024892807, 0.06411071121692657, 2844.37841796875, 1927.1407470703125, 1531.1304931640625, 1522.2542724609375, 1407.284912109375, 1100.7919921875, 1035.68505859375, 841.2714233398438, 829.404541015625, 774.52734375, 706.98974609375, 308.9127197265625, 229.96533203125, 107.17103576660156, 84.53143310546875, 59.422637939453125, 39.96393585205078, 0.06665443629026413, 0.06665311753749847, 0.06665504723787308, 0.06665272265672684, 0.06665267795324326, 0.06665244698524475, 0.06665346026420593, 0.06665239483118057, 0.0666523277759552, 0.06665236502885818, 0.06665222346782684, 0.06665222346782684, 0.06665238738059998, 0.06665226072072983, 0.06665337830781937, 0.0666530430316925, 0.06665276736021042, 0.06665315479040146, 0.06665392965078354, 0.06665470451116562, 0.06665326654911041, 0.06665311008691788, 0.06665373593568802, 0.06665293872356415, 0.06665337085723877, 6059.5380859375, 4015.203125, 1968.088134765625, 1520.9697265625, 272.6232604980469, 218.17462158203125, 176.269775390625, 165.60118103027344, 69.78547668457031, 5.190349578857422, 208.98765563964844, 0.06479664146900177, 0.0647907555103302, 0.06479102373123169, 0.06479077786207199, 0.06478969752788544, 0.0647895336151123, 0.06478904187679291, 0.06478894501924515, 0.06479015946388245, 0.06479089707136154, 0.06478983163833618, 0.06479036808013916, 0.06478951871395111, 0.06478875875473022, 0.06478909403085709, 0.06478941440582275, 0.06478913128376007, 0.06478868424892426, 0.06478863954544067, 0.06478924304246902, 0.06478994339704514, 0.0647893026471138, 0.06478914618492126, 0.06478983163833618, 0.06478971242904663, 0.0647900402545929, 0.06478925794363022], \"Term\": [\"food\", \"room\", \"night\", \"burger\", \"hotel\", \"buffet\", \"line\", \"chicken\", \"restaurant\", \"dinner\", \"steak\", \"breakfast\", \"sandwich\", \"pizza\", \"friend\", \"flavor\", \"cheese\", \"vegas\", \"fry\", \"lunch\", \"price\", \"customer\", \"trip\", \"strip\", \"casino\", \"party\", \"taste\", \"club\", \"coffee\", \"show\", \"room\", \"hotel\", \"strip\", \"casino\", \"pool\", \"check\", \"view\", \"floor\", \"water\", \"stay\", \"parking\", \"front_desk\", \"walk\", \"shower\", \"guest\", \"day\", \"elevator\", \"property\", \"tower\", \"valet\", \"smell\", \"sleep\", \"lobby\", \"towel\", \"york\", \"move\", \"idea\", \"smoking\", \"resort_fee\", \"king\", \"money\", \"weekend\", \"vegas\", \"food\", \"restaurant\", \"price\", \"meat\", \"menu\", \"dessert\", \"server\", \"portion\", \"dish\", \"sauce\", \"salad\", \"plate\", \"reservation\", \"waiter\", \"table\", \"appetizer\", \"beef\", \"wine\", \"care\", \"glass\", \"dining\", \"hostess\", \"cake\", \"kitchen\", \"spicy\", \"management\", \"touch\", \"refill\", \"heat\", \"split\", \"bread\", \"drink\", \"vegas\", \"money\", \"weekend\", \"buffet\", \"item\", \"seafood\", \"kind\", \"shrimp\", \"roll\", \"crab_leg\", \"crab\", \"pasta\", \"fountain\", \"entrance\", \"desert\", \"broth\", \"con\", \"pro\", \"combination\", \"min\", \"ton\", \"heart\", \"system\", \"mirage\", \"photo\", \"stand\", \"part\", \"song\", \"winner\", \"clam\", \"fan\", \"sushi\", \"shirt\", \"offer\", \"chicken\", \"town\", \"taco\", \"family\", \"hand\", \"waffle\", \"nachos\", \"expectation\", \"enjoy\", \"attentive\", \"mall\", \"recommendation\", \"disappoint\", \"dine\", \"moist\", \"rush\", \"skip\", \"meatball\", \"checking\", \"mimosa\", \"guacamole\", \"decision\", \"superb\", \"plastic\", \"count\", \"array\", \"wind\", \"carry\", \"minus\", \"mister\", \"rest\", \"night\", \"club\", \"charge\", \"mind\", \"guy\", \"girl\", \"bartender\", \"comp\", \"mistake\", \"fridge\", \"situation\", \"experience\", \"marquee\", \"nightclub\", \"throw\", \"facility\", \"soooo\", \"expecting\", \"drink\", \"crowd\", \"cover\", \"promoter\", \"foot\", \"bouncer\", \"hip_hop\", \"issue\", \"venue\", \"incident\", \"restroom\", \"noise\", \"upgrade\", \"ambiance\", \"bellagio\", \"light\", \"lounge\", \"wall\", \"potato\", \"trip\", \"taste\", \"decor\", \"chocolate\", \"bottle\", \"resort\", \"entree\", \"window\", \"complaint\", \"piece\", \"note\", \"good\", \"turn\", \"give\", \"eye\", \"selection\", \"thursday\", \"drive\", \"balance\", \"coupon\", \"mandalay\", \"basket\", \"memory\", \"gratuity\", \"scale\", \"purchase\", \"frozen_hot_chocolate\", \"focus\", \"boring\", \"chorizo\", \"line\", \"share\", \"rib\", \"tender\", \"patio\", \"salmon\", \"brisket\", \"mushroom\", \"find\", \"member\", \"treat\", \"word\", \"pepper\", \"cash\", \"bean\", \"booth\", \"waitress\", \"pulled_pork\", \"stair\", \"donut\", \"arizona\", \"sugar\", \"california\", \"screen\", \"boy\", \"fatty\", \"fave\", \"industry\", \"snob\", \"head\", \"pizza\", \"show\", \"atmosphere\", \"music\", \"seat\", \"slice\", \"downtown\", \"story\", \"crispy\", \"front\", \"stage\", \"crust\", \"cosmopolitan\", \"scene\", \"hall\", \"curtain\", \"pepperoni\", \"impression\", \"beatle\", \"cirque_show\", \"sport\", \"heck\", \"jump\", \"winter\", \"performance\", \"cirque\", \"opening\", \"pleasant\", \"audience\", \"god\", \"hallway\", \"dinner\", \"lunch\", \"brunch\", \"lot\", \"chef\", \"bowl\", \"gelato\", \"finish\", \"fruit\", \"margarita\", \"pastry\", \"back\", \"prime_rib\", \"snack\", \"tasty\", \"chain\", \"carrot\", \"omelette\", \"cheddar\", \"protein\", \"tortilla\", \"save\", \"coma\", \"twist\", \"calorie\", \"student\", \"bellagio\", \"weekday\", \"vegan\", \"soup\", \"potato\", \"style\", \"visit\", \"fish\", \"butter\", \"mouth\", \"perfection\", \"ingredient\", \"city\", \"face\", \"case\", \"talk\", \"lamb\", \"cream\", \"attention\", \"detail\", \"bring\", \"luck\", \"discount\", \"smile\", \"penny\", \"action\", \"beverage\", \"drop\", \"mine\", \"foodie\", \"entertainment\", \"shame\", \"diner\", \"fault\", \"queen\", \"stratosphere\", \"choice\", \"rice\", \"station\", \"buck\", \"watch\", \"request\", \"area\", \"pass\", \"folk\", \"shell\", \"standard\", \"month\", \"steakhouse\", \"offering\", \"ceiling\", \"body\", \"advice\", \"chewy\", \"beach\", \"limit\", \"name\", \"sofa\", \"response\", \"meeting\", \"dress\", \"kinda\", \"product\", \"hangover\", \"lighting\", \"warning\", \"flavor\", \"cheese\", \"cocktail\", \"birthday\", \"corn\", \"vibe\", \"miss\", \"banana\", \"event\", \"truffle_frie\", \"surprise\", \"kick\", \"conversation\", \"arrival\", \"brand\", \"state\", \"speak\", \"frustration\", \"support\", \"pressure\", \"duty\", \"wood\", \"metal\", \"difference\", \"ensure\", \"suffice\", \"consideration\", \"replace\", \"shake\", \"giada\", \"style\", \"potato\", \"friend\", \"deal\", \"work\", \"bite\", \"lady\", \"evening\", \"picture\", \"sheet\", \"curry\", \"alot\", \"fill\", \"coconut\", \"trouble\", \"flavorful\", \"report\", \"wash\", \"bug\", \"scoop\", \"clothing\", \"silverware\", \"wall\", \"hipster\", \"stain\", \"khao_soi\", \"fireside_lounge\", \"luggage\", \"lotus\", \"laptop\", \"balcony\", \"refund\", \"hole\", \"planet_hollywood\", \"credit\", \"bedroom\", \"crowd\", \"potato\", \"bellagio\", \"light\", \"soup\", \"texture\", \"center\", \"shake\", \"style\", \"ambiance\", \"breakfast\", \"coffee\", \"morning\", \"egg\", \"space\", \"opinion\", \"chance\", \"corner\", \"hash\", \"spend\", \"flamingo\", \"choose\", \"consistency\", \"booking\", \"explore\", \"architecture\", \"inconvenience\", \"brush\", \"potato\", \"pancake\", \"gravy\", \"blueberry\", \"syrup\", \"apple\", \"eggs_benedict\", \"biscuit\", \"toast\", \"cup\", \"construction\", \"croissant\", \"crepe\", \"crowd\", \"bellagio\", \"light\", \"wall\", \"ambiance\", \"style\", \"beer\", \"card\", \"phone\", \"game\", \"number\", \"ticket\", \"play\", \"vacation\", \"machine\", \"door\", \"dollar\", \"dealer\", \"peak\", \"point\", \"traffic\", \"dancer\", \"cheer\", \"answer\", \"explanation\", \"planning\", \"tooth\", \"roast_beef\", \"blvd\", \"brownie\", \"contact\", \"statue\", \"circle\", \"makeup\", \"alarm\", \"kiki\", \"customer\", \"group\", \"airport\", \"sausage\", \"hype\", \"woman\", \"wing\", \"bone\", \"dance\", \"highlight\", \"advance\", \"midnight\", \"specialty\", \"allergy\", \"labor\", \"lane\", \"expense\", \"lion\", \"flight\", \"gate\", \"airline\", \"slot_machine\", \"plane\", \"artwork\", \"rating\", \"restroom\", \"country\", \"mccarron\", \"travel\", \"luggage\", \"bathroom\", \"crowd\", \"bellagio\", \"potato\", \"style\", \"ambiance\", \"wynn\", \"suite\", \"security\", \"bed\", \"sign\", \"shopping\", \"hate\", \"terminal\", \"poker\", \"direction\", \"step\", \"tourist\", \"encore\", \"suck\", \"dozen\", \"bonus\", \"follow\", \"board\", \"page\", \"period\", \"april\", \"blackjack\", \"accommodation\", \"boutique\", \"golf\", \"airline\", \"gate\", \"player\", \"bellagio\", \"flight\", \"burger\", \"fry\", \"slot\", \"milkshake\", \"earth\", \"recipe\", \"eating\", \"ranch\", \"knife\", \"nickel\", \"rent\", \"circus\", \"winning\", \"shake\", \"bachi\", \"patty\", \"shake_shack\", \"onion_ring\", \"gourmet\", \"bun\", \"farm\", \"hamburger\", \"kobe\", \"popper\", \"topping\", \"pickle\", \"holstein\", \"gold_standard\", \"ketchup\", \"medium\", \"truffle\", \"cheeseburger\", \"planet_hollywood\", \"potato\", \"life\", \"aria\", \"cost\", \"level\", \"oyster\", \"change\", \"smoke\", \"haha\", \"avoid\", \"cook\", \"combo\", \"condiment\", \"craving\", \"premium\", \"leg\", \"drinking\", \"rule\", \"sweet_potato_frie\", \"short\", \"wake\", \"standing\", \"tail\", \"tomorrow\", \"shoot\", \"swear\", \"palace\", \"pick\", \"bursting\", \"cute\", \"mmmm\", \"steak\", \"book\", \"chip\", \"desk\", \"alcohol\", \"mussel\", \"lover\", \"mood\", \"anniversary\", \"soda\", \"notice\", \"special\", \"renovation\", \"frite\", \"fusion\", \"golden_nugget\", \"assistance\", \"staple\", \"priority\", \"surface\", \"house\", \"hilton\", \"chat\", \"ribeye\", \"potato\", \"medium_rare\", \"signature\", \"filet_mignon\", \"ambiance\", \"meaty\", \"cut\", \"suggestion\", \"texture\", \"style\", \"bellagio\", \"bacon\", \"pork\", \"employee\", \"raman\", \"noodle\", \"meal\", \"worker\", \"order\", \"joke\", \"local\", \"company\", \"yesterday\", \"container\", \"damage\", \"lead\", \"path\", \"solution\", \"kimchi\", \"shoyu\", \"soup\", \"chashu\", \"gyoza\", \"pork_belly_bowl\", \"topping\", \"zing\", \"tonkotsu_shoyu\", \"miso_ramen\", \"japan\", \"thinner\", \"ginger\", \"miso\", \"turkey\", \"gravy\", \"hole\", \"type\", \"wall\", \"potato\", \"pancake\", \"host\", \"style\", \"texture\", \"bellagio\", \"sandwich\", \"party\", \"shop\", \"list\", \"mission\", \"scottsdale\", \"future\", \"dancing\", \"seattle\", \"bachelor_party\", \"bread\", \"earl\", \"full_montagu\", \"planet_hollywood\", \"turkey\", \"pastrami\", \"pampas\", \"caribbean_jerk\", \"cannonball\", \"tomato\", \"soup\", \"suggestion\", \"flight\", \"pickle\", \"hospital\", \"zucchini\", \"mustard\", \"pineapple\", \"drool\", \"voodoo\", \"savory\", \"lobster\", \"date\", \"lemon\", \"style\", \"potato\", \"bellagio\", \"light\"], \"Total\": [44971.0, 41307.0, 16148.0, 11998.0, 28140.0, 15320.0, 13554.0, 9286.0, 18057.0, 8376.0, 6451.0, 6915.0, 6061.0, 7476.0, 6263.0, 6270.0, 5907.0, 19559.0, 5272.0, 5852.0, 11857.0, 4849.0, 5583.0, 11432.0, 10513.0, 4016.0, 4907.0, 4801.0, 4155.0, 4352.0, 41307.9453125, 28140.244140625, 11432.052734375, 10513.623046875, 8815.42578125, 7614.248046875, 5719.44921875, 5350.15087890625, 5036.59130859375, 4247.4384765625, 3174.764404296875, 3057.712646484375, 2909.99267578125, 2845.8603515625, 2797.571044921875, 2623.242919921875, 2506.256103515625, 1920.3883056640625, 1914.121826171875, 1621.49267578125, 1480.312744140625, 1282.8165283203125, 1271.7449951171875, 1254.87548828125, 1253.7564697265625, 1253.483642578125, 1251.2589111328125, 1249.3267822265625, 1177.4803466796875, 1079.2265625, 4790.52392578125, 3619.98046875, 19559.740234375, 44971.3203125, 18057.40625, 11857.984375, 8219.13671875, 7726.14697265625, 7619.2177734375, 7571.9677734375, 5972.31298828125, 5878.7978515625, 5759.6220703125, 4468.4296875, 4088.530029296875, 4073.903564453125, 3653.602783203125, 3493.7763671875, 3272.623046875, 2580.882568359375, 2559.094970703125, 2450.711181640625, 2448.408935546875, 2152.94482421875, 1492.6446533203125, 1485.632080078125, 1257.2659912109375, 1170.9608154296875, 1040.0567626953125, 992.1395263671875, 842.8809814453125, 833.316162109375, 807.8507690429688, 4139.59765625, 7492.91943359375, 19559.740234375, 4790.52392578125, 3619.98046875, 15320.552734375, 3142.7431640625, 3105.938232421875, 2536.635009765625, 2478.011962890625, 2437.978271484375, 1919.814453125, 1564.61083984375, 1354.666015625, 1151.915771484375, 1047.220947265625, 1025.907470703125, 911.1334838867188, 811.9857788085938, 786.1168823242188, 762.894287109375, 756.7217407226562, 696.6327514648438, 682.8623657226562, 649.0205078125, 623.4808349609375, 574.0142211914062, 504.55889892578125, 483.179931640625, 437.334228515625, 393.9154357910156, 369.3782043457031, 356.09075927734375, 348.6719055175781, 345.6634216308594, 1427.990478515625, 9286.6005859375, 3326.324951171875, 3315.88037109375, 3258.387451171875, 3003.975830078125, 2845.99365234375, 1107.9666748046875, 1059.4512939453125, 1052.653076171875, 988.4679565429688, 926.1719360351562, 881.6255493164062, 871.47607421875, 819.24365234375, 749.0784301757812, 680.6555786132812, 609.9992065429688, 492.5053405761719, 413.01300048828125, 378.6184387207031, 313.9356384277344, 298.6347961425781, 298.3287048339844, 219.11495971679688, 214.46630859375, 158.54953002929688, 149.31637573242188, 132.3522186279297, 124.3428955078125, 104.69644165039062, 1445.7137451171875, 16148.16796875, 4801.9599609375, 2637.65673828125, 2134.216796875, 1865.622802734375, 1722.0323486328125, 1631.9906005859375, 963.3560791015625, 897.2348022460938, 860.316650390625, 630.306884765625, 616.846435546875, 598.8900146484375, 592.9534301757812, 523.0953369140625, 406.903564453125, 381.5549011230469, 83.34516906738281, 7492.91943359375, 1.5557581186294556, 1.555734395980835, 1.5557247400283813, 1.555739164352417, 1.5557215213775635, 1.5557194948196411, 1.5557401180267334, 1.5557281970977783, 1.5557233095169067, 1.5557361841201782, 1.5557284355163574, 1.5557423830032349, 1.5557612180709839, 1.5558358430862427, 1.5557583570480347, 1.5557441711425781, 1.555766224861145, 1.5557920932769775, 5583.822265625, 4907.13037109375, 2728.156494140625, 2185.6103515625, 1989.025634765625, 1940.6719970703125, 1752.1483154296875, 1723.205078125, 1694.6453857421875, 1268.643798828125, 1097.0789794921875, 1032.935302734375, 920.1502685546875, 873.0276489257812, 796.7354736328125, 784.6339111328125, 635.3897094726562, 611.38720703125, 493.4595947265625, 477.7800598144531, 453.25006103515625, 286.8547058105469, 274.0456237792969, 262.2356262207031, 226.0005645751953, 191.96424865722656, 157.45242309570312, 140.41159057617188, 93.35828399658203, 56.46875762939453, 13554.4736328125, 1682.9371337890625, 1649.0816650390625, 1494.9686279296875, 1488.396484375, 1320.2620849609375, 1252.771484375, 1229.2401123046875, 1115.099365234375, 976.4923095703125, 800.5714111328125, 756.59619140625, 709.9777221679688, 672.4478149414062, 658.455810546875, 614.269775390625, 545.52685546875, 538.44482421875, 522.6075439453125, 475.3811950683594, 470.0946960449219, 409.997314453125, 380.65325927734375, 331.2242736816406, 239.8214111328125, 203.7456512451172, 179.1598358154297, 133.7688446044922, 105.96977233886719, 1547.133056640625, 7476.22314453125, 4352.9794921875, 3571.14306640625, 3003.700927734375, 2646.546875, 2210.822998046875, 1224.24560546875, 979.4816284179688, 943.034912109375, 786.8176879882812, 711.5527954101562, 711.1262817382812, 700.2557373046875, 665.603515625, 458.9169616699219, 445.11602783203125, 441.0115966796875, 413.4528503417969, 388.0224609375, 328.65521240234375, 295.83880615234375, 237.21707153320312, 234.7075653076172, 222.6943817138672, 215.66929626464844, 169.14511108398438, 131.46009826660156, 122.58597564697266, 96.15035247802734, 19.624509811401367, 950.5550537109375, 8376.271484375, 5852.98583984375, 2746.208740234375, 2477.205078125, 1633.1619873046875, 1524.4227294921875, 1233.6605224609375, 1175.287353515625, 1169.29052734375, 861.4384155273438, 853.0957641601562, 672.2811279296875, 646.5240478515625, 617.6373901367188, 569.8320922851562, 464.11993408203125, 372.97015380859375, 364.57525634765625, 348.56494140625, 344.2370910644531, 300.54730224609375, 254.1588897705078, 169.35926818847656, 148.11354064941406, 129.14791870117188, 81.8371353149414, 1.5558358430862427, 1.5557302236557007, 1.5557328462600708, 1.5557634830474854, 1.5557920932769775, 1.5557763576507568, 3975.3740234375, 2143.046875, 1896.8568115234375, 1728.192138671875, 1430.872802734375, 1378.2420654296875, 1210.4130859375, 1196.189208984375, 1071.613525390625, 949.5482177734375, 937.6942138671875, 928.60302734375, 823.0643920898438, 712.5722045898438, 707.322509765625, 705.012451171875, 689.69189453125, 637.8190307617188, 599.5442504882812, 594.617431640625, 572.3994750976562, 550.694580078125, 538.9151000976562, 472.8128662109375, 388.5769958496094, 384.9041442871094, 348.13018798828125, 341.7216491699219, 273.7946472167969, 240.185302734375, 3999.716796875, 2541.595703125, 1920.383056640625, 1076.3070068359375, 990.8949584960938, 927.4982299804688, 904.1685180664062, 851.6612548828125, 717.0469360351562, 714.724609375, 711.9295043945312, 640.3599853515625, 600.0808715820312, 563.4400634765625, 555.3822021484375, 549.1754150390625, 541.3051147460938, 493.26580810546875, 488.77508544921875, 453.16748046875, 443.02874755859375, 389.12493896484375, 379.6434631347656, 364.0476989746094, 332.81500244140625, 332.1803894042969, 321.65960693359375, 276.1910400390625, 275.0428161621094, 246.81324768066406, 6270.7060546875, 5907.904296875, 2027.7818603515625, 1958.5540771484375, 1138.81982421875, 1079.846435546875, 996.6560668945312, 861.704345703125, 811.843017578125, 778.8993530273438, 714.0643920898438, 665.3135375976562, 584.6251831054688, 504.12579345703125, 424.0924072265625, 369.3913269042969, 282.3426818847656, 182.61083984375, 169.59645080566406, 138.12954711914062, 129.33140563964844, 127.92243194580078, 108.60457611083984, 55.923309326171875, 34.37489318847656, 34.148292541503906, 27.558574676513672, 21.810775756835938, 1.5557507276535034, 1.5557361841201782, 1.5557763576507568, 1.5557920932769775, 6263.5654296875, 3195.099609375, 3063.060791015625, 2686.994140625, 1922.390869140625, 1234.039306640625, 1213.3326416015625, 664.0276489257812, 632.1762084960938, 537.4791870117188, 484.7408142089844, 413.76593017578125, 270.7519226074219, 179.24183654785156, 173.99256896972656, 172.07876586914062, 162.4039764404297, 152.36083984375, 123.74138641357422, 113.6807632446289, 1.555766224861145, 1.5557235479354858, 1.5557212829589844, 1.5557169914245605, 1.5557200908660889, 1.555732011795044, 1.5557286739349365, 1.5557194948196411, 1.5557221174240112, 1.5557208061218262, 1.5557286739349365, 1.5557444095611572, 1.5557353496551514, 1.5557323694229126, 1.5557581186294556, 1.5557920932769775, 1.5558358430862427, 1.5557583570480347, 1.5557634830474854, 1.5557454824447632, 1.555743932723999, 1.5557507276535034, 1.5557763576507568, 1.5557612180709839, 6915.8681640625, 4155.189453125, 2520.121826171875, 1740.17626953125, 1472.8077392578125, 1396.684814453125, 1051.696533203125, 986.9183959960938, 834.8399047851562, 551.0352172851562, 511.7252502441406, 416.9729919433594, 323.422119140625, 315.147705078125, 116.54798126220703, 100.26091766357422, 94.28398132324219, 55.110809326171875, 1.5557920932769775, 1.5557475090026855, 1.5557353496551514, 1.5557210445404053, 1.55572509765625, 1.5557310581207275, 1.5557233095169067, 1.5557293891906738, 1.5557230710983276, 1.55572509765625, 1.5557283163070679, 1.5557198524475098, 1.5557399988174438, 1.5557581186294556, 1.5558358430862427, 1.5557583570480347, 1.555766224861145, 1.5557612180709839, 1.5557763576507568, 3468.853271484375, 1834.251953125, 1632.8507080078125, 1614.5062255859375, 1545.587158203125, 1393.0037841796875, 1078.2037353515625, 956.2520751953125, 921.196044921875, 913.2931518554688, 895.5971069335938, 895.3765869140625, 443.59295654296875, 435.428955078125, 313.54840087890625, 269.46588134765625, 258.953369140625, 247.2252655029297, 221.06629943847656, 179.9428253173828, 177.7006072998047, 174.8413848876953, 159.02328491210938, 153.450927734375, 147.8376007080078, 129.7017822265625, 123.42338562011719, 89.67109680175781, 78.4970703125, 73.69743347167969, 4849.29052734375, 3452.03271484375, 3328.259765625, 1751.4930419921875, 1187.746337890625, 1150.502197265625, 1117.8714599609375, 842.8884887695312, 729.1288452148438, 647.7164916992188, 415.766357421875, 366.7381286621094, 284.5711975097656, 269.2892761230469, 137.15390014648438, 130.20252990722656, 114.45006561279297, 68.18739318847656, 1.5557523965835571, 1.555729866027832, 1.5557270050048828, 1.5557283163070679, 1.5557230710983276, 1.555717945098877, 1.5557304620742798, 1.5557361841201782, 1.5557318925857544, 1.5557149648666382, 1.5557308197021484, 1.555732011795044, 1.5557384490966797, 1.5557581186294556, 1.5558358430862427, 1.5557920932769775, 1.5557763576507568, 1.5557612180709839, 3134.43701171875, 2304.17236328125, 2201.57177734375, 1763.99462890625, 1706.6800537109375, 800.7172241210938, 705.2291259765625, 668.7747192382812, 650.7815551757812, 649.1778564453125, 646.7627563476562, 564.3128662109375, 516.210205078125, 382.2655944824219, 378.2316589355469, 362.2583312988281, 306.8551940917969, 301.5741271972656, 230.35960388183594, 201.8371124267578, 196.7685546875, 192.68585205078125, 170.4989776611328, 119.13440704345703, 70.91868591308594, 1.5557270050048828, 1.555729866027832, 1.5557289123535156, 1.5558358430862427, 1.5557523965835571, 11998.3125, 5272.10498046875, 757.1943969726562, 298.8478698730469, 167.96629333496094, 166.4221649169922, 158.10887145996094, 138.52662658691406, 120.5770492553711, 109.91560363769531, 89.56318664550781, 51.85663604736328, 27.741756439208984, 1.5557507276535034, 1.5557266473770142, 1.5557276010513306, 1.55572509765625, 1.5557302236557007, 1.5557286739349365, 1.5557235479354858, 1.5557308197021484, 1.5557219982147217, 1.555722713470459, 1.5557208061218262, 1.5557396411895752, 1.5557332038879395, 1.5557187795639038, 1.5557159185409546, 1.5557204484939575, 1.5557293891906738, 1.555726170539856, 1.5557260513305664, 1.5557444095611572, 1.5557920932769775, 2337.512939453125, 2323.531494140625, 1759.2452392578125, 1656.3712158203125, 1603.0850830078125, 1481.072021484375, 1402.7178955078125, 863.7400512695312, 732.1787109375, 725.734619140625, 622.1387939453125, 296.8943786621094, 274.214111328125, 239.36441040039062, 220.8195343017578, 218.51119995117188, 192.64370727539062, 167.3369598388672, 152.9285888671875, 143.22398376464844, 139.97853088378906, 132.4623565673828, 108.47897338867188, 107.87789916992188, 93.58674621582031, 92.59242248535156, 77.03263092041016, 75.09270477294922, 71.42882537841797, 71.20313262939453, 6451.3076171875, 1455.8939208984375, 1263.714599609375, 1020.227294921875, 764.8126220703125, 565.3052978515625, 521.2456665039062, 507.8550720214844, 504.6288757324219, 504.28997802734375, 438.1577453613281, 401.5709533691406, 373.6046142578125, 263.9689636230469, 215.406494140625, 201.91123962402344, 167.24183654785156, 147.94883728027344, 121.07609558105469, 90.70730590820312, 87.25221252441406, 49.463714599609375, 43.25843048095703, 1.5557283163070679, 1.5557920932769775, 1.555727481842041, 1.5557273626327515, 1.5557196140289307, 1.5557612180709839, 1.5557236671447754, 1.5557281970977783, 1.5557382106781006, 1.5557454824447632, 1.5557763576507568, 1.5558358430862427, 2845.867431640625, 1928.6298828125, 1532.61962890625, 1523.743408203125, 1408.7740478515625, 1102.2811279296875, 1037.1741943359375, 842.7604370117188, 830.8935546875, 776.016357421875, 708.478759765625, 310.40179443359375, 231.4543914794922, 108.66009521484375, 86.02049255371094, 60.91170120239258, 41.452999114990234, 1.5557210445404053, 1.5557159185409546, 1.5557634830474854, 1.555715799331665, 1.5557159185409546, 1.5557152032852173, 1.5557396411895752, 1.5557153224945068, 1.5557141304016113, 1.555716633796692, 1.5557142496109009, 1.5557142496109009, 1.555719017982483, 1.5557161569595337, 1.55574369430542, 1.5557353496551514, 1.5557286739349365, 1.5557397603988647, 1.555766224861145, 1.5557920932769775, 1.5557475090026855, 1.5557423830032349, 1.5557763576507568, 1.5557454824447632, 1.5558358430862427, 6061.02880859375, 4016.694091796875, 1969.5791015625, 1522.460693359375, 274.11419677734375, 219.66554260253906, 177.7606964111328, 167.09210205078125, 71.27639770507812, 6.681273937225342, 4139.59765625, 1.5557408332824707, 1.5557202100753784, 1.5557444095611572, 1.55574369430542, 1.5557210445404053, 1.5557225942611694, 1.555715799331665, 1.5557150840759277, 1.5557446479797363, 1.5557634830474854, 1.5557382106781006, 1.5557523965835571, 1.5557332038879395, 1.5557150840759277, 1.5557233095169067, 1.555731177330017, 1.5557265281677246, 1.5557161569595337, 1.5557153224945068, 1.5557302236557007, 1.555751919746399, 1.555742859840393, 1.5557355880737305, 1.5557763576507568, 1.5557920932769775, 1.5558358430862427, 1.5557583570480347], \"loglift\": [30.0, 29.0, 28.0, 27.0, 26.0, 25.0, 24.0, 23.0, 22.0, 21.0, 20.0, 19.0, 18.0, 17.0, 16.0, 15.0, 14.0, 13.0, 12.0, 11.0, 10.0, 9.0, 8.0, 7.0, 6.0, 5.0, 4.0, 3.0, 2.0, 1.0, 1.5824999809265137, 1.5824999809265137, 1.5823999643325806, 1.5823999643325806, 1.5823999643325806, 1.5823999643325806, 1.5822999477386475, 1.5822999477386475, 1.5822999477386475, 1.582200050354004, 1.5821000337600708, 1.5821000337600708, 1.5820000171661377, 1.5820000171661377, 1.5820000171661377, 1.5820000171661377, 1.5820000171661377, 1.5817999839782715, 1.5817999839782715, 1.5815999507904053, 1.5815000534057617, 1.5814000368118286, 1.5814000368118286, 1.5814000368118286, 1.5814000368118286, 1.5814000368118286, 1.5814000368118286, 1.5814000368118286, 1.5813000202178955, 1.5812000036239624, 1.1095999479293823, 1.1152000427246094, 0.03189999982714653, 1.583799958229065, 1.5836999416351318, 1.5836999416351318, 1.5836000442504883, 1.5836000442504883, 1.5836000442504883, 1.5836000442504883, 1.5836000442504883, 1.5836000442504883, 1.5836000442504883, 1.5835000276565552, 1.583400011062622, 1.583400011062622, 1.583400011062622, 1.583400011062622, 1.583400011062622, 1.5831999778747559, 1.5831999778747559, 1.5831999778747559, 1.5831999778747559, 1.5830999612808228, 1.582800030708313, 1.582800030708313, 1.5825999975204468, 1.5824999809265137, 1.5823999643325806, 1.5822999477386475, 1.5820000171661377, 1.5820000171661377, 1.5820000171661377, 1.531599998474121, 1.4710999727249146, 1.3452999591827393, 0.6069999933242798, 0.5975000262260437, 2.897900104522705, 2.8975000381469727, 2.8975000381469727, 2.89739990234375, 2.89739990234375, 2.89739990234375, 2.897200107574463, 2.8970999717712402, 2.896899938583374, 2.896699905395508, 2.8966000080108643, 2.8966000080108643, 2.896399974822998, 2.896199941635132, 2.8961000442504883, 2.8961000442504883, 2.8959999084472656, 2.895900011062622, 2.8958001136779785, 2.895699977874756, 2.8956000804901123, 2.895400047302246, 2.8951001167297363, 2.89490008354187, 2.8945999145507812, 2.894200086593628, 2.8940000534057617, 2.8938000202178955, 2.893699884414673, 2.893699884414673, 2.0941998958587646, 3.177999973297119, 3.1777000427246094, 3.1777000427246094, 3.1777000427246094, 3.1777000427246094, 3.1775999069213867, 3.176800012588501, 3.1767001152038574, 3.1767001152038574, 3.1765999794006348, 3.176500082015991, 3.176500082015991, 3.1763999462127686, 3.176300048828125, 3.1761999130249023, 3.1760001182556152, 3.1756999492645264, 3.175100088119507, 3.174499988555908, 3.1742000579833984, 3.1733999252319336, 3.1731998920440674, 3.1731998920440674, 3.171299934387207, 3.1712000370025635, 3.1686999797821045, 3.168100118637085, 3.166800022125244, 3.166100025177002, 3.163800001144409, 3.012500047683716, 3.200000047683716, 3.1998000144958496, 3.1995999813079834, 3.199399948120117, 3.1993000507354736, 3.1993000507354736, 3.199199914932251, 3.1986000537872314, 3.198499917984009, 3.1984000205993652, 3.1977999210357666, 3.197700023651123, 3.197700023651123, 3.1975998878479004, 3.1972999572753906, 3.196500062942505, 3.196199893951416, 3.1821999549865723, 0.9592999815940857, 0.1873999983072281, 0.1873999983072281, 0.1873999983072281, 0.1873999983072281, 0.1873999983072281, 0.1873999983072281, 0.1873999983072281, 0.1873999983072281, 0.1873999983072281, 0.1873999983072281, 0.1873999983072281, 0.1873999983072281, 0.1873999983072281, 0.18729999661445618, 0.1873999983072281, 0.1873999983072281, 0.18729999661445618, 0.18729999661445618, 3.2671000957489014, 3.2671000957489014, 3.2667999267578125, 3.266700029373169, 3.2665998935699463, 3.2665998935699463, 3.2664999961853027, 3.2664999961853027, 3.2664999961853027, 3.266200065612793, 3.2660000324249268, 3.2660000324249268, 3.2657999992370605, 3.265700101852417, 3.265500068664551, 3.265500068664551, 3.2651000022888184, 3.265000104904175, 3.264400005340576, 3.2643001079559326, 3.2641000747680664, 3.262200117111206, 3.26200008392334, 3.261699914932251, 3.2607998847961426, 3.259700059890747, 3.257999897003174, 3.2567999362945557, 3.2513999938964844, 3.240799903869629, 3.273099899291992, 3.2723000049591064, 3.2723000049591064, 3.272200107574463, 3.272200107574463, 3.2720999717712402, 3.2720000743865967, 3.2720000743865967, 3.271899938583374, 3.271699905395508, 3.2713000774383545, 3.271199941635132, 3.2711000442504883, 3.2709999084472656, 3.270900011062622, 3.2708001136779785, 3.2704999446868896, 3.270400047302246, 3.270400047302246, 3.2701001167297363, 3.2699999809265137, 3.2695999145507812, 3.2692999839782715, 3.268699884414673, 3.2669999599456787, 3.265899896621704, 3.264899969100952, 3.26200008392334, 3.2590999603271484, 2.8752999305725098, 3.3071000576019287, 3.3069000244140625, 3.3069000244140625, 3.30679988861084, 3.3066999912261963, 3.3066000938415527, 3.3060998916625977, 3.305799961090088, 3.3057000637054443, 3.3053998947143555, 3.3052000999450684, 3.3052000999450684, 3.3050999641418457, 3.305000066757202, 3.303999900817871, 3.3039000034332275, 3.3039000034332275, 3.3036999702453613, 3.3034000396728516, 3.3027000427246094, 3.3022000789642334, 3.3010001182556152, 3.3008999824523926, 3.300600051879883, 3.300299882888794, 3.2983999252319336, 3.2959001064300537, 3.295099973678589, 3.2916998863220215, 3.228300094604492, 1.9464999437332153, 3.333899974822998, 3.3338000774383545, 3.3334999084472656, 3.3334999084472656, 3.3331000804901123, 3.3331000804901123, 3.332900047302246, 3.3327999114990234, 3.3327999114990234, 3.3322999477386475, 3.3322999477386475, 3.3317999839782715, 3.3317999839782715, 3.331700086593628, 3.331399917602539, 3.330899953842163, 3.3301000595092773, 3.3299999237060547, 3.3297998905181885, 3.329699993133545, 3.3290998935699463, 3.328200101852417, 3.3252999782562256, 3.3239998817443848, 3.322499990463257, 3.3157999515533447, 0.24950000643730164, 0.24950000643730164, 0.24950000643730164, 0.24950000643730164, 0.24950000643730164, 0.24950000643730164, 3.4456000328063965, 3.4453001022338867, 3.445199966430664, 3.445199966430664, 3.444999933242798, 3.4449000358581543, 3.4447999000549316, 3.4447999000549316, 3.4446001052856445, 3.444499969482422, 3.4444000720977783, 3.4444000720977783, 3.444200038909912, 3.4439001083374023, 3.4439001083374023, 3.4439001083374023, 3.4439001083374023, 3.443700075149536, 3.4435999393463135, 3.44350004196167, 3.4433999061584473, 3.4433000087738037, 3.4433000087738037, 3.4428999423980713, 3.442199945449829, 3.442199945449829, 3.441800117492676, 3.441699981689453, 3.4405999183654785, 3.4398000240325928, 3.513700008392334, 3.513400077819824, 3.5132999420166016, 3.5125999450683594, 3.512500047683716, 3.512399911880493, 3.512399911880493, 3.5123000144958496, 3.51200008392334, 3.511899948120117, 3.511899948120117, 3.511699914932251, 3.5116000175476074, 3.511399984359741, 3.511399984359741, 3.5113000869750977, 3.5113000869750977, 3.510999917984009, 3.510999917984009, 3.5107998847961426, 3.510699987411499, 3.510200023651123, 3.5100998878479004, 3.5099000930786133, 3.5095999240875244, 3.5095999240875244, 3.509399890899658, 3.5085999965667725, 3.5085999965667725, 3.507999897003174, 3.5501999855041504, 3.5501999855041504, 3.5497000217437744, 3.5497000217437744, 3.5492000579833984, 3.549099922180176, 3.5490000247955322, 3.5487000942230225, 3.5485999584198, 3.5485999584198, 3.5483999252319336, 3.5481998920440674, 3.5478999614715576, 3.547499895095825, 3.546999931335449, 3.5464000701904297, 3.5452001094818115, 3.54229998588562, 3.5416998863220215, 3.5397000312805176, 3.5388998985290527, 3.538800001144409, 3.5367000102996826, 3.5236001014709473, 3.5064001083374023, 3.5060999393463135, 3.4951999187469482, 3.48009991645813, 0.5135999917984009, 0.5135999917984009, 0.5135999917984009, 0.5135999917984009, 3.6512999534606934, 3.651099920272827, 3.651099920272827, 3.6510000228881836, 3.6507999897003174, 3.650399923324585, 3.6503000259399414, 3.6493000984191895, 3.649199962615967, 3.6487998962402344, 3.6484999656677246, 3.6480000019073486, 3.6461000442504883, 3.6433000564575195, 3.6429998874664307, 3.642899990081787, 3.642400026321411, 3.6417999267578125, 3.6394999027252197, 3.638400077819824, 0.6126000285148621, 0.6126000285148621, 0.6126000285148621, 0.6126000285148621, 0.6126000285148621, 0.6126000285148621, 0.6126000285148621, 0.6126000285148621, 0.6126000285148621, 0.6126000285148621, 0.6126000285148621, 0.6126000285148621, 0.6126000285148621, 0.6126000285148621, 0.6126000285148621, 0.612500011920929, 0.612500011920929, 0.6126000285148621, 0.612500011920929, 0.6126000285148621, 0.6126000285148621, 0.6126000285148621, 0.612500011920929, 0.612500011920929, 3.6535000801086426, 3.65339994430542, 3.6531999111175537, 3.652899980545044, 3.6528000831604004, 3.6526999473571777, 3.6522998809814453, 3.6522998809814453, 3.6519999504089355, 3.651099920272827, 3.650899887084961, 3.6501998901367188, 3.649199962615967, 3.6489999294281006, 3.6410000324249268, 3.6389000415802, 3.6379001140594482, 3.626499891281128, 0.6337000131607056, 0.6335999965667725, 0.6335999965667725, 0.6335999965667725, 0.6335999965667725, 0.6335999965667725, 0.6335999965667725, 0.6335999965667725, 0.6335999965667725, 0.6335999965667725, 0.6335999965667725, 0.6335999965667725, 0.6335999965667725, 0.6335999965667725, 0.6335999965667725, 0.6335999965667725, 0.6335999965667725, 0.6335999965667725, 0.6335999965667725, 3.7701001167297363, 3.769700050354004, 3.7695999145507812, 3.7695999145507812, 3.7695000171661377, 3.769399881362915, 3.7690999507904053, 3.768899917602539, 3.768899917602539, 3.768899917602539, 3.7688000202178955, 3.7688000202178955, 3.7671000957489014, 3.7671000957489014, 3.765700101852417, 3.765000104904175, 3.764699935913086, 3.7644999027252197, 3.7637999057769775, 3.762200117111206, 3.7620999813079834, 3.76200008392334, 3.7611000537872314, 3.7607998847961426, 3.7604000568389893, 3.759000062942505, 3.7583999633789062, 3.7537999153137207, 3.7513999938964844, 3.750200033187866, 3.7720999717712402, 3.7720000743865967, 3.7720000743865967, 3.7716000080108643, 3.771199941635132, 3.7711000442504883, 3.7711000442504883, 3.770699977874756, 3.770400047302246, 3.7701001167297363, 3.768899917602539, 3.768399953842163, 3.767199993133545, 3.766900062561035, 3.7614998817443848, 3.760999917984009, 3.759399890899658, 3.7504000663757324, 0.6754000186920166, 0.6754000186920166, 0.6754000186920166, 0.6754000186920166, 0.6754000186920166, 0.6754000186920166, 0.6754000186920166, 0.6754000186920166, 0.6754000186920166, 0.6754000186920166, 0.6754000186920166, 0.6754000186920166, 0.6754000186920166, 0.6754000186920166, 0.6754000186920166, 0.6754000186920166, 0.6754000186920166, 0.6754000186920166, 3.8477001190185547, 3.8475000858306885, 3.8475000858306885, 3.8473000526428223, 3.8473000526428223, 3.846299886703491, 3.846100091934204, 3.845900058746338, 3.845900058746338, 3.845900058746338, 3.845900058746338, 3.8454999923706055, 3.8452999591827393, 3.8443000316619873, 3.8441998958587646, 3.844099998474121, 3.8433001041412354, 3.8431999683380127, 3.8417000770568848, 3.8408000469207764, 3.84060001373291, 3.840399980545044, 3.839400053024292, 3.835599899291992, 3.8269999027252197, 0.7328000068664551, 0.7328000068664551, 0.7328000068664551, 0.7328000068664551, 0.7328000068664551, 3.8561999797821045, 3.8559999465942383, 3.854300022125244, 3.851300001144409, 3.847399950027466, 3.8473000526428223, 3.8468000888824463, 3.845400094985962, 3.8438000679016113, 3.842600107192993, 3.839400053024292, 3.8269999027252197, 3.800800085067749, 0.5630000233650208, 0.5630000233650208, 0.5630000233650208, 0.5629000067710876, 0.5629000067710876, 0.5629000067710876, 0.5629000067710876, 0.5629000067710876, 0.5629000067710876, 0.5629000067710876, 0.5629000067710876, 0.5629000067710876, 0.5629000067710876, 0.5629000067710876, 0.5629000067710876, 0.5629000067710876, 0.5629000067710876, 0.5629000067710876, 0.5629000067710876, 0.5629000067710876, 0.5629000067710876, 3.8763999938964844, 3.8763999938964844, 3.876199960708618, 3.8761000633239746, 3.8761000633239746, 3.875999927520752, 3.875999927520752, 3.8752999305725098, 3.875, 3.875, 3.8745999336242676, 3.871999979019165, 3.8715999126434326, 3.870800018310547, 3.870300054550171, 3.8701999187469482, 3.86929988861084, 3.8680999279022217, 3.867300033569336, 3.8666000366210938, 3.8664000034332275, 3.865799903869629, 3.863300085067749, 3.8631999492645264, 3.8610999584198, 3.8608999252319336, 3.857599973678589, 3.857100009918213, 3.856100082397461, 3.8559999465942383, 4.0121002197265625, 4.011300086975098, 4.011099815368652, 4.010799884796143, 4.010300159454346, 4.0096001625061035, 4.009399890899658, 4.009300231933594, 4.009300231933594, 4.009300231933594, 4.008900165557861, 4.008600234985352, 4.008299827575684, 4.0065999031066895, 4.005300045013428, 4.004899978637695, 4.003300189971924, 4.002099990844727, 3.9999001026153564, 3.995699882507324, 3.994999885559082, 3.9816999435424805, 3.9772000312805176, 0.823199987411499, 0.823199987411499, 0.823199987411499, 0.823199987411499, 0.823199987411499, 0.823199987411499, 0.823199987411499, 0.823199987411499, 0.823199987411499, 0.823199987411499, 0.823199987411499, 0.8230999708175659, 4.051700115203857, 4.051400184631348, 4.051199913024902, 4.051199913024902, 4.051199913024902, 4.050899982452393, 4.05079984664917, 4.0503997802734375, 4.0503997802734375, 4.050300121307373, 4.050099849700928, 4.047399997711182, 4.04580020904541, 4.038400173187256, 4.0346999168396, 4.027500152587891, 4.015600204467773, 0.9020000100135803, 0.9020000100135803, 0.9020000100135803, 0.9020000100135803, 0.9020000100135803, 0.9020000100135803, 0.9020000100135803, 0.9020000100135803, 0.9020000100135803, 0.9020000100135803, 0.9020000100135803, 0.9020000100135803, 0.9020000100135803, 0.9020000100135803, 0.9020000100135803, 0.9020000100135803, 0.9020000100135803, 0.9020000100135803, 0.9020000100135803, 0.9020000100135803, 0.9020000100135803, 0.9020000100135803, 0.9020000100135803, 0.9020000100135803, 0.9018999934196472, 4.094799995422363, 4.094699859619141, 4.094299793243408, 4.094099998474121, 4.089600086212158, 4.088200092315674, 4.086599826812744, 4.086100101470947, 4.07390022277832, 3.8424999713897705, 1.1089999675750732, 0.9165999889373779, 0.9164999723434448, 0.9164999723434448, 0.9164999723434448, 0.9164999723434448, 0.9164999723434448, 0.9164999723434448, 0.9164999723434448, 0.9164999723434448, 0.9164999723434448, 0.9164999723434448, 0.9164999723434448, 0.9164999723434448, 0.9164999723434448, 0.9164999723434448, 0.9164999723434448, 0.9164999723434448, 0.9164999723434448, 0.9164999723434448, 0.9164999723434448, 0.9164999723434448, 0.9164999723434448, 0.9164999723434448, 0.9164999723434448, 0.9164000153541565, 0.9164000153541565, 0.9164999723434448], \"logprob\": [30.0, 29.0, 28.0, 27.0, 26.0, 25.0, 24.0, 23.0, 22.0, 21.0, 20.0, 19.0, 18.0, 17.0, 16.0, 15.0, 14.0, 13.0, 12.0, 11.0, 10.0, 9.0, 8.0, 7.0, 6.0, 5.0, 4.0, 3.0, 2.0, 1.0, -1.59660005569458, -1.9804999828338623, -2.8812999725341797, -2.965100049972534, -3.1412999629974365, -3.2878000736236572, -3.5739998817443848, -3.6407999992370605, -3.701200008392334, -3.8715999126434326, -4.162799835205078, -4.200399875640869, -4.25, -4.272299766540527, -4.289400100708008, -4.353799819946289, -4.399400234222412, -4.665800094604492, -4.669099807739258, -4.83519983291626, -4.926400184631348, -5.069699764251709, -5.078400135040283, -5.091800212860107, -5.092599868774414, -5.092899799346924, -5.094600200653076, -5.096199989318848, -5.1554999351501465, -5.242700099945068, -4.223899841308594, -4.498499870300293, -3.8947999477386475, -1.5103000402450562, -2.4228999614715576, -2.8434998989105225, -3.210099935531616, -3.271899938583374, -3.285900115966797, -3.292099952697754, -3.5295000076293945, -3.5452001094818115, -3.565700054168701, -3.8196001052856445, -3.9084999561309814, -3.912100076675415, -4.020999908447266, -4.065800189971924, -4.131199836730957, -4.368800163269043, -4.377299785614014, -4.420599937438965, -4.421500205993652, -4.55019998550415, -4.916800022125244, -4.921500205993652, -5.088600158691406, -5.159800052642822, -5.278500080108643, -5.325699806213379, -5.488999843597412, -5.500500202178955, -5.531599998474121, -3.9479000568389893, -3.4149999618530273, -2.5813000202178955, -4.726500034332275, -5.016200065612793, -1.2730000019073486, -2.8575000762939453, -2.86929988861084, -3.071899890899658, -3.0952999591827393, -3.111599922180176, -3.3506999015808105, -3.555500030517578, -3.699700117111206, -3.861999988555908, -3.95740008354187, -3.9779999256134033, -4.096799850463867, -4.212200164794922, -4.244699954986572, -4.274700164794922, -4.282899856567383, -4.365799903869629, -4.385799884796143, -4.436699867248535, -4.4770002365112305, -4.559800148010254, -4.689199924468994, -4.732600212097168, -4.832600116729736, -4.9375, -5.002099990844727, -5.038899898529053, -5.059999942779541, -5.068699836730957, -4.449699878692627, -1.4936000108718872, -2.5206000804901123, -2.523699998855591, -2.5411999225616455, -2.6226000785827637, -2.6765999794006348, -3.620800018310547, -3.6656999588012695, -3.672100067138672, -3.735100030899048, -3.800299882888794, -3.8496999740600586, -3.861299991607666, -3.9231998920440674, -4.012899875640869, -4.10890007019043, -4.218699932098389, -4.433300018310547, -4.609899997711182, -4.697199821472168, -4.885300159454346, -4.935500144958496, -4.936600208282471, -5.247000217437744, -5.268599987030029, -5.5731000900268555, -5.633699893951416, -5.7555999755859375, -5.818699836730957, -5.993000030517578, -3.5190999507904053, -0.9182999730110168, -2.1312999725341797, -2.7307000160217285, -2.9426000118255615, -3.077199935913086, -3.157399892807007, -3.2111001014709473, -3.7388999462127686, -3.8101000785827637, -3.8522000312805176, -4.163899898529053, -4.1855998039245605, -4.215199947357178, -4.225200176239014, -4.350800037384033, -4.602799892425537, -4.667399883270264, -6.202700138092041, -3.9268999099731445, -13.178600311279297, -13.178600311279297, -13.178600311279297, -13.178600311279297, -13.178600311279297, -13.178600311279297, -13.178600311279297, -13.178600311279297, -13.178600311279297, -13.178600311279297, -13.178600311279297, -13.178600311279297, -13.178600311279297, -13.178600311279297, -13.178600311279297, -13.178600311279297, -13.178600311279297, -13.178600311279297, -1.913100004196167, -2.0423998832702637, -2.629699945449829, -2.8515000343322754, -2.9458999633789062, -2.9704999923706055, -3.0727999210357666, -3.089400053024292, -3.1061999797821045, -3.3959999084472656, -3.5415000915527344, -3.601799964904785, -3.717600107192993, -3.77020001411438, -3.861799955368042, -3.87719988822937, -4.088600158691406, -4.127200126647949, -4.342100143432617, -4.374499797821045, -4.427299976348877, -4.88670015335083, -4.932600021362305, -4.976900100708008, -5.126500129699707, -5.290900230407715, -5.490799903869629, -5.606500148773193, -6.019999980926514, -6.533400058746338, -1.020400047302246, -3.107300043106079, -3.1275999546051025, -3.225800037384033, -3.230299949645996, -3.3503000736236572, -3.4028000831604004, -3.421799898147583, -3.5192999839782715, -3.6522998809814453, -3.8512001037597656, -3.9077999591827393, -3.97160005569458, -4.026000022888184, -4.047100067138672, -4.116700172424316, -4.2357001304626465, -4.248799800872803, -4.27869987487793, -4.373700141906738, -4.384900093078613, -4.522200107574463, -4.596700191497803, -4.736400127410889, -5.060999870300293, -5.225100040435791, -5.354700088500977, -5.649700164794922, -5.8856000900268555, -3.588399887084961, -1.5813000202178955, -2.1224000453948975, -2.3203999996185303, -2.493499994277954, -2.6201999187469482, -2.8001999855041504, -3.3917999267578125, -3.6150999069213867, -3.65310001373291, -3.8345000743865967, -3.93530011177063, -3.9358999729156494, -3.9512999057769775, -4.002200126647949, -4.375, -4.405600070953369, -4.414899826049805, -4.479700088500977, -4.543399810791016, -4.71019983291626, -4.815899848937988, -5.037899971008301, -5.048699855804443, -5.101500034332275, -5.133800029754639, -5.378699779510498, -5.633299827575684, -5.703999996185303, -5.950300216674805, -7.602799892425537, -5.00439977645874, -1.4408999681472778, -1.799399971961975, -2.5564000606536865, -2.659600019454956, -3.0764999389648438, -3.145400047302246, -3.357300043106079, -3.4058001041412354, -3.4110000133514404, -3.7170000076293945, -3.7267000675201416, -3.965399980545044, -4.004499912261963, -4.0503997802734375, -4.131100177764893, -4.336900234222412, -4.556300163269043, -4.57919979095459, -4.624300003051758, -4.6367998123168945, -4.773200035095215, -4.941699981689453, -5.350599765777588, -5.485899925231934, -5.6244001388549805, -6.087399959564209, -13.116399765014648, -13.116499900817871, -13.116499900817871, -13.116399765014648, -13.116399765014648, -13.116399765014648, -2.074399948120117, -2.6926000118255615, -2.81469988822937, -2.907900094985962, -3.09689998626709, -3.134399890899658, -3.264400005340576, -3.27620005607605, -3.3863000869750977, -3.507499933242798, -3.5199999809265137, -3.5297999382019043, -3.650599956512451, -3.795099973678589, -3.802500009536743, -3.805799961090088, -3.8278000354766846, -3.9061999320983887, -3.9681999683380127, -3.9765000343322754, -4.014599800109863, -4.053400039672852, -4.075099945068359, -4.206299781799316, -4.403200149536133, -4.412700176239014, -4.513599872589111, -4.532199859619141, -4.754899978637695, -4.886600017547607, -2.0002999305725098, -2.453900098800659, -2.7344000339508057, -3.313999891281128, -3.3968000411987305, -3.4630000591278076, -3.4885001182556152, -3.5483999252319336, -3.7207999229431152, -3.724100112915039, -3.7279999256134033, -3.834199905395508, -3.8993000984191895, -3.9625000953674316, -3.976900100708008, -3.9881999492645264, -4.002600193023682, -4.095799922943115, -4.105000019073486, -4.1809000968933105, -4.20359992980957, -4.333799839019775, -4.35860013961792, -4.400700092315674, -4.490799903869629, -4.492700099945068, -4.525000095367432, -4.678199768066406, -4.682400226593018, -4.791299819946289, -1.5140000581741333, -1.573699951171875, -2.6435000896453857, -2.6782000064849854, -3.2209999561309814, -3.274199962615967, -3.3545000553131104, -3.5002999305725098, -3.559999942779541, -3.6015000343322754, -3.6886000633239746, -3.759399890899658, -3.8889999389648438, -4.037600040435791, -4.210999965667725, -4.349599838256836, -4.61959981918335, -5.058199882507324, -5.132800102233887, -5.340000152587891, -5.406599998474121, -5.417699813842773, -5.583499908447266, -6.260300159454346, -6.764200210571289, -6.771100044250488, -6.996399879455566, -7.2453999519348145, -12.852299690246582, -12.852399826049805, -12.852299690246582, -12.852299690246582, -1.4141000509262085, -2.087399959564209, -2.129699945449829, -2.260699987411499, -2.5957999229431152, -3.0394999980926514, -3.0564000606536865, -3.6603000164031982, -3.7095000743865967, -3.8722000122070312, -3.975800037384033, -4.1346001625061035, -4.5605998039245605, -4.975900173187256, -5.005899906158447, -5.017000198364258, -5.075399875640869, -5.139900207519531, -5.350200176239014, -5.436100006103516, -12.753399848937988, -12.753399848937988, -12.753399848937988, -12.753399848937988, -12.753399848937988, -12.753399848937988, -12.753399848937988, -12.753399848937988, -12.753399848937988, -12.753399848937988, -12.753399848937988, -12.753399848937988, -12.753399848937988, -12.753399848937988, -12.753399848937988, -12.753399848937988, -12.753399848937988, -12.753399848937988, -12.753399848937988, -12.753399848937988, -12.753399848937988, -12.753399848937988, -12.753399848937988, -12.753399848937988, -1.3128000497817993, -1.8223999738693237, -2.322700023651123, -2.6933000087738037, -2.8601999282836914, -2.9133999347686768, -3.1974000930786133, -3.2611000537872314, -3.4286999702453613, -3.8450000286102295, -3.919300079345703, -4.12470006942749, -4.379799842834473, -4.405799865722656, -5.408599853515625, -5.561200141906738, -5.623700141906738, -6.171999931335449, -12.7322998046875, -12.7322998046875, -12.732399940490723, -12.732399940490723, -12.732399940490723, -12.732399940490723, -12.732399940490723, -12.732399940490723, -12.732399940490723, -12.732399940490723, -12.732399940490723, -12.732399940490723, -12.732399940490723, -12.732399940490723, -12.7322998046875, -12.732399940490723, -12.732399940490723, -12.732399940490723, -12.732399940490723, -1.886299967765808, -2.5237998962402344, -2.640199899673462, -2.651599884033203, -2.695199966430664, -2.799299955368042, -3.0557000637054443, -3.1758999824523926, -3.213399887084961, -3.2219998836517334, -3.2416000366210938, -3.24180006980896, -3.9458999633789062, -3.9644999504089355, -4.2941999435424805, -4.446499824523926, -4.486499786376953, -4.533100128173828, -4.645699977874756, -4.853099822998047, -4.865699768066406, -4.8821001052856445, -4.977700233459473, -5.013700008392334, -5.051400184631348, -5.183700084686279, -5.23390007019043, -5.5578999519348145, -5.693399906158447, -5.757800102233887, -1.5492000579833984, -1.88919997215271, -1.9256999492645264, -2.5680999755859375, -2.956899881362915, -2.988800048828125, -3.0176000595092773, -3.3004000186920166, -3.44569993019104, -3.564300060272217, -4.008900165557861, -4.134900093078613, -4.389699935913086, -4.445199966430664, -5.12529993057251, -5.177800178527832, -5.3084001541137695, -5.83519983291626, -12.690500259399414, -12.690500259399414, -12.690500259399414, -12.690500259399414, -12.690500259399414, -12.690600395202637, -12.690500259399414, -12.690500259399414, -12.690500259399414, -12.690600395202637, -12.690500259399414, -12.690500259399414, -12.690500259399414, -12.690500259399414, -12.690500259399414, -12.690500259399414, -12.690500259399414, -12.690500259399414, -1.909999966621399, -2.217900037765503, -2.2634999752044678, -2.4851999282836914, -2.5183000564575195, -3.276099920272827, -3.4033000469207764, -3.4565000534057617, -3.483799934387207, -3.486299991607666, -3.4900999069213867, -3.626800060272217, -3.716099977493286, -4.017499923706055, -4.028200149536133, -4.071499824523926, -4.2382001876831055, -4.25570011138916, -4.526599884033203, -4.6596999168396, -4.685299873352051, -4.706399917602539, -4.829800128936768, -5.191999912261963, -5.719399929046631, -12.633199691772461, -12.633199691772461, -12.633199691772461, -12.633099555969238, -12.633199691772461, -0.5591999888420105, -1.381700038909912, -3.3239998817443848, -4.256700038909912, -4.8368000984191895, -4.846099853515625, -4.897799968719482, -5.031400203704834, -5.171800136566162, -5.265600204467773, -5.473499774932861, -6.032400131225586, -6.684199810028076, -12.802900314331055, -12.803000450134277, -12.803000450134277, -12.803000450134277, -12.803000450134277, -12.803000450134277, -12.803000450134277, -12.803000450134277, -12.803000450134277, -12.803000450134277, -12.803000450134277, -12.803000450134277, -12.803000450134277, -12.803000450134277, -12.803099632263184, -12.803000450134277, -12.803000450134277, -12.803000450134277, -12.803000450134277, -12.803000450134277, -12.803000450134277, -2.1747000217437744, -2.1807000637054443, -2.4591000080108643, -2.519399881362915, -2.5520999431610107, -2.6312999725341797, -2.685800075531006, -3.171299934387207, -3.336899995803833, -3.3457000255584717, -3.5000998973846436, -4.242499828338623, -4.322400093078613, -4.459099769592285, -4.540299892425537, -4.55079984664917, -4.677800178527832, -4.819799900054932, -4.910600185394287, -4.976900100708008, -5.0, -5.055799961090088, -5.2581000328063965, -5.263700008392334, -5.407899856567383, -5.418799877166748, -5.606100082397461, -5.6321001052856445, -5.68310022354126, -5.686399936676025, -1.023800015449524, -2.5132999420166016, -2.6549999713897705, -2.86929988861084, -3.157900094985962, -3.460900068283081, -3.54229998588562, -3.5683999061584473, -3.5748000144958496, -3.5754001140594482, -3.7165000438690186, -3.803999900817871, -3.8763999938964844, -4.225500106811523, -4.429999828338623, -4.495200157165527, -4.685100078582764, -4.808899879455566, -5.011600017547607, -5.304599761962891, -5.344099998474121, -5.925000190734863, -6.063499927520752, -12.542799949645996, -12.542699813842773, -12.542799949645996, -12.542799949645996, -12.542799949645996, -12.542799949645996, -12.542799949645996, -12.542799949645996, -12.542799949645996, -12.542799949645996, -12.542799949645996, -12.542799949645996, -1.8026000261306763, -2.1919000148773193, -2.4219000339508057, -2.4277000427246094, -2.5062999725341797, -2.7518999576568604, -2.8129000663757324, -3.0208001136779785, -3.0350000858306885, -3.1033999919891357, -3.194700002670288, -4.022600173950195, -4.317800045013428, -5.081299781799316, -5.318600177764893, -5.671000003814697, -6.067699909210205, -12.463899612426758, -12.463899612426758, -12.463899612426758, -12.46399974822998, -12.46399974822998, -12.46399974822998, -12.463899612426758, -12.46399974822998, -12.46399974822998, -12.46399974822998, -12.46399974822998, -12.46399974822998, -12.46399974822998, -12.46399974822998, -12.463899612426758, -12.463899612426758, -12.46399974822998, -12.463899612426758, -12.463899612426758, -12.463899612426758, -12.463899612426758, -12.463899612426758, -12.463899612426758, -12.46399974822998, -12.463899612426758, -1.003499984741211, -1.4149999618530273, -2.1280999183654785, -2.3857998847961426, -4.104800224304199, -4.327600002288818, -4.540900230407715, -4.603300094604492, -5.467400074005127, -8.066100120544434, -4.37060022354126, -12.449399948120117, -12.44950008392334, -12.44950008392334, -12.44950008392334, -12.44950008392334, -12.44950008392334, -12.44950008392334, -12.44950008392334, -12.44950008392334, -12.44950008392334, -12.44950008392334, -12.44950008392334, -12.44950008392334, -12.44950008392334, -12.44950008392334, -12.44950008392334, -12.44950008392334, -12.44950008392334, -12.44950008392334, -12.44950008392334, -12.44950008392334, -12.44950008392334, -12.44950008392334, -12.44950008392334, -12.44950008392334, -12.44950008392334, -12.44950008392334]}, \"token.table\": {\"Topic\": [17, 10, 16, 11, 16, 15, 20, 16, 13, 20, 15, 2, 17, 14, 11, 19, 7, 4, 12, 20, 8, 10, 4, 8, 19, 22, 9, 21, 6, 12, 5, 6, 11, 7, 8, 17, 2, 15, 10, 12, 13, 17, 15, 17, 11, 16, 17, 20, 14, 7, 6, 6, 17, 9, 7, 12, 2, 22, 14, 10, 7, 3, 15, 9, 14, 11, 3, 13, 18, 19, 10, 2, 7, 9, 15, 2, 9, 4, 10, 7, 1, 11, 9, 14, 19, 5, 20, 1, 4, 9, 15, 12, 9, 11, 4, 20, 6, 11, 14, 6, 15, 18, 8, 8, 10, 3, 13, 5, 12, 13, 14, 9, 3, 19, 5, 21, 6, 3, 19, 12, 14, 15, 21, 12, 19, 12, 14, 8, 19, 4, 6, 3, 3, 19, 10, 8, 8, 13, 8, 16, 19, 21, 16, 15, 22, 1, 13, 15, 4, 6, 3, 20, 2, 10, 12, 4, 10, 2, 9, 17, 4, 10, 2, 15, 7, 15, 8, 17, 11, 2, 5, 19, 6, 10, 12, 18, 18, 14, 1, 21, 17, 4, 12, 10, 3, 6, 13, 12, 4, 5, 16, 5, 15, 14, 6, 10, 5, 4, 3, 7, 10, 7, 13, 7, 9, 10, 14, 12, 13, 1, 6, 11, 17, 2, 10, 3, 5, 13, 20, 8, 1, 6, 9, 12, 18, 20, 22, 15, 9, 5, 6, 2, 8, 20, 17, 6, 6, 16, 4, 1, 5, 19, 8, 1, 8, 4, 11, 14, 17, 1, 7, 3, 2, 8, 16, 20, 2, 1, 20, 16, 1, 8, 14, 7, 10, 3, 21, 8, 12, 15, 3, 11, 1, 2, 18, 16, 13, 10, 16, 21, 19, 19, 19, 11, 11, 7, 16, 22, 1, 21, 9, 20, 10, 9, 15, 15, 4, 2, 6, 9, 5, 21, 2, 4, 11, 7, 6, 2, 12, 16, 18, 4, 3, 5, 10, 4, 3, 12, 22, 5, 4, 19, 4, 1, 2, 11, 20, 14, 10, 1, 7, 8, 20, 4, 11, 18, 5, 5, 21, 6, 20, 15, 1, 3, 11, 9, 8, 14, 21, 19, 17, 19, 1, 3, 22, 11, 3, 9, 21, 7, 15, 10, 7, 8, 10, 8, 17, 15, 3, 19, 13, 6, 8, 15, 4, 2, 15, 8, 15, 17, 1, 21, 2, 19, 12, 2, 9, 20, 3, 11, 1, 9, 7, 6, 10, 21, 18, 18, 4, 2, 20, 18, 12, 13, 11, 2, 6, 1, 11, 1, 4, 2, 7, 11, 15, 3, 1, 19, 4, 2, 7, 22, 2, 16, 9, 6, 8, 13, 22, 7, 3, 8, 22, 17, 6, 2, 10, 7, 13, 11, 3, 19, 22, 17, 19, 8, 1, 3, 17, 13, 5, 4, 1, 8, 18, 1, 10, 19, 1, 9, 7, 20, 11, 21, 3, 5, 14, 12, 20, 16, 14, 2, 2, 8, 8, 7, 3, 11, 19, 20, 12, 11, 15, 1, 20, 11, 17, 8, 10, 1, 9, 17, 12, 7, 17, 4, 12, 20, 12, 3, 19, 19, 3, 2, 4, 19, 10, 6, 9, 7, 17, 5, 6, 15, 19, 3, 15, 9, 2, 17, 1, 1, 4, 15, 7, 6, 13, 12, 6, 9, 15, 1, 1, 2, 12, 1, 10, 4, 2, 7, 19, 1, 11, 13, 11, 1, 1, 2, 4, 6, 2, 16, 3, 18, 8, 16, 12, 7, 13, 21, 17, 21, 1], \"Freq\": [0.9912083148956299, 0.9972798824310303, 0.9957515597343445, 0.9975889325141907, 0.9996215105056763, 0.9809283018112183, 0.9976300001144409, 0.9952123165130615, 0.9972479343414307, 0.9967721104621887, 0.995043933391571, 0.999504029750824, 0.9910119771957397, 0.9874236583709717, 0.99870765209198, 0.9993408918380737, 0.9976713061332703, 0.9902268648147583, 0.9977668523788452, 0.9925746321678162, 0.9996799230575562, 0.9987068176269531, 0.9985148906707764, 0.9880359172821045, 0.9983901381492615, 0.748360276222229, 0.998094379901886, 0.9993438124656677, 0.9970421195030212, 0.9980221390724182, 0.9993929862976074, 0.9935343265533447, 0.9963682889938354, 0.9977890253067017, 0.9973649382591248, 0.9994361400604248, 0.9992705583572388, 0.9994657635688782, 0.9975550770759583, 0.99920654296875, 0.9996300339698792, 0.99125075340271, 0.9935652017593384, 0.9947803020477295, 0.9978596568107605, 0.9977595210075378, 0.9965264201164246, 0.9986991286277771, 0.9963582158088684, 0.9979328513145447, 0.9854508638381958, 0.9994843602180481, 0.9904779195785522, 0.9990667104721069, 0.992405116558075, 0.9974241256713867, 0.9491260647773743, 0.05048799887299538, 0.9997298717498779, 0.9981302618980408, 0.9985859394073486, 0.9987559914588928, 0.9905446767807007, 0.9995598793029785, 0.9798440933227539, 0.998785674571991, 0.9998986721038818, 0.9913550615310669, 0.9998906254768372, 0.9854485988616943, 0.9990211129188538, 0.9989014267921448, 0.9956567883491516, 0.9911115765571594, 0.999317467212677, 0.9993017315864563, 0.9947176575660706, 0.9897831678390503, 0.9984943270683289, 0.9978469610214233, 0.9998456239700317, 0.9975112676620483, 0.9975869655609131, 0.9983868598937988, 0.9992761611938477, 0.9993718862533569, 0.9709089994430542, 0.9998360872268677, 0.9975472688674927, 0.9955103397369385, 0.9924566745758057, 0.9996776580810547, 0.9992884993553162, 0.9974338412284851, 0.9998276233673096, 0.9986432194709778, 0.9992632269859314, 0.9995707869529724, 0.9952682852745056, 0.9739899039268494, 0.9884674549102783, 0.9641967415809631, 0.9932299852371216, 0.9949637055397034, 0.9988325834274292, 0.9962688684463501, 0.9859272241592407, 0.9995918273925781, 0.9991212487220764, 0.9957320690155029, 0.9997137188911438, 0.9919740557670593, 0.9975169897079468, 0.9981695413589478, 0.9985923171043396, 0.9979127645492554, 0.9990290403366089, 0.9987859725952148, 0.9936193227767944, 0.9434450268745422, 0.9956029057502747, 0.9875701665878296, 0.993716299533844, 0.9972200989723206, 0.9976098537445068, 0.9984019994735718, 0.998056173324585, 0.9982067346572876, 0.9992921948432922, 0.993162989616394, 0.9962742924690247, 0.9989704489707947, 0.9990549087524414, 0.9955723881721497, 0.9982737302780151, 0.9989025592803955, 0.9984161853790283, 0.9981394410133362, 0.9974927306175232, 0.9997338652610779, 0.9799965023994446, 0.9847221374511719, 0.9984517693519592, 0.9945600628852844, 0.9934640526771545, 0.9995262026786804, 0.9996558427810669, 0.9984625577926636, 0.9945257902145386, 0.9995760917663574, 0.9981406927108765, 0.9987970590591431, 0.9998401999473572, 0.9977936148643494, 0.9656081199645996, 0.9984819293022156, 0.9967535734176636, 0.999096691608429, 0.9998481869697571, 0.9981856346130371, 0.9983062148094177, 0.997546911239624, 0.9996941685676575, 0.9982166886329651, 0.9970945715904236, 0.9985840916633606, 0.9989825487136841, 0.9967436194419861, 0.9945465326309204, 0.8935102224349976, 0.1063670888543129, 0.9930841326713562, 0.9977310299873352, 0.9969228506088257, 0.9897054433822632, 0.9882935285568237, 0.9929866790771484, 0.9993240237236023, 0.9994987845420837, 0.9989432096481323, 0.9976555705070496, 0.9984295964241028, 0.9600029587745667, 0.9959416389465332, 0.9988341331481934, 0.9993446469306946, 0.9991577863693237, 0.9977298378944397, 0.998630166053772, 0.9838602542877197, 0.9873301386833191, 0.9970066547393799, 0.9951765537261963, 0.9867180585861206, 0.9978217482566833, 0.9990058541297913, 0.9953218102455139, 0.9995741844177246, 0.9969368577003479, 0.9914321899414062, 0.9949618577957153, 0.9935262799263, 0.9964087605476379, 0.999014139175415, 0.9989046454429626, 0.9995114803314209, 0.9966285824775696, 0.9997279047966003, 0.9930717349052429, 0.9997848868370056, 0.9899467825889587, 0.998539924621582, 0.9939541816711426, 0.9999706149101257, 0.9961658120155334, 0.998336911201477, 0.9984695911407471, 0.9997500777244568, 0.9925409555435181, 0.9976898431777954, 0.9994398951530457, 0.990775465965271, 0.9988963007926941, 0.9911788105964661, 0.9997904300689697, 0.9934704899787903, 0.9900951385498047, 0.9990670680999756, 0.9986540079116821, 0.9994004964828491, 0.9988228678703308, 0.9994245767593384, 0.9172203540802002, 0.990534245967865, 0.9729452729225159, 0.9981263875961304, 0.9952881336212158, 0.9997008442878723, 0.9938342571258545, 0.9994384050369263, 0.999130129814148, 0.9979854226112366, 0.9958228468894958, 0.7416719198226929, 0.25669214129447937, 0.9993422627449036, 0.9956876039505005, 0.9977961182594299, 0.9982571005821228, 0.32705655694007874, 0.6715647578239441, 0.9972727298736572, 0.9984205961227417, 0.9948693513870239, 0.9973499178886414, 0.9704083204269409, 0.9988981485366821, 0.9999557733535767, 0.9856483340263367, 0.9985297322273254, 0.9989938735961914, 0.9964860677719116, 0.9863817691802979, 0.9867768287658691, 0.9990987777709961, 0.9994453191757202, 0.9977210760116577, 0.9927247166633606, 0.9980257153511047, 0.9769675135612488, 0.9993554353713989, 0.9964465498924255, 0.9988634586334229, 0.9989930391311646, 0.9869208335876465, 0.9915868043899536, 0.9992765188217163, 0.9981932044029236, 0.9907641410827637, 0.9881366491317749, 0.9917600750923157, 0.9991721510887146, 0.999352753162384, 0.9962085485458374, 0.9974237084388733, 0.9998912811279297, 0.9825863242149353, 0.9990405440330505, 0.9986279010772705, 0.9986903071403503, 0.9995135068893433, 0.9976102113723755, 0.9985639452934265, 0.9998315572738647, 0.9987016320228577, 0.9813641309738159, 0.9987346529960632, 0.9989839196205139, 0.9972420334815979, 0.9983302354812622, 0.9968441128730774, 0.9988377690315247, 0.9998617172241211, 0.9969435334205627, 0.9971221089363098, 0.998471736907959, 0.9961844682693481, 0.9998515248298645, 0.9852254986763, 0.9952605962753296, 0.9938166737556458, 0.9957253932952881, 0.997724711894989, 0.9994298815727234, 0.9964463710784912, 0.9892000555992126, 0.9976248741149902, 0.9983384013175964, 0.9959352612495422, 0.998623788356781, 0.9837965965270996, 0.9831027984619141, 0.9985603094100952, 0.6231051087379456, 0.3765767514705658, 0.9978762269020081, 0.9963472485542297, 0.9995548725128174, 0.9993101954460144, 0.9988163709640503, 0.9989911317825317, 0.999433696269989, 0.9976909756660461, 0.9982249736785889, 0.9976779222488403, 0.982572078704834, 0.9999276995658875, 0.9967055916786194, 0.9987407326698303, 0.999016523361206, 0.9973577260971069, 0.9989731311798096, 0.551124095916748, 0.44748198986053467, 0.9974441528320312, 0.9956791996955872, 0.9888932108879089, 0.9987937211990356, 0.9979110956192017, 0.9993231296539307, 0.994097888469696, 0.9828017950057983, 0.9994442462921143, 0.9975579977035522, 0.9995782375335693, 0.9980493783950806, 0.9987701773643494, 0.9987155199050903, 0.9686152338981628, 0.9990617632865906, 0.9964089393615723, 0.997424304485321, 0.9972143769264221, 0.9977061748504639, 0.9986911416053772, 0.9922599196434021, 0.990898072719574, 0.9988665580749512, 0.9982330799102783, 0.9865949153900146, 0.9989016652107239, 0.9987043142318726, 0.9998363852500916, 0.9892030954360962, 0.9949115514755249, 0.9996258020401001, 0.9988835453987122, 0.9870623350143433, 0.9967182874679565, 0.9972624182701111, 0.9998382925987244, 0.9991549253463745, 0.9997801780700684, 0.9942998886108398, 0.9918225407600403, 0.9998326301574707, 0.9976426959037781, 0.991112232208252, 0.9985792636871338, 0.9948405027389526, 0.9992770552635193, 0.9964062571525574, 0.9973166584968567, 0.9897676110267639, 0.9934452772140503, 0.9988558292388916, 0.9889795184135437, 0.9914544820785522, 0.9981561899185181, 0.9977684020996094, 0.9957050681114197, 0.9825465679168701, 0.9169779419898987, 0.9942953586578369, 0.9983846545219421, 0.9995327591896057, 0.9991384148597717, 0.9987427592277527, 0.9956710338592529, 0.15148226916790009, 0.8473323583602905, 0.9999220967292786, 0.9993440508842468, 0.9993721842765808, 0.9894682765007019, 0.9991885423660278, 0.9999529123306274, 0.9914676547050476, 0.9975676536560059, 0.9996800422668457, 0.9990440607070923, 0.9998302459716797, 0.9997183680534363, 0.9991475343704224, 0.9954403042793274, 0.9955727458000183, 0.9975908994674683, 0.9910683035850525, 0.9924178123474121, 0.9963037967681885, 0.9993759393692017, 0.9994155168533325, 0.9820922613143921, 0.9992860555648804, 0.9979175925254822, 0.9997401237487793, 0.9950529336929321, 0.9988489747047424, 0.9984524250030518, 0.9975870251655579, 0.9951877593994141, 0.9825923442840576, 0.9991982579231262, 0.9978553652763367, 0.9873889684677124, 0.9995452761650085, 0.9993463158607483, 0.9995916485786438, 0.9990156292915344, 0.9852150678634644, 0.9979265928268433, 0.9983619451522827, 0.998583972454071, 0.9991754293441772, 0.9984226226806641, 0.9991132020950317, 0.9971480369567871, 0.9987753033638, 0.9989380240440369, 0.997348964214325, 0.9814119338989258, 0.9974420070648193, 0.997109055519104, 0.964948296546936, 0.9969491958618164, 0.9959248304367065, 0.9987725615501404, 0.9952445030212402, 0.9960879683494568, 0.994478702545166, 0.9981213212013245, 0.9983254671096802, 0.9977090358734131, 0.9937844276428223, 0.9978177547454834, 0.9969239830970764, 0.9969103932380676, 0.997289776802063, 0.9858654737472534, 0.9868276119232178, 0.9962334632873535, 0.999279797077179, 0.986879289150238, 0.9996613264083862, 0.9997972846031189, 0.9981988072395325, 0.9972745180130005, 0.9984873533248901, 0.9950650334358215, 0.999907910823822, 0.9775513410568237, 0.9966892004013062, 0.9663733243942261, 0.9975675344467163, 0.9994912147521973, 0.9955461621284485, 0.9905867576599121, 0.9811778664588928, 0.998509407043457, 0.9952049255371094, 0.9830451607704163, 0.9920103549957275, 0.9984276294708252, 0.9994915723800659, 0.9994329214096069, 0.9889602065086365, 0.9983695149421692, 0.9997696280479431, 0.9967848658561707, 0.9986831545829773, 0.9973463416099548, 0.9979060292243958, 0.997812807559967, 0.9992794394493103, 0.9863662719726562, 0.9976562261581421, 0.9904299378395081, 0.9948517084121704, 0.9988514184951782, 0.997673511505127, 0.9985054135322571, 0.9994139075279236, 0.9996016621589661, 0.9950616955757141, 0.9980371594429016, 0.9996736645698547, 0.9935294389724731, 0.997561514377594, 0.9987499117851257, 0.9924818277359009, 0.998690664768219, 0.9990794658660889, 0.21211938560009003, 0.7878427505493164, 0.9982901215553284, 0.9997466206550598, 0.9996543526649475, 0.9996508359909058, 0.9995613098144531, 0.997201144695282, 0.9914540648460388, 0.9996588826179504, 0.9926533699035645, 0.9937309622764587, 0.9980876445770264, 0.9996840357780457, 0.6265227198600769, 0.3729301989078522, 0.9911839962005615, 0.9993006587028503, 0.9995720982551575, 0.9983258843421936, 0.9951374530792236, 0.9372153282165527, 0.9923914670944214, 0.9986943006515503, 0.9849718809127808, 0.997890293598175, 0.999653697013855, 0.9988678693771362, 0.9995415210723877, 0.995483934879303, 0.9985990524291992], \"Term\": [\"accommodation\", \"action\", \"advance\", \"advice\", \"airport\", \"alarm\", \"alcohol\", \"allergy\", \"alot\", \"anniversary\", \"answer\", \"appetizer\", \"april\", \"architecture\", \"area\", \"aria\", \"arizona\", \"array\", \"arrival\", \"assistance\", \"atmosphere\", \"attention\", \"attentive\", \"audience\", \"avoid\", \"bachelor_party\", \"back\", \"bacon\", \"balance\", \"banana\", \"bartender\", \"basket\", \"beach\", \"bean\", \"beatle\", \"bed\", \"beef\", \"beer\", \"beverage\", \"birthday\", \"bite\", \"blackjack\", \"blvd\", \"board\", \"body\", \"bone\", \"bonus\", \"book\", \"booking\", \"booth\", \"boring\", \"bottle\", \"boutique\", \"bowl\", \"boy\", \"brand\", \"bread\", \"bread\", \"breakfast\", \"bring\", \"brisket\", \"broth\", \"brownie\", \"brunch\", \"brush\", \"buck\", \"buffet\", \"bug\", \"burger\", \"bursting\", \"butter\", \"cake\", \"california\", \"calorie\", \"card\", \"care\", \"carrot\", \"carry\", \"case\", \"cash\", \"casino\", \"ceiling\", \"chain\", \"chance\", \"change\", \"charge\", \"chat\", \"check\", \"checking\", \"cheddar\", \"cheer\", \"cheese\", \"chef\", \"chewy\", \"chicken\", \"chip\", \"chocolate\", \"choice\", \"choose\", \"chorizo\", \"circle\", \"circus\", \"cirque\", \"cirque_show\", \"city\", \"clam\", \"clothing\", \"club\", \"cocktail\", \"coconut\", \"coffee\", \"coma\", \"combination\", \"combo\", \"comp\", \"company\", \"complaint\", \"con\", \"condiment\", \"consideration\", \"consistency\", \"contact\", \"container\", \"conversation\", \"cook\", \"corn\", \"corner\", \"cosmopolitan\", \"cost\", \"count\", \"coupon\", \"crab\", \"crab_leg\", \"craving\", \"cream\", \"crispy\", \"crust\", \"curry\", \"curtain\", \"customer\", \"cute\", \"damage\", \"dance\", \"dancer\", \"dancing\", \"day\", \"deal\", \"dealer\", \"decision\", \"decor\", \"desert\", \"desk\", \"dessert\", \"detail\", \"difference\", \"dine\", \"diner\", \"dining\", \"dinner\", \"direction\", \"disappoint\", \"discount\", \"dish\", \"dollar\", \"donut\", \"door\", \"downtown\", \"dozen\", \"dress\", \"drink\", \"drink\", \"drinking\", \"drive\", \"drop\", \"duty\", \"earth\", \"eating\", \"egg\", \"elevator\", \"employee\", \"encore\", \"enjoy\", \"ensure\", \"entertainment\", \"entrance\", \"entree\", \"evening\", \"event\", \"expectation\", \"expecting\", \"expense\", \"experience\", \"explanation\", \"explore\", \"eye\", \"face\", \"facility\", \"family\", \"fan\", \"fatty\", \"fault\", \"fave\", \"fill\", \"find\", \"finish\", \"fish\", \"flamingo\", \"flavor\", \"flavorful\", \"floor\", \"focus\", \"folk\", \"follow\", \"food\", \"foodie\", \"fountain\", \"fridge\", \"friend\", \"frite\", \"front\", \"front_desk\", \"frozen_hot_chocolate\", \"fruit\", \"frustration\", \"fry\", \"fusion\", \"future\", \"game\", \"gelato\", \"girl\", \"give\", \"glass\", \"god\", \"golden_nugget\", \"golf\", \"good\", \"gratuity\", \"group\", \"guacamole\", \"guest\", \"guy\", \"haha\", \"hall\", \"hallway\", \"hallway\", \"hand\", \"hangover\", \"hash\", \"hate\", \"head\", \"head\", \"heart\", \"heat\", \"heck\", \"highlight\", \"hilton\", \"hostess\", \"hotel\", \"house\", \"hype\", \"idea\", \"impression\", \"inconvenience\", \"industry\", \"ingredient\", \"item\", \"joke\", \"jump\", \"kick\", \"kiki\", \"kind\", \"kinda\", \"king\", \"kitchen\", \"knife\", \"labor\", \"lady\", \"lamb\", \"lane\", \"lead\", \"leg\", \"level\", \"life\", \"lighting\", \"limit\", \"line\", \"lion\", \"list\", \"lobby\", \"local\", \"lot\", \"lover\", \"luck\", \"lunch\", \"machine\", \"makeup\", \"mall\", \"management\", \"mandalay\", \"margarita\", \"marquee\", \"meal\", \"meat\", \"meatball\", \"meeting\", \"member\", \"memory\", \"menu\", \"metal\", \"midnight\", \"milkshake\", \"mimosa\", \"min\", \"mind\", \"mine\", \"minus\", \"mirage\", \"miss\", \"mission\", \"mistake\", \"mister\", \"mmmm\", \"moist\", \"money\", \"money\", \"month\", \"mood\", \"morning\", \"mouth\", \"move\", \"mushroom\", \"music\", \"mussel\", \"nachos\", \"name\", \"nickel\", \"night\", \"nightclub\", \"noodle\", \"note\", \"notice\", \"number\", \"offer\", \"offer\", \"offering\", \"omelette\", \"opening\", \"opinion\", \"order\", \"oyster\", \"page\", \"palace\", \"parking\", \"part\", \"party\", \"pass\", \"pasta\", \"pastry\", \"path\", \"patio\", \"peak\", \"penny\", \"pepper\", \"pepperoni\", \"perfection\", \"performance\", \"period\", \"phone\", \"photo\", \"pick\", \"picture\", \"piece\", \"pizza\", \"planning\", \"plastic\", \"plate\", \"play\", \"pleasant\", \"point\", \"poker\", \"pool\", \"pork\", \"portion\", \"premium\", \"pressure\", \"price\", \"prime_rib\", \"priority\", \"pro\", \"product\", \"property\", \"protein\", \"pulled_pork\", \"purchase\", \"queen\", \"raman\", \"ranch\", \"recipe\", \"recommendation\", \"refill\", \"renovation\", \"rent\", \"replace\", \"report\", \"request\", \"reservation\", \"resort\", \"resort_fee\", \"response\", \"rest\", \"rest\", \"restaurant\", \"rib\", \"rice\", \"roast_beef\", \"roll\", \"room\", \"rule\", \"rush\", \"salad\", \"salmon\", \"sandwich\", \"sauce\", \"sausage\", \"save\", \"scale\", \"scene\", \"scoop\", \"scottsdale\", \"screen\", \"seafood\", \"seat\", \"seattle\", \"security\", \"selection\", \"server\", \"shame\", \"share\", \"sheet\", \"shell\", \"shirt\", \"shoot\", \"shop\", \"shopping\", \"short\", \"show\", \"shower\", \"shrimp\", \"sign\", \"silverware\", \"situation\", \"skip\", \"sleep\", \"slice\", \"slot\", \"smell\", \"smile\", \"smoke\", \"smoking\", \"snack\", \"snob\", \"soda\", \"sofa\", \"solution\", \"song\", \"soooo\", \"space\", \"speak\", \"special\", \"specialty\", \"spend\", \"spicy\", \"split\", \"sport\", \"stage\", \"stair\", \"stand\", \"standard\", \"standing\", \"staple\", \"state\", \"station\", \"statue\", \"stay\", \"steak\", \"steakhouse\", \"step\", \"story\", \"stratosphere\", \"strip\", \"student\", \"suck\", \"suffice\", \"sugar\", \"suite\", \"superb\", \"support\", \"surface\", \"surprise\", \"sushi\", \"swear\", \"sweet_potato_frie\", \"system\", \"table\", \"taco\", \"tail\", \"talk\", \"taste\", \"tasty\", \"tender\", \"terminal\", \"throw\", \"thursday\", \"ticket\", \"tomorrow\", \"ton\", \"tooth\", \"tortilla\", \"touch\", \"tourist\", \"towel\", \"tower\", \"town\", \"traffic\", \"treat\", \"trip\", \"trouble\", \"truffle_frie\", \"turn\", \"twist\", \"vacation\", \"valet\", \"vegas\", \"vegas\", \"vibe\", \"view\", \"visit\", \"waffle\", \"waiter\", \"waitress\", \"wake\", \"walk\", \"warning\", \"wash\", \"watch\", \"water\", \"weekend\", \"weekend\", \"wind\", \"window\", \"wine\", \"wing\", \"winner\", \"winning\", \"winter\", \"woman\", \"wood\", \"word\", \"work\", \"worker\", \"wynn\", \"yesterday\", \"york\"]}, \"R\": 30, \"lambda.step\": 0.01, \"plot.opts\": {\"xlab\": \"PC1\", \"ylab\": \"PC2\"}, \"topic.order\": [3, 1, 21, 20, 7, 6, 22, 18, 12, 15, 11, 10, 14, 13, 19, 4, 16, 2, 9, 5, 8, 17]};\n",
       "\n",
       "function LDAvis_load_lib(url, callback){\n",
       "  var s = document.createElement('script');\n",
       "  s.src = url;\n",
       "  s.async = true;\n",
       "  s.onreadystatechange = s.onload = callback;\n",
       "  s.onerror = function(){console.warn(\"failed to load library \" + url);};\n",
       "  document.getElementsByTagName(\"head\")[0].appendChild(s);\n",
       "}\n",
       "\n",
       "if(typeof(LDAvis) !== \"undefined\"){\n",
       "   // already loaded: just create the visualization\n",
       "   !function(LDAvis){\n",
       "       new LDAvis(\"#\" + \"ldavis_el87265137408009533612443\", ldavis_el87265137408009533612443_data);\n",
       "   }(LDAvis);\n",
       "}else if(typeof define === \"function\" && define.amd){\n",
       "   // require.js is available: use it to load d3/LDAvis\n",
       "   require.config({paths: {d3: \"https://cdnjs.cloudflare.com/ajax/libs/d3/3.5.5/d3.min\"}});\n",
       "   require([\"d3\"], function(d3){\n",
       "      window.d3 = d3;\n",
       "      LDAvis_load_lib(\"https://cdn.rawgit.com/bmabey/pyLDAvis/files/ldavis.v1.0.0.js\", function(){\n",
       "        new LDAvis(\"#\" + \"ldavis_el87265137408009533612443\", ldavis_el87265137408009533612443_data);\n",
       "      });\n",
       "    });\n",
       "}else{\n",
       "    // require.js not available: dynamically load d3 & LDAvis\n",
       "    LDAvis_load_lib(\"https://cdnjs.cloudflare.com/ajax/libs/d3/3.5.5/d3.min.js\", function(){\n",
       "         LDAvis_load_lib(\"https://cdn.rawgit.com/bmabey/pyLDAvis/files/ldavis.v1.0.0.js\", function(){\n",
       "                 new LDAvis(\"#\" + \"ldavis_el87265137408009533612443\", ldavis_el87265137408009533612443_data);\n",
       "            })\n",
       "         });\n",
       "}\n",
       "</script>"
      ],
      "text/plain": [
       "PreparedData(topic_coordinates=              x         y  topics  cluster       Freq\n",
       "topic                                                \n",
       "2      0.346717 -0.097677       1        1  20.545095\n",
       "0      0.339607  0.209371       2        1  20.519188\n",
       "20     0.070485 -0.343259       3        1   5.513297\n",
       "19     0.017070 -0.075001       4        1   4.166271\n",
       "6      0.042971  0.177062       5        1   4.075698\n",
       "5     -0.015505 -0.015254       6        1   3.810573\n",
       "21     0.001319 -0.042867       7        1   3.788532\n",
       "17     0.011658 -0.084128       8        1   3.661568\n",
       "11    -0.014829 -0.016154       9        1   3.564816\n",
       "14    -0.039034  0.006580      10        1   3.187227\n",
       "10    -0.044368  0.010370      11        1   2.977688\n",
       "9     -0.046399  0.011289      12        1   2.871150\n",
       "13    -0.056888  0.017023      13        1   2.595073\n",
       "12    -0.059014  0.018039      14        1   2.589370\n",
       "18    -0.067613  0.021909      15        1   2.304087\n",
       "3     -0.063349  0.020022      16        1   2.299594\n",
       "15    -0.069381  0.022567      17        1   2.131867\n",
       "1     -0.051090  0.013858      18        1   2.114581\n",
       "8     -0.077798  0.025566      19        1   2.071215\n",
       "4     -0.077760  0.025494      20        1   1.809206\n",
       "7     -0.084454  0.027449      21        1   1.738391\n",
       "16    -0.062346  0.067739      22        1   1.665522, topic_info=     Category          Freq              Term         Total  loglift  logprob\n",
       "84    Default  44971.000000              food  44971.000000  30.0000  30.0000\n",
       "145   Default  41307.000000              room  41307.000000  29.0000  29.0000\n",
       "141   Default  16148.000000             night  16148.000000  28.0000  28.0000\n",
       "229   Default  11998.000000            burger  11998.000000  27.0000  27.0000\n",
       "172   Default  28140.000000             hotel  28140.000000  26.0000  26.0000\n",
       "97    Default  15320.000000            buffet  15320.000000  25.0000  25.0000\n",
       "86    Default  13554.000000              line  13554.000000  24.0000  24.0000\n",
       "32    Default   9286.000000           chicken   9286.000000  23.0000  23.0000\n",
       "11    Default  18057.000000        restaurant  18057.000000  22.0000  22.0000\n",
       "44    Default   8376.000000            dinner   8376.000000  21.0000  21.0000\n",
       "117   Default   6451.000000             steak   6451.000000  20.0000  20.0000\n",
       "393   Default   6915.000000         breakfast   6915.000000  19.0000  19.0000\n",
       "540   Default   6061.000000          sandwich   6061.000000  18.0000  18.0000\n",
       "93    Default   7476.000000             pizza   7476.000000  17.0000  17.0000\n",
       "356   Default   6263.000000            friend   6263.000000  16.0000  16.0000\n",
       "49    Default   6270.000000            flavor   6270.000000  15.0000  15.0000\n",
       "405   Default   5907.000000            cheese   5907.000000  14.0000  14.0000\n",
       "95    Default  19559.000000             vegas  19559.000000  13.0000  13.0000\n",
       "231   Default   5272.000000               fry   5272.000000  12.0000  12.0000\n",
       "346   Default   5852.000000             lunch   5852.000000  11.0000  11.0000\n",
       "88    Default  11857.000000             price  11857.000000  10.0000  10.0000\n",
       "110   Default   4849.000000          customer   4849.000000   9.0000   9.0000\n",
       "131   Default   5583.000000              trip   5583.000000   8.0000   8.0000\n",
       "187   Default  11432.000000             strip  11432.000000   7.0000   7.0000\n",
       "135   Default  10513.000000            casino  10513.000000   6.0000   6.0000\n",
       "461   Default   4016.000000             party   4016.000000   5.0000   5.0000\n",
       "453   Default   4907.000000             taste   4907.000000   4.0000   4.0000\n",
       "161   Default   4801.000000              club   4801.000000   3.0000   3.0000\n",
       "275   Default   4155.000000            coffee   4155.000000   2.0000   2.0000\n",
       "74    Default   4352.000000              show   4352.000000   1.0000   1.0000\n",
       "...       ...           ...               ...           ...      ...      ...\n",
       "156   Topic22     69.785477           seattle     71.276398   4.0739  -5.4674\n",
       "700   Topic22      5.190350    bachelor_party      6.681274   3.8425  -8.0661\n",
       "30    Topic22    208.987656             bread   4139.597656   1.1090  -4.3706\n",
       "962   Topic22      0.064797              earl      1.555741   0.9166 -12.4494\n",
       "3722  Topic22      0.064791      full_montagu      1.555720   0.9165 -12.4495\n",
       "964   Topic22      0.064791  planet_hollywood      1.555744   0.9165 -12.4495\n",
       "1117  Topic22      0.064791            turkey      1.555744   0.9165 -12.4495\n",
       "2395  Topic22      0.064790          pastrami      1.555721   0.9165 -12.4495\n",
       "4320  Topic22      0.064790            pampas      1.555723   0.9165 -12.4495\n",
       "9701  Topic22      0.064789    caribbean_jerk      1.555716   0.9165 -12.4495\n",
       "3826  Topic22      0.064789        cannonball      1.555715   0.9165 -12.4495\n",
       "1025  Topic22      0.064790            tomato      1.555745   0.9165 -12.4495\n",
       "1109  Topic22      0.064791              soup      1.555763   0.9165 -12.4495\n",
       "1366  Topic22      0.064790        suggestion      1.555738   0.9165 -12.4495\n",
       "1221  Topic22      0.064790            flight      1.555752   0.9165 -12.4495\n",
       "2930  Topic22      0.064790            pickle      1.555733   0.9165 -12.4495\n",
       "4537  Topic22      0.064789          hospital      1.555715   0.9165 -12.4495\n",
       "2305  Topic22      0.064789          zucchini      1.555723   0.9165 -12.4495\n",
       "2169  Topic22      0.064789           mustard      1.555731   0.9165 -12.4495\n",
       "1736  Topic22      0.064789         pineapple      1.555727   0.9165 -12.4495\n",
       "3093  Topic22      0.064789             drool      1.555716   0.9165 -12.4495\n",
       "6223  Topic22      0.064789            voodoo      1.555715   0.9165 -12.4495\n",
       "1810  Topic22      0.064789            savory      1.555730   0.9165 -12.4495\n",
       "1120  Topic22      0.064790           lobster      1.555752   0.9165 -12.4495\n",
       "1291  Topic22      0.064789              date      1.555743   0.9165 -12.4495\n",
       "1099  Topic22      0.064789             lemon      1.555736   0.9165 -12.4495\n",
       "988   Topic22      0.064790             style      1.555776   0.9165 -12.4495\n",
       "1001  Topic22      0.064790            potato      1.555792   0.9164 -12.4495\n",
       "1048  Topic22      0.064790          bellagio      1.555836   0.9164 -12.4495\n",
       "1339  Topic22      0.064789             light      1.555758   0.9165 -12.4495\n",
       "\n",
       "[768 rows x 6 columns], token_table=      Topic      Freq            Term\n",
       "term                                 \n",
       "414      17  0.991208   accommodation\n",
       "371      10  0.997280          action\n",
       "421      16  0.995752         advance\n",
       "263      11  0.997589          advice\n",
       "122      16  0.999622         airport\n",
       "892      15  0.980928           alarm\n",
       "520      20  0.997630         alcohol\n",
       "20       16  0.995212         allergy\n",
       "133      13  0.997248            alot\n",
       "249      20  0.996772     anniversary\n",
       "387      15  0.995044          answer\n",
       "401       2  0.999504       appetizer\n",
       "541      17  0.991012           april\n",
       "737      14  0.987424    architecture\n",
       "542      11  0.998708            area\n",
       "751      19  0.999341            aria\n",
       "464       7  0.997671         arizona\n",
       "21        4  0.990227           array\n",
       "402      12  0.997767         arrival\n",
       "250      20  0.992575      assistance\n",
       "518       8  0.999680      atmosphere\n",
       "22       10  0.998707       attention\n",
       "0         4  0.998515       attentive\n",
       "290       8  0.988036        audience\n",
       "23       19  0.998390           avoid\n",
       "700      22  0.748360  bachelor_party\n",
       "251       9  0.998094            back\n",
       "237      21  0.999344           bacon\n",
       "678       6  0.997042         balance\n",
       "709      12  0.998022          banana\n",
       "...     ...       ...             ...\n",
       "95        2  0.787843           vegas\n",
       "399      12  0.998290            vibe\n",
       "194       1  0.999747            view\n",
       "124      10  0.999654           visit\n",
       "450       4  0.999651          waffle\n",
       "80        2  0.999561          waiter\n",
       "500       7  0.997201        waitress\n",
       "779      19  0.991454            wake\n",
       "319       1  0.999659            walk\n",
       "274      11  0.992653         warning\n",
       "150      13  0.993731            wash\n",
       "645      11  0.998088           watch\n",
       "82        1  0.999684           water\n",
       "195       1  0.626523         weekend\n",
       "195       2  0.372930         weekend\n",
       "795       4  0.991184            wind\n",
       "807       6  0.999301          window\n",
       "413       2  0.999572            wine\n",
       "196      16  0.998326            wing\n",
       "828       3  0.995137          winner\n",
       "386      18  0.937215         winning\n",
       "312       8  0.992391          winter\n",
       "336      16  0.998694           woman\n",
       "400      12  0.984972            wood\n",
       "780       7  0.997890            word\n",
       "740      13  0.999654            work\n",
       "247      21  0.998868          worker\n",
       "228      17  0.999542            wynn\n",
       "248      21  0.995484       yesterday\n",
       "932       1  0.998599            york\n",
       "\n",
       "[563 rows x 3 columns], R=30, lambda_step=0.01, plot_opts={'xlab': 'PC1', 'ylab': 'PC2'}, topic_order=[3, 1, 21, 20, 7, 6, 22, 18, 12, 15, 11, 10, 14, 13, 19, 4, 16, 2, 9, 5, 8, 17])"
      ]
     },
     "execution_count": 99,
     "metadata": {},
     "output_type": "execute_result"
    }
   ],
   "source": [
    "# Visualize the topics\n",
    "pyLDAvis.enable_notebook()\n",
    "vis = pyLDAvis.gensim.prepare(lda_model, corpus, dictionary)\n",
    "vis"
   ]
  },
  {
   "cell_type": "markdown",
   "metadata": {},
   "source": [
    "# MALLET"
   ]
  },
  {
   "cell_type": "code",
   "execution_count": 100,
   "metadata": {},
   "outputs": [],
   "source": [
    "# Download: http://mallet.cs.umass.edu/dist/mallet-2.0.8.zip\n",
    "mallet_path = 'mallet-2.0.8/bin/mallet'\n",
    "ldamallet = gensim.models.wrappers.LdaMallet(mallet_path, corpus=corpus, num_topics=22, id2word=dictionary)"
   ]
  },
  {
   "cell_type": "code",
   "execution_count": 101,
   "metadata": {},
   "outputs": [
    {
     "name": "stdout",
     "output_type": "stream",
     "text": [
      "[(10,\n",
      "  '0.096*\"dinner\" + 0.093*\"lunch\" + 0.078*\"meat\" + 0.061*\"salad\" + '\n",
      "  '0.040*\"choice\" + 0.035*\"roll\" + 0.034*\"food\" + 0.030*\"fish\" + 0.028*\"item\" '\n",
      "  '+ 0.023*\"plate\"'),\n",
      " (1,\n",
      "  '0.049*\"airport\" + 0.040*\"casino\" + 0.023*\"game\" + 0.021*\"lot\" + '\n",
      "  '0.019*\"flight\" + 0.019*\"walk\" + 0.017*\"shop\" + 0.017*\"sign\" + '\n",
      "  '0.016*\"machine\" + 0.015*\"slot\"'),\n",
      " (11,\n",
      "  '0.149*\"chicken\" + 0.046*\"taco\" + 0.038*\"portion\" + 0.035*\"waffle\" + '\n",
      "  '0.028*\"food\" + 0.024*\"menu\" + 0.022*\"chip\" + 0.020*\"share\" + 0.020*\"plate\" '\n",
      "  '+ 0.017*\"flavor\"'),\n",
      " (17,\n",
      "  '0.227*\"line\" + 0.100*\"sandwich\" + 0.044*\"vegas\" + 0.018*\"bread\" + '\n",
      "  '0.016*\"turkey\" + 0.015*\"earl\" + 0.014*\"hand\" + 0.013*\"visit\" + 0.013*\"kind\" '\n",
      "  '+ 0.011*\"counter\"'),\n",
      " (3,\n",
      "  '0.218*\"burger\" + 0.089*\"fry\" + 0.054*\"beer\" + 0.043*\"cheese\" + '\n",
      "  '0.019*\"flavor\" + 0.016*\"taste\" + 0.014*\"sauce\" + 0.014*\"shake\" + '\n",
      "  '0.013*\"menu\" + 0.013*\"wing\"'),\n",
      " (8,\n",
      "  '0.601*\"food\" + 0.100*\"price\" + 0.053*\"atmosphere\" + 0.016*\"decor\" + '\n",
      "  '0.012*\"expectation\" + 0.011*\"environment\" + 0.008*\"presentation\" + '\n",
      "  '0.008*\"ambiance\" + 0.008*\"taste\" + 0.008*\"desert\"'),\n",
      " (21,\n",
      "  '0.079*\"vegas\" + 0.079*\"money\" + 0.066*\"price\" + 0.054*\"water\" + '\n",
      "  '0.038*\"deal\" + 0.029*\"cost\" + 0.021*\"buck\" + 0.018*\"caesar\" + '\n",
      "  '0.017*\"complaint\" + 0.016*\"offer\"'),\n",
      " (20,\n",
      "  '0.072*\"customer\" + 0.027*\"guest\" + 0.026*\"work\" + 0.024*\"care\" + '\n",
      "  '0.023*\"employee\" + 0.023*\"security\" + 0.014*\"lady\" + 0.014*\"management\" + '\n",
      "  '0.013*\"talk\" + 0.012*\"phone\"'),\n",
      " (0,\n",
      "  '0.245*\"room\" + 0.050*\"floor\" + 0.034*\"shower\" + 0.032*\"elevator\" + '\n",
      "  '0.015*\"king\" + 0.015*\"smell\" + 0.015*\"wall\" + 0.014*\"hotel\" + 0.014*\"towel\" '\n",
      "  '+ 0.012*\"smoking\"'),\n",
      " (16,\n",
      "  '0.052*\"flavor\" + 0.046*\"sauce\" + 0.045*\"dish\" + 0.038*\"meat\" + 0.036*\"beef\" '\n",
      "  '+ 0.029*\"rice\" + 0.026*\"pork\" + 0.021*\"raman\" + 0.021*\"tender\" + '\n",
      "  '0.021*\"soup\"')]\n"
     ]
    }
   ],
   "source": [
    "# Show Topics\n",
    "pprint(ldamallet.show_topics(formatted=True))\n",
    "\n",
    "# Compute Coherence Score\n",
    "coherence_model_ldamallet = CoherenceModel(model=ldamallet, texts=data_lemmatized, dictionary=dictionary, coherence='c_v')\n",
    "coherence_ldamallet = coherence_model_ldamallet.get_coherence()"
   ]
  },
  {
   "cell_type": "code",
   "execution_count": 102,
   "metadata": {},
   "outputs": [
    {
     "name": "stdout",
     "output_type": "stream",
     "text": [
      "\n",
      "Coherence Score:  0.6915223064814999\n"
     ]
    }
   ],
   "source": [
    "print('\\nCoherence Score: ', coherence_ldamallet)"
   ]
  },
  {
   "cell_type": "code",
   "execution_count": 103,
   "metadata": {},
   "outputs": [],
   "source": [
    "def compute_coherence(dictionary, corpus, texts, limit, start=2, step=3):\n",
    "    models_list = []\n",
    "    c_values = []\n",
    "    for num_topics in range(start, limit, step):\n",
    "        model = gensim.models.wrappers.LdaMallet(mallet_path, corpus=corpus, num_topics=num_topics, id2word=dictionary)\n",
    "        models_list.append(model)\n",
    "        coherencemodel = CoherenceModel(model=model, texts=texts, dictionary=dictionary, coherence='c_v')\n",
    "        c_values.append(coherencemodel.get_coherence())\n",
    "    return models_list, c_values"
   ]
  },
  {
   "cell_type": "code",
   "execution_count": 104,
   "metadata": {},
   "outputs": [],
   "source": [
    "models_list, c_values = compute_coherence(dictionary=dictionary, corpus=corpus, texts=data_lemmatized, start=2, limit=40, step=5)"
   ]
  },
  {
   "cell_type": "code",
   "execution_count": 105,
   "metadata": {},
   "outputs": [
    {
     "data": {
      "image/png": "[encoded data removed]",
      "text/plain": [
       "<Figure size 432x288 with 1 Axes>"
      ]
     },
     "metadata": {
      "needs_background": "light"
     },
     "output_type": "display_data"
    }
   ],
   "source": [
    "# Show graph\n",
    "limit=40; start=2; step=5;\n",
    "x = range(start, limit, step)\n",
    "plt.plot(x, c_values)\n",
    "plt.xlabel(\"Num Topics\")\n",
    "plt.ylabel(\"Coherence score\")\n",
    "plt.legend((\"c_values\"), loc='best')\n",
    "plt.show()"
   ]
  },
  {
   "cell_type": "code",
   "execution_count": 106,
   "metadata": {},
   "outputs": [
    {
     "name": "stdout",
     "output_type": "stream",
     "text": [
      "Num Topics = 2  has Coherence Value of 0.6598\n",
      "Num Topics = 7  has Coherence Value of 0.7086\n",
      "Num Topics = 12  has Coherence Value of 0.7036\n",
      "Num Topics = 17  has Coherence Value of 0.6963\n",
      "Num Topics = 22  has Coherence Value of 0.6971\n",
      "Num Topics = 27  has Coherence Value of 0.6872\n",
      "Num Topics = 32  has Coherence Value of 0.6757\n",
      "Num Topics = 37  has Coherence Value of 0.675\n"
     ]
    }
   ],
   "source": [
    "# Print the coherence scores\n",
    "for m, cv in zip(x, c_values):\n",
    "    print(\"Num Topics =\", m, \" has Coherence Value of\", round(cv, 4))"
   ]
  },
  {
   "cell_type": "code",
   "execution_count": 110,
   "metadata": {},
   "outputs": [
    {
     "name": "stdout",
     "output_type": "stream",
     "text": [
      "[(0,\n",
      "  '0.034*\"night\" + 0.025*\"customer\" + 0.025*\"money\" + 0.023*\"check\" + '\n",
      "  '0.017*\"work\" + 0.013*\"deal\" + 0.013*\"day\" + 0.013*\"morning\" + 0.012*\"care\" '\n",
      "  '+ 0.012*\"guest\"'),\n",
      " (1,\n",
      "  '0.059*\"line\" + 0.032*\"drink\" + 0.031*\"night\" + 0.027*\"club\" + 0.024*\"show\" '\n",
      "  '+ 0.023*\"friend\" + 0.022*\"party\" + 0.018*\"group\" + 0.016*\"airport\" + '\n",
      "  '0.016*\"music\"'),\n",
      " (2,\n",
      "  '0.158*\"food\" + 0.080*\"buffet\" + 0.037*\"dinner\" + 0.037*\"dessert\" + '\n",
      "  '0.034*\"breakfast\" + 0.028*\"lunch\" + 0.026*\"price\" + 0.018*\"plate\" + '\n",
      "  '0.016*\"seafood\" + 0.016*\"item\"'),\n",
      " (3,\n",
      "  '0.070*\"burger\" + 0.062*\"food\" + 0.051*\"restaurant\" + 0.037*\"server\" + '\n",
      "  '0.034*\"menu\" + 0.031*\"steak\" + 0.029*\"fry\" + 0.020*\"waiter\" + 0.017*\"beer\" '\n",
      "  '+ 0.014*\"appetizer\"'),\n",
      " (4,\n",
      "  '0.103*\"vegas\" + 0.058*\"strip\" + 0.035*\"restaurant\" + 0.033*\"price\" + '\n",
      "  '0.027*\"water\" + 0.023*\"casino\" + 0.021*\"trip\" + 0.020*\"bellagio\" + '\n",
      "  '0.019*\"coffee\" + 0.015*\"visit\"'),\n",
      " (5,\n",
      "  '0.173*\"room\" + 0.115*\"hotel\" + 0.038*\"pool\" + 0.026*\"casino\" + 0.024*\"view\" '\n",
      "  '+ 0.023*\"floor\" + 0.019*\"stay\" + 0.015*\"check\" + 0.013*\"front_desk\" + '\n",
      "  '0.012*\"shower\"'),\n",
      " (6,\n",
      "  '0.043*\"chicken\" + 0.037*\"pizza\" + 0.027*\"flavor\" + 0.027*\"sandwich\" + '\n",
      "  '0.025*\"sauce\" + 0.025*\"cheese\" + 0.024*\"meat\" + 0.018*\"portion\" + '\n",
      "  '0.017*\"bread\" + 0.015*\"dish\"')]\n"
     ]
    }
   ],
   "source": [
    "# Select the model and print the topics\n",
    "best_model = models_list[1]\n",
    "model_topics = best_model.show_topics(formatted=False)\n",
    "pprint(best_model.print_topics(num_words=10))"
   ]
  },
  {
   "cell_type": "code",
   "execution_count": 111,
   "metadata": {},
   "outputs": [],
   "source": [
    "# Showing the most dominant topic in each review - is essentially categorizing each review into a topic created by the topic model\n",
    "# Modified function from https://www.machinelearningplus.com/nlp/topic-modeling-gensim-python/\n",
    "\n",
    "def format_dom_topics_(ldamodel=lda_model, corpus=corpus, texts=data):\n",
    "    #Create Dataframe\n",
    "    sentence_topics_df = pd.DataFrame()\n",
    "    \n",
    "    # Main topic in each review\n",
    "    for i, row in enumerate(ldamodel[corpus]):\n",
    "        row = sorted(row, key=lambda x: (x[1]), reverse=True)\n",
    "        \n",
    "        # Get the dom topic, % contribution and keywords for each document\n",
    "        for j, (topic_num, prop_topic) in enumerate(row):\n",
    "            if j == 0:  # => dominant topic\n",
    "                # Get the representation for a single topic; word_prop = word proportion\n",
    "                word_prop = ldamodel.show_topic(topic_num)\n",
    "                keywords_for_topic = \", \".join([word for word, proportion in word_prop])\n",
    "                sentence_topics_df =  sentence_topics_df.append(pd.Series([int(topic_num), round(prop_topic,4), keywords_for_topic]), ignore_index=True)\n",
    "            else:\n",
    "                break\n",
    "    sentence_topics_df.columns = ['Dominant Topic', '% Contribution', 'Topic Keywords']\n",
    "\n",
    "    contents = pd.Series(texts)\n",
    "    sentence_topics_df = pd.concat([sentence_topics_df, contents], axis=1)\n",
    "    return(sentence_topics_df)\n"
   ]
  },
  {
   "cell_type": "code",
   "execution_count": 118,
   "metadata": {},
   "outputs": [],
   "source": [
    "df_topic_sents_keywords = format_dom_topics_(ldamodel=best_model, corpus=corpus, texts=data)\n",
    "\n",
    "df_dominant_topic = df_topic_sents_keywords.reset_index()\n",
    "df_dominant_topic.columns = ['Review #', 'Dominant Topic', 'Topic % Contrib', 'Keywords', 'Text']\n"
   ]
  },
  {
   "cell_type": "code",
   "execution_count": 120,
   "metadata": {},
   "outputs": [
    {
     "data": {
      "text/html": [
       "<div>\n",
       "<style scoped>\n",
       "    .dataframe tbody tr th:only-of-type {\n",
       "        vertical-align: middle;\n",
       "    }\n",
       "\n",
       "    .dataframe tbody tr th {\n",
       "        vertical-align: top;\n",
       "    }\n",
       "\n",
       "    .dataframe thead th {\n",
       "        text-align: right;\n",
       "    }\n",
       "</style>\n",
       "<table border=\"1\" class=\"dataframe\">\n",
       "  <thead>\n",
       "    <tr style=\"text-align: right;\">\n",
       "      <th></th>\n",
       "      <th>Review_No</th>\n",
       "      <th>Dominant Topic</th>\n",
       "      <th>Topic_Perc_Contrib</th>\n",
       "      <th>Keywords</th>\n",
       "      <th>Text</th>\n",
       "    </tr>\n",
       "  </thead>\n",
       "  <tbody>\n",
       "    <tr>\n",
       "      <th>0</th>\n",
       "      <td>0</td>\n",
       "      <td>4.0</td>\n",
       "      <td>0.1846</td>\n",
       "      <td>vegas, strip, restaurant, price, water, casino, trip, bellagio, coffee, visit</td>\n",
       "      <td>Wow, we LOVED this place! We went on a Sunday afternoon for brunch. Service was prompt, we didn't have a wait at all. I loved the decor, all whites and beige. The interior of the restaurant opens directly onto the large patio so we got lots of fresh air and sunlight which was fabulous. Our waitress was attentive and quick. My friend who is a salad snob said her \"Simple Salad\" was one of the best she has ever had. I got the protein omelette which was very tasty. Our other friend ordered the sticky bun which was massive. Definitely will put you in a sugar coma if you try to eat the whole thing. The bowl of fruit was huge (definitely not the little side dish you typically think of) and has a great variety of fruits to snack on. Definitely one of my favorite restaurants on the strip.</td>\n",
       "    </tr>\n",
       "    <tr>\n",
       "      <th>1</th>\n",
       "      <td>1</td>\n",
       "      <td>6.0</td>\n",
       "      <td>0.2719</td>\n",
       "      <td>chicken, pizza, flavor, sandwich, sauce, cheese, meat, portion, bread, dish</td>\n",
       "      <td>Let's start with dessert... Four diners chose four desserts.... Figs n Berries with Thyme ice cream , Creme BrÃ»lÃ©e , lemon tart with pinion crust, and something with chocolate sauce!!! No fault with this sweet array of perfection! Was surprised waiter made no after dinner beverage recommendations. Waiter was friendly and staff attentive! Refills were abundant, first rate attention to every detail! While the choice of swordfish was mine... It was the trout that stole the show where fish was concerned! It's so delightful to dine with foodies who live to share bites! Chicken was succulent also putting my dry swordfish to shame. It was a shame I didn't eat more of the laurel bread n butter... Sweet cream butter... Laid out directly on the tablecloth...interesting... And why Not???now let's talk Lamb! Moist, tender rich in flavor...four nice medallions made mouths water. The contents of that plate evaporated swiftly! Sooo yummy! Beer list is nice, waitstaff is knowledgeable on pairings and speak confidently as to menu items ingredients and methods of preparations. Inquires re: diners allergies raise awareness that the kitchen staff is able to help avoid even inadvertent cross allergen exposure! Bravo/ Brava!</td>\n",
       "    </tr>\n",
       "    <tr>\n",
       "      <th>2</th>\n",
       "      <td>2</td>\n",
       "      <td>2.0</td>\n",
       "      <td>0.1709</td>\n",
       "      <td>food, buffet, dinner, dessert, breakfast, lunch, price, plate, seafood, item</td>\n",
       "      <td>If you've been to a nice churrascaria before then you won't be very impressed by this place. Make sure you're on time for your reservation. If you're a little late, you'll wait in line with everyone else-our fault. Make sure you know what u want because you may not see your waiter for awhile, but the meat servers did pretty well making their rounds. The food was decent. I used a groupon so it worked out but if I had to pay full price, id go somewhere else.</td>\n",
       "    </tr>\n",
       "    <tr>\n",
       "      <th>3</th>\n",
       "      <td>3</td>\n",
       "      <td>6.0</td>\n",
       "      <td>0.1844</td>\n",
       "      <td>chicken, pizza, flavor, sandwich, sauce, cheese, meat, portion, bread, dish</td>\n",
       "      <td>Amazing doesn't even begin to describe this pizza!!! A group of 8 of us were hanging at the chandelier and got hungry so one of the men trekked to find us some sustenance. The sausage and pepperoni was incredible, I wish I had taken a picture to put up here. Just be sure, it's kinda pricey (it's Vegas, hello) but delicious nonetheless</td>\n",
       "    </tr>\n",
       "    <tr>\n",
       "      <th>4</th>\n",
       "      <td>4</td>\n",
       "      <td>1.0</td>\n",
       "      <td>0.1898</td>\n",
       "      <td>line, drink, night, club, show, friend, party, group, airport, music</td>\n",
       "      <td>This was a ehhh buffet in my opinion. Well overpriced, quality was ok, service was good...line was super long, 2 hour wait or pay $20 for a \"front of the line pass\" . Maybe worth it's for one or two people but when you take four or more that really adds up. So ninethe nonetheless we skipped that option and waited. About a hour in waiting they finally had someone go around the line offering water to the waiting \"poor\" folks who cant afford or wont give up the extra fee for \"front of line pass\". 2 hours later we're in and ready to grub. Now for the price per person I was expecting superior quality food and selection but did not live up to the high price standard. Upsetting and felt bad after spending over $230 to feed 5 of us. Yea, we got full, but kinda felt like we where forced to eat to get our waiting time and money worth. Oh, and FYI..you have a 2 hour limit.</td>\n",
       "    </tr>\n",
       "    <tr>\n",
       "      <th>5</th>\n",
       "      <td>5</td>\n",
       "      <td>3.0</td>\n",
       "      <td>0.2163</td>\n",
       "      <td>burger, food, restaurant, server, menu, steak, fry, waiter, beer, appetizer</td>\n",
       "      <td>My husband and I recently moved to Las Vegas. Easily, Echo and Rig became our favorite fine dining restaurant in the Summerlin area. The steaks are consistently excellent, the small plates/ side dishes are creative and tasty, and the menu selection is extensive. But we will be remiss if we do not write about the excellent customer care the whole staff has demonstrated each time we visited. Ricky, our waiter, was not only attentive in an unobtrusive way, he also had great timing (the food came just-in-time)! Our special thanks to Sheryl Best and Derek Scharadin, members of the management team, who gave a personal touch to their welcome! Excellent demonstration of leadership! We strongly recommend Echo and Rig -- truly a 5-star steakhouse!</td>\n",
       "    </tr>\n",
       "    <tr>\n",
       "      <th>6</th>\n",
       "      <td>6</td>\n",
       "      <td>1.0</td>\n",
       "      <td>0.1652</td>\n",
       "      <td>line, drink, night, club, show, friend, party, group, airport, music</td>\n",
       "      <td>I was picking my husband up from the airport around midnight and we were looking for something we could sit down to enjoy, we were very impressed with the food and service. Can't wait for our next visit.</td>\n",
       "    </tr>\n",
       "    <tr>\n",
       "      <th>7</th>\n",
       "      <td>7</td>\n",
       "      <td>5.0</td>\n",
       "      <td>0.1954</td>\n",
       "      <td>room, hotel, pool, casino, view, floor, stay, check, front_desk, shower</td>\n",
       "      <td>Review on the PH pool. I was so excited to head to the PH pool on my recent trip to vegas. It's literallly 2 pools on the side, one for 18+ and the other for families. AND THAT'S IT. The area where we you walk in from is just rows of pool chairs and concrete. I was SO disappointed. I think I only stayed there for about 5 minutes before leaving. Waste of time.</td>\n",
       "    </tr>\n",
       "    <tr>\n",
       "      <th>8</th>\n",
       "      <td>8</td>\n",
       "      <td>0.0</td>\n",
       "      <td>0.2362</td>\n",
       "      <td>night, customer, money, check, work, deal, day, morning, care, guest</td>\n",
       "      <td>BEG BUGS ON 6/24/2016 ..... I had stayed here before but this was a first dealing with ALOT OF BED BUGS!!! We stayed just one night with out 6 year old who, who was bitten pretty bad. At midnight we called the front desk to let them know not only did we find bugs but our child was bitten. We where then moved all the way across the casino with a sleepy six year old in tow. We then had to fill out a report and they took pictures of the bites. It was near 1am before we got done.. They offered to wash our clothing for free ..we did do that..but spent another hour pulling all the sheets off the bed (as the night manager watched us) to be sure it would not happen again... We then had to shower our little one...so it's now about 230am before we all get to bed. For our trouble we got bites, and a slightly less dingy room... We still paid for parking and less then half a nights sleep (maybe 5 hours..hard to sleep when you itch all over) NEVER AGAIN!!!</td>\n",
       "    </tr>\n",
       "    <tr>\n",
       "      <th>9</th>\n",
       "      <td>9</td>\n",
       "      <td>3.0</td>\n",
       "      <td>0.1876</td>\n",
       "      <td>burger, food, restaurant, server, menu, steak, fry, waiter, beer, appetizer</td>\n",
       "      <td>We drove here straight from the airport after arriving from Seattle. We tried to get into Los Dos Molinos and Frank and Lupe's but both were closed. We called The Mission and they said \"come on in\" even though we would arrive past 10 AM. The room is absolutely beautiful and the food is amazing. This was truly an inspiring culinary adventure and will be on my list every time I visit Scottsdale in the future.</td>\n",
       "    </tr>\n",
       "  </tbody>\n",
       "</table>\n",
       "</div>"
      ],
      "text/plain": [
       "   Review_No  Dominant Topic  Topic_Perc_Contrib  \\\n",
       "0  0          4.0             0.1846               \n",
       "1  1          6.0             0.2719               \n",
       "2  2          2.0             0.1709               \n",
       "3  3          6.0             0.1844               \n",
       "4  4          1.0             0.1898               \n",
       "5  5          3.0             0.2163               \n",
       "6  6          1.0             0.1652               \n",
       "7  7          5.0             0.1954               \n",
       "8  8          0.0             0.2362               \n",
       "9  9          3.0             0.1876               \n",
       "\n",
       "                                                                        Keywords  \\\n",
       "0  vegas, strip, restaurant, price, water, casino, trip, bellagio, coffee, visit   \n",
       "1  chicken, pizza, flavor, sandwich, sauce, cheese, meat, portion, bread, dish     \n",
       "2  food, buffet, dinner, dessert, breakfast, lunch, price, plate, seafood, item    \n",
       "3  chicken, pizza, flavor, sandwich, sauce, cheese, meat, portion, bread, dish     \n",
       "4  line, drink, night, club, show, friend, party, group, airport, music            \n",
       "5  burger, food, restaurant, server, menu, steak, fry, waiter, beer, appetizer     \n",
       "6  line, drink, night, club, show, friend, party, group, airport, music            \n",
       "7  room, hotel, pool, casino, view, floor, stay, check, front_desk, shower         \n",
       "8  night, customer, money, check, work, deal, day, morning, care, guest            \n",
       "9  burger, food, restaurant, server, menu, steak, fry, waiter, beer, appetizer     \n",
       "\n",
       "                                                                                                                                                                                                                                                                                                                                                                                                                                                                                                                                                                                                                                                                                                                                                                                                                                                                                                                                                                                                                                                                                                                                                                                                                                                                       Text  \n",
       "0  Wow, we LOVED this place! We went on a Sunday afternoon for brunch. Service was prompt, we didn't have a wait at all. I loved the decor, all whites and beige. The interior of the restaurant opens directly onto the large patio so we got lots of fresh air and sunlight which was fabulous. Our waitress was attentive and quick. My friend who is a salad snob said her \"Simple Salad\" was one of the best she has ever had. I got the protein omelette which was very tasty. Our other friend ordered the sticky bun which was massive. Definitely will put you in a sugar coma if you try to eat the whole thing. The bowl of fruit was huge (definitely not the little side dish you typically think of) and has a great variety of fruits to snack on. Definitely one of my favorite restaurants on the strip.                                                                                                                                                                                                                                                                                                                                                                                                                                                    \n",
       "1  Let's start with dessert... Four diners chose four desserts.... Figs n Berries with Thyme ice cream , Creme BrÃ»lÃ©e , lemon tart with pinion crust, and something with chocolate sauce!!! No fault with this sweet array of perfection! Was surprised waiter made no after dinner beverage recommendations. Waiter was friendly and staff attentive! Refills were abundant, first rate attention to every detail! While the choice of swordfish was mine... It was the trout that stole the show where fish was concerned! It's so delightful to dine with foodies who live to share bites! Chicken was succulent also putting my dry swordfish to shame. It was a shame I didn't eat more of the laurel bread n butter... Sweet cream butter... Laid out directly on the tablecloth...interesting... And why Not???now let's talk Lamb! Moist, tender rich in flavor...four nice medallions made mouths water. The contents of that plate evaporated swiftly! Sooo yummy! Beer list is nice, waitstaff is knowledgeable on pairings and speak confidently as to menu items ingredients and methods of preparations. Inquires re: diners allergies raise awareness that the kitchen staff is able to help avoid even inadvertent cross allergen exposure! Bravo/ Brava!  \n",
       "2  If you've been to a nice churrascaria before then you won't be very impressed by this place. Make sure you're on time for your reservation. If you're a little late, you'll wait in line with everyone else-our fault. Make sure you know what u want because you may not see your waiter for awhile, but the meat servers did pretty well making their rounds. The food was decent. I used a groupon so it worked out but if I had to pay full price, id go somewhere else.                                                                                                                                                                                                                                                                                                                                                                                                                                                                                                                                                                                                                                                                                                                                                                                              \n",
       "3  Amazing doesn't even begin to describe this pizza!!! A group of 8 of us were hanging at the chandelier and got hungry so one of the men trekked to find us some sustenance. The sausage and pepperoni was incredible, I wish I had taken a picture to put up here. Just be sure, it's kinda pricey (it's Vegas, hello) but delicious nonetheless                                                                                                                                                                                                                                                                                                                                                                                                                                                                                                                                                                                                                                                                                                                                                                                                                                                                                                                          \n",
       "4  This was a ehhh buffet in my opinion. Well overpriced, quality was ok, service was good...line was super long, 2 hour wait or pay $20 for a \"front of the line pass\" . Maybe worth it's for one or two people but when you take four or more that really adds up. So ninethe nonetheless we skipped that option and waited. About a hour in waiting they finally had someone go around the line offering water to the waiting \"poor\" folks who cant afford or wont give up the extra fee for \"front of line pass\". 2 hours later we're in and ready to grub. Now for the price per person I was expecting superior quality food and selection but did not live up to the high price standard. Upsetting and felt bad after spending over $230 to feed 5 of us. Yea, we got full, but kinda felt like we where forced to eat to get our waiting time and money worth. Oh, and FYI..you have a 2 hour limit.                                                                                                                                                                                                                                                                                                                                                                \n",
       "5  My husband and I recently moved to Las Vegas. Easily, Echo and Rig became our favorite fine dining restaurant in the Summerlin area. The steaks are consistently excellent, the small plates/ side dishes are creative and tasty, and the menu selection is extensive. But we will be remiss if we do not write about the excellent customer care the whole staff has demonstrated each time we visited. Ricky, our waiter, was not only attentive in an unobtrusive way, he also had great timing (the food came just-in-time)! Our special thanks to Sheryl Best and Derek Scharadin, members of the management team, who gave a personal touch to their welcome! Excellent demonstration of leadership! We strongly recommend Echo and Rig -- truly a 5-star steakhouse!                                                                                                                                                                                                                                                                                                                                                                                                                                                                                               \n",
       "6  I was picking my husband up from the airport around midnight and we were looking for something we could sit down to enjoy, we were very impressed with the food and service. Can't wait for our next visit.                                                                                                                                                                                                                                                                                                                                                                                                                                                                                                                                                                                                                                                                                                                                                                                                                                                                                                                                                                                                                                                               \n",
       "7  Review on the PH pool. I was so excited to head to the PH pool on my recent trip to vegas. It's literallly 2 pools on the side, one for 18+ and the other for families. AND THAT'S IT. The area where we you walk in from is just rows of pool chairs and concrete. I was SO disappointed. I think I only stayed there for about 5 minutes before leaving. Waste of time.                                                                                                                                                                                                                                                                                                                                                                                                                                                                                                                                                                                                                                                                                                                                                                                                                                                                                                 \n",
       "8  BEG BUGS ON 6/24/2016 ..... I had stayed here before but this was a first dealing with ALOT OF BED BUGS!!! We stayed just one night with out 6 year old who, who was bitten pretty bad. At midnight we called the front desk to let them know not only did we find bugs but our child was bitten. We where then moved all the way across the casino with a sleepy six year old in tow. We then had to fill out a report and they took pictures of the bites. It was near 1am before we got done.. They offered to wash our clothing for free ..we did do that..but spent another hour pulling all the sheets off the bed (as the night manager watched us) to be sure it would not happen again... We then had to shower our little one...so it's now about 230am before we all get to bed. For our trouble we got bites, and a slightly less dingy room... We still paid for parking and less then half a nights sleep (maybe 5 hours..hard to sleep when you itch all over) NEVER AGAIN!!!                                                                                                                                                                                                                                                                              \n",
       "9  We drove here straight from the airport after arriving from Seattle. We tried to get into Los Dos Molinos and Frank and Lupe's but both were closed. We called The Mission and they said \"come on in\" even though we would arrive past 10 AM. The room is absolutely beautiful and the food is amazing. This was truly an inspiring culinary adventure and will be on my list every time I visit Scottsdale in the future.                                                                                                                                                                                                                                                                                                                                                                                                                                                                                                                                                                                                                                                                                                                                                                                                                                                "
      ]
     },
     "execution_count": 120,
     "metadata": {},
     "output_type": "execute_result"
    }
   ],
   "source": [
    "pd.set_option('display.max_colwidth', -1)\n",
    "df_dominant_topic.head(10)"
   ]
  },
  {
   "cell_type": "code",
   "execution_count": 119,
   "metadata": {},
   "outputs": [
    {
     "data": {
      "text/plain": [
       "3.0    0.1896\n",
       "5.0    0.1830\n",
       "6.0    0.1793\n",
       "2.0    0.1791\n",
       "1.0    0.1007\n",
       "0.0    0.0849\n",
       "4.0    0.0834\n",
       "Name: Dominant Topic, dtype: float64"
      ]
     },
     "execution_count": 119,
     "metadata": {},
     "output_type": "execute_result"
    }
   ],
   "source": [
    "# topic distribition across documents\n",
    "topic_counts = df_topic_sents_keywords['Dominant Topic'].value_counts()\n",
    "\n",
    "# Percentage of Documents for Each Topic\n",
    "topic_contribution = round(topic_counts/topic_counts.sum(), 4)\n",
    "topic_contribution\n",
    "\n"
   ]
  },
  {
   "cell_type": "code",
   "execution_count": null,
   "metadata": {},
   "outputs": [],
   "source": []
  }
 ],
 "metadata": {
  "kernelspec": {
   "display_name": "Python 3",
   "language": "python",
   "name": "python3"
  },
  "language_info": {
   "codemirror_mode": {
    "name": "ipython",
    "version": 3
   },
   "file_extension": ".py",
   "mimetype": "text/x-python",
   "name": "python",
   "nbconvert_exporter": "python",
   "pygments_lexer": "ipython3",
   "version": "3.6.8"
  }
 },
 "nbformat": 4,
 "nbformat_minor": 2
}
